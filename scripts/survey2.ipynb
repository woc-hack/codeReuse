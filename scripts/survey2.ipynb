{
 "cells": [
  {
   "cell_type": "markdown",
   "id": "c2c2a34e",
   "metadata": {},
   "source": [
    "**b2ft**"
   ]
  },
  {
   "cell_type": "code",
   "execution_count": 58,
   "id": "57efe68b",
   "metadata": {},
   "outputs": [],
   "source": [
    "path=\"../data/survey/second/can.b2ft.s\"\n",
    "classes=c(\"character\",\"character\",\"integer\")\n",
    "x=read.table(path,sep=\";\",colClasses=classes, comment.char=\"\")"
   ]
  },
  {
   "cell_type": "code",
   "execution_count": 59,
   "id": "f0182b61",
   "metadata": {},
   "outputs": [],
   "source": [
    "tmp=names(table(x$V2)[table(x$V2)>10000])\n",
    "x$f=as.factor(ifelse((x$V2 %in% tmp), as.character(x$V2), \"other\"))"
   ]
  },
  {
   "cell_type": "code",
   "execution_count": 60,
   "id": "0899d536",
   "metadata": {},
   "outputs": [],
   "source": [
    "min=min(x$V3)\n",
    "max=max(x$V3)\n",
    "bins=10\n",
    "step=(max-min)/bins\n",
    "breaks=seq(min,max,step)\n",
    "labels=as.character(1:10)\n",
    "x$t=cut(x$V3,breaks=breaks,labels=labels)"
   ]
  },
  {
   "cell_type": "code",
   "execution_count": 61,
   "id": "5601fff0",
   "metadata": {},
   "outputs": [],
   "source": [
    "write.table(x[,c(\"V1\",\"f\",\"t\")],path,sep=\";\",row.names=FALSE,col.names=FALSE,quote=FALSE)"
   ]
  },
  {
   "cell_type": "markdown",
   "id": "1b5d729e",
   "metadata": {},
   "source": [
    "**k2ds**"
   ]
  },
  {
   "cell_type": "code",
   "execution_count": 132,
   "id": "4206235a",
   "metadata": {},
   "outputs": [],
   "source": [
    "path=\"../Rtmp\"\n",
    "classes=c(\"integer\",\"integer\",\"integer\",\"numeric\",\"integer\",\"integer\")\n",
    "x=read.table(path,sep=\";\",colClasses=classes, comment.char=\"\")"
   ]
  },
  {
   "cell_type": "code",
   "execution_count": 133,
   "id": "b548da8d",
   "metadata": {},
   "outputs": [],
   "source": [
    "min=min(x$V4)\n",
    "max=max(x$V4)\n",
    "breaks=c(min,1,3,max)\n",
    "labels=as.character(1:3)\n",
    "x$d=cut(x$V4,breaks=breaks,labels=labels)"
   ]
  },
  {
   "cell_type": "code",
   "execution_count": 134,
   "id": "ff52a2e2",
   "metadata": {},
   "outputs": [],
   "source": [
    "x$a=ifelse((x$V2>10)&(x$V3>100),1,ifelse((x$V2==0)&(x$V3<10),3,2))"
   ]
  },
  {
   "cell_type": "code",
   "execution_count": 135,
   "id": "79f70b62",
   "metadata": {},
   "outputs": [],
   "source": [
    "x$b=ifelse((x$V5>10)&(x$V6>100),1,ifelse((x$V5==0)&(x$V6<10),3,2))"
   ]
  },
  {
   "cell_type": "code",
   "execution_count": 136,
   "id": "20a8e381",
   "metadata": {},
   "outputs": [],
   "source": [
    "x$s=paste(x$a,x$b,sep=\"\")"
   ]
  },
  {
   "cell_type": "code",
   "execution_count": 141,
   "id": "a7efecfa",
   "metadata": {},
   "outputs": [],
   "source": [
    "write.table(na.omit(x[,c(\"V1\",\"d\",\"s\")]),path,sep=\";\",row.names=FALSE,col.names=FALSE,quote=FALSE)"
   ]
  },
  {
   "cell_type": "markdown",
   "id": "7a948a8a",
   "metadata": {},
   "source": [
    "**Stratify**"
   ]
  },
  {
   "cell_type": "code",
   "execution_count": 167,
   "id": "05bfcbab",
   "metadata": {},
   "outputs": [],
   "source": [
    "path=\"../Rtmp\"\n",
    "classes=c(\"integer\",\"character\",\"integer\",\"character\",\"integer\",\"integer\",\"character\")\n",
    "x=read.table(path,sep=\";\",colClasses=classes, comment.char=\"\")\n",
    "names(x)=c(\"k\",\"f\",\"t\",\"uP\",\"d\",\"s\",\"ue\")"
   ]
  },
  {
   "cell_type": "code",
   "execution_count": 168,
   "id": "02f34fc0",
   "metadata": {},
   "outputs": [
    {
     "data": {
      "text/plain": [
       "\n",
       "     1      2      3      4      5      6      7      8      9     10 \n",
       "     1      1      2    215    377   4341   7437  64775 386410 191316 "
      ]
     },
     "metadata": {},
     "output_type": "display_data"
    }
   ],
   "source": [
    "table(x$t)"
   ]
  },
  {
   "cell_type": "code",
   "execution_count": 169,
   "id": "848a2b71",
   "metadata": {},
   "outputs": [],
   "source": [
    "x$f=as.factor(x$f)\n",
    "x$t[x$t<8]=8\n",
    "x$t=as.factor(x$t)\n",
    "x$uP=as.factor(x$uP)\n",
    "x$d=as.factor(x$d)\n",
    "x$s=as.factor(x$s)\n",
    "x$ue=as.factor(x$ue)\n",
    "x=na.omit(x)"
   ]
  },
  {
   "cell_type": "code",
   "execution_count": 170,
   "id": "b29cffb2",
   "metadata": {},
   "outputs": [],
   "source": [
    "library(\"dplyr\")\n",
    "s=x %>% group_by(f,t,d,s,ue) %>% sample_n(1)"
   ]
  },
  {
   "cell_type": "code",
   "execution_count": 171,
   "id": "1fced8b9",
   "metadata": {},
   "outputs": [
    {
     "data": {
      "text/html": [
       "65260"
      ],
      "text/latex": [
       "65260"
      ],
      "text/markdown": [
       "65260"
      ],
      "text/plain": [
       "[1] 65260"
      ]
     },
     "metadata": {},
     "output_type": "display_data"
    }
   ],
   "source": [
    "keys=s$k\n",
    "length(keys)"
   ]
  },
  {
   "cell_type": "code",
   "execution_count": 172,
   "id": "b9f12e60",
   "metadata": {},
   "outputs": [],
   "source": [
    "write.table(keys,path,sep=\";\",row.names=FALSE,col.names=FALSE,quote=FALSE)"
   ]
  }
 ],
 "metadata": {
  "kernelspec": {
   "display_name": "R",
   "language": "R",
   "name": "ir"
  },
  "language_info": {
   "codemirror_mode": "r",
   "file_extension": ".r",
   "mimetype": "text/x-r-source",
   "name": "R",
   "pygments_lexer": "r",
   "version": "3.6.3"
  }
 },
 "nbformat": 4,
 "nbformat_minor": 5
}
