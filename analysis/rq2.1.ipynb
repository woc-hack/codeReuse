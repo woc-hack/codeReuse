{
 "cells": [
  {
   "cell_type": "markdown",
   "id": "5a0d151b",
   "metadata": {},
   "source": [
    "# 1. Loading Data"
   ]
  },
  {
   "cell_type": "code",
   "execution_count": null,
   "id": "5650e75c",
   "metadata": {},
   "outputs": [],
   "source": [
    "library(caret)"
   ]
  },
  {
   "cell_type": "code",
   "execution_count": 1,
   "id": "d90a5f26",
   "metadata": {},
   "outputs": [],
   "source": [
    "data <- read.csv(\"../data/blobs/uPab.1\", header = FALSE, sep = \";\")\n",
    "names(data) <- c(\"p\",\"nmc\",\"nblob\",\"nsa\",\"ncore\",\"ncmt\",\"na\",\"blob\",\"ncopy\")\n",
    "data$copied <- data$ncopy > 0"
   ]
  },
  {
   "cell_type": "code",
   "execution_count": 6,
   "id": "a316061e",
   "metadata": {},
   "outputs": [
    {
     "data": {
      "text/plain": [
       "                             p                  nmc             nblob        \n",
       " binary-com_binary-static     :  8894026   Min.   :  0.00   Min.   :      1  \n",
       " raphaelvigee_velib           :  7281654   1st Qu.:  3.00   1st Qu.:   1410  \n",
       " Internet2_grouper            :  4059018   Median :  9.00   Median :  10840  \n",
       " allardais_allardais.github.io:  3078049   Mean   : 28.19   Mean   : 647157  \n",
       " chenzuoli_chenzuoli.github.io:  2706388   3rd Qu.: 30.00   3rd Qu.: 115640  \n",
       " qgis_pyqgis                  :  2340082   Max.   :333.00   Max.   :8971506  \n",
       " (Other)                      :309033159                                     \n",
       "      nsa               ncore              ncmt              na         \n",
       " Min.   :     0.0   Min.   :   1      Min.   :     1   Min.   :    1.0  \n",
       " 1st Qu.:     0.0   1st Qu.:   1      1st Qu.:    29   1st Qu.:    1.0  \n",
       " Median :     0.0   Median :   1      Median :   164   Median :    2.0  \n",
       " Mean   :   535.5   Mean   :  49      Mean   : 22366   Mean   :  302.5  \n",
       " 3rd Qu.:     5.0   3rd Qu.:   3      3rd Qu.:  1774   3rd Qu.:    8.0  \n",
       " Max.   :125225.0   Max.   :5578      Max.   :786618   Max.   :19272.0  \n",
       "                    NA's   :2516075                    NA's   :2526077  \n",
       "                                       blob               ncopy         \n",
       " 02745d9947a8bb6f08eb69f3aca9ef4f3b93450e:        3   Min.   :     0.0  \n",
       " 0950189a74420d2ff9346e026f448cd893c568d1:        3   1st Qu.:     0.0  \n",
       " 0ce74c285fadd5a062cae5f5a57f5606ac2fcf69:        3   Median :     0.0  \n",
       " 0cf9a4938f1e00ec7460355dc57b02081fd7a77d:        3   Mean   :     1.3  \n",
       " 13c16abd9454b2515a63d34dc0f34e6cd7dabf0a:        3   3rd Qu.:     0.0  \n",
       " 16dae32b35f90f632977e6599d3da89a6ab16095:        3   Max.   :332411.0  \n",
       " (Other)                                 :337392358                     \n",
       "   copied         \n",
       " Mode :logical    \n",
       " FALSE:309751870  \n",
       " TRUE :27640506   \n",
       "                  \n",
       "                  \n",
       "                  \n",
       "                  "
      ]
     },
     "metadata": {},
     "output_type": "display_data"
    }
   ],
   "source": [
    "summary(data)"
   ]
  },
  {
   "cell_type": "code",
   "execution_count": 4,
   "id": "6db5177a",
   "metadata": {},
   "outputs": [],
   "source": [
    "data$lnmc <- log(data$nmc + 1)\n",
    "data$lnblob <- log(data$nblob + 1)\n",
    "data$lnsa <- log(data$nsa + 1)\n",
    "data$lncore <- log(data$ncore + 1)\n",
    "data$lncmt <- log(data$ncmt + 1)\n",
    "data$lna <- log(data$na + 1)\n",
    "data$lncopy <- log(data$ncopy + 1)\n",
    "nas <- which(is.na(data$ncore) | is.na(data$na))\n",
    "data_c <- data[-nas,c(\"p\",\"lnmc\",\"lnblob\",\"lnsa\",\"lncore\",\"lncmt\",\"lna\",\"copied\",\"lncopy\")]"
   ]
  },
  {
   "cell_type": "code",
   "execution_count": 7,
   "id": "0b2da560",
   "metadata": {
    "scrolled": false
   },
   "outputs": [
    {
     "data": {
      "text/plain": [
       "                             p                  lnmc           lnblob       \n",
       " binary-com_binary-static     :  8894026   Min.   :0.000   Min.   : 0.6931  \n",
       " raphaelvigee_velib           :  7281654   1st Qu.:1.386   1st Qu.: 7.2442  \n",
       " Internet2_grouper            :  4059018   Median :2.303   Median : 9.2789  \n",
       " allardais_allardais.github.io:  3078049   Mean   :2.436   Mean   : 9.5938  \n",
       " chenzuoli_chenzuoli.github.io:  2706388   3rd Qu.:3.434   3rd Qu.:11.6236  \n",
       " qgis_pyqgis                  :  2340082   Max.   :5.811   Max.   :16.0096  \n",
       " (Other)                      :306507012                                    \n",
       "      lnsa            lncore           lncmt              lna        \n",
       " Min.   : 0.000   Min.   :0.6931   Min.   : 0.6931   Min.   :0.6931  \n",
       " 1st Qu.: 0.000   1st Qu.:0.6931   1st Qu.: 3.4340   1st Qu.:0.6931  \n",
       " Median : 0.000   Median :0.6931   Median : 5.1180   Median :1.0986  \n",
       " Mean   : 1.379   Mean   :1.2985   Mean   : 5.6442   Mean   :1.9557  \n",
       " 3rd Qu.: 1.792   3rd Qu.:1.3863   3rd Qu.: 7.4816   3rd Qu.:2.1972  \n",
       " Max.   :11.738   Max.   :8.6268   Max.   :13.5755   Max.   :9.8665  \n",
       "                                                                     \n",
       "   copied              lncopy        \n",
       " Mode :logical     Min.   : 0.00000  \n",
       " FALSE:307410321   1st Qu.: 0.00000  \n",
       " TRUE :27455908    Median : 0.00000  \n",
       "                   Mean   : 0.09335  \n",
       "                   3rd Qu.: 0.00000  \n",
       "                   Max.   :12.71413  \n",
       "                                     "
      ]
     },
     "metadata": {},
     "output_type": "display_data"
    }
   ],
   "source": [
    "summary(data_c)"
   ]
  },
  {
   "cell_type": "markdown",
   "id": "817d6b0b",
   "metadata": {},
   "source": [
    "Test data"
   ]
  },
  {
   "cell_type": "code",
   "execution_count": 10,
   "id": "fc8fdd10",
   "metadata": {},
   "outputs": [],
   "source": [
    "data_t <- read.csv(\"../data/blobs/uPab_test.1\", header = FALSE, sep = \";\")\n",
    "names(data_t) <- c(\"p\",\"nmc\",\"nblob\",\"nsa\",\"ncore\",\"ncmt\",\"na\",\"blob\",\"ncopy\")\n",
    "data_t$copied <- data_t$ncopy > 0\n",
    "data_t$lnmc <- log(data_t$nmc + 1)\n",
    "data_t$lnblob <- log(data_t$nblob + 1)\n",
    "data_t$lnsa <- log(data_t$nsa + 1)\n",
    "data_t$lncore <- log(data_t$ncore + 1)\n",
    "data_t$lncmt <- log(data_t$ncmt + 1)\n",
    "data_t$lna <- log(data_t$na + 1)\n",
    "data_t$lncopy <- log(data_t$ncopy + 1)\n",
    "nas_t <- which(is.na(data_t$ncore) | is.na(data_t$na))\n",
    "data_tc <- data_t[-nas_t,c(\"p\",\"lnmc\",\"lnblob\",\"lnsa\",\"lncore\",\"lncmt\",\"lna\",\"copied\",\"lncopy\")]"
   ]
  },
  {
   "cell_type": "markdown",
   "id": "c9e9d7a9",
   "metadata": {},
   "source": [
    "# 2. Correlations"
   ]
  },
  {
   "cell_type": "code",
   "execution_count": 7,
   "id": "07692cf5",
   "metadata": {},
   "outputs": [],
   "source": [
    "pred_n <- c(2:7)"
   ]
  },
  {
   "cell_type": "code",
   "execution_count": 10,
   "id": "471eb934",
   "metadata": {},
   "outputs": [
    {
     "data": {
      "text/html": [
       "<table class=\"dataframe\">\n",
       "<caption>A matrix: 6 x 6 of type dbl</caption>\n",
       "<thead>\n",
       "\t<tr><th></th><th scope=col>lnmc</th><th scope=col>lnblob</th><th scope=col>lnsa</th><th scope=col>lncore</th><th scope=col>lncmt</th><th scope=col>lna</th></tr>\n",
       "</thead>\n",
       "<tbody>\n",
       "\t<tr><th scope=row>lnmc</th><td>1.0000000</td><td>0.4988307</td><td>0.6247639</td><td>0.4766805</td><td>0.8391714</td><td>0.6755552</td></tr>\n",
       "\t<tr><th scope=row>lnblob</th><td>0.4988307</td><td>1.0000000</td><td>0.3324898</td><td>0.2864866</td><td>0.5823991</td><td>0.3699725</td></tr>\n",
       "\t<tr><th scope=row>lnsa</th><td>0.6247639</td><td>0.3324898</td><td>1.0000000</td><td>0.4546300</td><td>0.5374578</td><td>0.5957879</td></tr>\n",
       "\t<tr><th scope=row>lncore</th><td>0.4766805</td><td>0.2864866</td><td>0.4546300</td><td>1.0000000</td><td>0.5276148</td><td>0.8065323</td></tr>\n",
       "\t<tr><th scope=row>lncmt</th><td>0.8391714</td><td>0.5823991</td><td>0.5374578</td><td>0.5276148</td><td>1.0000000</td><td>0.6962915</td></tr>\n",
       "\t<tr><th scope=row>lna</th><td>0.6755552</td><td>0.3699725</td><td>0.5957879</td><td>0.8065323</td><td>0.6962915</td><td>1.0000000</td></tr>\n",
       "</tbody>\n",
       "</table>\n"
      ],
      "text/latex": [
       "A matrix: 6 x 6 of type dbl\n",
       "\\begin{tabular}{r|llllll}\n",
       "  & lnmc & lnblob & lnsa & lncore & lncmt & lna\\\\\n",
       "\\hline\n",
       "\tlnmc & 1.0000000 & 0.4988307 & 0.6247639 & 0.4766805 & 0.8391714 & 0.6755552\\\\\n",
       "\tlnblob & 0.4988307 & 1.0000000 & 0.3324898 & 0.2864866 & 0.5823991 & 0.3699725\\\\\n",
       "\tlnsa & 0.6247639 & 0.3324898 & 1.0000000 & 0.4546300 & 0.5374578 & 0.5957879\\\\\n",
       "\tlncore & 0.4766805 & 0.2864866 & 0.4546300 & 1.0000000 & 0.5276148 & 0.8065323\\\\\n",
       "\tlncmt & 0.8391714 & 0.5823991 & 0.5374578 & 0.5276148 & 1.0000000 & 0.6962915\\\\\n",
       "\tlna & 0.6755552 & 0.3699725 & 0.5957879 & 0.8065323 & 0.6962915 & 1.0000000\\\\\n",
       "\\end{tabular}\n"
      ],
      "text/markdown": [
       "\n",
       "A matrix: 6 x 6 of type dbl\n",
       "\n",
       "| <!--/--> | lnmc | lnblob | lnsa | lncore | lncmt | lna |\n",
       "|---|---|---|---|---|---|---|\n",
       "| lnmc | 1.0000000 | 0.4988307 | 0.6247639 | 0.4766805 | 0.8391714 | 0.6755552 |\n",
       "| lnblob | 0.4988307 | 1.0000000 | 0.3324898 | 0.2864866 | 0.5823991 | 0.3699725 |\n",
       "| lnsa | 0.6247639 | 0.3324898 | 1.0000000 | 0.4546300 | 0.5374578 | 0.5957879 |\n",
       "| lncore | 0.4766805 | 0.2864866 | 0.4546300 | 1.0000000 | 0.5276148 | 0.8065323 |\n",
       "| lncmt | 0.8391714 | 0.5823991 | 0.5374578 | 0.5276148 | 1.0000000 | 0.6962915 |\n",
       "| lna | 0.6755552 | 0.3699725 | 0.5957879 | 0.8065323 | 0.6962915 | 1.0000000 |\n",
       "\n"
      ],
      "text/plain": [
       "       lnmc      lnblob    lnsa      lncore    lncmt     lna      \n",
       "lnmc   1.0000000 0.4988307 0.6247639 0.4766805 0.8391714 0.6755552\n",
       "lnblob 0.4988307 1.0000000 0.3324898 0.2864866 0.5823991 0.3699725\n",
       "lnsa   0.6247639 0.3324898 1.0000000 0.4546300 0.5374578 0.5957879\n",
       "lncore 0.4766805 0.2864866 0.4546300 1.0000000 0.5276148 0.8065323\n",
       "lncmt  0.8391714 0.5823991 0.5374578 0.5276148 1.0000000 0.6962915\n",
       "lna    0.6755552 0.3699725 0.5957879 0.8065323 0.6962915 1.0000000"
      ]
     },
     "metadata": {},
     "output_type": "display_data"
    }
   ],
   "source": [
    "cor(data_c[,pred_n],method=\"spearman\")"
   ]
  },
  {
   "cell_type": "code",
   "execution_count": 22,
   "id": "cc49095c",
   "metadata": {},
   "outputs": [
    {
     "name": "stdout",
     "output_type": "stream",
     "text": [
      "Standard deviations (1, .., p=6):\n",
      "[1] 2.0671197 0.9052983 0.6570193 0.5420740 0.3771633 0.1991996\n",
      "\n",
      "Rotation (n x k) = (6 x 6):\n",
      "             PC1        PC2         PC3         PC4        PC5         PC6\n",
      "lnmc   0.4156489  0.1771471 -0.65582353  0.06964432 -0.5812361  0.15187048\n",
      "lnblob 0.3124790  0.7358975  0.52186259 -0.24111871 -0.1736090 -0.01388785\n",
      "lnsa   0.4110417 -0.3073638 -0.09229584 -0.79711475  0.2530869  0.16914120\n",
      "lncore 0.4110622 -0.3995671  0.45576540  0.37959455 -0.1545103  0.54377053\n",
      "lncmt  0.4297043  0.2877100 -0.24583361  0.37746971  0.7269027  0.03566801\n",
      "lna    0.4549941 -0.3002838  0.14449963  0.12265442 -0.1253418 -0.80695424\n"
     ]
    },
    {
     "data": {
      "image/png": "[encoded data removed]",
      "text/plain": [
       "plot without title"
      ]
     },
     "metadata": {
      "image/png": {
       "height": 420,
       "width": 420
      }
     },
     "output_type": "display_data"
    }
   ],
   "source": [
    "pca <- prcomp(data_c[,pred_n], retx=F, scale=T)\n",
    "print(pca)\n",
    "var <- sum(pca$sdev^2)\n",
    "cumVar <- cumsum(pca$sdev^2)\n",
    "plot(1:6,cumVar/var,ylim=c(0,1),xlab=\"Number of coponents\",ylab=\"Fraction of variance\")"
   ]
  },
  {
   "cell_type": "code",
   "execution_count": 23,
   "id": "b81f41df",
   "metadata": {},
   "outputs": [
    {
     "name": "stdout",
     "output_type": "stream",
     "text": [
      "         lnmc   lnblob      lnsa    lncore     lncmt       lna\n",
      "PC1 0.4156489 0.312479 0.4110417 0.4110622 0.4297043 0.4549941\n",
      "       lnblob       lnsa     lncore        lna\n",
      "PC2 0.7358975 -0.3073638 -0.3995671 -0.3002838\n",
      "          lnmc    lnblob    lncore\n",
      "PC3 -0.6558235 0.5218626 0.4557654\n"
     ]
    }
   ],
   "source": [
    "n <- 0\n",
    "varPer <- 0.9\n",
    "for (i in c(1:length(pca$sdev))) {\n",
    "    if(cumVar[i] > var*varPer) {\n",
    "        n <- i\n",
    "        break\n",
    "    }\n",
    "}\n",
    "res <- pca$rotation[,1:n]\n",
    "resAbs <- res\n",
    "resAbs[res<0] <- -res[res<0]\n",
    "for (i in 1:n)\n",
    "  print(t(res[resAbs[,i]>.3,i,drop=FALSE]));"
   ]
  },
  {
   "cell_type": "code",
   "execution_count": 8,
   "id": "4cdc169f",
   "metadata": {},
   "outputs": [],
   "source": [
    "vnam <- names(data_c[,pred_n])\n",
    "len <- dim(data_c[,pred_n])[2]\n",
    "res <- vector(mode=\"list\", length=len)\n",
    "for (i in 1:len){\n",
    "  fmla <- as.formula(paste(vnam[i],paste(vnam[-i],collapse=\"+\"),sep=\"~\"));\n",
    "  res[[i]] <- lm(fmla,data=data_c[,pred_n]);\n",
    "}"
   ]
  },
  {
   "cell_type": "code",
   "execution_count": 9,
   "id": "e4dd8711",
   "metadata": {},
   "outputs": [
    {
     "name": "stdout",
     "output_type": "stream",
     "text": [
      "[1] lnmc              ->                0.752949484183488\n",
      "[1] lnblob           ->               0.42166732260956\n",
      "[1] lnsa              ->                0.714948919288634\n",
      "[1] lncore            ->                0.886690972362135\n",
      "[1] lncmt             ->                0.778545981396533\n",
      "[1] lna               ->                0.940401473580882\n"
     ]
    }
   ],
   "source": [
    "for (i in 1:len) {\n",
    "    print(c(vnam[i],\"-> \",summary(res[[i]])$adj.r.squared),quote=FALSE)\n",
    "}"
   ]
  },
  {
   "cell_type": "markdown",
   "id": "7ba4c5f6",
   "metadata": {},
   "source": [
    "# 3. Model"
   ]
  },
  {
   "cell_type": "markdown",
   "id": "8fdf81a4",
   "metadata": {},
   "source": [
    "### 3.1. ~ lnmc + lnblob + lnsa + lncmt"
   ]
  },
  {
   "cell_type": "code",
   "execution_count": 32,
   "id": "4ec1baac",
   "metadata": {},
   "outputs": [
    {
     "data": {
      "text/plain": [
       "\n",
       "Call:\n",
       "lm(formula = lncopy ~ lnmc + lnblob + lnsa + lncmt, data = data_c)\n",
       "\n",
       "Residuals:\n",
       "    Min      1Q  Median      3Q     Max \n",
       "-0.2972 -0.1178 -0.0879 -0.0581 12.6193 \n",
       "\n",
       "Coefficients:\n",
       "              Estimate Std. Error t value Pr(>|t|)    \n",
       "(Intercept)  1.543e-01  7.320e-05  2108.5   <2e-16 ***\n",
       "lnmc        -5.165e-03  3.002e-05  -172.1   <2e-16 ***\n",
       "lnblob       3.542e-03  9.012e-06   393.0   <2e-16 ***\n",
       "lnsa         2.059e-02  1.281e-05  1606.8   <2e-16 ***\n",
       "lncmt       -1.963e-02  1.403e-05 -1399.0   <2e-16 ***\n",
       "---\n",
       "Signif. codes:  0 '***' 0.001 '**' 0.01 '*' 0.05 '.' 0.1 ' ' 1\n",
       "\n",
       "Residual standard error: 0.3925 on 334866224 degrees of freedom\n",
       "Multiple R-squared:  0.01369,\tAdjusted R-squared:  0.01369 \n",
       "F-statistic: 1.162e+06 on 4 and 334866224 DF,  p-value: < 2.2e-16\n"
      ]
     },
     "metadata": {},
     "output_type": "display_data"
    }
   ],
   "source": [
    "lm <- lm(lncopy~lnmc+lnblob+lnsa+lncmt, data=data_c)\n",
    "summary(lm)"
   ]
  },
  {
   "cell_type": "code",
   "execution_count": 17,
   "id": "94984fa0",
   "metadata": {},
   "outputs": [
    {
     "data": {
      "text/plain": [
       "\n",
       "Call:\n",
       "glm(formula = copied ~ lnmc + lnblob + lnsa + lncmt, family = binomial, \n",
       "    data = data_c)\n",
       "\n",
       "Deviance Residuals: \n",
       "    Min       1Q   Median       3Q      Max  \n",
       "-1.0398  -0.4541  -0.3812  -0.3117   2.9735  \n",
       "\n",
       "Coefficients:\n",
       "              Estimate Std. Error z value Pr(>|z|)    \n",
       "(Intercept) -1.638e+00  6.853e-04 -2390.6   <2e-16 ***\n",
       "lnmc        -6.928e-02  3.294e-04  -210.3   <2e-16 ***\n",
       "lnblob       2.771e-02  8.227e-05   336.8   <2e-16 ***\n",
       "lnsa         2.043e-01  1.254e-04  1629.4   <2e-16 ***\n",
       "lncmt       -2.251e-01  1.527e-04 -1473.9   <2e-16 ***\n",
       "---\n",
       "Signif. codes:  0 '***' 0.001 '**' 0.01 '*' 0.05 '.' 0.1 ' ' 1\n",
       "\n",
       "(Dispersion parameter for binomial family taken to be 1)\n",
       "\n",
       "    Null deviance: 189939186  on 334866228  degrees of freedom\n",
       "Residual deviance: 183585092  on 334866224  degrees of freedom\n",
       "AIC: 183585102\n",
       "\n",
       "Number of Fisher Scoring iterations: 5\n"
      ]
     },
     "metadata": {},
     "output_type": "display_data"
    }
   ],
   "source": [
    "glm <- glm(copied~lnmc+lnblob+lnsa+lncmt,data=data_c,family=binomial)\n",
    "summary(glm)"
   ]
  },
  {
   "cell_type": "code",
   "execution_count": 18,
   "id": "28a11303",
   "metadata": {},
   "outputs": [
    {
     "name": "stderr",
     "output_type": "stream",
     "text": [
      "Warning message in confusionMatrix.default(data = factor(glm_p), reference = factor(data_tc[, :\n",
      "\"Levels are not in the same order for reference and data. Refactoring data to match.\"\n"
     ]
    },
    {
     "data": {
      "text/plain": [
       "Confusion Matrix and Statistics\n",
       "\n",
       "          Reference\n",
       "Prediction    FALSE     TRUE\n",
       "     FALSE 17610729  2033855\n",
       "     TRUE         0        0\n",
       "                                          \n",
       "               Accuracy : 0.8965          \n",
       "                 95% CI : (0.8963, 0.8966)\n",
       "    No Information Rate : 0.8965          \n",
       "    P-Value [Acc > NIR] : 0.5002          \n",
       "                                          \n",
       "                  Kappa : 0               \n",
       "                                          \n",
       " Mcnemar's Test P-Value : <2e-16          \n",
       "                                          \n",
       "            Sensitivity : 1.0000          \n",
       "            Specificity : 0.0000          \n",
       "         Pos Pred Value : 0.8965          \n",
       "         Neg Pred Value :    NaN          \n",
       "             Prevalence : 0.8965          \n",
       "         Detection Rate : 0.8965          \n",
       "   Detection Prevalence : 1.0000          \n",
       "      Balanced Accuracy : 0.5000          \n",
       "                                          \n",
       "       'Positive' Class : FALSE           \n",
       "                                          "
      ]
     },
     "metadata": {},
     "output_type": "display_data"
    }
   ],
   "source": [
    "glm_p <- predict(glm,newdata=data_tc,type=\"response\") > 0.5\n",
    "confusionMatrix(data=factor(glm_p), reference = factor(data_tc[,\"copied\"]))"
   ]
  },
  {
   "cell_type": "markdown",
   "id": "f4803da4",
   "metadata": {},
   "source": [
    "### 3.2. ~ lnsa"
   ]
  },
  {
   "cell_type": "code",
   "execution_count": 8,
   "id": "bd927045",
   "metadata": {},
   "outputs": [
    {
     "data": {
      "text/plain": [
       "\n",
       "Call:\n",
       "lm(formula = lncopy ~ lnsa, data = data_c)\n",
       "\n",
       "Residuals:\n",
       "    Min      1Q  Median      3Q     Max \n",
       "-0.1359 -0.0934 -0.0877 -0.0877 12.6264 \n",
       "\n",
       "Coefficients:\n",
       "             Estimate Std. Error t value Pr(>|t|)    \n",
       "(Intercept) 8.769e-02  2.515e-05  3485.9   <2e-16 ***\n",
       "lnsa        4.104e-03  9.359e-06   438.5   <2e-16 ***\n",
       "---\n",
       "Signif. codes:  0 '***' 0.001 '**' 0.01 '*' 0.05 '.' 0.1 ' ' 1\n",
       "\n",
       "Residual standard error: 0.3951 on 334866227 degrees of freedom\n",
       "Multiple R-squared:  0.000574,\tAdjusted R-squared:  0.000574 \n",
       "F-statistic: 1.923e+05 on 1 and 334866227 DF,  p-value: < 2.2e-16\n"
      ]
     },
     "metadata": {},
     "output_type": "display_data"
    }
   ],
   "source": [
    "lm2 <- lm(lncopy~lnsa, data=data_c)\n",
    "summary(lm2)"
   ]
  },
  {
   "cell_type": "code",
   "execution_count": 9,
   "id": "407c39a5",
   "metadata": {},
   "outputs": [
    {
     "data": {
      "text/plain": [
       "\n",
       "Call:\n",
       "glm(formula = copied ~ lnsa, family = binomial, data = data_c)\n",
       "\n",
       "Deviance Residuals: \n",
       "    Min       1Q   Median       3Q      Max  \n",
       "-0.4138  -0.4138  -0.4138  -0.4134   2.2390  \n",
       "\n",
       "Coefficients:\n",
       "              Estimate Std. Error    z value Pr(>|z|)    \n",
       "(Intercept) -2.415e+00  2.320e-04 -10408.618  < 2e-16 ***\n",
       "lnsa        -5.732e-04  8.643e-05     -6.632 3.31e-11 ***\n",
       "---\n",
       "Signif. codes:  0 '***' 0.001 '**' 0.01 '*' 0.05 '.' 0.1 ' ' 1\n",
       "\n",
       "(Dispersion parameter for binomial family taken to be 1)\n",
       "\n",
       "    Null deviance: 189939186  on 334866228  degrees of freedom\n",
       "Residual deviance: 189939142  on 334866227  degrees of freedom\n",
       "AIC: 189939146\n",
       "\n",
       "Number of Fisher Scoring iterations: 5\n"
      ]
     },
     "metadata": {},
     "output_type": "display_data"
    }
   ],
   "source": [
    "glm2 <- glm(copied~lnsa,data=data_c,family=binomial)\n",
    "summary(glm2)"
   ]
  },
  {
   "cell_type": "code",
   "execution_count": 15,
   "id": "2a3cf754",
   "metadata": {},
   "outputs": [
    {
     "name": "stderr",
     "output_type": "stream",
     "text": [
      "Loading required package: lattice\n",
      "\n",
      "Loading required package: ggplot2\n",
      "\n",
      "Warning message in confusionMatrix.default(data = factor(glm2_p), reference = factor(data_tc[, :\n",
      "\"Levels are not in the same order for reference and data. Refactoring data to match.\"\n"
     ]
    },
    {
     "data": {
      "text/plain": [
       "Confusion Matrix and Statistics\n",
       "\n",
       "          Reference\n",
       "Prediction    FALSE     TRUE\n",
       "     FALSE 17610729  2033855\n",
       "     TRUE         0        0\n",
       "                                          \n",
       "               Accuracy : 0.8965          \n",
       "                 95% CI : (0.8963, 0.8966)\n",
       "    No Information Rate : 0.8965          \n",
       "    P-Value [Acc > NIR] : 0.5002          \n",
       "                                          \n",
       "                  Kappa : 0               \n",
       "                                          \n",
       " Mcnemar's Test P-Value : <2e-16          \n",
       "                                          \n",
       "            Sensitivity : 1.0000          \n",
       "            Specificity : 0.0000          \n",
       "         Pos Pred Value : 0.8965          \n",
       "         Neg Pred Value :    NaN          \n",
       "             Prevalence : 0.8965          \n",
       "         Detection Rate : 0.8965          \n",
       "   Detection Prevalence : 1.0000          \n",
       "      Balanced Accuracy : 0.5000          \n",
       "                                          \n",
       "       'Positive' Class : FALSE           \n",
       "                                          "
      ]
     },
     "metadata": {},
     "output_type": "display_data"
    }
   ],
   "source": [
    "glm2_p <- predict(glm2,newdata=data_tc,type=\"response\") > 0.5\n",
    "confusionMatrix(data=factor(glm2_p), reference = factor(data_tc[,\"copied\"]))"
   ]
  }
 ],
 "metadata": {
  "kernelspec": {
   "display_name": "R",
   "language": "R",
   "name": "ir"
  },
  "language_info": {
   "codemirror_mode": "r",
   "file_extension": ".r",
   "mimetype": "text/x-r-source",
   "name": "R",
   "pygments_lexer": "r",
   "version": "3.6.3"
  }
 },
 "nbformat": 4,
 "nbformat_minor": 5
}
