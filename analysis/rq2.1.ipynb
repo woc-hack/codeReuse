{
 "cells": [
  {
   "cell_type": "code",
   "execution_count": 1,
   "id": "d90a5f26",
   "metadata": {},
   "outputs": [],
   "source": [
    "data <- read.csv(\"../data/blobs/uPab.1\", header = FALSE, sep = \";\")"
   ]
  },
  {
   "cell_type": "code",
   "execution_count": 2,
   "id": "484cda37",
   "metadata": {},
   "outputs": [],
   "source": [
    "names(data) <- c(\"p\",\"nmc\",\"nblob\",\"nsa\",\"ncore\",\"ncmt\",\"na\",\"blob\",\"ncopy\")"
   ]
  },
  {
   "cell_type": "code",
   "execution_count": 3,
   "id": "bb53c252",
   "metadata": {},
   "outputs": [],
   "source": [
    "data$copied <- data$ncopy > 0"
   ]
  },
  {
   "cell_type": "code",
   "execution_count": 5,
   "id": "ce125a84",
   "metadata": {},
   "outputs": [
    {
     "data": {
      "text/html": [
       "<table class=\"dataframe\">\n",
       "<caption>A data.frame: 337392376 x 10</caption>\n",
       "<thead>\n",
       "\t<tr><th scope=col>p</th><th scope=col>nmc</th><th scope=col>nblob</th><th scope=col>nsa</th><th scope=col>ncore</th><th scope=col>ncmt</th><th scope=col>na</th><th scope=col>blob</th><th scope=col>ncopy</th><th scope=col>copied</th></tr>\n",
       "\t<tr><th scope=col>&lt;fct&gt;</th><th scope=col>&lt;int&gt;</th><th scope=col>&lt;int&gt;</th><th scope=col>&lt;int&gt;</th><th scope=col>&lt;int&gt;</th><th scope=col>&lt;int&gt;</th><th scope=col>&lt;int&gt;</th><th scope=col>&lt;fct&gt;</th><th scope=col>&lt;int&gt;</th><th scope=col>&lt;lgl&gt;</th></tr>\n",
       "</thead>\n",
       "<tbody>\n",
       "\t<tr><td>0-1-0-8_Bookers2       </td><td>5</td><td>132</td><td>0</td><td>1</td><td>15</td><td>1</td><td>03c5b9f05cf710eb586d7fb7d4fcf7c34675bfe4</td><td>0</td><td>FALSE</td></tr>\n",
       "\t<tr><td>0-1-0-8_Bookers2       </td><td>5</td><td>132</td><td>0</td><td>1</td><td>15</td><td>1</td><td>0b6042f24417310432de19aa9d9327f37309b1a9</td><td>3</td><td> TRUE</td></tr>\n",
       "\t<tr><td>0-1-0-8_Bookers2       </td><td>5</td><td>132</td><td>0</td><td>1</td><td>15</td><td>1</td><td>0d183e0f7646f43fc32c1a6cfd1d67ac2b7d2bf5</td><td>0</td><td>FALSE</td></tr>\n",
       "\t<tr><td>0-1-0-8_Bookers2       </td><td>5</td><td>132</td><td>0</td><td>1</td><td>15</td><td>1</td><td>1136f94ab671a4eb5bce23349433dd490949621c</td><td>0</td><td>FALSE</td></tr>\n",
       "\t<tr><td>0-1-0-8_Bookers2       </td><td>5</td><td>132</td><td>0</td><td>1</td><td>15</td><td>1</td><td>18d92dcc29fef04d881deb400aee41735833ceda</td><td>1</td><td> TRUE</td></tr>\n",
       "\t<tr><td>0-1-0-8_Bookers2       </td><td>5</td><td>132</td><td>0</td><td>1</td><td>15</td><td>1</td><td>3167367e5004c685fd93e6aaa42c3f5722798620</td><td>0</td><td>FALSE</td></tr>\n",
       "\t<tr><td>0-1-0-8_Bookers2       </td><td>5</td><td>132</td><td>0</td><td>1</td><td>15</td><td>1</td><td>34d0a0a2ba580f87dba99cc7c10c330998dd3256</td><td>0</td><td>FALSE</td></tr>\n",
       "\t<tr><td>0-1-0-8_Bookers2       </td><td>5</td><td>132</td><td>0</td><td>1</td><td>15</td><td>1</td><td>3939e4da677f6c7fa4bddd98c80bb0fa97baed13</td><td>0</td><td>FALSE</td></tr>\n",
       "\t<tr><td>0-1-0-8_Bookers2       </td><td>5</td><td>132</td><td>0</td><td>1</td><td>15</td><td>1</td><td>3aecaa99ff71a1048c19f8e664fd7a7316ce0778</td><td>0</td><td>FALSE</td></tr>\n",
       "\t<tr><td>0-1-0-8_Bookers2       </td><td>5</td><td>132</td><td>0</td><td>1</td><td>15</td><td>1</td><td>50d8e201429dd96bb3e876d7b73f556f175c86a5</td><td>0</td><td>FALSE</td></tr>\n",
       "\t<tr><td>0-1-0-8_Bookers2       </td><td>5</td><td>132</td><td>0</td><td>1</td><td>15</td><td>1</td><td>6bcd7d9cad517e81e521aeb85650eda1d5682c76</td><td>0</td><td>FALSE</td></tr>\n",
       "\t<tr><td>0-1-0-8_Bookers2       </td><td>5</td><td>132</td><td>0</td><td>1</td><td>15</td><td>1</td><td>767823bd1c7ffb02368e951ba96aa150f7400191</td><td>0</td><td>FALSE</td></tr>\n",
       "\t<tr><td>0-1-0-8_Bookers2       </td><td>5</td><td>132</td><td>0</td><td>1</td><td>15</td><td>1</td><td>86ad581dc40f5b264d88c448fbfde3c69df24db6</td><td>0</td><td>FALSE</td></tr>\n",
       "\t<tr><td>0-1-0-8_Bookers2       </td><td>5</td><td>132</td><td>0</td><td>1</td><td>15</td><td>1</td><td>95f6118653f285939ce5fd38aa49a92a41a0e0b0</td><td>0</td><td>FALSE</td></tr>\n",
       "\t<tr><td>0-1-0-8_Bookers2       </td><td>5</td><td>132</td><td>0</td><td>1</td><td>15</td><td>1</td><td>a0399a5300b46501b6fce3bea2e08e6900aa3025</td><td>0</td><td>FALSE</td></tr>\n",
       "\t<tr><td>0-1-0-8_Bookers2       </td><td>5</td><td>132</td><td>0</td><td>1</td><td>15</td><td>1</td><td>ad2db789f925d2696e0727b26decf23d27cf26b7</td><td>0</td><td>FALSE</td></tr>\n",
       "\t<tr><td>0-1-0-8_Bookers2       </td><td>5</td><td>132</td><td>0</td><td>1</td><td>15</td><td>1</td><td>b85a65226b42976c51b564f5fb730593957d6488</td><td>0</td><td>FALSE</td></tr>\n",
       "\t<tr><td>0-1-0-8_Bookers2       </td><td>5</td><td>132</td><td>0</td><td>1</td><td>15</td><td>1</td><td>d0ddbbf29e81e0983bd20dbdfb66cd811697872d</td><td>0</td><td>FALSE</td></tr>\n",
       "\t<tr><td>0-1-0-8_Bookers2       </td><td>5</td><td>132</td><td>0</td><td>1</td><td>15</td><td>1</td><td>d13e2c6a52efc7a97d0e572c0da64305eebb2fe5</td><td>0</td><td>FALSE</td></tr>\n",
       "\t<tr><td>0-1-0-8_Bookers2       </td><td>5</td><td>132</td><td>0</td><td>1</td><td>15</td><td>1</td><td>d484d083b58bc5cdbb0b2afd434f5685851e7b4f</td><td>0</td><td>FALSE</td></tr>\n",
       "\t<tr><td>0-1-0-8_Bookers2       </td><td>5</td><td>132</td><td>0</td><td>1</td><td>15</td><td>1</td><td>dd56e7c93867ad8d6899635ae196fd3601746be1</td><td>0</td><td>FALSE</td></tr>\n",
       "\t<tr><td>0-1-0-8_Bookers2       </td><td>5</td><td>132</td><td>0</td><td>1</td><td>15</td><td>1</td><td>e084e48eb421dff8ff03be5302357c6abfbcf1ca</td><td>0</td><td>FALSE</td></tr>\n",
       "\t<tr><td>0-1-0-8_Bookers2       </td><td>5</td><td>132</td><td>0</td><td>1</td><td>15</td><td>1</td><td>e975289072631e36fd218f399a6474e06fcd6de7</td><td>0</td><td>FALSE</td></tr>\n",
       "\t<tr><td>0-1-0-8_Bookers2       </td><td>5</td><td>132</td><td>0</td><td>1</td><td>15</td><td>1</td><td>ea22fcdd436bece52878eaef7cc236095159262d</td><td>0</td><td>FALSE</td></tr>\n",
       "\t<tr><td>0-1-0-8_Bookers2       </td><td>5</td><td>132</td><td>0</td><td>1</td><td>15</td><td>1</td><td>ea4343d4e74d2fa2c1ed7cf4fa6ad96c18f53488</td><td>0</td><td>FALSE</td></tr>\n",
       "\t<tr><td>0-1-0-8_Bookers2       </td><td>5</td><td>132</td><td>0</td><td>1</td><td>15</td><td>1</td><td>efbbdd0db8f6e674df1f1137f50b693735a35a41</td><td>0</td><td>FALSE</td></tr>\n",
       "\t<tr><td>0-1-0-8_Bookers2       </td><td>5</td><td>132</td><td>0</td><td>1</td><td>15</td><td>1</td><td>f107dbafb66c5b39f11d56534fb138c32f16ebf7</td><td>0</td><td>FALSE</td></tr>\n",
       "\t<tr><td>0-1123_rails-wikinimous</td><td>1</td><td> 86</td><td>0</td><td>1</td><td> 3</td><td>1</td><td>0b409e8ad05d667383591f58abbc4fc2e3753ce7</td><td>0</td><td>FALSE</td></tr>\n",
       "\t<tr><td>0-1123_rails-wikinimous</td><td>1</td><td> 86</td><td>0</td><td>1</td><td> 3</td><td>1</td><td>168cc5f92f3c165716d2df98207d54e73efb3eea</td><td>0</td><td>FALSE</td></tr>\n",
       "\t<tr><td>0-1123_rails-wikinimous</td><td>1</td><td> 86</td><td>0</td><td>1</td><td> 3</td><td>1</td><td>1babc77189a1188f0ccf0ba4751b4fa5a6ee337c</td><td>0</td><td>FALSE</td></tr>\n",
       "\t<tr><td>...</td><td>...</td><td>...</td><td>...</td><td>...</td><td>...</td><td>...</td><td>...</td><td>...</td><td>...</td></tr>\n",
       "\t<tr><td>zzzzzyx_sports-social-network</td><td>4</td><td>573</td><td>0</td><td>1</td><td>42</td><td>2</td><td>ebb56ea9135a4f9864c75e8ad26315b4c433a867</td><td>0</td><td>FALSE</td></tr>\n",
       "\t<tr><td>zzzzzyx_sports-social-network</td><td>4</td><td>573</td><td>0</td><td>1</td><td>42</td><td>2</td><td>ebbaefa3b04a9ec337f8fb88a3b801a639daaafe</td><td>0</td><td>FALSE</td></tr>\n",
       "\t<tr><td>zzzzzyx_sports-social-network</td><td>4</td><td>573</td><td>0</td><td>1</td><td>42</td><td>2</td><td>ed0b84964a4600a559bd38ed76337f56c9573eb3</td><td>0</td><td>FALSE</td></tr>\n",
       "\t<tr><td>zzzzzyx_sports-social-network</td><td>4</td><td>573</td><td>0</td><td>1</td><td>42</td><td>2</td><td>ed33d1b5b8dfa3186992a6ffa761a9922388e734</td><td>0</td><td>FALSE</td></tr>\n",
       "\t<tr><td>zzzzzyx_sports-social-network</td><td>4</td><td>573</td><td>0</td><td>1</td><td>42</td><td>2</td><td>f0df7e9cc976c19cfa42f18fd8876f7657180cfc</td><td>0</td><td>FALSE</td></tr>\n",
       "\t<tr><td>zzzzzyx_sports-social-network</td><td>4</td><td>573</td><td>0</td><td>1</td><td>42</td><td>2</td><td>f0dfcbb840da25dbc03f8bdd435d3432c6d82123</td><td>0</td><td>FALSE</td></tr>\n",
       "\t<tr><td>zzzzzyx_sports-social-network</td><td>4</td><td>573</td><td>0</td><td>1</td><td>42</td><td>2</td><td>f1e1e082c3162e3ae7e29b9290658bf0ac187c6c</td><td>0</td><td>FALSE</td></tr>\n",
       "\t<tr><td>zzzzzyx_sports-social-network</td><td>4</td><td>573</td><td>0</td><td>1</td><td>42</td><td>2</td><td>f1f83e501f64a440b67db2e562f8c603ad02584f</td><td>0</td><td>FALSE</td></tr>\n",
       "\t<tr><td>zzzzzyx_sports-social-network</td><td>4</td><td>573</td><td>0</td><td>1</td><td>42</td><td>2</td><td>f1faa1e2b3f84371c26ed8cf191206b11915f16a</td><td>0</td><td>FALSE</td></tr>\n",
       "\t<tr><td>zzzzzyx_sports-social-network</td><td>4</td><td>573</td><td>0</td><td>1</td><td>42</td><td>2</td><td>f2ac789f92ed839f8c5cd4fc553bc1c20376ea38</td><td>0</td><td>FALSE</td></tr>\n",
       "\t<tr><td>zzzzzyx_sports-social-network</td><td>4</td><td>573</td><td>0</td><td>1</td><td>42</td><td>2</td><td>f3666b54bce3cf144b87dbf2d6fba4b3a552386f</td><td>0</td><td>FALSE</td></tr>\n",
       "\t<tr><td>zzzzzyx_sports-social-network</td><td>4</td><td>573</td><td>0</td><td>1</td><td>42</td><td>2</td><td>f405d94817a3a1f0b6740ca39e057734bc1f6bb2</td><td>0</td><td>FALSE</td></tr>\n",
       "\t<tr><td>zzzzzyx_sports-social-network</td><td>4</td><td>573</td><td>0</td><td>1</td><td>42</td><td>2</td><td>f45aa3014706bb6c749ca9a53764dfde32095e7b</td><td>0</td><td>FALSE</td></tr>\n",
       "\t<tr><td>zzzzzyx_sports-social-network</td><td>4</td><td>573</td><td>0</td><td>1</td><td>42</td><td>2</td><td>f5c26e4232015526d29e1c32b2f5e7b5450eadcb</td><td>0</td><td>FALSE</td></tr>\n",
       "\t<tr><td>zzzzzyx_sports-social-network</td><td>4</td><td>573</td><td>0</td><td>1</td><td>42</td><td>2</td><td>f5f8fb091bff985fb49e064beda8adec942b2052</td><td>0</td><td>FALSE</td></tr>\n",
       "\t<tr><td>zzzzzyx_sports-social-network</td><td>4</td><td>573</td><td>0</td><td>1</td><td>42</td><td>2</td><td>f6c915d7aca4b321461057f720135c6ad96104d6</td><td>0</td><td>FALSE</td></tr>\n",
       "\t<tr><td>zzzzzyx_sports-social-network</td><td>4</td><td>573</td><td>0</td><td>1</td><td>42</td><td>2</td><td>f704498f6bd4ea1427c953a700ceaa56feed7d8e</td><td>4</td><td> TRUE</td></tr>\n",
       "\t<tr><td>zzzzzyx_sports-social-network</td><td>4</td><td>573</td><td>0</td><td>1</td><td>42</td><td>2</td><td>f85caaeaa2215dd2f995422d564473c569696278</td><td>0</td><td>FALSE</td></tr>\n",
       "\t<tr><td>zzzzzyx_sports-social-network</td><td>4</td><td>573</td><td>0</td><td>1</td><td>42</td><td>2</td><td>fa6fef2c1e7faa786f0082c78b3c6b878496d503</td><td>0</td><td>FALSE</td></tr>\n",
       "\t<tr><td>zzzzzyx_sports-social-network</td><td>4</td><td>573</td><td>0</td><td>1</td><td>42</td><td>2</td><td>fd1bd37588bb7b0040e6e9b0c04a02ed9b567a7f</td><td>0</td><td>FALSE</td></tr>\n",
       "\t<tr><td>zzzzzyx_sports-social-network</td><td>4</td><td>573</td><td>0</td><td>1</td><td>42</td><td>2</td><td>fd571366fc2563d79ca29bf1c32e1220c385c03e</td><td>0</td><td>FALSE</td></tr>\n",
       "\t<tr><td>zzzzzyx_sports-social-network</td><td>4</td><td>573</td><td>0</td><td>1</td><td>42</td><td>2</td><td>fdc56e4392b78015369bd3f2bb42502655e251ab</td><td>0</td><td>FALSE</td></tr>\n",
       "\t<tr><td>zzzzzyx_sports-social-network</td><td>4</td><td>573</td><td>0</td><td>1</td><td>42</td><td>2</td><td>fdf607a9023eae853c6feb12ff54f8b6b15eec72</td><td>0</td><td>FALSE</td></tr>\n",
       "\t<tr><td>zzzzzyx_sports-social-network</td><td>4</td><td>573</td><td>0</td><td>1</td><td>42</td><td>2</td><td>fe0f97a2b6770d44305504ce68ae94f52188e296</td><td>0</td><td>FALSE</td></tr>\n",
       "\t<tr><td>zzzzzyx_sports-social-network</td><td>4</td><td>573</td><td>0</td><td>1</td><td>42</td><td>2</td><td>ff3a7a0b9537f1cf99e6446bdac13bf9350a123d</td><td>0</td><td>FALSE</td></tr>\n",
       "\t<tr><td>zzzzzzzz3_learngit           </td><td>1</td><td>  7</td><td>0</td><td>1</td><td> 7</td><td>2</td><td>2114bcd2a783fc0631d47d8dabac3e264742584b</td><td>0</td><td>FALSE</td></tr>\n",
       "\t<tr><td>zzzzzzzz3_learngit           </td><td>1</td><td>  7</td><td>0</td><td>1</td><td> 7</td><td>2</td><td>3ddb77119f2cdda5aff50359b6575590a8f35759</td><td>0</td><td>FALSE</td></tr>\n",
       "\t<tr><td>zzzzzzzz3_learngit           </td><td>1</td><td>  7</td><td>0</td><td>1</td><td> 7</td><td>2</td><td>69a85ffcd2c38545cdfce043af62836648490709</td><td>0</td><td>FALSE</td></tr>\n",
       "\t<tr><td>zzzzzzzz3_learngit           </td><td>1</td><td>  7</td><td>0</td><td>1</td><td> 7</td><td>2</td><td>c335390fac605a96e915427d0dcecfcec6399005</td><td>0</td><td>FALSE</td></tr>\n",
       "\t<tr><td>zzzzzzzz3_learngit           </td><td>1</td><td>  7</td><td>0</td><td>1</td><td> 7</td><td>2</td><td>feb27dededf15583ee09f5cc03cc47097a5b2de0</td><td>2</td><td> TRUE</td></tr>\n",
       "</tbody>\n",
       "</table>\n"
      ],
      "text/latex": [
       "A data.frame: 337392376 x 10\n",
       "\\begin{tabular}{llllllllll}\n",
       " p & nmc & nblob & nsa & ncore & ncmt & na & blob & ncopy & copied\\\\\n",
       " <fct> & <int> & <int> & <int> & <int> & <int> & <int> & <fct> & <int> & <lgl>\\\\\n",
       "\\hline\n",
       "\t 0-1-0-8\\_Bookers2        & 5 & 132 & 0 & 1 & 15 & 1 & 03c5b9f05cf710eb586d7fb7d4fcf7c34675bfe4 & 0 & FALSE\\\\\n",
       "\t 0-1-0-8\\_Bookers2        & 5 & 132 & 0 & 1 & 15 & 1 & 0b6042f24417310432de19aa9d9327f37309b1a9 & 3 &  TRUE\\\\\n",
       "\t 0-1-0-8\\_Bookers2        & 5 & 132 & 0 & 1 & 15 & 1 & 0d183e0f7646f43fc32c1a6cfd1d67ac2b7d2bf5 & 0 & FALSE\\\\\n",
       "\t 0-1-0-8\\_Bookers2        & 5 & 132 & 0 & 1 & 15 & 1 & 1136f94ab671a4eb5bce23349433dd490949621c & 0 & FALSE\\\\\n",
       "\t 0-1-0-8\\_Bookers2        & 5 & 132 & 0 & 1 & 15 & 1 & 18d92dcc29fef04d881deb400aee41735833ceda & 1 &  TRUE\\\\\n",
       "\t 0-1-0-8\\_Bookers2        & 5 & 132 & 0 & 1 & 15 & 1 & 3167367e5004c685fd93e6aaa42c3f5722798620 & 0 & FALSE\\\\\n",
       "\t 0-1-0-8\\_Bookers2        & 5 & 132 & 0 & 1 & 15 & 1 & 34d0a0a2ba580f87dba99cc7c10c330998dd3256 & 0 & FALSE\\\\\n",
       "\t 0-1-0-8\\_Bookers2        & 5 & 132 & 0 & 1 & 15 & 1 & 3939e4da677f6c7fa4bddd98c80bb0fa97baed13 & 0 & FALSE\\\\\n",
       "\t 0-1-0-8\\_Bookers2        & 5 & 132 & 0 & 1 & 15 & 1 & 3aecaa99ff71a1048c19f8e664fd7a7316ce0778 & 0 & FALSE\\\\\n",
       "\t 0-1-0-8\\_Bookers2        & 5 & 132 & 0 & 1 & 15 & 1 & 50d8e201429dd96bb3e876d7b73f556f175c86a5 & 0 & FALSE\\\\\n",
       "\t 0-1-0-8\\_Bookers2        & 5 & 132 & 0 & 1 & 15 & 1 & 6bcd7d9cad517e81e521aeb85650eda1d5682c76 & 0 & FALSE\\\\\n",
       "\t 0-1-0-8\\_Bookers2        & 5 & 132 & 0 & 1 & 15 & 1 & 767823bd1c7ffb02368e951ba96aa150f7400191 & 0 & FALSE\\\\\n",
       "\t 0-1-0-8\\_Bookers2        & 5 & 132 & 0 & 1 & 15 & 1 & 86ad581dc40f5b264d88c448fbfde3c69df24db6 & 0 & FALSE\\\\\n",
       "\t 0-1-0-8\\_Bookers2        & 5 & 132 & 0 & 1 & 15 & 1 & 95f6118653f285939ce5fd38aa49a92a41a0e0b0 & 0 & FALSE\\\\\n",
       "\t 0-1-0-8\\_Bookers2        & 5 & 132 & 0 & 1 & 15 & 1 & a0399a5300b46501b6fce3bea2e08e6900aa3025 & 0 & FALSE\\\\\n",
       "\t 0-1-0-8\\_Bookers2        & 5 & 132 & 0 & 1 & 15 & 1 & ad2db789f925d2696e0727b26decf23d27cf26b7 & 0 & FALSE\\\\\n",
       "\t 0-1-0-8\\_Bookers2        & 5 & 132 & 0 & 1 & 15 & 1 & b85a65226b42976c51b564f5fb730593957d6488 & 0 & FALSE\\\\\n",
       "\t 0-1-0-8\\_Bookers2        & 5 & 132 & 0 & 1 & 15 & 1 & d0ddbbf29e81e0983bd20dbdfb66cd811697872d & 0 & FALSE\\\\\n",
       "\t 0-1-0-8\\_Bookers2        & 5 & 132 & 0 & 1 & 15 & 1 & d13e2c6a52efc7a97d0e572c0da64305eebb2fe5 & 0 & FALSE\\\\\n",
       "\t 0-1-0-8\\_Bookers2        & 5 & 132 & 0 & 1 & 15 & 1 & d484d083b58bc5cdbb0b2afd434f5685851e7b4f & 0 & FALSE\\\\\n",
       "\t 0-1-0-8\\_Bookers2        & 5 & 132 & 0 & 1 & 15 & 1 & dd56e7c93867ad8d6899635ae196fd3601746be1 & 0 & FALSE\\\\\n",
       "\t 0-1-0-8\\_Bookers2        & 5 & 132 & 0 & 1 & 15 & 1 & e084e48eb421dff8ff03be5302357c6abfbcf1ca & 0 & FALSE\\\\\n",
       "\t 0-1-0-8\\_Bookers2        & 5 & 132 & 0 & 1 & 15 & 1 & e975289072631e36fd218f399a6474e06fcd6de7 & 0 & FALSE\\\\\n",
       "\t 0-1-0-8\\_Bookers2        & 5 & 132 & 0 & 1 & 15 & 1 & ea22fcdd436bece52878eaef7cc236095159262d & 0 & FALSE\\\\\n",
       "\t 0-1-0-8\\_Bookers2        & 5 & 132 & 0 & 1 & 15 & 1 & ea4343d4e74d2fa2c1ed7cf4fa6ad96c18f53488 & 0 & FALSE\\\\\n",
       "\t 0-1-0-8\\_Bookers2        & 5 & 132 & 0 & 1 & 15 & 1 & efbbdd0db8f6e674df1f1137f50b693735a35a41 & 0 & FALSE\\\\\n",
       "\t 0-1-0-8\\_Bookers2        & 5 & 132 & 0 & 1 & 15 & 1 & f107dbafb66c5b39f11d56534fb138c32f16ebf7 & 0 & FALSE\\\\\n",
       "\t 0-1123\\_rails-wikinimous & 1 &  86 & 0 & 1 &  3 & 1 & 0b409e8ad05d667383591f58abbc4fc2e3753ce7 & 0 & FALSE\\\\\n",
       "\t 0-1123\\_rails-wikinimous & 1 &  86 & 0 & 1 &  3 & 1 & 168cc5f92f3c165716d2df98207d54e73efb3eea & 0 & FALSE\\\\\n",
       "\t 0-1123\\_rails-wikinimous & 1 &  86 & 0 & 1 &  3 & 1 & 1babc77189a1188f0ccf0ba4751b4fa5a6ee337c & 0 & FALSE\\\\\n",
       "\t ... & ... & ... & ... & ... & ... & ... & ... & ... & ...\\\\\n",
       "\t zzzzzyx\\_sports-social-network & 4 & 573 & 0 & 1 & 42 & 2 & ebb56ea9135a4f9864c75e8ad26315b4c433a867 & 0 & FALSE\\\\\n",
       "\t zzzzzyx\\_sports-social-network & 4 & 573 & 0 & 1 & 42 & 2 & ebbaefa3b04a9ec337f8fb88a3b801a639daaafe & 0 & FALSE\\\\\n",
       "\t zzzzzyx\\_sports-social-network & 4 & 573 & 0 & 1 & 42 & 2 & ed0b84964a4600a559bd38ed76337f56c9573eb3 & 0 & FALSE\\\\\n",
       "\t zzzzzyx\\_sports-social-network & 4 & 573 & 0 & 1 & 42 & 2 & ed33d1b5b8dfa3186992a6ffa761a9922388e734 & 0 & FALSE\\\\\n",
       "\t zzzzzyx\\_sports-social-network & 4 & 573 & 0 & 1 & 42 & 2 & f0df7e9cc976c19cfa42f18fd8876f7657180cfc & 0 & FALSE\\\\\n",
       "\t zzzzzyx\\_sports-social-network & 4 & 573 & 0 & 1 & 42 & 2 & f0dfcbb840da25dbc03f8bdd435d3432c6d82123 & 0 & FALSE\\\\\n",
       "\t zzzzzyx\\_sports-social-network & 4 & 573 & 0 & 1 & 42 & 2 & f1e1e082c3162e3ae7e29b9290658bf0ac187c6c & 0 & FALSE\\\\\n",
       "\t zzzzzyx\\_sports-social-network & 4 & 573 & 0 & 1 & 42 & 2 & f1f83e501f64a440b67db2e562f8c603ad02584f & 0 & FALSE\\\\\n",
       "\t zzzzzyx\\_sports-social-network & 4 & 573 & 0 & 1 & 42 & 2 & f1faa1e2b3f84371c26ed8cf191206b11915f16a & 0 & FALSE\\\\\n",
       "\t zzzzzyx\\_sports-social-network & 4 & 573 & 0 & 1 & 42 & 2 & f2ac789f92ed839f8c5cd4fc553bc1c20376ea38 & 0 & FALSE\\\\\n",
       "\t zzzzzyx\\_sports-social-network & 4 & 573 & 0 & 1 & 42 & 2 & f3666b54bce3cf144b87dbf2d6fba4b3a552386f & 0 & FALSE\\\\\n",
       "\t zzzzzyx\\_sports-social-network & 4 & 573 & 0 & 1 & 42 & 2 & f405d94817a3a1f0b6740ca39e057734bc1f6bb2 & 0 & FALSE\\\\\n",
       "\t zzzzzyx\\_sports-social-network & 4 & 573 & 0 & 1 & 42 & 2 & f45aa3014706bb6c749ca9a53764dfde32095e7b & 0 & FALSE\\\\\n",
       "\t zzzzzyx\\_sports-social-network & 4 & 573 & 0 & 1 & 42 & 2 & f5c26e4232015526d29e1c32b2f5e7b5450eadcb & 0 & FALSE\\\\\n",
       "\t zzzzzyx\\_sports-social-network & 4 & 573 & 0 & 1 & 42 & 2 & f5f8fb091bff985fb49e064beda8adec942b2052 & 0 & FALSE\\\\\n",
       "\t zzzzzyx\\_sports-social-network & 4 & 573 & 0 & 1 & 42 & 2 & f6c915d7aca4b321461057f720135c6ad96104d6 & 0 & FALSE\\\\\n",
       "\t zzzzzyx\\_sports-social-network & 4 & 573 & 0 & 1 & 42 & 2 & f704498f6bd4ea1427c953a700ceaa56feed7d8e & 4 &  TRUE\\\\\n",
       "\t zzzzzyx\\_sports-social-network & 4 & 573 & 0 & 1 & 42 & 2 & f85caaeaa2215dd2f995422d564473c569696278 & 0 & FALSE\\\\\n",
       "\t zzzzzyx\\_sports-social-network & 4 & 573 & 0 & 1 & 42 & 2 & fa6fef2c1e7faa786f0082c78b3c6b878496d503 & 0 & FALSE\\\\\n",
       "\t zzzzzyx\\_sports-social-network & 4 & 573 & 0 & 1 & 42 & 2 & fd1bd37588bb7b0040e6e9b0c04a02ed9b567a7f & 0 & FALSE\\\\\n",
       "\t zzzzzyx\\_sports-social-network & 4 & 573 & 0 & 1 & 42 & 2 & fd571366fc2563d79ca29bf1c32e1220c385c03e & 0 & FALSE\\\\\n",
       "\t zzzzzyx\\_sports-social-network & 4 & 573 & 0 & 1 & 42 & 2 & fdc56e4392b78015369bd3f2bb42502655e251ab & 0 & FALSE\\\\\n",
       "\t zzzzzyx\\_sports-social-network & 4 & 573 & 0 & 1 & 42 & 2 & fdf607a9023eae853c6feb12ff54f8b6b15eec72 & 0 & FALSE\\\\\n",
       "\t zzzzzyx\\_sports-social-network & 4 & 573 & 0 & 1 & 42 & 2 & fe0f97a2b6770d44305504ce68ae94f52188e296 & 0 & FALSE\\\\\n",
       "\t zzzzzyx\\_sports-social-network & 4 & 573 & 0 & 1 & 42 & 2 & ff3a7a0b9537f1cf99e6446bdac13bf9350a123d & 0 & FALSE\\\\\n",
       "\t zzzzzzzz3\\_learngit            & 1 &   7 & 0 & 1 &  7 & 2 & 2114bcd2a783fc0631d47d8dabac3e264742584b & 0 & FALSE\\\\\n",
       "\t zzzzzzzz3\\_learngit            & 1 &   7 & 0 & 1 &  7 & 2 & 3ddb77119f2cdda5aff50359b6575590a8f35759 & 0 & FALSE\\\\\n",
       "\t zzzzzzzz3\\_learngit            & 1 &   7 & 0 & 1 &  7 & 2 & 69a85ffcd2c38545cdfce043af62836648490709 & 0 & FALSE\\\\\n",
       "\t zzzzzzzz3\\_learngit            & 1 &   7 & 0 & 1 &  7 & 2 & c335390fac605a96e915427d0dcecfcec6399005 & 0 & FALSE\\\\\n",
       "\t zzzzzzzz3\\_learngit            & 1 &   7 & 0 & 1 &  7 & 2 & feb27dededf15583ee09f5cc03cc47097a5b2de0 & 2 &  TRUE\\\\\n",
       "\\end{tabular}\n"
      ],
      "text/markdown": [
       "\n",
       "A data.frame: 337392376 x 10\n",
       "\n",
       "| p &lt;fct&gt; | nmc &lt;int&gt; | nblob &lt;int&gt; | nsa &lt;int&gt; | ncore &lt;int&gt; | ncmt &lt;int&gt; | na &lt;int&gt; | blob &lt;fct&gt; | ncopy &lt;int&gt; | copied &lt;lgl&gt; |\n",
       "|---|---|---|---|---|---|---|---|---|---|\n",
       "| 0-1-0-8_Bookers2        | 5 | 132 | 0 | 1 | 15 | 1 | 03c5b9f05cf710eb586d7fb7d4fcf7c34675bfe4 | 0 | FALSE |\n",
       "| 0-1-0-8_Bookers2        | 5 | 132 | 0 | 1 | 15 | 1 | 0b6042f24417310432de19aa9d9327f37309b1a9 | 3 |  TRUE |\n",
       "| 0-1-0-8_Bookers2        | 5 | 132 | 0 | 1 | 15 | 1 | 0d183e0f7646f43fc32c1a6cfd1d67ac2b7d2bf5 | 0 | FALSE |\n",
       "| 0-1-0-8_Bookers2        | 5 | 132 | 0 | 1 | 15 | 1 | 1136f94ab671a4eb5bce23349433dd490949621c | 0 | FALSE |\n",
       "| 0-1-0-8_Bookers2        | 5 | 132 | 0 | 1 | 15 | 1 | 18d92dcc29fef04d881deb400aee41735833ceda | 1 |  TRUE |\n",
       "| 0-1-0-8_Bookers2        | 5 | 132 | 0 | 1 | 15 | 1 | 3167367e5004c685fd93e6aaa42c3f5722798620 | 0 | FALSE |\n",
       "| 0-1-0-8_Bookers2        | 5 | 132 | 0 | 1 | 15 | 1 | 34d0a0a2ba580f87dba99cc7c10c330998dd3256 | 0 | FALSE |\n",
       "| 0-1-0-8_Bookers2        | 5 | 132 | 0 | 1 | 15 | 1 | 3939e4da677f6c7fa4bddd98c80bb0fa97baed13 | 0 | FALSE |\n",
       "| 0-1-0-8_Bookers2        | 5 | 132 | 0 | 1 | 15 | 1 | 3aecaa99ff71a1048c19f8e664fd7a7316ce0778 | 0 | FALSE |\n",
       "| 0-1-0-8_Bookers2        | 5 | 132 | 0 | 1 | 15 | 1 | 50d8e201429dd96bb3e876d7b73f556f175c86a5 | 0 | FALSE |\n",
       "| 0-1-0-8_Bookers2        | 5 | 132 | 0 | 1 | 15 | 1 | 6bcd7d9cad517e81e521aeb85650eda1d5682c76 | 0 | FALSE |\n",
       "| 0-1-0-8_Bookers2        | 5 | 132 | 0 | 1 | 15 | 1 | 767823bd1c7ffb02368e951ba96aa150f7400191 | 0 | FALSE |\n",
       "| 0-1-0-8_Bookers2        | 5 | 132 | 0 | 1 | 15 | 1 | 86ad581dc40f5b264d88c448fbfde3c69df24db6 | 0 | FALSE |\n",
       "| 0-1-0-8_Bookers2        | 5 | 132 | 0 | 1 | 15 | 1 | 95f6118653f285939ce5fd38aa49a92a41a0e0b0 | 0 | FALSE |\n",
       "| 0-1-0-8_Bookers2        | 5 | 132 | 0 | 1 | 15 | 1 | a0399a5300b46501b6fce3bea2e08e6900aa3025 | 0 | FALSE |\n",
       "| 0-1-0-8_Bookers2        | 5 | 132 | 0 | 1 | 15 | 1 | ad2db789f925d2696e0727b26decf23d27cf26b7 | 0 | FALSE |\n",
       "| 0-1-0-8_Bookers2        | 5 | 132 | 0 | 1 | 15 | 1 | b85a65226b42976c51b564f5fb730593957d6488 | 0 | FALSE |\n",
       "| 0-1-0-8_Bookers2        | 5 | 132 | 0 | 1 | 15 | 1 | d0ddbbf29e81e0983bd20dbdfb66cd811697872d | 0 | FALSE |\n",
       "| 0-1-0-8_Bookers2        | 5 | 132 | 0 | 1 | 15 | 1 | d13e2c6a52efc7a97d0e572c0da64305eebb2fe5 | 0 | FALSE |\n",
       "| 0-1-0-8_Bookers2        | 5 | 132 | 0 | 1 | 15 | 1 | d484d083b58bc5cdbb0b2afd434f5685851e7b4f | 0 | FALSE |\n",
       "| 0-1-0-8_Bookers2        | 5 | 132 | 0 | 1 | 15 | 1 | dd56e7c93867ad8d6899635ae196fd3601746be1 | 0 | FALSE |\n",
       "| 0-1-0-8_Bookers2        | 5 | 132 | 0 | 1 | 15 | 1 | e084e48eb421dff8ff03be5302357c6abfbcf1ca | 0 | FALSE |\n",
       "| 0-1-0-8_Bookers2        | 5 | 132 | 0 | 1 | 15 | 1 | e975289072631e36fd218f399a6474e06fcd6de7 | 0 | FALSE |\n",
       "| 0-1-0-8_Bookers2        | 5 | 132 | 0 | 1 | 15 | 1 | ea22fcdd436bece52878eaef7cc236095159262d | 0 | FALSE |\n",
       "| 0-1-0-8_Bookers2        | 5 | 132 | 0 | 1 | 15 | 1 | ea4343d4e74d2fa2c1ed7cf4fa6ad96c18f53488 | 0 | FALSE |\n",
       "| 0-1-0-8_Bookers2        | 5 | 132 | 0 | 1 | 15 | 1 | efbbdd0db8f6e674df1f1137f50b693735a35a41 | 0 | FALSE |\n",
       "| 0-1-0-8_Bookers2        | 5 | 132 | 0 | 1 | 15 | 1 | f107dbafb66c5b39f11d56534fb138c32f16ebf7 | 0 | FALSE |\n",
       "| 0-1123_rails-wikinimous | 1 |  86 | 0 | 1 |  3 | 1 | 0b409e8ad05d667383591f58abbc4fc2e3753ce7 | 0 | FALSE |\n",
       "| 0-1123_rails-wikinimous | 1 |  86 | 0 | 1 |  3 | 1 | 168cc5f92f3c165716d2df98207d54e73efb3eea | 0 | FALSE |\n",
       "| 0-1123_rails-wikinimous | 1 |  86 | 0 | 1 |  3 | 1 | 1babc77189a1188f0ccf0ba4751b4fa5a6ee337c | 0 | FALSE |\n",
       "| ... | ... | ... | ... | ... | ... | ... | ... | ... | ... |\n",
       "| zzzzzyx_sports-social-network | 4 | 573 | 0 | 1 | 42 | 2 | ebb56ea9135a4f9864c75e8ad26315b4c433a867 | 0 | FALSE |\n",
       "| zzzzzyx_sports-social-network | 4 | 573 | 0 | 1 | 42 | 2 | ebbaefa3b04a9ec337f8fb88a3b801a639daaafe | 0 | FALSE |\n",
       "| zzzzzyx_sports-social-network | 4 | 573 | 0 | 1 | 42 | 2 | ed0b84964a4600a559bd38ed76337f56c9573eb3 | 0 | FALSE |\n",
       "| zzzzzyx_sports-social-network | 4 | 573 | 0 | 1 | 42 | 2 | ed33d1b5b8dfa3186992a6ffa761a9922388e734 | 0 | FALSE |\n",
       "| zzzzzyx_sports-social-network | 4 | 573 | 0 | 1 | 42 | 2 | f0df7e9cc976c19cfa42f18fd8876f7657180cfc | 0 | FALSE |\n",
       "| zzzzzyx_sports-social-network | 4 | 573 | 0 | 1 | 42 | 2 | f0dfcbb840da25dbc03f8bdd435d3432c6d82123 | 0 | FALSE |\n",
       "| zzzzzyx_sports-social-network | 4 | 573 | 0 | 1 | 42 | 2 | f1e1e082c3162e3ae7e29b9290658bf0ac187c6c | 0 | FALSE |\n",
       "| zzzzzyx_sports-social-network | 4 | 573 | 0 | 1 | 42 | 2 | f1f83e501f64a440b67db2e562f8c603ad02584f | 0 | FALSE |\n",
       "| zzzzzyx_sports-social-network | 4 | 573 | 0 | 1 | 42 | 2 | f1faa1e2b3f84371c26ed8cf191206b11915f16a | 0 | FALSE |\n",
       "| zzzzzyx_sports-social-network | 4 | 573 | 0 | 1 | 42 | 2 | f2ac789f92ed839f8c5cd4fc553bc1c20376ea38 | 0 | FALSE |\n",
       "| zzzzzyx_sports-social-network | 4 | 573 | 0 | 1 | 42 | 2 | f3666b54bce3cf144b87dbf2d6fba4b3a552386f | 0 | FALSE |\n",
       "| zzzzzyx_sports-social-network | 4 | 573 | 0 | 1 | 42 | 2 | f405d94817a3a1f0b6740ca39e057734bc1f6bb2 | 0 | FALSE |\n",
       "| zzzzzyx_sports-social-network | 4 | 573 | 0 | 1 | 42 | 2 | f45aa3014706bb6c749ca9a53764dfde32095e7b | 0 | FALSE |\n",
       "| zzzzzyx_sports-social-network | 4 | 573 | 0 | 1 | 42 | 2 | f5c26e4232015526d29e1c32b2f5e7b5450eadcb | 0 | FALSE |\n",
       "| zzzzzyx_sports-social-network | 4 | 573 | 0 | 1 | 42 | 2 | f5f8fb091bff985fb49e064beda8adec942b2052 | 0 | FALSE |\n",
       "| zzzzzyx_sports-social-network | 4 | 573 | 0 | 1 | 42 | 2 | f6c915d7aca4b321461057f720135c6ad96104d6 | 0 | FALSE |\n",
       "| zzzzzyx_sports-social-network | 4 | 573 | 0 | 1 | 42 | 2 | f704498f6bd4ea1427c953a700ceaa56feed7d8e | 4 |  TRUE |\n",
       "| zzzzzyx_sports-social-network | 4 | 573 | 0 | 1 | 42 | 2 | f85caaeaa2215dd2f995422d564473c569696278 | 0 | FALSE |\n",
       "| zzzzzyx_sports-social-network | 4 | 573 | 0 | 1 | 42 | 2 | fa6fef2c1e7faa786f0082c78b3c6b878496d503 | 0 | FALSE |\n",
       "| zzzzzyx_sports-social-network | 4 | 573 | 0 | 1 | 42 | 2 | fd1bd37588bb7b0040e6e9b0c04a02ed9b567a7f | 0 | FALSE |\n",
       "| zzzzzyx_sports-social-network | 4 | 573 | 0 | 1 | 42 | 2 | fd571366fc2563d79ca29bf1c32e1220c385c03e | 0 | FALSE |\n",
       "| zzzzzyx_sports-social-network | 4 | 573 | 0 | 1 | 42 | 2 | fdc56e4392b78015369bd3f2bb42502655e251ab | 0 | FALSE |\n",
       "| zzzzzyx_sports-social-network | 4 | 573 | 0 | 1 | 42 | 2 | fdf607a9023eae853c6feb12ff54f8b6b15eec72 | 0 | FALSE |\n",
       "| zzzzzyx_sports-social-network | 4 | 573 | 0 | 1 | 42 | 2 | fe0f97a2b6770d44305504ce68ae94f52188e296 | 0 | FALSE |\n",
       "| zzzzzyx_sports-social-network | 4 | 573 | 0 | 1 | 42 | 2 | ff3a7a0b9537f1cf99e6446bdac13bf9350a123d | 0 | FALSE |\n",
       "| zzzzzzzz3_learngit            | 1 |   7 | 0 | 1 |  7 | 2 | 2114bcd2a783fc0631d47d8dabac3e264742584b | 0 | FALSE |\n",
       "| zzzzzzzz3_learngit            | 1 |   7 | 0 | 1 |  7 | 2 | 3ddb77119f2cdda5aff50359b6575590a8f35759 | 0 | FALSE |\n",
       "| zzzzzzzz3_learngit            | 1 |   7 | 0 | 1 |  7 | 2 | 69a85ffcd2c38545cdfce043af62836648490709 | 0 | FALSE |\n",
       "| zzzzzzzz3_learngit            | 1 |   7 | 0 | 1 |  7 | 2 | c335390fac605a96e915427d0dcecfcec6399005 | 0 | FALSE |\n",
       "| zzzzzzzz3_learngit            | 1 |   7 | 0 | 1 |  7 | 2 | feb27dededf15583ee09f5cc03cc47097a5b2de0 | 2 |  TRUE |\n",
       "\n"
      ],
      "text/plain": [
       "          p                             nmc nblob nsa ncore ncmt na \n",
       "1         0-1-0-8_Bookers2              5   132   0   1     15   1  \n",
       "2         0-1-0-8_Bookers2              5   132   0   1     15   1  \n",
       "3         0-1-0-8_Bookers2              5   132   0   1     15   1  \n",
       "4         0-1-0-8_Bookers2              5   132   0   1     15   1  \n",
       "5         0-1-0-8_Bookers2              5   132   0   1     15   1  \n",
       "6         0-1-0-8_Bookers2              5   132   0   1     15   1  \n",
       "7         0-1-0-8_Bookers2              5   132   0   1     15   1  \n",
       "8         0-1-0-8_Bookers2              5   132   0   1     15   1  \n",
       "9         0-1-0-8_Bookers2              5   132   0   1     15   1  \n",
       "10        0-1-0-8_Bookers2              5   132   0   1     15   1  \n",
       "11        0-1-0-8_Bookers2              5   132   0   1     15   1  \n",
       "12        0-1-0-8_Bookers2              5   132   0   1     15   1  \n",
       "13        0-1-0-8_Bookers2              5   132   0   1     15   1  \n",
       "14        0-1-0-8_Bookers2              5   132   0   1     15   1  \n",
       "15        0-1-0-8_Bookers2              5   132   0   1     15   1  \n",
       "16        0-1-0-8_Bookers2              5   132   0   1     15   1  \n",
       "17        0-1-0-8_Bookers2              5   132   0   1     15   1  \n",
       "18        0-1-0-8_Bookers2              5   132   0   1     15   1  \n",
       "19        0-1-0-8_Bookers2              5   132   0   1     15   1  \n",
       "20        0-1-0-8_Bookers2              5   132   0   1     15   1  \n",
       "21        0-1-0-8_Bookers2              5   132   0   1     15   1  \n",
       "22        0-1-0-8_Bookers2              5   132   0   1     15   1  \n",
       "23        0-1-0-8_Bookers2              5   132   0   1     15   1  \n",
       "24        0-1-0-8_Bookers2              5   132   0   1     15   1  \n",
       "25        0-1-0-8_Bookers2              5   132   0   1     15   1  \n",
       "26        0-1-0-8_Bookers2              5   132   0   1     15   1  \n",
       "27        0-1-0-8_Bookers2              5   132   0   1     15   1  \n",
       "28        0-1123_rails-wikinimous       1    86   0   1      3   1  \n",
       "29        0-1123_rails-wikinimous       1    86   0   1      3   1  \n",
       "30        0-1123_rails-wikinimous       1    86   0   1      3   1  \n",
       "...       ...                           ... ...   ... ...   ...  ...\n",
       "337392347 zzzzzyx_sports-social-network 4   573   0   1     42   2  \n",
       "337392348 zzzzzyx_sports-social-network 4   573   0   1     42   2  \n",
       "337392349 zzzzzyx_sports-social-network 4   573   0   1     42   2  \n",
       "337392350 zzzzzyx_sports-social-network 4   573   0   1     42   2  \n",
       "337392351 zzzzzyx_sports-social-network 4   573   0   1     42   2  \n",
       "337392352 zzzzzyx_sports-social-network 4   573   0   1     42   2  \n",
       "337392353 zzzzzyx_sports-social-network 4   573   0   1     42   2  \n",
       "337392354 zzzzzyx_sports-social-network 4   573   0   1     42   2  \n",
       "337392355 zzzzzyx_sports-social-network 4   573   0   1     42   2  \n",
       "337392356 zzzzzyx_sports-social-network 4   573   0   1     42   2  \n",
       "337392357 zzzzzyx_sports-social-network 4   573   0   1     42   2  \n",
       "337392358 zzzzzyx_sports-social-network 4   573   0   1     42   2  \n",
       "337392359 zzzzzyx_sports-social-network 4   573   0   1     42   2  \n",
       "337392360 zzzzzyx_sports-social-network 4   573   0   1     42   2  \n",
       "337392361 zzzzzyx_sports-social-network 4   573   0   1     42   2  \n",
       "337392362 zzzzzyx_sports-social-network 4   573   0   1     42   2  \n",
       "337392363 zzzzzyx_sports-social-network 4   573   0   1     42   2  \n",
       "337392364 zzzzzyx_sports-social-network 4   573   0   1     42   2  \n",
       "337392365 zzzzzyx_sports-social-network 4   573   0   1     42   2  \n",
       "337392366 zzzzzyx_sports-social-network 4   573   0   1     42   2  \n",
       "337392367 zzzzzyx_sports-social-network 4   573   0   1     42   2  \n",
       "337392368 zzzzzyx_sports-social-network 4   573   0   1     42   2  \n",
       "337392369 zzzzzyx_sports-social-network 4   573   0   1     42   2  \n",
       "337392370 zzzzzyx_sports-social-network 4   573   0   1     42   2  \n",
       "337392371 zzzzzyx_sports-social-network 4   573   0   1     42   2  \n",
       "337392372 zzzzzzzz3_learngit            1     7   0   1      7   2  \n",
       "337392373 zzzzzzzz3_learngit            1     7   0   1      7   2  \n",
       "337392374 zzzzzzzz3_learngit            1     7   0   1      7   2  \n",
       "337392375 zzzzzzzz3_learngit            1     7   0   1      7   2  \n",
       "337392376 zzzzzzzz3_learngit            1     7   0   1      7   2  \n",
       "          blob                                     ncopy copied\n",
       "1         03c5b9f05cf710eb586d7fb7d4fcf7c34675bfe4 0     FALSE \n",
       "2         0b6042f24417310432de19aa9d9327f37309b1a9 3      TRUE \n",
       "3         0d183e0f7646f43fc32c1a6cfd1d67ac2b7d2bf5 0     FALSE \n",
       "4         1136f94ab671a4eb5bce23349433dd490949621c 0     FALSE \n",
       "5         18d92dcc29fef04d881deb400aee41735833ceda 1      TRUE \n",
       "6         3167367e5004c685fd93e6aaa42c3f5722798620 0     FALSE \n",
       "7         34d0a0a2ba580f87dba99cc7c10c330998dd3256 0     FALSE \n",
       "8         3939e4da677f6c7fa4bddd98c80bb0fa97baed13 0     FALSE \n",
       "9         3aecaa99ff71a1048c19f8e664fd7a7316ce0778 0     FALSE \n",
       "10        50d8e201429dd96bb3e876d7b73f556f175c86a5 0     FALSE \n",
       "11        6bcd7d9cad517e81e521aeb85650eda1d5682c76 0     FALSE \n",
       "12        767823bd1c7ffb02368e951ba96aa150f7400191 0     FALSE \n",
       "13        86ad581dc40f5b264d88c448fbfde3c69df24db6 0     FALSE \n",
       "14        95f6118653f285939ce5fd38aa49a92a41a0e0b0 0     FALSE \n",
       "15        a0399a5300b46501b6fce3bea2e08e6900aa3025 0     FALSE \n",
       "16        ad2db789f925d2696e0727b26decf23d27cf26b7 0     FALSE \n",
       "17        b85a65226b42976c51b564f5fb730593957d6488 0     FALSE \n",
       "18        d0ddbbf29e81e0983bd20dbdfb66cd811697872d 0     FALSE \n",
       "19        d13e2c6a52efc7a97d0e572c0da64305eebb2fe5 0     FALSE \n",
       "20        d484d083b58bc5cdbb0b2afd434f5685851e7b4f 0     FALSE \n",
       "21        dd56e7c93867ad8d6899635ae196fd3601746be1 0     FALSE \n",
       "22        e084e48eb421dff8ff03be5302357c6abfbcf1ca 0     FALSE \n",
       "23        e975289072631e36fd218f399a6474e06fcd6de7 0     FALSE \n",
       "24        ea22fcdd436bece52878eaef7cc236095159262d 0     FALSE \n",
       "25        ea4343d4e74d2fa2c1ed7cf4fa6ad96c18f53488 0     FALSE \n",
       "26        efbbdd0db8f6e674df1f1137f50b693735a35a41 0     FALSE \n",
       "27        f107dbafb66c5b39f11d56534fb138c32f16ebf7 0     FALSE \n",
       "28        0b409e8ad05d667383591f58abbc4fc2e3753ce7 0     FALSE \n",
       "29        168cc5f92f3c165716d2df98207d54e73efb3eea 0     FALSE \n",
       "30        1babc77189a1188f0ccf0ba4751b4fa5a6ee337c 0     FALSE \n",
       "...       ...                                      ...   ...   \n",
       "337392347 ebb56ea9135a4f9864c75e8ad26315b4c433a867 0     FALSE \n",
       "337392348 ebbaefa3b04a9ec337f8fb88a3b801a639daaafe 0     FALSE \n",
       "337392349 ed0b84964a4600a559bd38ed76337f56c9573eb3 0     FALSE \n",
       "337392350 ed33d1b5b8dfa3186992a6ffa761a9922388e734 0     FALSE \n",
       "337392351 f0df7e9cc976c19cfa42f18fd8876f7657180cfc 0     FALSE \n",
       "337392352 f0dfcbb840da25dbc03f8bdd435d3432c6d82123 0     FALSE \n",
       "337392353 f1e1e082c3162e3ae7e29b9290658bf0ac187c6c 0     FALSE \n",
       "337392354 f1f83e501f64a440b67db2e562f8c603ad02584f 0     FALSE \n",
       "337392355 f1faa1e2b3f84371c26ed8cf191206b11915f16a 0     FALSE \n",
       "337392356 f2ac789f92ed839f8c5cd4fc553bc1c20376ea38 0     FALSE \n",
       "337392357 f3666b54bce3cf144b87dbf2d6fba4b3a552386f 0     FALSE \n",
       "337392358 f405d94817a3a1f0b6740ca39e057734bc1f6bb2 0     FALSE \n",
       "337392359 f45aa3014706bb6c749ca9a53764dfde32095e7b 0     FALSE \n",
       "337392360 f5c26e4232015526d29e1c32b2f5e7b5450eadcb 0     FALSE \n",
       "337392361 f5f8fb091bff985fb49e064beda8adec942b2052 0     FALSE \n",
       "337392362 f6c915d7aca4b321461057f720135c6ad96104d6 0     FALSE \n",
       "337392363 f704498f6bd4ea1427c953a700ceaa56feed7d8e 4      TRUE \n",
       "337392364 f85caaeaa2215dd2f995422d564473c569696278 0     FALSE \n",
       "337392365 fa6fef2c1e7faa786f0082c78b3c6b878496d503 0     FALSE \n",
       "337392366 fd1bd37588bb7b0040e6e9b0c04a02ed9b567a7f 0     FALSE \n",
       "337392367 fd571366fc2563d79ca29bf1c32e1220c385c03e 0     FALSE \n",
       "337392368 fdc56e4392b78015369bd3f2bb42502655e251ab 0     FALSE \n",
       "337392369 fdf607a9023eae853c6feb12ff54f8b6b15eec72 0     FALSE \n",
       "337392370 fe0f97a2b6770d44305504ce68ae94f52188e296 0     FALSE \n",
       "337392371 ff3a7a0b9537f1cf99e6446bdac13bf9350a123d 0     FALSE \n",
       "337392372 2114bcd2a783fc0631d47d8dabac3e264742584b 0     FALSE \n",
       "337392373 3ddb77119f2cdda5aff50359b6575590a8f35759 0     FALSE \n",
       "337392374 69a85ffcd2c38545cdfce043af62836648490709 0     FALSE \n",
       "337392375 c335390fac605a96e915427d0dcecfcec6399005 0     FALSE \n",
       "337392376 feb27dededf15583ee09f5cc03cc47097a5b2de0 2      TRUE "
      ]
     },
     "metadata": {},
     "output_type": "display_data"
    }
   ],
   "source": [
    "data"
   ]
  },
  {
   "cell_type": "code",
   "execution_count": 6,
   "id": "a316061e",
   "metadata": {},
   "outputs": [
    {
     "data": {
      "text/plain": [
       "                             p                  nmc             nblob        \n",
       " binary-com_binary-static     :  8894026   Min.   :  0.00   Min.   :      1  \n",
       " raphaelvigee_velib           :  7281654   1st Qu.:  3.00   1st Qu.:   1410  \n",
       " Internet2_grouper            :  4059018   Median :  9.00   Median :  10840  \n",
       " allardais_allardais.github.io:  3078049   Mean   : 28.19   Mean   : 647157  \n",
       " chenzuoli_chenzuoli.github.io:  2706388   3rd Qu.: 30.00   3rd Qu.: 115640  \n",
       " qgis_pyqgis                  :  2340082   Max.   :333.00   Max.   :8971506  \n",
       " (Other)                      :309033159                                     \n",
       "      nsa               ncore              ncmt              na         \n",
       " Min.   :     0.0   Min.   :   1      Min.   :     1   Min.   :    1.0  \n",
       " 1st Qu.:     0.0   1st Qu.:   1      1st Qu.:    29   1st Qu.:    1.0  \n",
       " Median :     0.0   Median :   1      Median :   164   Median :    2.0  \n",
       " Mean   :   535.5   Mean   :  49      Mean   : 22366   Mean   :  302.5  \n",
       " 3rd Qu.:     5.0   3rd Qu.:   3      3rd Qu.:  1774   3rd Qu.:    8.0  \n",
       " Max.   :125225.0   Max.   :5578      Max.   :786618   Max.   :19272.0  \n",
       "                    NA's   :2516075                    NA's   :2526077  \n",
       "                                       blob               ncopy         \n",
       " 02745d9947a8bb6f08eb69f3aca9ef4f3b93450e:        3   Min.   :     0.0  \n",
       " 0950189a74420d2ff9346e026f448cd893c568d1:        3   1st Qu.:     0.0  \n",
       " 0ce74c285fadd5a062cae5f5a57f5606ac2fcf69:        3   Median :     0.0  \n",
       " 0cf9a4938f1e00ec7460355dc57b02081fd7a77d:        3   Mean   :     1.3  \n",
       " 13c16abd9454b2515a63d34dc0f34e6cd7dabf0a:        3   3rd Qu.:     0.0  \n",
       " 16dae32b35f90f632977e6599d3da89a6ab16095:        3   Max.   :332411.0  \n",
       " (Other)                                 :337392358                     \n",
       "   copied         \n",
       " Mode :logical    \n",
       " FALSE:309751870  \n",
       " TRUE :27640506   \n",
       "                  \n",
       "                  \n",
       "                  \n",
       "                  "
      ]
     },
     "metadata": {},
     "output_type": "display_data"
    }
   ],
   "source": [
    "summary(data)"
   ]
  },
  {
   "cell_type": "code",
   "execution_count": 4,
   "id": "6db5177a",
   "metadata": {},
   "outputs": [],
   "source": [
    "data$lnmc <- log(data$nmc + 1)\n",
    "data$lnblob <- log(data$nblob + 1)\n",
    "data$lnsa <- log(data$nsa + 1)\n",
    "data$lncore <- log(data$ncore + 1)\n",
    "data$lncmt <- log(data$ncmt + 1)\n",
    "data$lna <- log(data$na + 1)\n",
    "data$lncopy <- log(data$ncopy + 1)"
   ]
  },
  {
   "cell_type": "code",
   "execution_count": 5,
   "id": "880d42b5",
   "metadata": {},
   "outputs": [],
   "source": [
    "nas <- which(is.na(data$ncore) | is.na(data$na))"
   ]
  },
  {
   "cell_type": "code",
   "execution_count": 6,
   "id": "39f77b5e",
   "metadata": {},
   "outputs": [],
   "source": [
    "data_c <- data[-nas,c(\"p\",\"lnmc\",\"lnblob\",\"lnsa\",\"lncore\",\"lncmt\",\"lna\",\"copied\",\"lncopy\")]"
   ]
  },
  {
   "cell_type": "code",
   "execution_count": 7,
   "id": "0b2da560",
   "metadata": {
    "scrolled": false
   },
   "outputs": [
    {
     "data": {
      "text/plain": [
       "                             p                  lnmc           lnblob       \n",
       " binary-com_binary-static     :  8894026   Min.   :0.000   Min.   : 0.6931  \n",
       " raphaelvigee_velib           :  7281654   1st Qu.:1.386   1st Qu.: 7.2442  \n",
       " Internet2_grouper            :  4059018   Median :2.303   Median : 9.2789  \n",
       " allardais_allardais.github.io:  3078049   Mean   :2.436   Mean   : 9.5938  \n",
       " chenzuoli_chenzuoli.github.io:  2706388   3rd Qu.:3.434   3rd Qu.:11.6236  \n",
       " qgis_pyqgis                  :  2340082   Max.   :5.811   Max.   :16.0096  \n",
       " (Other)                      :306507012                                    \n",
       "      lnsa            lncore           lncmt              lna        \n",
       " Min.   : 0.000   Min.   :0.6931   Min.   : 0.6931   Min.   :0.6931  \n",
       " 1st Qu.: 0.000   1st Qu.:0.6931   1st Qu.: 3.4340   1st Qu.:0.6931  \n",
       " Median : 0.000   Median :0.6931   Median : 5.1180   Median :1.0986  \n",
       " Mean   : 1.379   Mean   :1.2985   Mean   : 5.6442   Mean   :1.9557  \n",
       " 3rd Qu.: 1.792   3rd Qu.:1.3863   3rd Qu.: 7.4816   3rd Qu.:2.1972  \n",
       " Max.   :11.738   Max.   :8.6268   Max.   :13.5755   Max.   :9.8665  \n",
       "                                                                     \n",
       "   copied              lncopy        \n",
       " Mode :logical     Min.   : 0.00000  \n",
       " FALSE:307410321   1st Qu.: 0.00000  \n",
       " TRUE :27455908    Median : 0.00000  \n",
       "                   Mean   : 0.09335  \n",
       "                   3rd Qu.: 0.00000  \n",
       "                   Max.   :12.71413  \n",
       "                                     "
      ]
     },
     "metadata": {},
     "output_type": "display_data"
    }
   ],
   "source": [
    "summary(data_c)"
   ]
  },
  {
   "cell_type": "code",
   "execution_count": 9,
   "id": "07692cf5",
   "metadata": {},
   "outputs": [],
   "source": [
    "pred_n <- c(2:7)"
   ]
  },
  {
   "cell_type": "code",
   "execution_count": 10,
   "id": "471eb934",
   "metadata": {},
   "outputs": [
    {
     "data": {
      "text/html": [
       "<table class=\"dataframe\">\n",
       "<caption>A matrix: 6 x 6 of type dbl</caption>\n",
       "<thead>\n",
       "\t<tr><th></th><th scope=col>lnmc</th><th scope=col>lnblob</th><th scope=col>lnsa</th><th scope=col>lncore</th><th scope=col>lncmt</th><th scope=col>lna</th></tr>\n",
       "</thead>\n",
       "<tbody>\n",
       "\t<tr><th scope=row>lnmc</th><td>1.0000000</td><td>0.4988307</td><td>0.6247639</td><td>0.4766805</td><td>0.8391714</td><td>0.6755552</td></tr>\n",
       "\t<tr><th scope=row>lnblob</th><td>0.4988307</td><td>1.0000000</td><td>0.3324898</td><td>0.2864866</td><td>0.5823991</td><td>0.3699725</td></tr>\n",
       "\t<tr><th scope=row>lnsa</th><td>0.6247639</td><td>0.3324898</td><td>1.0000000</td><td>0.4546300</td><td>0.5374578</td><td>0.5957879</td></tr>\n",
       "\t<tr><th scope=row>lncore</th><td>0.4766805</td><td>0.2864866</td><td>0.4546300</td><td>1.0000000</td><td>0.5276148</td><td>0.8065323</td></tr>\n",
       "\t<tr><th scope=row>lncmt</th><td>0.8391714</td><td>0.5823991</td><td>0.5374578</td><td>0.5276148</td><td>1.0000000</td><td>0.6962915</td></tr>\n",
       "\t<tr><th scope=row>lna</th><td>0.6755552</td><td>0.3699725</td><td>0.5957879</td><td>0.8065323</td><td>0.6962915</td><td>1.0000000</td></tr>\n",
       "</tbody>\n",
       "</table>\n"
      ],
      "text/latex": [
       "A matrix: 6 x 6 of type dbl\n",
       "\\begin{tabular}{r|llllll}\n",
       "  & lnmc & lnblob & lnsa & lncore & lncmt & lna\\\\\n",
       "\\hline\n",
       "\tlnmc & 1.0000000 & 0.4988307 & 0.6247639 & 0.4766805 & 0.8391714 & 0.6755552\\\\\n",
       "\tlnblob & 0.4988307 & 1.0000000 & 0.3324898 & 0.2864866 & 0.5823991 & 0.3699725\\\\\n",
       "\tlnsa & 0.6247639 & 0.3324898 & 1.0000000 & 0.4546300 & 0.5374578 & 0.5957879\\\\\n",
       "\tlncore & 0.4766805 & 0.2864866 & 0.4546300 & 1.0000000 & 0.5276148 & 0.8065323\\\\\n",
       "\tlncmt & 0.8391714 & 0.5823991 & 0.5374578 & 0.5276148 & 1.0000000 & 0.6962915\\\\\n",
       "\tlna & 0.6755552 & 0.3699725 & 0.5957879 & 0.8065323 & 0.6962915 & 1.0000000\\\\\n",
       "\\end{tabular}\n"
      ],
      "text/markdown": [
       "\n",
       "A matrix: 6 x 6 of type dbl\n",
       "\n",
       "| <!--/--> | lnmc | lnblob | lnsa | lncore | lncmt | lna |\n",
       "|---|---|---|---|---|---|---|\n",
       "| lnmc | 1.0000000 | 0.4988307 | 0.6247639 | 0.4766805 | 0.8391714 | 0.6755552 |\n",
       "| lnblob | 0.4988307 | 1.0000000 | 0.3324898 | 0.2864866 | 0.5823991 | 0.3699725 |\n",
       "| lnsa | 0.6247639 | 0.3324898 | 1.0000000 | 0.4546300 | 0.5374578 | 0.5957879 |\n",
       "| lncore | 0.4766805 | 0.2864866 | 0.4546300 | 1.0000000 | 0.5276148 | 0.8065323 |\n",
       "| lncmt | 0.8391714 | 0.5823991 | 0.5374578 | 0.5276148 | 1.0000000 | 0.6962915 |\n",
       "| lna | 0.6755552 | 0.3699725 | 0.5957879 | 0.8065323 | 0.6962915 | 1.0000000 |\n",
       "\n"
      ],
      "text/plain": [
       "       lnmc      lnblob    lnsa      lncore    lncmt     lna      \n",
       "lnmc   1.0000000 0.4988307 0.6247639 0.4766805 0.8391714 0.6755552\n",
       "lnblob 0.4988307 1.0000000 0.3324898 0.2864866 0.5823991 0.3699725\n",
       "lnsa   0.6247639 0.3324898 1.0000000 0.4546300 0.5374578 0.5957879\n",
       "lncore 0.4766805 0.2864866 0.4546300 1.0000000 0.5276148 0.8065323\n",
       "lncmt  0.8391714 0.5823991 0.5374578 0.5276148 1.0000000 0.6962915\n",
       "lna    0.6755552 0.3699725 0.5957879 0.8065323 0.6962915 1.0000000"
      ]
     },
     "metadata": {},
     "output_type": "display_data"
    }
   ],
   "source": [
    "cor(data_c[,pred_n],method=\"spearman\")"
   ]
  },
  {
   "cell_type": "code",
   "execution_count": 11,
   "id": "32d1dbab",
   "metadata": {},
   "outputs": [],
   "source": [
    "pca <- prcomp(data_c[,pred_n], retx=F, scale=T)"
   ]
  },
  {
   "cell_type": "code",
   "execution_count": 22,
   "id": "cc49095c",
   "metadata": {},
   "outputs": [
    {
     "name": "stdout",
     "output_type": "stream",
     "text": [
      "Standard deviations (1, .., p=6):\n",
      "[1] 2.0671197 0.9052983 0.6570193 0.5420740 0.3771633 0.1991996\n",
      "\n",
      "Rotation (n x k) = (6 x 6):\n",
      "             PC1        PC2         PC3         PC4        PC5         PC6\n",
      "lnmc   0.4156489  0.1771471 -0.65582353  0.06964432 -0.5812361  0.15187048\n",
      "lnblob 0.3124790  0.7358975  0.52186259 -0.24111871 -0.1736090 -0.01388785\n",
      "lnsa   0.4110417 -0.3073638 -0.09229584 -0.79711475  0.2530869  0.16914120\n",
      "lncore 0.4110622 -0.3995671  0.45576540  0.37959455 -0.1545103  0.54377053\n",
      "lncmt  0.4297043  0.2877100 -0.24583361  0.37746971  0.7269027  0.03566801\n",
      "lna    0.4549941 -0.3002838  0.14449963  0.12265442 -0.1253418 -0.80695424\n"
     ]
    },
    {
     "data": {
      "image/png": "[encoded data removed]",
      "text/plain": [
       "plot without title"
      ]
     },
     "metadata": {
      "image/png": {
       "height": 420,
       "width": 420
      }
     },
     "output_type": "display_data"
    }
   ],
   "source": [
    "print(pca)\n",
    "var <- sum(pca$sdev^2)\n",
    "cumVar <- cumsum(pca$sdev^2)\n",
    "plot(1:6,cumVar/var,ylim=c(0,1),xlab=\"Number of coponents\",ylab=\"Fraction of variance\")"
   ]
  },
  {
   "cell_type": "code",
   "execution_count": 23,
   "id": "48ce2e19",
   "metadata": {},
   "outputs": [
    {
     "name": "stdout",
     "output_type": "stream",
     "text": [
      "         lnmc   lnblob      lnsa    lncore     lncmt       lna\n",
      "PC1 0.4156489 0.312479 0.4110417 0.4110622 0.4297043 0.4549941\n",
      "       lnblob       lnsa     lncore        lna\n",
      "PC2 0.7358975 -0.3073638 -0.3995671 -0.3002838\n",
      "          lnmc    lnblob    lncore\n",
      "PC3 -0.6558235 0.5218626 0.4557654\n"
     ]
    }
   ],
   "source": [
    "n <- 0\n",
    "varPer <- 0.9\n",
    "for (i in c(1:length(pca$sdev))) {\n",
    "    if(cumVar[i] > var*varPer) {\n",
    "        n <- i\n",
    "        break\n",
    "    }\n",
    "}\n",
    "res <- pca$rotation[,1:n]\n",
    "resAbs <- res\n",
    "resAbs[res<0] <- -res[res<0]\n",
    "for (i in 1:n)\n",
    "  print(t(res[resAbs[,i]>.3,i,drop=FALSE]));"
   ]
  },
  {
   "cell_type": "code",
   "execution_count": 27,
   "id": "8c152a82",
   "metadata": {},
   "outputs": [],
   "source": [
    "res <- c();\n",
    "vnam <- names(data_c[,pred_n]);\n",
    "for (i in 1:dim(data_c[,pred_n])[2]){\n",
    "  fmla <- as.formula(paste(vnam[i],paste(vnam[-c(1,i)],collapse=\"+\"),sep=\"~\"));\n",
    "  res <- rbind(res,c(i,round(summary(lm(fmla,data=data_c[,pred_n]))$r.squared,2)));\n",
    "}\n",
    "row.names(res) <- vnam[res[,1]];"
   ]
  },
  {
   "cell_type": "code",
   "execution_count": 28,
   "id": "9051c5c4",
   "metadata": {},
   "outputs": [
    {
     "data": {
      "text/html": [
       "<table class=\"dataframe\">\n",
       "<caption>A matrix: 6 x 2 of type dbl</caption>\n",
       "<tbody>\n",
       "\t<tr><th scope=row>lna</th><td>6</td><td>0.93</td></tr>\n",
       "\t<tr><th scope=row>lncore</th><td>4</td><td>0.87</td></tr>\n",
       "\t<tr><th scope=row>lnmc</th><td>1</td><td>0.75</td></tr>\n",
       "\t<tr><th scope=row>lnsa</th><td>3</td><td>0.71</td></tr>\n",
       "\t<tr><th scope=row>lncmt</th><td>5</td><td>0.69</td></tr>\n",
       "\t<tr><th scope=row>lnblob</th><td>2</td><td>0.42</td></tr>\n",
       "</tbody>\n",
       "</table>\n"
      ],
      "text/latex": [
       "A matrix: 6 x 2 of type dbl\n",
       "\\begin{tabular}{r|ll}\n",
       "\tlna & 6 & 0.93\\\\\n",
       "\tlncore & 4 & 0.87\\\\\n",
       "\tlnmc & 1 & 0.75\\\\\n",
       "\tlnsa & 3 & 0.71\\\\\n",
       "\tlncmt & 5 & 0.69\\\\\n",
       "\tlnblob & 2 & 0.42\\\\\n",
       "\\end{tabular}\n"
      ],
      "text/markdown": [
       "\n",
       "A matrix: 6 x 2 of type dbl\n",
       "\n",
       "| lna | 6 | 0.93 |\n",
       "| lncore | 4 | 0.87 |\n",
       "| lnmc | 1 | 0.75 |\n",
       "| lnsa | 3 | 0.71 |\n",
       "| lncmt | 5 | 0.69 |\n",
       "| lnblob | 2 | 0.42 |\n",
       "\n"
      ],
      "text/plain": [
       "       [,1] [,2]\n",
       "lna    6    0.93\n",
       "lncore 4    0.87\n",
       "lnmc   1    0.75\n",
       "lnsa   3    0.71\n",
       "lncmt  5    0.69\n",
       "lnblob 2    0.42"
      ]
     },
     "metadata": {},
     "output_type": "display_data"
    }
   ],
   "source": [
    "res[order(-res[,2]),]"
   ]
  },
  {
   "cell_type": "code",
   "execution_count": 32,
   "id": "4ec1baac",
   "metadata": {},
   "outputs": [
    {
     "data": {
      "text/plain": [
       "\n",
       "Call:\n",
       "lm(formula = lncopy ~ lnmc + lnblob + lnsa + lncmt, data = data_c)\n",
       "\n",
       "Residuals:\n",
       "    Min      1Q  Median      3Q     Max \n",
       "-0.2972 -0.1178 -0.0879 -0.0581 12.6193 \n",
       "\n",
       "Coefficients:\n",
       "              Estimate Std. Error t value Pr(>|t|)    \n",
       "(Intercept)  1.543e-01  7.320e-05  2108.5   <2e-16 ***\n",
       "lnmc        -5.165e-03  3.002e-05  -172.1   <2e-16 ***\n",
       "lnblob       3.542e-03  9.012e-06   393.0   <2e-16 ***\n",
       "lnsa         2.059e-02  1.281e-05  1606.8   <2e-16 ***\n",
       "lncmt       -1.963e-02  1.403e-05 -1399.0   <2e-16 ***\n",
       "---\n",
       "Signif. codes:  0 '***' 0.001 '**' 0.01 '*' 0.05 '.' 0.1 ' ' 1\n",
       "\n",
       "Residual standard error: 0.3925 on 334866224 degrees of freedom\n",
       "Multiple R-squared:  0.01369,\tAdjusted R-squared:  0.01369 \n",
       "F-statistic: 1.162e+06 on 4 and 334866224 DF,  p-value: < 2.2e-16\n"
      ]
     },
     "metadata": {},
     "output_type": "display_data"
    }
   ],
   "source": [
    "lm <- lm(lncopy~lnmc+lnblob+lnsa+lncmt, data=data_c)\n",
    "summary(lm)"
   ]
  },
  {
   "cell_type": "code",
   "execution_count": null,
   "id": "a087663e",
   "metadata": {},
   "outputs": [],
   "source": [
    "plot(residuals(lm, type=\"deviance\"))"
   ]
  },
  {
   "cell_type": "code",
   "execution_count": 31,
   "id": "7c144151",
   "metadata": {},
   "outputs": [
    {
     "data": {
      "text/plain": [
       "\n",
       "Call:\n",
       "glm(formula = copied ~ lnmc + lnblob + lnsa + lncmt, family = binomial, \n",
       "    data = data_c)\n",
       "\n",
       "Deviance Residuals: \n",
       "    Min       1Q   Median       3Q      Max  \n",
       "-1.0398  -0.4541  -0.3812  -0.3117   2.9735  \n",
       "\n",
       "Coefficients:\n",
       "              Estimate Std. Error z value Pr(>|z|)    \n",
       "(Intercept) -1.638e+00  6.853e-04 -2390.6   <2e-16 ***\n",
       "lnmc        -6.928e-02  3.294e-04  -210.3   <2e-16 ***\n",
       "lnblob       2.771e-02  8.227e-05   336.8   <2e-16 ***\n",
       "lnsa         2.043e-01  1.254e-04  1629.4   <2e-16 ***\n",
       "lncmt       -2.251e-01  1.527e-04 -1473.9   <2e-16 ***\n",
       "---\n",
       "Signif. codes:  0 '***' 0.001 '**' 0.01 '*' 0.05 '.' 0.1 ' ' 1\n",
       "\n",
       "(Dispersion parameter for binomial family taken to be 1)\n",
       "\n",
       "    Null deviance: 189939186  on 334866228  degrees of freedom\n",
       "Residual deviance: 183585092  on 334866224  degrees of freedom\n",
       "AIC: 183585102\n",
       "\n",
       "Number of Fisher Scoring iterations: 5\n"
      ]
     },
     "metadata": {},
     "output_type": "display_data"
    }
   ],
   "source": [
    "glm <- glm(copied~lnmc+lnblob+lnsa+lncmt,data=data_c,family=binomial)\n",
    "summary(glm)"
   ]
  },
  {
   "cell_type": "code",
   "execution_count": null,
   "id": "6e8bb53b",
   "metadata": {},
   "outputs": [],
   "source": [
    "plot(residuals(glm, type=\"deviance\"))"
   ]
  }
 ],
 "metadata": {
  "kernelspec": {
   "display_name": "R",
   "language": "R",
   "name": "ir"
  },
  "language_info": {
   "codemirror_mode": "r",
   "file_extension": ".r",
   "mimetype": "text/x-r-source",
   "name": "R",
   "pygments_lexer": "r",
   "version": "3.6.3"
  }
 },
 "nbformat": 4,
 "nbformat_minor": 5
}
