{
 "cells": [
  {
   "cell_type": "markdown",
   "id": "86ca5f86",
   "metadata": {},
   "source": [
    "# Blob-level Analysis"
   ]
  },
  {
   "cell_type": "code",
   "execution_count": 2,
   "id": "f4cdbf34",
   "metadata": {},
   "outputs": [],
   "source": [
    "x=list()\n",
    "classes=c(\"integer\",\"character\",\"numeric\",\"integer\",\"integer\")\n",
    "for(i in 0:2){\n",
    "    path=paste(\"../data/blobs/bsample.sltcd.\",i,\"y\",sep=\"\")\n",
    "    x[[i+1]]=read.table(path,sep=\";\",colClasses=classes,na.strings=c(\"null\"))\n",
    "}\n",
    "names(x)=c(\"All\",\"1y\",\"2y\")"
   ]
  },
  {
   "cell_type": "code",
   "execution_count": 3,
   "id": "6454b882",
   "metadata": {},
   "outputs": [],
   "source": [
    "for(i in 1:3){\n",
    "    names(x[[i]])=c(\"s\",\"l\",\"t\",\"c\",\"d\")\n",
    "    x[[i]]$c=as.logical(x[[i]]$c)\n",
    "    x[[i]]$b=is.na(x[[i]]$s)\n",
    "}    "
   ]
  },
  {
   "cell_type": "code",
   "execution_count": 4,
   "id": "2ee754c5",
   "metadata": {},
   "outputs": [],
   "source": [
    "tmp=list()\n",
    "for(i in 1:3) {\n",
    "    tmp[[i]]=names(table(x[[i]]$l)[table(x[[i]]$l)>100000])\n",
    "}\n",
    "tmp2=intersect(intersect(tmp[[1]],tmp[[2]]),tmp[[3]])\n",
    "for(i in 1:3) {\n",
    "    x[[i]]$ll=as.factor(ifelse(((x[[i]]$l %in% tmp2) & (x[[i]]$l != \"null\") & (x[[i]]$l != \"Unknown\")),\n",
    "                     as.character(x[[i]]$l), \"0ther\"))\n",
    "}\n",
    "ty=names(table(x[[i]]$ll))"
   ]
  },
  {
   "cell_type": "markdown",
   "id": "c83bdab9",
   "metadata": {},
   "source": [
    "## Variables\n",
    "\n",
    "- s: Size \n",
    "- l: Language\n",
    "- t: Time \n",
    "- c: Is copied\n",
    "- d: Downstream projects\n",
    "- b: Is binary"
   ]
  },
  {
   "cell_type": "code",
   "execution_count": 26,
   "id": "23da4482",
   "metadata": {
    "scrolled": true
   },
   "outputs": [
    {
     "name": "stdout",
     "output_type": "stream",
     "text": [
      "[1] \"All\"\n",
      "       s                  l                   t                 c            \n",
      " Min.   :        2   Length:122668368   Min.   :0.000e+00   Mode :logical    \n",
      " 1st Qu.:      553   Class :character   1st Qu.:1.489e+09   FALSE:114191192  \n",
      " Median :     1358   Mode  :character   Median :1.553e+09   TRUE :8477176    \n",
      " Mean   :    16637                      Mean   :1.531e+09                    \n",
      " 3rd Qu.:     4144                      3rd Qu.:1.597e+09                    \n",
      " Max.   :613836533                      Max.   :8.951e+09                    \n",
      " NA's   :27398022                                                            \n",
      "       d                b                   ll          \n",
      " Min.   :     0.0   Mode :logical    Other   :76340563  \n",
      " 1st Qu.:     0.0   FALSE:95270346   JS      :18162569  \n",
      " Median :     0.0   TRUE :27398022   java    : 5727418  \n",
      " Mean   :     1.5                    C       : 4126564  \n",
      " 3rd Qu.:     0.0                    Markdown: 3887356  \n",
      " Max.   :863568.0                    php     : 2750818  \n",
      "                                     (Other) :11673080  \n",
      "[1] \"1y\"\n",
      "       s                  l                   t                 c            \n",
      " Min.   :        2   Length:111460990   Min.   :0.000e+00   Mode :logical    \n",
      " 1st Qu.:      551   Class :character   1st Qu.:1.481e+09   FALSE:104610460  \n",
      " Median :     1344   Mode  :character   Median :1.543e+09   TRUE :6850530    \n",
      " Mean   :    16202                      Mean   :1.521e+09                    \n",
      " 3rd Qu.:     4005                      3rd Qu.:1.587e+09                    \n",
      " Max.   :613836533                      Max.   :1.620e+09                    \n",
      " NA's   :24895913                                                            \n",
      "       d                b                   ll          \n",
      " Min.   :    0.00   Mode :logical    Other   :69182893  \n",
      " 1st Qu.:    0.00   FALSE:86565077   JS      :16030494  \n",
      " Median :    0.00   TRUE :24895913   java    : 5422366  \n",
      " Mean   :    0.42                    C       : 3948413  \n",
      " 3rd Qu.:    0.00                    Markdown: 3555835  \n",
      " Max.   :58206.00                    php     : 2607263  \n",
      "                                     (Other) :10713726  \n",
      "[1] \"2y\"\n",
      "       s                  l                   t                 c           \n",
      " Min.   :        2   Length:84636831    Min.   :0.000e+00   Mode :logical   \n",
      " 1st Qu.:      541   Class :character   1st Qu.:1.460e+09   FALSE:78217136  \n",
      " Median :     1323   Mode  :character   Median :1.518e+09   TRUE :6419695   \n",
      " Mean   :    14591                      Mean   :1.495e+09                   \n",
      " 3rd Qu.:     3760                      3rd Qu.:1.556e+09                   \n",
      " Max.   :613836533                      Max.   :1.588e+09                   \n",
      " NA's   :18573211                                                           \n",
      "       d                b                   ll          \n",
      " Min.   :    0.00   Mode :logical    Other   :52279623  \n",
      " 1st Qu.:    0.00   FALSE:66063620   JS      :11123433  \n",
      " Median :    0.00   TRUE :18573211   java    : 4579558  \n",
      " Mean   :    0.74                    C       : 3461492  \n",
      " 3rd Qu.:    0.00                    Markdown: 2577122  \n",
      " Max.   :86068.00                    php     : 2226155  \n",
      "                                     (Other) : 8389448  \n"
     ]
    }
   ],
   "source": [
    "for(i in 1:3) {\n",
    "    print(names(x)[i])\n",
    "    print(summary(x[[i]]))\n",
    "}"
   ]
  },
  {
   "cell_type": "markdown",
   "id": "90449c6f",
   "metadata": {},
   "source": [
    "### 1. What fraction of blobs are copied?"
   ]
  },
  {
   "cell_type": "code",
   "execution_count": 27,
   "id": "00013455",
   "metadata": {},
   "outputs": [
    {
     "name": "stdout",
     "output_type": "stream",
     "text": [
      "[1] \"All\"                \"0.0691064545669997\"\n",
      "[1] \"Binaries excluded:\" \"0.0633983002433937\"\n",
      "[1] \"1y\"                 \"0.0614612341053134\"\n",
      "[1] \"Binaries excluded:\" \"0.0568222332892975\"\n",
      "[1] \"2y\"                 \"0.0758498980189842\"\n",
      "[1] \"Binaries excluded:\" \"0.0703809751872513\"\n"
     ]
    }
   ],
   "source": [
    "for(i in 1:3) {\n",
    "    print(c(names(x)[i],sum(x[[i]]$c)/dim(x[[i]])[1]))\n",
    "    print(c(\"Binaries excluded:\",sum(x[[i]][!x[[i]]$b,\"c\"])/dim(x[[i]][!x[[i]]$b,])[1]))\n",
    "}"
   ]
  },
  {
   "cell_type": "markdown",
   "id": "356b5239",
   "metadata": {},
   "source": [
    "### 2. Does the propensity to copy vary with language?"
   ]
  },
  {
   "cell_type": "code",
   "execution_count": 28,
   "id": "b9a54469",
   "metadata": {},
   "outputs": [
    {
     "name": "stdout",
     "output_type": "stream",
     "text": [
      "[1] \"1y\"\n",
      "                   Df  Sum Sq Mean Sq F value Pr(>F)    \n",
      "ll                 21   32024  1524.9   26569 <2e-16 ***\n",
      "Residuals   111460968 6397464     0.1                   \n",
      "---\n",
      "Signif. codes:  0 '***' 0.001 '**' 0.01 '*' 0.05 '.' 0.1 ' ' 1\n",
      "[1] \"2y\"\n",
      "                  Df  Sum Sq Mean Sq F value Pr(>F)    \n",
      "ll                21   33032  1572.9   22565 <2e-16 ***\n",
      "Residuals   84636809 5899730     0.1                   \n",
      "---\n",
      "Signif. codes:  0 '***' 0.001 '**' 0.01 '*' 0.05 '.' 0.1 ' ' 1\n"
     ]
    }
   ],
   "source": [
    "for(i in 2:3){\n",
    "    print(names(x)[i])\n",
    "    test=aov(c ~ ll, data=x[[i]])\n",
    "    print(summary(test));\n",
    "}"
   ]
  },
  {
   "cell_type": "markdown",
   "id": "1cffdf18",
   "metadata": {},
   "source": [
    "#### 2.1. Which languages are different?"
   ]
  },
  {
   "cell_type": "code",
   "execution_count": 29,
   "id": "03698649",
   "metadata": {
    "scrolled": true
   },
   "outputs": [
    {
     "name": "stdout",
     "output_type": "stream",
     "text": [
      "[1] \"1y\"\n",
      "[1] \"C\"                \"0.13247575671542\" \"t: 427.762915\"   \n",
      "[1] \"CSS\"                \"0.0600209492330253\" \"t: -6.313934\"      \n",
      "[1] \"Cs\"                 \"0.0535597530852168\" \"t: -50.682979\"     \n",
      "[1] \"Fml\"                \"0.0665055831847612\" \"t: 8.366666\"       \n",
      "[1] \"Go\"                 \"0.0676721571740425\" \"t: 16.688648\"      \n",
      "[1] \"JS\"                 \"0.0454613563374903\" \"t: -323.544157\"    \n",
      "[1] \"Kotlin\"            \"0.025943061789138\" \"t: -122.991248\"   \n",
      "[1] \"Markdown\"           \"0.0319865798047435\" \"t: -316.557567\"    \n",
      "[1] \"ObjectiveC\"         \"0.0727411039821064\" \"t: 24.990494\"      \n",
      "[1] \"Other\"              \"0.0623895418770649\" \"t: 52.436575\"      \n",
      "[1] \"PY\"                 \"0.0544774489144131\" \"t: -48.208890\"     \n",
      "[1] \"R\"                  \"0.0855873728624931\" \"t: 39.251335\"      \n",
      "[1] \"Rust\"               \"0.0556607054750754\" \"t: -12.593480\"     \n",
      "[1] \"Scala\"              \"0.0306845674939291\" \"t: -84.235546\"     \n",
      "[1] \"Sql\"                \"0.0573553387472549\" \"t: -7.792719\"      \n",
      "[1] \"Swift\"              \"0.0293836159710523\" \"t: -104.914172\"    \n",
      "[1] \"TypeScript\"         \"0.0542854818209753\" \"t: -35.811603\"     \n",
      "[1] \"ipy\"                \"0.0350990600649918\" \"t: -59.373550\"     \n",
      "[1] \"java\"               \"0.0662411943421009\" \"t: 45.963878\"      \n",
      "[1] \"php\"                \"0.0861930691303486\" \"t: 144.451661\"     \n",
      "[1] \"pl\"                \"0.171001863318966\" \"t: 94.910672\"     \n",
      "[1] \"rb\"                \"0.044894706015468\" \"t: -88.022431\"    \n",
      "[1] \"2y\"\n",
      "[1] \"C\"                 \"0.151525700478291\" \"t: 404.915288\"    \n",
      "[1] \"CSS\"                \"0.0703111834232723\" \"t: -19.764192\"     \n",
      "[1] \"Cs\"                 \"0.0597220761029334\" \"t: -88.432426\"     \n",
      "[1] \"Fml\"                \"0.0797641608759739\" \"t: 5.458069\"       \n",
      "[1] \"Go\"                 \"0.0792508681392881\" \"t: 7.266370\"       \n",
      "[1] \"JS\"                 \"0.0551303720712841\" \"t: -316.725468\"    \n",
      "[1] \"Kotlin\"             \"0.0299874879791535\" \"t: -118.205538\"    \n",
      "[1] \"Markdown\"           \"0.0412817088209251\" \"t: -279.926899\"    \n",
      "[1] \"ObjectiveC\"         \"0.0838833416106856\" \"t: 16.063646\"      \n",
      "[1] \"Other\"              \"0.0777200707816887\" \"t: 83.188347\"      \n",
      "[1] \"PY\"                 \"0.0654583390446485\" \"t: -58.081782\"     \n",
      "[1] \"R\"                  \"0.0984720167946944\" \"t: 31.127021\"      \n",
      "[1] \"Rust\"               \"0.0672109370675818\" \"t: -14.679147\"     \n",
      "[1] \"Scala\"              \"0.0384756199034781\" \"t: -82.510478\"     \n",
      "[1] \"Sql\"                \"0.0669260935143288\" \"t: -14.551013\"     \n",
      "[1] \"Swift\"              \"0.0337095975784921\" \"t: -115.888842\"    \n",
      "[1] \"TypeScript\"         \"0.0632895542667854\" \"t: -46.512256\"     \n",
      "[1] \"ipy\"                \"0.0444071361363762\" \"t: -50.266584\"     \n",
      "[1] \"java\"               \"0.0782400834316325\" \"t: 19.599620\"      \n",
      "[1] \"php\"                \"0.0985412066994437\" \"t: 115.447562\"     \n",
      "[1] \"pl\"                \"0.184812007727746\" \"t: 89.268470\"     \n",
      "[1] \"rb\"                 \"0.0511124089722765\" \"t: -118.010353\"    \n"
     ]
    }
   ],
   "source": [
    "sv=0.005\n",
    "for(i in 2:3){\n",
    "    print(names(x)[i])\n",
    "    for(l in ty){ \n",
    "        test=t.test(x[[i]][x[[i]]$ll==l,\"c\"],x[[i]][x[[i]]$ll!=l,\"c\"])\n",
    "        if(test$p.value<sv){\n",
    "            mean=sum(x[[i]][x[[i]]$ll==l,\"c\"])/dim(x[[i]][x[[i]]$ll==l,])[1]\n",
    "            print(c(l,mean,sprintf(\"t: %f\",test$statistic)))\n",
    "        }else{\n",
    "            print(c(l,\"Not significant!\"))\n",
    "        }\n",
    "    }\n",
    "}"
   ]
  },
  {
   "cell_type": "code",
   "execution_count": 196,
   "id": "a9bcb41a",
   "metadata": {
    "scrolled": true
   },
   "outputs": [
    {
     "name": "stdout",
     "output_type": "stream",
     "text": [
      "[1] \"1y\"\n",
      "\n",
      "Call:\n",
      "glm(formula = c ~ ll, family = binomial, data = x[[i]])\n",
      "\n",
      "Deviance Residuals: \n",
      "    Min       1Q   Median       3Q      Max  \n",
      "-0.6124  -0.3589  -0.3589  -0.3318   2.7025  \n",
      "\n",
      "Coefficients:\n",
      "               Estimate Std. Error   z value Pr(>|z|)    \n",
      "(Intercept)  -2.7099369  0.0004971 -5451.621  < 2e-16 ***\n",
      "llC           0.8306931  0.0015655   530.620  < 2e-16 ***\n",
      "llCSS        -0.0412270  0.0040927   -10.073  < 2e-16 ***\n",
      "llCs         -0.1619730  0.0031398   -51.587  < 2e-16 ***\n",
      "llFml         0.0682878  0.0097321     7.017 2.27e-12 ***\n",
      "llGo          0.0869272  0.0059326    14.652  < 2e-16 ***\n",
      "llJS         -0.3344286  0.0012979  -257.663  < 2e-16 ***\n",
      "llKotlin     -0.9156286  0.0114343   -80.077  < 2e-16 ***\n",
      "llMarkdown   -0.6999926  0.0030544  -229.171  < 2e-16 ***\n",
      "llObjectiveC  0.1646107  0.0067216    24.490  < 2e-16 ***\n",
      "llPY         -0.1440140  0.0028827   -49.958  < 2e-16 ***\n",
      "llR           0.3411927  0.0078787    43.306  < 2e-16 ***\n",
      "llRust       -0.1212742  0.0087857   -13.804  < 2e-16 ***\n",
      "llScala      -0.7428933  0.0122948   -60.423  < 2e-16 ***\n",
      "llSql        -0.0894866  0.0097659    -9.163  < 2e-16 ***\n",
      "llSwift      -0.7875572  0.0107316   -73.386  < 2e-16 ***\n",
      "llTypeScript -0.1477470  0.0039540   -37.367  < 2e-16 ***\n",
      "llipy        -0.6039142  0.0131226   -46.021  < 2e-16 ***\n",
      "lljava        0.0640213  0.0017969    35.630  < 2e-16 ***\n",
      "llphp         0.3489074  0.0022620   154.247  < 2e-16 ***\n",
      "llpl          1.1313935  0.0081628   138.603  < 2e-16 ***\n",
      "llrb         -0.3475648  0.0044328   -78.407  < 2e-16 ***\n",
      "---\n",
      "Signif. codes:  0 '***' 0.001 '**' 0.01 '*' 0.05 '.' 0.1 ' ' 1\n",
      "\n",
      "(Dispersion parameter for binomial family taken to be 1)\n",
      "\n",
      "    Null deviance: 51488150  on 111460989  degrees of freedom\n",
      "Residual deviance: 51001463  on 111460968  degrees of freedom\n",
      "AIC: 51001507\n",
      "\n",
      "Number of Fisher Scoring iterations: 6\n",
      "\n",
      "[1] \"2y\"\n",
      "\n",
      "Call:\n",
      "glm(formula = c ~ ll, family = binomial, data = x[[i]])\n",
      "\n",
      "Deviance Residuals: \n",
      "    Min       1Q   Median       3Q      Max  \n",
      "-0.6393  -0.4023  -0.4023  -0.3509   2.6484  \n",
      "\n",
      "Coefficients:\n",
      "               Estimate Std. Error   z value Pr(>|z|)    \n",
      "(Intercept)  -2.4737353  0.0005166 -4788.700  < 2e-16 ***\n",
      "llC           0.7510507  0.0015855   473.691  < 2e-16 ***\n",
      "llCSS        -0.1081838  0.0043375   -24.941  < 2e-16 ***\n",
      "llCs         -0.2827385  0.0033124   -85.357  < 2e-16 ***\n",
      "llFml         0.0281796  0.0097924     2.878  0.00401 ** \n",
      "llGo          0.0211660  0.0064480     3.283  0.00103 ** \n",
      "llJS         -0.3676109  0.0014116  -260.422  < 2e-16 ***\n",
      "llKotlin     -1.0027894  0.0133236   -75.264  < 2e-16 ***\n",
      "llMarkdown   -0.6714424  0.0031728  -211.622  < 2e-16 ***\n",
      "llObjectiveC  0.0830186  0.0065410    12.692  < 2e-16 ***\n",
      "llPY         -0.1849071  0.0029976   -61.686  < 2e-16 ***\n",
      "llR           0.2594166  0.0082127    31.587  < 2e-16 ***\n",
      "llRust       -0.1566078  0.0094102   -16.642  < 2e-16 ***\n",
      "llScala      -0.7447596  0.0122519   -60.787  < 2e-16 ***\n",
      "llSql        -0.1611602  0.0098427   -16.374  < 2e-16 ***\n",
      "llSwift      -0.8819454  0.0111645   -78.995  < 2e-16 ***\n",
      "llTypeScript -0.2209187  0.0046020   -48.005  < 2e-16 ***\n",
      "llipy        -0.5951965  0.0147510   -40.350  < 2e-16 ***\n",
      "lljava        0.0072325  0.0018151     3.985 6.76e-05 ***\n",
      "llphp         0.2601957  0.0023073   112.770  < 2e-16 ***\n",
      "llpl          0.9896556  0.0081258   121.792  < 2e-16 ***\n",
      "llrb         -0.4475278  0.0043682  -102.452  < 2e-16 ***\n",
      "---\n",
      "Signif. codes:  0 '***' 0.001 '**' 0.01 '*' 0.05 '.' 0.1 ' ' 1\n",
      "\n",
      "(Dispersion parameter for binomial family taken to be 1)\n",
      "\n",
      "    Null deviance: 45452429  on 84636830  degrees of freedom\n",
      "Residual deviance: 45025184  on 84636809  degrees of freedom\n",
      "AIC: 45025228\n",
      "\n",
      "Number of Fisher Scoring iterations: 5\n",
      "\n"
     ]
    }
   ],
   "source": [
    "for(i in 2:3) {\n",
    "    print(names(x)[i])\n",
    "    glm=glm(c~ll, data=x[[i]], family=binomial)\n",
    "    print(summary(glm))\n",
    "}"
   ]
  },
  {
   "cell_type": "markdown",
   "id": "9ed56915",
   "metadata": {},
   "source": [
    "### 3. Are binary blobs more likely to be copied?"
   ]
  },
  {
   "cell_type": "code",
   "execution_count": 32,
   "id": "e548ecf6",
   "metadata": {
    "scrolled": true
   },
   "outputs": [
    {
     "name": "stdout",
     "output_type": "stream",
     "text": [
      "[1] \"1y\"\n",
      "\n",
      "\tWelch Two Sample t-test\n",
      "\n",
      "data:  x[[i]][x[[i]]$b, \"c\"] and x[[i]][!x[[i]]$b, \"c\"]\n",
      "t = 351.37, df = 36289558, p-value < 2.2e-16\n",
      "alternative hypothesis: true difference in means is not equal to 0\n",
      "95 percent confidence interval:\n",
      " 0.02065332 0.02088503\n",
      "sample estimates:\n",
      " mean of x  mean of y \n",
      "0.07759141 0.05682223 \n",
      "\n",
      "[1] \"2y\"\n",
      "\n",
      "\tWelch Two Sample t-test\n",
      "\n",
      "data:  x[[i]][x[[i]]$b, \"c\"] and x[[i]][!x[[i]]$b, \"c\"]\n",
      "t = 332.06, df = 26998008, p-value < 2.2e-16\n",
      "alternative hypothesis: true difference in means is not equal to 0\n",
      "95 percent confidence interval:\n",
      " 0.02477441 0.02506860\n",
      "sample estimates:\n",
      " mean of x  mean of y \n",
      "0.09530248 0.07038098 \n",
      "\n"
     ]
    }
   ],
   "source": [
    "for(i in 2:3) {\n",
    "    print(names(x)[i])\n",
    "    test=t.test(x[[i]][x[[i]]$b,\"c\"],x[[i]][!x[[i]]$b,\"c\"])\n",
    "    print(test)\n",
    "}"
   ]
  },
  {
   "cell_type": "markdown",
   "id": "dec9ac6f",
   "metadata": {},
   "source": [
    "### 4. Are copied blobs smaller?"
   ]
  },
  {
   "cell_type": "code",
   "execution_count": 68,
   "id": "c48db848",
   "metadata": {
    "scrolled": true
   },
   "outputs": [
    {
     "name": "stdout",
     "output_type": "stream",
     "text": [
      "[1] \"1y\"\n",
      "\n",
      "\tWelch Two Sample t-test\n",
      "\n",
      "data:  log(x[[i]][x[[i]]$c, \"s\"]) and log(x[[i]][!x[[i]]$c, \"s\"])\n",
      "t = -222.22, df = 5528798, p-value < 2.2e-16\n",
      "alternative hypothesis: true difference in means is not equal to 0\n",
      "95 percent confidence interval:\n",
      " -0.1731598 -0.1701320\n",
      "sample estimates:\n",
      "mean of x mean of y \n",
      " 7.167717  7.339363 \n",
      "\n",
      "[1] \"2y\"\n",
      "\n",
      "\tWelch Two Sample t-test\n",
      "\n",
      "data:  log(x[[i]][x[[i]]$c, \"s\"]) and log(x[[i]][!x[[i]]$c, \"s\"])\n",
      "t = -199.3, df = 5348321, p-value < 2.2e-16\n",
      "alternative hypothesis: true difference in means is not equal to 0\n",
      "95 percent confidence interval:\n",
      " -0.1608797 -0.1577463\n",
      "sample estimates:\n",
      "mean of x mean of y \n",
      " 7.142075  7.301388 \n",
      "\n"
     ]
    }
   ],
   "source": [
    "for(i in 2:3) {\n",
    "    print(names(x)[i])\n",
    "    test=t.test(log(x[[i]][x[[i]]$c,\"s\"]),log(x[[i]][!x[[i]]$c,\"s\"]))\n",
    "    print(test)\n",
    "}"
   ]
  },
  {
   "cell_type": "markdown",
   "id": "7b16ab0b",
   "metadata": {},
   "source": [
    "#### 4.1. Is this the case for all languages?"
   ]
  },
  {
   "cell_type": "code",
   "execution_count": 72,
   "id": "ff0c0be5",
   "metadata": {
    "scrolled": true
   },
   "outputs": [
    {
     "name": "stdout",
     "output_type": "stream",
     "text": [
      "[1] \"1y\"\n",
      "[1] \"C\"             \"t: 216.836513\"\n",
      "[1] \"CSS\"          \"t: -3.504343\"\n",
      "[1] \"Cs\"               \"Not significant!\"\n",
      "[1] \"Fml\"              \"Not significant!\"\n",
      "[1] \"Go\"           \"t: 24.338372\"\n",
      "[1] \"JS\"            \"t: -62.877606\"\n",
      "[1] \"Kotlin\"        \"t: -14.695897\"\n",
      "[1] \"Markdown\"      \"t: -59.064043\"\n",
      "[1] \"ObjectiveC\"  \"t: 7.621318\"\n",
      "[1] \"Other\"          \"t: -411.342656\"\n",
      "[1] \"PY\"           \"t: 21.424793\"\n",
      "[1] \"R\"            \"t: -7.713302\"\n",
      "[1] \"Rust\"         \"t: -7.192477\"\n",
      "[1] \"Scala\"        \"t: 14.646112\"\n",
      "[1] \"Sql\"           \"t: -12.622829\"\n",
      "[1] \"Swift\"        \"t: -5.014679\"\n",
      "[1] \"TypeScript\"    \"t: -38.828616\"\n",
      "[1] \"ipy\"          \"t: -8.096101\"\n",
      "[1] \"java\"          \"t: 138.465030\"\n",
      "[1] \"php\"          \"t: 39.226481\"\n",
      "[1] \"pl\"          \"t: 9.605817\"\n",
      "[1] \"rb\"            \"t: -11.782498\"\n",
      "[1] \"2y\"\n",
      "[1] \"C\"             \"t: 195.919272\"\n",
      "[1] \"CSS\"           \"t: -11.883050\"\n",
      "[1] \"Cs\"           \"t: 12.552948\"\n",
      "[1] \"Fml\"              \"Not significant!\"\n",
      "[1] \"Go\"           \"t: 15.571693\"\n",
      "[1] \"JS\"            \"t: -59.904304\"\n",
      "[1] \"Kotlin\"        \"t: -14.500515\"\n",
      "[1] \"Markdown\"      \"t: -92.726420\"\n",
      "[1] \"ObjectiveC\"       \"Not significant!\"\n",
      "[1] \"Other\"          \"t: -373.791473\"\n",
      "[1] \"PY\"          \"t: 8.511662\"\n",
      "[1] \"R\"            \"t: -7.632067\"\n",
      "[1] \"Rust\"         \"t: -7.816803\"\n",
      "[1] \"Scala\"       \"t: 9.115613\"\n",
      "[1] \"Sql\"           \"t: -17.327531\"\n",
      "[1] \"Swift\"        \"t: -7.281107\"\n",
      "[1] \"TypeScript\"    \"t: -35.940125\"\n",
      "[1] \"ipy\"          \"t: -8.028054\"\n",
      "[1] \"java\"          \"t: 120.794442\"\n",
      "[1] \"php\"          \"t: 28.609191\"\n",
      "[1] \"pl\"          \"t: 5.858124\"\n",
      "[1] \"rb\"            \"t: -24.951626\"\n"
     ]
    }
   ],
   "source": [
    "sv=0.005\n",
    "for(i in 2:3){\n",
    "    print(names(x)[i])\n",
    "    for(l in ty){ \n",
    "        test=t.test(log(x[[i]][x[[i]]$ll==l&x[[i]]$c,\"s\"]),log(x[[i]][x[[i]]$ll==l&!x[[i]]$c,\"s\"]))\n",
    "        if(test$p.value<sv){\n",
    "            print(c(l,sprintf(\"t: %f\",test$statistic)))\n",
    "        }else{\n",
    "            print(c(l,\"Not significant!\"))\n",
    "        }\n",
    "    }\n",
    "}"
   ]
  },
  {
   "cell_type": "code",
   "execution_count": 4,
   "id": "60b8eef9",
   "metadata": {},
   "outputs": [
    {
     "name": "stdout",
     "output_type": "stream",
     "text": [
      "[1] \"1y\"\n",
      "[1] \"0ther\"                   \"t: -411.342656 0.000000\"\n",
      "[1] \"C\"                      \"t: 216.836513 0.000000\"\n",
      "[1] \"CSS\"                   \"t: -3.504343 0.000458\"\n",
      "[1] \"Cs\"                   \"t: 2.043808 0.040975\"\n",
      "[1] \"Fml\"                   \"t: -1.338891 0.180630\"\n",
      "[1] \"Go\"                    \"t: 24.338372 0.000000\"\n",
      "[1] \"JS\"                     \"t: -62.877606 0.000000\"\n",
      "[1] \"Kotlin\"                 \"t: -14.695897 0.000000\"\n",
      "[1] \"Markdown\"               \"t: -59.064043 0.000000\"\n",
      "[1] \"ObjectiveC\"           \"t: 7.621318 0.000000\"\n",
      "[1] \"PY\"                    \"t: 21.424793 0.000000\"\n",
      "[1] \"R\"                     \"t: -7.713302 0.000000\"\n",
      "[1] \"Rust\"                  \"t: -7.192477 0.000000\"\n",
      "[1] \"Scala\"                 \"t: 14.646112 0.000000\"\n",
      "[1] \"Sql\"                    \"t: -12.622829 0.000000\"\n",
      "[1] \"Swift\"                 \"t: -5.014679 0.000001\"\n",
      "[1] \"TypeScript\"             \"t: -38.828616 0.000000\"\n",
      "[1] \"ipy\"                   \"t: -8.096101 0.000000\"\n",
      "[1] \"java\"                   \"t: 138.465030 0.000000\"\n",
      "[1] \"php\"                   \"t: 39.226481 0.000000\"\n",
      "[1] \"pl\"                   \"t: 9.605817 0.000000\"\n",
      "[1] \"rb\"                     \"t: -11.782498 0.000000\"\n",
      "[1] \"2y\"\n",
      "[1] \"0ther\"                   \"t: -373.791473 0.000000\"\n",
      "[1] \"C\"                      \"t: 195.919272 0.000000\"\n",
      "[1] \"CSS\"                    \"t: -11.883050 0.000000\"\n",
      "[1] \"Cs\"                    \"t: 12.552948 0.000000\"\n",
      "[1] \"Fml\"                  \"t: 0.106712 0.915019\"\n",
      "[1] \"Go\"                    \"t: 15.571693 0.000000\"\n",
      "[1] \"JS\"                     \"t: -59.904304 0.000000\"\n",
      "[1] \"Kotlin\"                 \"t: -14.500515 0.000000\"\n",
      "[1] \"Markdown\"               \"t: -92.726420 0.000000\"\n",
      "[1] \"ObjectiveC\"           \"t: 0.788692 0.430298\"\n",
      "[1] \"PY\"                   \"t: 8.511662 0.000000\"\n",
      "[1] \"R\"                     \"t: -7.632067 0.000000\"\n",
      "[1] \"Rust\"                  \"t: -7.816803 0.000000\"\n",
      "[1] \"Scala\"                \"t: 9.115613 0.000000\"\n",
      "[1] \"Sql\"                    \"t: -17.327531 0.000000\"\n",
      "[1] \"Swift\"                 \"t: -7.281107 0.000000\"\n",
      "[1] \"TypeScript\"             \"t: -35.940125 0.000000\"\n",
      "[1] \"ipy\"                   \"t: -8.028054 0.000000\"\n",
      "[1] \"java\"                   \"t: 120.794442 0.000000\"\n",
      "[1] \"php\"                   \"t: 28.609191 0.000000\"\n",
      "[1] \"pl\"                   \"t: 5.858124 0.000000\"\n",
      "[1] \"rb\"                     \"t: -24.951626 0.000000\"\n"
     ]
    }
   ],
   "source": [
    "sv=0.005\n",
    "for(i in 2:3){\n",
    "    print(names(x)[i])\n",
    "    for(l in ty){ \n",
    "        test=t.test(log(x[[i]][x[[i]]$ll==l&x[[i]]$c,\"s\"]),log(x[[i]][x[[i]]$ll==l&!x[[i]]$c,\"s\"]))\n",
    "        print(c(l,sprintf(\"t: %f %f\",test$statistic,test$p.value)))\n",
    "    }\n",
    "}"
   ]
  },
  {
   "cell_type": "markdown",
   "id": "e4088831",
   "metadata": {},
   "source": [
    "### 5. How does copied blob size vary by language?"
   ]
  },
  {
   "cell_type": "code",
   "execution_count": 4,
   "id": "fc75562b",
   "metadata": {
    "scrolled": true
   },
   "outputs": [
    {
     "name": "stdout",
     "output_type": "stream",
     "text": [
      "[1] \"2y\"\n",
      "[1] \"0ther\"                   \"Copied\"                 \n",
      "[3] \"t: -169.191826 0.000000\"\n",
      "[1] \"0ther\"                  \"All\"                    \"t: 757.854873 0.000000\"\n",
      "[1] \"C\"                      \"Copied\"                 \"t: 437.152911 0.000000\"\n",
      "[1] \"C\"                      \"All\"                    \"t: 416.195485 0.000000\"\n",
      "[1] \"CSS\"                   \"Copied\"                \"t: 24.273218 0.000000\"\n",
      "[1] \"CSS\"                   \"All\"                   \"t: 62.589498 0.000000\"\n",
      "[1] \"Cs\"                     \"Copied\"                 \"t: -47.621574 0.000000\"\n",
      "[1] \"Cs\"                      \"All\"                    \n",
      "[3] \"t: -429.449202 0.000000\"\n",
      "[1] \"Fml\"                   \"Copied\"                \"t: 31.228449 0.000000\"\n",
      "[1] \"Fml\"                   \"All\"                   \"t: 75.348967 0.000000\"\n",
      "[1] \"Go\"                    \"Copied\"                \"t: 37.711196 0.000000\"\n",
      "[1] \"Go\"                    \"All\"                   \"t: 11.913508 0.000000\"\n",
      "[1] \"JS\"                     \"Copied\"                 \"t: -72.376004 0.000000\"\n",
      "[1] \"JS\"                      \"All\"                    \n",
      "[3] \"t: -407.626940 0.000000\"\n",
      "[1] \"Kotlin\"                 \"Copied\"                 \"t: -45.844181 0.000000\"\n",
      "[1] \"Kotlin\"                  \"All\"                    \n",
      "[3] \"t: -266.033017 0.000000\"\n",
      "[1] \"Markdown\"                \"Copied\"                 \n",
      "[3] \"t: -142.660108 0.000000\"\n",
      "[1] \"Markdown\"                \"All\"                    \n",
      "[3] \"t: -446.615269 0.000000\"\n",
      "[1] \"ObjectiveC\"            \"Copied\"                \"t: 25.120927 0.000000\"\n",
      "[1] \"ObjectiveC\"            \"All\"                   \"t: 23.025461 0.000000\"\n",
      "[1] \"PY\"                    \"Copied\"                \"t: 58.309997 0.000000\"\n",
      "[1] \"PY\"                    \"All\"                   \"t: 61.832748 0.000000\"\n",
      "[1] \"R\"                     \"Copied\"                \"t: -5.824506 0.000000\"\n",
      "[1] \"R\"                      \"All\"                    \"t: -47.915705 0.000000\"\n",
      "[1] \"Rust\"                  \"Copied\"                \"t: 10.080664 0.000000\"\n",
      "[1] \"Rust\"                  \"All\"                   \"t: 26.617241 0.000000\"\n",
      "[1] \"Scala\"                \"Copied\"               \"t: 2.798080 0.005155\"\n",
      "[1] \"Scala\"                  \"All\"                    \"t: -90.834664 0.000000\"\n",
      "[1] \"Sql\"                    \"Copied\"                 \"t: -18.220763 0.000000\"\n",
      "[1] \"Sql\"                    \"All\"                    \"t: -37.018280 0.000000\"\n",
      "[1] \"Swift\"                  \"Copied\"                 \"t: -18.536275 0.000000\"\n",
      "[1] \"Swift\"                   \"All\"                    \n",
      "[3] \"t: -125.117876 0.000000\"\n",
      "[1] \"TypeScript\"              \"Copied\"                 \n",
      "[3] \"t: -102.523818 0.000000\"\n",
      "[1] \"TypeScript\"              \"All\"                    \n",
      "[3] \"t: -445.486639 0.000000\"\n",
      "[1] \"ipy\"                   \"Copied\"                \"t: 83.575782 0.000000\"\n",
      "[1] \"ipy\"                    \"All\"                    \"t: 411.750346 0.000000\"\n",
      "[1] \"java\"                  \"Copied\"                \"t: 88.921974 0.000000\"\n",
      "[1] \"java\"                    \"All\"                    \n",
      "[3] \"t: -380.242790 0.000000\"\n",
      "[1] \"php\"                   \"Copied\"                \"t: 22.744640 0.000000\"\n",
      "[1] \"php\"                     \"All\"                    \n",
      "[3] \"t: -199.557564 0.000000\"\n",
      "[1] \"pl\"                    \"Copied\"                \"t: 66.644703 0.000000\"\n",
      "[1] \"pl\"                     \"All\"                    \"t: 102.680423 0.000000\"\n",
      "[1] \"rb\"                      \"Copied\"                 \n",
      "[3] \"t: -171.601006 0.000000\"\n",
      "[1] \"rb\"                      \"All\"                    \n",
      "[3] \"t: -870.146409 0.000000\"\n"
     ]
    }
   ],
   "source": [
    "sv=0.005\n",
    "for(i in 3:3){\n",
    "    print(names(x)[i])\n",
    "    for(l in ty){ \n",
    "        test1=t.test(log(x[[i]][x[[i]]$ll==l&x[[i]]$c,\"s\"]),log(x[[i]][x[[i]]$ll!=l&x[[i]]$c,\"s\"]))\n",
    "        test2=t.test(log(x[[i]][x[[i]]$ll==l,\"s\"]),log(x[[i]][x[[i]]$ll!=l,\"s\"]))\n",
    "        print(c(l,\"Copied\",sprintf(\"t: %f %f\",test1$statistic,test1$p.value)))\n",
    "        print(c(l,\"All\",sprintf(\"t: %f %f\",test2$statistic,test2$p.value)))\n",
    "    }\n",
    "}"
   ]
  },
  {
   "cell_type": "code",
   "execution_count": 5,
   "id": "ea117bb3",
   "metadata": {},
   "outputs": [
    {
     "name": "stdout",
     "output_type": "stream",
     "text": [
      "[1] \"2y\"\n",
      "\n",
      "Call:\n",
      "lm(formula = log(s) ~ ll, data = x[[i]])\n",
      "\n",
      "Residuals:\n",
      "    Min      1Q  Median      3Q     Max \n",
      "-8.5685 -0.9666 -0.0405  0.9237 12.7971 \n",
      "\n",
      "Coefficients:\n",
      "               Estimate Std. Error  t value Pr(>|t|)    \n",
      "(Intercept)   7.4381048  0.0002776 26792.86   <2e-16 ***\n",
      "llC           0.1734752  0.0009097   190.70   <2e-16 ***\n",
      "llCSS        -0.0316386  0.0017963   -17.61   <2e-16 ***\n",
      "llCs         -0.5173998  0.0012801  -404.17   <2e-16 ***\n",
      "llFml         0.1311505  0.0042791    30.65   <2e-16 ***\n",
      "llGo         -0.1234639  0.0028121   -43.91   <2e-16 ***\n",
      "llJS         -0.3160199  0.0005573  -567.03   <2e-16 ***\n",
      "llKotlin     -0.7651269  0.0036753  -208.18   <2e-16 ***\n",
      "llMarkdown   -0.6215325  0.0010417  -596.67   <2e-16 ***\n",
      "llObjectiveC -0.0967369  0.0029266   -33.05   <2e-16 ***\n",
      "llPY         -0.0888544  0.0012094   -73.47   <2e-16 ***\n",
      "llR          -0.2834085  0.0039459   -71.82   <2e-16 ***\n",
      "llRust       -0.0593452  0.0038020   -15.61   <2e-16 ***\n",
      "llScala      -0.3867460  0.0038062  -101.61   <2e-16 ***\n",
      "llSql        -0.3223757  0.0039686   -81.23   <2e-16 ***\n",
      "llSwift      -0.4192636  0.0032584  -128.67   <2e-16 ***\n",
      "llTypeScript -0.7304246  0.0018159  -402.23   <2e-16 ***\n",
      "llipy         2.7398220  0.0049031   558.79   <2e-16 ***\n",
      "lljava       -0.3467827  0.0008027  -432.02   <2e-16 ***\n",
      "llphp        -0.3079977  0.0011153  -276.14   <2e-16 ***\n",
      "llpl          0.3107707  0.0050808    61.17   <2e-16 ***\n",
      "llrb         -1.0802335  0.0015645  -690.46   <2e-16 ***\n",
      "---\n",
      "Signif. codes:  0 '***' 0.001 '**' 0.01 '*' 0.05 '.' 0.1 ' ' 1\n",
      "\n",
      "Residual standard error: 1.612 on 66063598 degrees of freedom\n",
      "  (18573211 observations deleted due to missingness)\n",
      "Multiple R-squared:  0.02691,\tAdjusted R-squared:  0.02691 \n",
      "F-statistic: 8.699e+04 on 21 and 66063598 DF,  p-value: < 2.2e-16\n",
      "\n"
     ]
    }
   ],
   "source": [
    "for(i in 3:3){\n",
    "    print(names(x)[i])\n",
    "    lm=lm(log(s)~ll, data=x[[i]])\n",
    "    print(summary(lm))\n",
    "}"
   ]
  },
  {
   "cell_type": "code",
   "execution_count": 197,
   "id": "ba820981",
   "metadata": {
    "scrolled": false
   },
   "outputs": [
    {
     "name": "stdout",
     "output_type": "stream",
     "text": [
      "[1] \"1y\"\n",
      "\n",
      "Call:\n",
      "lm(formula = log(s) ~ ll, data = x[[i]][x[[i]]$c, ])\n",
      "\n",
      "Residuals:\n",
      "    Min      1Q  Median      3Q     Max \n",
      "-6.5976 -0.9978 -0.0750  0.8504 11.6753 \n",
      "\n",
      "Coefficients:\n",
      "              Estimate Std. Error  t value Pr(>|t|)    \n",
      "(Intercept)   7.053235   0.001053 6697.838  < 2e-16 ***\n",
      "llC           0.930680   0.002483  374.848  < 2e-16 ***\n",
      "llCSS         0.232384   0.006491   35.802  < 2e-16 ***\n",
      "llCs         -0.143853   0.005016  -28.677  < 2e-16 ***\n",
      "llFml         0.511076   0.015307   33.389  < 2e-16 ***\n",
      "llGo          0.418453   0.009342   44.793  < 2e-16 ***\n",
      "llJS         -0.010767   0.002177   -4.947 7.54e-07 ***\n",
      "llKotlin     -0.580974   0.018364  -31.636  < 2e-16 ***\n",
      "llMarkdown   -0.565806   0.004935 -114.642  < 2e-16 ***\n",
      "llObjectiveC  0.341732   0.010549   32.394  < 2e-16 ***\n",
      "llPY          0.338500   0.004612   73.399  < 2e-16 ***\n",
      "llR           0.042956   0.012272    3.500 0.000465 ***\n",
      "llRust        0.254929   0.013901   18.339  < 2e-16 ***\n",
      "llScala       0.179286   0.019696    9.103  < 2e-16 ***\n",
      "llSql        -0.203559   0.015435  -13.188  < 2e-16 ***\n",
      "llSwift      -0.098668   0.017207   -5.734 9.80e-09 ***\n",
      "llTypeScript -0.556860   0.006292  -88.504  < 2e-16 ***\n",
      "llipy         2.936106   0.020973  139.996  < 2e-16 ***\n",
      "lljava        0.259368   0.002911   89.114  < 2e-16 ***\n",
      "llphp         0.153502   0.003588   42.779  < 2e-16 ***\n",
      "llpl          0.785309   0.012109   64.852  < 2e-16 ***\n",
      "llrb         -0.760249   0.007079 -107.394  < 2e-16 ***\n",
      "---\n",
      "Signif. codes:  0 '***' 0.001 '**' 0.01 '*' 0.05 '.' 0.1 ' ' 1\n",
      "\n",
      "Residual standard error: 1.626 on 4918799 degrees of freedom\n",
      "  (1931709 observations deleted due to missingness)\n",
      "Multiple R-squared:  0.04455,\tAdjusted R-squared:  0.04455 \n",
      "F-statistic: 1.092e+04 on 21 and 4918799 DF,  p-value: < 2.2e-16\n",
      "\n",
      "[1] \"2y\"\n",
      "\n",
      "Call:\n",
      "lm(formula = log(s) ~ ll, data = x[[i]][x[[i]]$c, ])\n",
      "\n",
      "Residuals:\n",
      "    Min      1Q  Median      3Q     Max \n",
      "-8.3077 -0.9961 -0.0602  0.8600 11.7187 \n",
      "\n",
      "Coefficients:\n",
      "               Estimate Std. Error  t value Pr(>|t|)    \n",
      "(Intercept)   7.0098017  0.0010712 6544.023  < 2e-16 ***\n",
      "llC           0.9580423  0.0024827  385.885  < 2e-16 ***\n",
      "llCSS         0.3116949  0.0068203   45.701  < 2e-16 ***\n",
      "llCs         -0.0441591  0.0052567   -8.400  < 2e-16 ***\n",
      "llFml         0.5608544  0.0152539   36.768  < 2e-16 ***\n",
      "llGo          0.4175905  0.0100611   41.506  < 2e-16 ***\n",
      "llJS          0.0002441  0.0023320    0.105 0.916619    \n",
      "llKotlin     -0.5481545  0.0213259  -25.704  < 2e-16 ***\n",
      "llMarkdown   -0.7774836  0.0050871 -152.833  < 2e-16 ***\n",
      "llObjectiveC  0.3377123  0.0101801   33.174  < 2e-16 ***\n",
      "llPY          0.3735951  0.0047525   78.611  < 2e-16 ***\n",
      "llR           0.0814004  0.0126690    6.425 1.32e-10 ***\n",
      "llRust        0.2677336  0.0147590   18.140  < 2e-16 ***\n",
      "llScala       0.1738287  0.0195063    8.911  < 2e-16 ***\n",
      "llSql        -0.1980323  0.0154382  -12.827  < 2e-16 ***\n",
      "llSwift      -0.0687893  0.0178283   -3.858 0.000114 ***\n",
      "llTypeScript -0.5225076  0.0072586  -71.985  < 2e-16 ***\n",
      "llipy         2.9073177  0.0234032  124.227  < 2e-16 ***\n",
      "lljava        0.3037513  0.0029139  104.243  < 2e-16 ***\n",
      "llphp         0.1935920  0.0036251   53.403  < 2e-16 ***\n",
      "llpl          0.7920827  0.0119247   66.424  < 2e-16 ***\n",
      "llrb         -0.7807145  0.0069371 -112.541  < 2e-16 ***\n",
      "---\n",
      "Signif. codes:  0 '***' 0.001 '**' 0.01 '*' 0.05 '.' 0.1 ' ' 1\n",
      "\n",
      "Residual standard error: 1.622 on 4649600 degrees of freedom\n",
      "  (1770073 observations deleted due to missingness)\n",
      "Multiple R-squared:  0.04998,\tAdjusted R-squared:  0.04997 \n",
      "F-statistic: 1.165e+04 on 21 and 4649600 DF,  p-value: < 2.2e-16\n",
      "\n"
     ]
    }
   ],
   "source": [
    "for(i in 2:3){\n",
    "    print(names(x)[i])\n",
    "    lm=lm(log(s)~ll, data=x[[i]][x[[i]]$c,])\n",
    "    print(summary(lm))\n",
    "}"
   ]
  },
  {
   "cell_type": "code",
   "execution_count": 7,
   "id": "0c800da5",
   "metadata": {},
   "outputs": [
    {
     "name": "stdout",
     "output_type": "stream",
     "text": [
      "[1] \"2y\"\n"
     ]
    },
    {
     "name": "stderr",
     "output_type": "stream",
     "text": [
      "Warning message:\n",
      "\"glm.fit: algorithm did not converge\"\n"
     ]
    },
    {
     "name": "stdout",
     "output_type": "stream",
     "text": [
      "\n",
      "Call:\n",
      "glm(formula = c ~ ll * log(s), family = binomial, data = x[[i]][x[[i]]$c, \n",
      "    ])\n",
      "\n",
      "Deviance Residuals: \n",
      "      Min         1Q     Median         3Q        Max  \n",
      "2.409e-06  2.409e-06  2.409e-06  2.409e-06  2.409e-06  \n",
      "\n",
      "Coefficients:\n",
      "                      Estimate Std. Error z value Pr(>|z|)\n",
      "(Intercept)          2.657e+01  9.468e+02   0.028    0.978\n",
      "llC                 -1.214e-07  2.952e+03   0.000    1.000\n",
      "llCSS               -1.214e-07  6.289e+03   0.000    1.000\n",
      "llCs                -1.214e-07  6.902e+03   0.000    1.000\n",
      "llFml               -1.214e-07  1.762e+04   0.000    1.000\n",
      "llGo                -1.214e-07  1.351e+04   0.000    1.000\n",
      "llJS                -1.214e-07  2.360e+03   0.000    1.000\n",
      "llKotlin            -1.214e-07  2.716e+04   0.000    1.000\n",
      "llMarkdown          -1.214e-07  3.529e+03   0.000    1.000\n",
      "llObjectiveC        -1.214e-07  1.268e+04   0.000    1.000\n",
      "llPY                -1.214e-07  5.313e+03   0.000    1.000\n",
      "llR                 -1.214e-07  1.776e+04   0.000    1.000\n",
      "llRust              -1.214e-07  1.622e+04   0.000    1.000\n",
      "llScala             -1.214e-07  2.522e+04   0.000    1.000\n",
      "llSql               -1.214e-07  1.255e+04   0.000    1.000\n",
      "llSwift             -1.214e-07  2.774e+04   0.000    1.000\n",
      "llTypeScript        -1.214e-07  7.295e+03   0.000    1.000\n",
      "llipy               -1.214e-07  2.269e+04   0.000    1.000\n",
      "lljava              -1.214e-07  3.945e+03   0.000    1.000\n",
      "llphp               -1.214e-07  4.476e+03   0.000    1.000\n",
      "llpl                 4.254e-06  1.528e+04   0.000    1.000\n",
      "llrb                 4.520e-06  7.642e+03   0.000    1.000\n",
      "log(s)              -3.606e-08  1.308e+02   0.000    1.000\n",
      "llC:log(s)           3.606e-08  3.694e+02   0.000    1.000\n",
      "llCSS:log(s)         3.606e-08  8.352e+02   0.000    1.000\n",
      "llCs:log(s)          3.606e-08  9.767e+02   0.000    1.000\n",
      "llFml:log(s)         3.606e-08  2.285e+03   0.000    1.000\n",
      "llGo:log(s)          3.606e-08  1.794e+03   0.000    1.000\n",
      "llJS:log(s)          3.606e-08  3.286e+02   0.000    1.000\n",
      "llKotlin:log(s)      3.606e-08  4.140e+03   0.000    1.000\n",
      "llMarkdown:log(s)    3.606e-08  5.328e+02   0.000    1.000\n",
      "llObjectiveC:log(s)  3.606e-08  1.699e+03   0.000    1.000\n",
      "llPY:log(s)          3.606e-08  7.068e+02   0.000    1.000\n",
      "llR:log(s)           3.606e-08  2.474e+03   0.000    1.000\n",
      "llRust:log(s)        3.606e-08  2.184e+03   0.000    1.000\n",
      "llScala:log(s)       3.606e-08  3.459e+03   0.000    1.000\n",
      "llSql:log(s)         3.606e-08  1.773e+03   0.000    1.000\n",
      "llSwift:log(s)       3.606e-08  3.957e+03   0.000    1.000\n",
      "llTypeScript:log(s)  3.606e-08  1.096e+03   0.000    1.000\n",
      "llipy:log(s)         3.606e-08  2.230e+03   0.000    1.000\n",
      "lljava:log(s)        3.606e-08  5.335e+02   0.000    1.000\n",
      "llphp:log(s)         3.606e-08  6.122e+02   0.000    1.000\n",
      "llpl:log(s)          5.605e-08  1.931e+03   0.000    1.000\n",
      "llrb:log(s)          3.584e-08  1.200e+03   0.000    1.000\n",
      "\n",
      "(Dispersion parameter for binomial family taken to be 1)\n",
      "\n",
      "    Null deviance: 0.0000e+00  on 4649621  degrees of freedom\n",
      "Residual deviance: 2.6975e-05  on 4649578  degrees of freedom\n",
      "  (1770073 observations deleted due to missingness)\n",
      "AIC: 88\n",
      "\n",
      "Number of Fisher Scoring iterations: 25\n",
      "\n"
     ]
    }
   ],
   "source": [
    "for(i in 3:3){\n",
    "    print(names(x)[i])\n",
    "    glm=glm(c~ll*log(s), data=x[[i]][x[[i]]$c,], family=binomial)\n",
    "    print(summary(glm))\n",
    "}"
   ]
  },
  {
   "cell_type": "markdown",
   "id": "3049a21a",
   "metadata": {},
   "source": [
    "### 6. Are older blobs more likely to be copied?"
   ]
  },
  {
   "cell_type": "code",
   "execution_count": 21,
   "id": "a346e5df",
   "metadata": {},
   "outputs": [],
   "source": [
    "tx=list()\n",
    "for(i in 1:3){\n",
    "    tx[[i]]=x[[i]][x[[i]]$t>0,]\n",
    "}"
   ]
  },
  {
   "cell_type": "code",
   "execution_count": 85,
   "id": "168aede3",
   "metadata": {
    "scrolled": true
   },
   "outputs": [
    {
     "name": "stdout",
     "output_type": "stream",
     "text": [
      "[1] \"1y\"\n",
      "\n",
      "\tWelch Two Sample t-test\n",
      "\n",
      "data:  tx[[i]][tx[[i]]$c, \"t\"] and tx[[i]][!tx[[i]]$c, \"t\"]\n",
      "t = -867.19, df = 7273636, p-value < 2.2e-16\n",
      "alternative hypothesis: true difference in means is not equal to 0\n",
      "95 percent confidence interval:\n",
      " -42239886 -42049382\n",
      "sample estimates:\n",
      " mean of x  mean of y \n",
      "1482549129 1524693763 \n",
      "\n",
      "[1] \"2y\"\n",
      "\n",
      "\tWelch Two Sample t-test\n",
      "\n",
      "data:  tx[[i]][tx[[i]]$c, \"t\"] and tx[[i]][!tx[[i]]$c, \"t\"]\n",
      "t = -767.29, df = 6928871, p-value < 2.2e-16\n",
      "alternative hypothesis: true difference in means is not equal to 0\n",
      "95 percent confidence interval:\n",
      " -37307358 -37117248\n",
      "sample estimates:\n",
      " mean of x  mean of y \n",
      "1461595409 1498807712 \n",
      "\n"
     ]
    }
   ],
   "source": [
    "for(i in 2:3){\n",
    "    print(names(x)[i])\n",
    "    test=t.test(tx[[i]][tx[[i]]$c,\"t\"],tx[[i]][!tx[[i]]$c,\"t\"])\n",
    "    print(test)\n",
    "}"
   ]
  },
  {
   "cell_type": "code",
   "execution_count": 86,
   "id": "e80c490b",
   "metadata": {
    "scrolled": true
   },
   "outputs": [
    {
     "name": "stdout",
     "output_type": "stream",
     "text": [
      "[1] \"1y\"\n",
      "\n",
      "Call:\n",
      "glm(formula = c ~ t, family = binomial, data = tx[[i]])\n",
      "\n",
      "Deviance Residuals: \n",
      "    Min       1Q   Median       3Q      Max  \n",
      "-2.4779  -0.3685  -0.3285  -0.3032   2.5281  \n",
      "\n",
      "Coefficients:\n",
      "              Estimate Std. Error z value Pr(>|z|)    \n",
      "(Intercept)  3.022e+00  5.322e-03     568   <2e-16 ***\n",
      "t           -3.813e-09  3.555e-12   -1073   <2e-16 ***\n",
      "---\n",
      "Signif. codes:  0 '***' 0.001 '**' 0.01 '*' 0.05 '.' 0.1 ' ' 1\n",
      "\n",
      "(Dispersion parameter for binomial family taken to be 1)\n",
      "\n",
      "    Null deviance: 51476230  on 111380251  degrees of freedom\n",
      "Residual deviance: 50374157  on 111380250  degrees of freedom\n",
      "AIC: 50374161\n",
      "\n",
      "Number of Fisher Scoring iterations: 5\n",
      "\n",
      "[1] \"2y\"\n",
      "\n",
      "Call:\n",
      "glm(formula = c ~ t, family = binomial, data = tx[[i]])\n",
      "\n",
      "Deviance Residuals: \n",
      "    Min       1Q   Median       3Q      Max  \n",
      "-2.3917  -0.4087  -0.3694  -0.3453   2.4199  \n",
      "\n",
      "Coefficients:\n",
      "              Estimate Std. Error z value Pr(>|z|)    \n",
      "(Intercept)  2.801e+00  5.700e-03   491.4   <2e-16 ***\n",
      "t           -3.572e-09  3.862e-12  -925.0   <2e-16 ***\n",
      "---\n",
      "Signif. codes:  0 '***' 0.001 '**' 0.01 '*' 0.05 '.' 0.1 ' ' 1\n",
      "\n",
      "(Dispersion parameter for binomial family taken to be 1)\n",
      "\n",
      "    Null deviance: 45438151  on 84556092  degrees of freedom\n",
      "Residual deviance: 44602535  on 84556091  degrees of freedom\n",
      "AIC: 44602539\n",
      "\n",
      "Number of Fisher Scoring iterations: 5\n",
      "\n"
     ]
    }
   ],
   "source": [
    "for(i in 2:3) {\n",
    "    print(names(x)[i])\n",
    "    glm=glm(c~t, data=tx[[i]], family=binomial)\n",
    "    print(summary(glm))\n",
    "}"
   ]
  },
  {
   "cell_type": "markdown",
   "id": "b642e9ee",
   "metadata": {},
   "source": [
    "**Plotting created and copied blobs over time**"
   ]
  },
  {
   "cell_type": "code",
   "execution_count": null,
   "id": "dbd14352",
   "metadata": {},
   "outputs": [],
   "source": [
    "ts=list()\n",
    "for(i in 2:3){\n",
    "    ts[[i]]=list()\n",
    "    for(j in 1:dim(tx[[i]])[1]){\n",
    "        posix=as.POSIXct(tx[[i]]$t[j], origin=\"1970-01-01\")\n",
    "        period=substr(posix,1,7)\n",
    "        c=tx[[i]]$c[j]\n",
    "        if(is.null(ts[[i]][[period]])){\n",
    "            ts[[i]][[period]][\"total\"]=1\n",
    "            ts[[i]][[period]][\"copied\"]=c\n",
    "        }else{\n",
    "            ts[[i]][[period]][\"total\"]=ts[[i]][[period]][\"total\"]+1\n",
    "            ts[[i]][[period]][\"copied\"]=ts[[i]][[period]][\"copied\"]+c\n",
    "        }\n",
    "    }\n",
    "}\n",
    "saveRDS(ts,\"../data/blobs/bsample.ts.rds\")"
   ]
  },
  {
   "cell_type": "markdown",
   "id": "6f3a5232",
   "metadata": {},
   "source": [
    "**Monthly**"
   ]
  },
  {
   "cell_type": "code",
   "execution_count": 120,
   "id": "b2b87c77",
   "metadata": {
    "scrolled": true
   },
   "outputs": [
    {
     "data": {
      "image/png": "[encoded data removed]",
      "text/plain": [
       "plot without title"
      ]
     },
     "metadata": {
      "image/png": {
       "height": 420,
       "width": 420
      }
     },
     "output_type": "display_data"
    },
    {
     "data": {
      "image/png": "[encoded data removed]",
      "text/plain": [
       "plot without title"
      ]
     },
     "metadata": {
      "image/png": {
       "height": 420,
       "width": 420
      }
     },
     "output_type": "display_data"
    }
   ],
   "source": [
    ".libPaths(c(\"~/r-packages/\",.libPaths()))\n",
    "library(ggplot2)\n",
    "library(reshape)\n",
    "df=list()\n",
    "for(i in 2:3){\n",
    "    df[[i]]=data.frame(matrix(ncol=3, nrow=0))\n",
    "    colnames(df[[i]])=c(\"Period\",\"Total\",\"Copied\")\n",
    "    j=1\n",
    "    for(p in sort(names(ts[[i]]))){\n",
    "        row=ts[[i]][[p]]\n",
    "        df[[i]][j,]=c(p,row[\"total\"],row[\"copied\"])\n",
    "        j=j+1\n",
    "    }\n",
    "    df[[i]][,\"Period\"]=as.Date(paste(df[[i]][,\"Period\"],\"-01\",sep=\"\"))\n",
    "    df[[i]][,\"Total\"]=as.integer(df[[i]][,\"Total\"])\n",
    "    df[[i]][,\"Copied\"]=as.integer(df[[i]][,\"Copied\"])\n",
    "    Molten <- melt(df[[i]], id.vars = \"Period\")\n",
    "    print(ggplot(Molten, aes(x = Period, y = value, colour = variable)) + geom_line())\n",
    "}"
   ]
  },
  {
   "cell_type": "markdown",
   "id": "e385f70c",
   "metadata": {},
   "source": [
    "**Quarterly**"
   ]
  },
  {
   "cell_type": "code",
   "execution_count": 194,
   "id": "152b0a9d",
   "metadata": {},
   "outputs": [
    {
     "data": {
      "image/png": "[encoded data removed]",
      "text/plain": [
       "plot without title"
      ]
     },
     "metadata": {
      "image/png": {
       "height": 420,
       "width": 420
      }
     },
     "output_type": "display_data"
    },
    {
     "data": {
      "image/png": "[encoded data removed]",
      "text/plain": [
       "plot without title"
      ]
     },
     "metadata": {
      "image/png": {
       "height": 420,
       "width": 420
      }
     },
     "output_type": "display_data"
    }
   ],
   "source": [
    "qr=c(\"01\",\"02\",\"03\",\"04\",\"05\",\"06\",\"07\",\"08\",\"09\",\"10\",\"11\",\"12\")\n",
    "df=data.frame(matrix(ncol=3, nrow=0))\n",
    "colnames(df)=c(\"Period\",\"Total\",\"Copied\")\n",
    "j=1\n",
    "for(y in 1970:2019){\n",
    "    for(q in 1:4){\n",
    "        idx=c(3*q-2,3*q-1,3*q)\n",
    "        df[j,\"Period\"]=paste(y,\"-\",qr[idx[1]],\"-01\",sep=\"\")\n",
    "        df[j,\"Total\"]=0\n",
    "        df[j,\"Copied\"]=0\n",
    "        for(m in 1:3){\n",
    "            p=paste(as.character(y),\"-\",qr[idx[m]],sep=\"\")\n",
    "            row=ts[[3]][[p]]\n",
    "            df[j,\"Total\"]=df[j,\"Total\"]+as.integer(row[\"total\"])\n",
    "            df[j,\"Copied\"]=df[j,\"Copied\"]+as.integer(row[\"copied\"])\n",
    "        }\n",
    "        j=j+1\n",
    "    }\n",
    "}\n",
    "df[j,\"Period\"]=paste(\"2020\",\"-\",qr[1],\"-01\",sep=\"\")\n",
    "df[j,\"Total\"]=0\n",
    "df[j,\"Copied\"]=0\n",
    "for(m in 1:3){\n",
    "    p=paste(as.character(y),\"-\",qr[m],sep=\"\")\n",
    "    row=ts[[3]][[p]]\n",
    "    df[j,\"Total\"]=df[j,\"Total\"]+as.integer(row[\"total\"])\n",
    "    df[j,\"Copied\"]=df[j,\"Copied\"]+as.integer(row[\"copied\"])\n",
    "}\n",
    "df[,\"Period\"]=as.Date(df[,\"Period\"])\n",
    "Molten <- melt(df, id.vars = \"Period\")\n",
    "print(ggplot(Molten, aes(x = Period, y = value, colour = variable)) + geom_line())\n",
    "df[,\"Total\"]=log(df[,\"Total\"])\n",
    "df[,\"Copied\"]=log(df[,\"Copied\"])\n",
    "Molten <- melt(df, id.vars = \"Period\")\n",
    "print(ggplot(Molten, aes(x = Period, y = value, colour = variable)) + geom_line())"
   ]
  },
  {
   "cell_type": "markdown",
   "id": "77ec0ad9",
   "metadata": {},
   "source": [
    "#### 6.1. Is this the case for all languages?"
   ]
  },
  {
   "cell_type": "code",
   "execution_count": 87,
   "id": "b23c439c",
   "metadata": {
    "scrolled": true
   },
   "outputs": [
    {
     "name": "stdout",
     "output_type": "stream",
     "text": [
      "[1] \"1y\"\n",
      "[1] \"C\"              \"t: -350.828318\"\n",
      "[1] \"CSS\"           \"t: -49.993496\"\n",
      "[1] \"Cs\"            \"t: -75.287781\"\n",
      "[1] \"Fml\"           \"t: -71.811373\"\n",
      "[1] \"Go\"            \"t: -31.347104\"\n",
      "[1] \"JS\"             \"t: -184.760614\"\n",
      "[1] \"Kotlin\"        \"t: -14.939802\"\n",
      "[1] \"Markdown\"      \"t: -72.953384\"\n",
      "[1] \"ObjectiveC\"    \"t: -43.556782\"\n",
      "[1] \"Other\"          \"t: -607.244046\"\n",
      "[1] \"PY\"             \"t: -135.524940\"\n",
      "[1] \"R\"             \"t: -58.519642\"\n",
      "[1] \"Rust\"          \"t: -40.783967\"\n",
      "[1] \"Scala\"         \"t: -39.920934\"\n",
      "[1] \"Sql\"           \"t: -33.450154\"\n",
      "[1] \"Swift\"        \"t: -3.858263\"\n",
      "[1] \"TypeScript\"    \"t: -39.714780\"\n",
      "[1] \"ipy\"           \"t: -12.300861\"\n",
      "[1] \"java\"           \"t: -280.445886\"\n",
      "[1] \"php\"            \"t: -138.726608\"\n",
      "[1] \"pl\"            \"t: -49.261612\"\n",
      "[1] \"rb\"            \"t: -39.958655\"\n",
      "[1] \"2y\"\n",
      "[1] \"C\"              \"t: -323.393356\"\n",
      "[1] \"CSS\"           \"t: -44.837579\"\n",
      "[1] \"Cs\"            \"t: -95.728045\"\n",
      "[1] \"Fml\"           \"t: -68.590412\"\n",
      "[1] \"Go\"            \"t: -17.276222\"\n",
      "[1] \"JS\"             \"t: -126.528326\"\n",
      "[1] \"Kotlin\"        \"t: -16.774156\"\n",
      "[1] \"Markdown\"      \"t: -48.182141\"\n",
      "[1] \"ObjectiveC\"    \"t: -44.915261\"\n",
      "[1] \"Other\"          \"t: -519.605610\"\n",
      "[1] \"PY\"             \"t: -125.815761\"\n",
      "[1] \"R\"             \"t: -59.170722\"\n",
      "[1] \"Rust\"          \"t: -33.603108\"\n",
      "[1] \"Scala\"         \"t: -32.674669\"\n",
      "[1] \"Sql\"           \"t: -34.462020\"\n",
      "[1] \"Swift\"            \"Not significant!\"\n",
      "[1] \"TypeScript\"    \"t: -30.760126\"\n",
      "[1] \"ipy\"          \"t: -8.324873\"\n",
      "[1] \"java\"           \"t: -267.155687\"\n",
      "[1] \"php\"            \"t: -134.717181\"\n",
      "[1] \"pl\"            \"t: -43.741245\"\n",
      "[1] \"rb\"            \"t: -40.213381\"\n"
     ]
    }
   ],
   "source": [
    "sv=0.005\n",
    "for(i in 2:3){\n",
    "    print(names(x)[i])\n",
    "    for(l in ty){ \n",
    "        test=t.test(tx[[i]][tx[[i]]$ll==l&tx[[i]]$c,\"t\"],tx[[i]][tx[[i]]$ll==l&!tx[[i]]$c,\"t\"])\n",
    "        if(test$p.value<sv){\n",
    "            print(c(l,sprintf(\"t: %f\",test$statistic)))\n",
    "        }else{\n",
    "            print(c(l,\"Not significant!\"))\n",
    "        }\n",
    "    }\n",
    "}"
   ]
  },
  {
   "cell_type": "code",
   "execution_count": 110,
   "id": "bb3ac1ea",
   "metadata": {},
   "outputs": [
    {
     "name": "stdout",
     "output_type": "stream",
     "text": [
      "[1] \"1y\"\n",
      "[1] \"C\"\n",
      "                Estimate   Std. Error   z value Pr(>|z|)\n",
      "(Intercept)  3.39547e+00 1.292210e-02  262.7645        0\n",
      "t           -3.69819e-09 9.156803e-12 -403.8736        0\n",
      "[1] \"CSS\"\n",
      "                 Estimate   Std. Error   z value     Pr(>|z|)\n",
      "(Intercept)  1.384468e+00 7.056798e-02  19.61892 1.065917e-85\n",
      "t           -2.732934e-09 4.681179e-11 -58.38132 0.000000e+00\n",
      "[1] \"Cs\"\n",
      "                 Estimate   Std. Error    z value Pr(>|z|)\n",
      "(Intercept)  2.025011e+00 4.738957e-02   42.73116        0\n",
      "t           -3.263299e-09 3.176937e-11 -102.71840        0\n",
      "[1] \"Fml\"\n",
      "                 Estimate   Std. Error    z value Pr(>|z|)\n",
      "(Intercept)  6.297005e+00 8.678629e-02   72.55761        0\n",
      "t           -6.261895e-09 6.231711e-11 -100.48437        0\n",
      "[1] \"Go\"\n",
      "                 Estimate   Std. Error   z value      Pr(>|z|)\n",
      "(Intercept)  1.688092e+00 1.347764e-01  12.52513  5.440233e-36\n",
      "t           -2.805339e-09 8.790957e-11 -31.91164 1.840902e-223\n",
      "[1] \"JS\"\n",
      "                 Estimate   Std. Error    z value Pr(>|z|)\n",
      "(Intercept)  2.409972e+00 2.615632e-02   92.13727        0\n",
      "t           -3.546453e-09 1.706886e-11 -207.77325        0\n",
      "[1] \"Kotlin\"\n",
      "                 Estimate   Std. Error   z value     Pr(>|z|)\n",
      "(Intercept)  4.578917e+00 4.249192e-01  10.77597 4.470339e-27\n",
      "t           -5.246012e-09 2.723006e-10 -19.26552 1.046159e-82\n",
      "[1] \"Markdown\"\n",
      "                 Estimate   Std. Error   z value      Pr(>|z|)\n",
      "(Intercept) -8.394108e-01 3.391275e-02 -24.75207 2.945091e-135\n",
      "t           -1.679283e-09 2.220037e-11 -75.64215  0.000000e+00\n",
      "[1] \"ObjectiveC\"\n",
      "                 Estimate   Std. Error   z value      Pr(>|z|)\n",
      "(Intercept)  2.841882e+00 8.988460e-02  31.61701 2.155486e-219\n",
      "t           -3.721157e-09 6.256484e-11 -59.47681  0.000000e+00\n",
      "[1] \"Other\"\n",
      "                 Estimate   Std. Error   z value Pr(>|z|)\n",
      "(Intercept)  2.241330e+00 7.133458e-03  314.1996        0\n",
      "t           -3.271691e-09 4.737220e-12 -690.6352        0\n",
      "[1] \"PY\"\n",
      "                 Estimate   Std. Error   z value Pr(>|z|)\n",
      "(Intercept)  4.125199e+00 3.681054e-02  112.0657        0\n",
      "t           -4.666357e-09 2.489765e-11 -187.4216        0\n",
      "[1] \"R\"\n",
      "                 Estimate   Std. Error   z value Pr(>|z|)\n",
      "(Intercept)  4.954369e+00 1.056472e-01  46.89541        0\n",
      "t           -4.912747e-09 7.148494e-11 -68.72422        0\n",
      "[1] \"Rust\"\n",
      "                 Estimate   Std. Error   z value     Pr(>|z|)\n",
      "(Intercept)  4.587660e+00 1.488649e-01  30.81760 1.52292e-208\n",
      "t           -4.875386e-09 9.859236e-11 -49.44993  0.00000e+00\n",
      "[1] \"Scala\"\n",
      "                 Estimate   Std. Error   z value      Pr(>|z|)\n",
      "(Intercept)  6.262881e+00 1.777698e-01  35.23029 6.875339e-272\n",
      "t           -6.560005e-09 1.220626e-10 -53.74294  0.000000e+00\n",
      "[1] \"Sql\"\n",
      "                 Estimate   Std. Error   z value     Pr(>|z|)\n",
      "(Intercept)  3.117627e+00 1.300208e-01  23.97792 4.72723e-127\n",
      "t           -3.970637e-09 8.801741e-11 -45.11195  0.00000e+00\n",
      "[1] \"Swift\"\n",
      "                 Estimate   Std. Error   z value     Pr(>|z|)\n",
      "(Intercept) -2.488396e+00 2.832812e-01 -8.784192 1.574926e-18\n",
      "t           -6.594882e-10 1.851291e-10 -3.562315 3.675983e-04\n",
      "[1] \"TypeScript\"\n",
      "                 Estimate   Std. Error   z value      Pr(>|z|)\n",
      "(Intercept)  3.048290e+00 1.224260e-01  24.89905 7.618998e-137\n",
      "t           -3.785752e-09 7.862379e-11 -48.15021  0.000000e+00\n",
      "[1] \"ipy\"\n",
      "                 Estimate   Std. Error    z value     Pr(>|z|)\n",
      "(Intercept)  2.192890e+00 4.217001e-01   5.200116 1.991637e-07\n",
      "t           -3.527682e-09 2.706352e-10 -13.034823 7.754628e-39\n",
      "[1] \"java\"\n",
      "                 Estimate   Std. Error   z value Pr(>|z|)\n",
      "(Intercept)  5.028153e+00 2.002783e-02  251.0583        0\n",
      "t           -5.243431e-09 1.389544e-11 -377.3490        0\n",
      "[1] \"php\"\n",
      "                 Estimate   Std. Error    z value Pr(>|z|)\n",
      "(Intercept)  2.957433e+00 3.100835e-02   95.37537        0\n",
      "t           -3.592002e-09 2.108848e-11 -170.33002        0\n",
      "[1] \"pl\"\n",
      "                 Estimate   Std. Error   z value      Pr(>|z|)\n",
      "(Intercept)  1.926852e+00 7.029969e-02  27.40911 2.135847e-165\n",
      "t           -2.567893e-09 5.184194e-11 -49.53312  0.000000e+00\n",
      "[1] \"rb\"\n",
      "                 Estimate   Std. Error    z value   Pr(>|z|)\n",
      "(Intercept) -1.343526e-01 6.486272e-02  -2.071337 0.03832731\n",
      "t           -2.015886e-09 4.489498e-11 -44.902256 0.00000000\n",
      "[1] \"2y\"\n",
      "[1] \"C\"\n",
      "                 Estimate   Std. Error   z value Pr(>|z|)\n",
      "(Intercept)  3.222296e+00 1.340473e-02  240.3849        0\n",
      "t           -3.508141e-09 9.586562e-12 -365.9436        0\n",
      "[1] \"CSS\"\n",
      "                 Estimate   Std. Error   z value     Pr(>|z|)\n",
      "(Intercept)  1.623854e+00 7.931143e-02  20.47440 3.642306e-93\n",
      "t           -2.824105e-09 5.343444e-11 -52.85178 0.000000e+00\n",
      "[1] \"Cs\"\n",
      "                 Estimate   Std. Error    z value Pr(>|z|)\n",
      "(Intercept)  3.720852e+00 5.011415e-02   74.24753        0\n",
      "t           -4.386356e-09 3.420409e-11 -128.24068        0\n",
      "[1] \"Fml\"\n",
      "                 Estimate   Std. Error   z value Pr(>|z|)\n",
      "(Intercept)  6.265943e+00 9.058991e-02  69.16823        0\n",
      "t           -6.185192e-09 6.565283e-11 -94.21060        0\n",
      "[1] \"Go\"\n",
      "                 Estimate   Std. Error    z value     Pr(>|z|)\n",
      "(Intercept)  3.457707e-01 1.609202e-01   2.148709 3.165747e-02\n",
      "t           -1.845788e-09 1.062495e-10 -17.372199 1.339915e-67\n",
      "[1] \"JS\"\n",
      "                 Estimate   Std. Error    z value Pr(>|z|)\n",
      "(Intercept)  1.680719e+00 3.121418e-02   53.84474        0\n",
      "t           -2.987446e-09 2.066995e-11 -144.53090        0\n",
      "[1] \"Kotlin\"\n",
      "                 Estimate   Std. Error   z value      Pr(>|z|)\n",
      "(Intercept)  9.248908e+00 5.361047e-01  17.25205  1.079900e-66\n",
      "t           -8.249580e-09 3.485310e-10 -23.66957 7.422126e-124\n",
      "[1] \"Markdown\"\n",
      "                 Estimate   Std. Error   z value     Pr(>|z|)\n",
      "(Intercept) -1.365532e+00 3.791209e-02 -36.01838 4.31306e-284\n",
      "t           -1.180401e-09 2.516144e-11 -46.91309  0.00000e+00\n",
      "[1] \"ObjectiveC\"\n",
      "                 Estimate   Std. Error   z value      Pr(>|z|)\n",
      "(Intercept)  3.142208e+00 9.114875e-02  34.47341 2.008352e-260\n",
      "t           -3.846797e-09 6.380114e-11 -60.29355  0.000000e+00\n",
      "[1] \"Other\"\n",
      "                 Estimate   Std. Error   z value Pr(>|z|)\n",
      "(Intercept)  1.922724e+00 7.569263e-03  254.0173        0\n",
      "t           -2.950759e-09 5.098703e-12 -578.7274        0\n",
      "[1] \"PY\"\n",
      "                 Estimate   Std. Error   z value Pr(>|z|)\n",
      "(Intercept)  4.182295e+00 3.965799e-02  105.4591        0\n",
      "t           -4.645755e-09 2.720638e-11 -170.7597        0\n",
      "[1] \"R\"\n",
      "                 Estimate   Std. Error   z value Pr(>|z|)\n",
      "(Intercept)  5.493568e+00 1.143316e-01  48.04942        0\n",
      "t           -5.244089e-09 7.837834e-11 -66.90738        0\n",
      "[1] \"Rust\"\n",
      "                 Estimate   Std. Error   z value      Pr(>|z|)\n",
      "(Intercept)  4.203950e+00 1.682354e-01  24.98850 8.152536e-138\n",
      "t           -4.560838e-09 1.129748e-10 -40.37039  0.000000e+00\n",
      "[1] \"Scala\"\n",
      "                 Estimate   Std. Error   z value     Pr(>|z|)\n",
      "(Intercept)  5.478091e+00 1.912874e-01  28.63802 2.26046e-180\n",
      "t           -5.937950e-09 1.322659e-10 -44.89402  0.00000e+00\n",
      "[1] \"Sql\"\n",
      "                 Estimate   Std. Error   z value      Pr(>|z|)\n",
      "(Intercept)  3.493915e+00 1.337266e-01  26.12729 1.785792e-150\n",
      "t           -4.157698e-09 9.147100e-11 -45.45373  0.000000e+00\n",
      "[1] \"Swift\"\n",
      "                 Estimate   Std. Error    z value     Pr(>|z|)\n",
      "(Intercept) -3.825452e+00 3.412561e-01 -11.209918 3.645317e-29\n",
      "t            3.102423e-10 2.251941e-10   1.377666 1.683063e-01\n",
      "[1] \"TypeScript\"\n",
      "                 Estimate   Std. Error   z value      Pr(>|z|)\n",
      "(Intercept)  3.363534e+00 1.542602e-01  21.80430 2.112208e-105\n",
      "t           -3.940575e-09 1.004946e-10 -39.21182  0.000000e+00\n",
      "[1] \"ipy\"\n",
      "                 Estimate   Std. Error   z value     Pr(>|z|)\n",
      "(Intercept)  1.544511e+00 5.224317e-01  2.956389 3.112641e-03\n",
      "t           -2.997515e-09 3.398379e-10 -8.820427 1.140242e-18\n",
      "[1] \"java\"\n",
      "                 Estimate   Std. Error   z value Pr(>|z|)\n",
      "(Intercept)  5.089383e+00 2.105598e-02  241.7072        0\n",
      "t           -5.225137e-09 1.475261e-11 -354.1840        0\n",
      "[1] \"php\"\n",
      "                 Estimate   Std. Error    z value Pr(>|z|)\n",
      "(Intercept)  3.244465e+00 3.302252e-02   98.25009        0\n",
      "t           -3.729930e-09 2.270622e-11 -164.26908        0\n",
      "[1] \"pl\"\n",
      "                 Estimate   Std. Error   z value      Pr(>|z|)\n",
      "(Intercept)  1.708120e+00 7.201115e-02  23.72021 2.230846e-124\n",
      "t           -2.352485e-09 5.331483e-11 -44.12440  0.000000e+00\n",
      "[1] \"rb\"\n",
      "                 Estimate   Std. Error    z value    Pr(>|z|)\n",
      "(Intercept)  1.803008e-01 6.805135e-02   2.649481 0.008061548\n",
      "t           -2.158585e-09 4.752343e-11 -45.421495 0.000000000\n"
     ]
    }
   ],
   "source": [
    "sv=0.005\n",
    "for(i in 2:3){\n",
    "    print(names(x)[i])\n",
    "    for(l in ty){ \n",
    "        glm=glm(c~t, data=tx[[i]][tx[[i]]$ll==l,], family=binomial)\n",
    "        print(l)\n",
    "        print(summary(glm)$coef)\n",
    "    }\n",
    "}"
   ]
  },
  {
   "cell_type": "code",
   "execution_count": 202,
   "id": "3e743fce",
   "metadata": {
    "scrolled": true
   },
   "outputs": [
    {
     "name": "stdout",
     "output_type": "stream",
     "text": [
      "[1] \"1y\"\n",
      "\n",
      "Call:\n",
      "glm(formula = c ~ t + ll, family = binomial, data = tx[[i]])\n",
      "\n",
      "Deviance Residuals: \n",
      "    Min       1Q   Median       3Q      Max  \n",
      "-2.5241  -0.3699  -0.3285  -0.3033   2.7965  \n",
      "\n",
      "Coefficients:\n",
      "               Estimate Std. Error  z value Pr(>|z|)    \n",
      "(Intercept)   2.551e+00  5.524e-03  461.745  < 2e-16 ***\n",
      "t            -3.478e-09  3.666e-12 -948.711  < 2e-16 ***\n",
      "llC           5.356e-01  1.638e-03  327.016  < 2e-16 ***\n",
      "llCSS        -4.709e-02  4.105e-03  -11.472  < 2e-16 ***\n",
      "llCs         -2.067e-01  3.151e-03  -65.603  < 2e-16 ***\n",
      "llFml        -1.530e-01  9.848e-03  -15.535  < 2e-16 ***\n",
      "llGo          1.664e-01  5.945e-03   27.995  < 2e-16 ***\n",
      "llJS         -2.459e-01  1.305e-03 -188.397  < 2e-16 ***\n",
      "llKotlin     -7.326e-01  1.144e-02  -64.042  < 2e-16 ***\n",
      "llMarkdown   -6.697e-01  3.090e-03 -216.716  < 2e-16 ***\n",
      "llObjectiveC -5.778e-02  6.762e-03   -8.546  < 2e-16 ***\n",
      "llPY         -1.843e-01  2.895e-03  -63.668  < 2e-16 ***\n",
      "llR           2.820e-01  7.944e-03   35.503  < 2e-16 ***\n",
      "llRust       -7.563e-02  8.808e-03   -8.587  < 2e-16 ***\n",
      "llScala      -8.077e-01  1.232e-02  -65.578  < 2e-16 ***\n",
      "llSql        -1.602e-01  9.808e-03  -16.336  < 2e-16 ***\n",
      "llSwift      -7.426e-01  1.074e-02  -69.152  < 2e-16 ***\n",
      "llTypeScript  1.813e-02  3.963e-03    4.575 4.75e-06 ***\n",
      "llipy        -4.356e-01  1.313e-02  -33.174  < 2e-16 ***\n",
      "lljava       -7.419e-02  1.815e-03  -40.868  < 2e-16 ***\n",
      "llphp         2.391e-01  2.278e-03  104.958  < 2e-16 ***\n",
      "llpl          5.960e-01  8.379e-03   71.133  < 2e-16 ***\n",
      "llrb         -5.872e-01  4.453e-03 -131.867  < 2e-16 ***\n",
      "---\n",
      "Signif. codes:  0 '***' 0.001 '**' 0.01 '*' 0.05 '.' 0.1 ' ' 1\n",
      "\n",
      "(Dispersion parameter for binomial family taken to be 1)\n",
      "\n",
      "    Null deviance: 51476230  on 111380251  degrees of freedom\n",
      "Residual deviance: 50104983  on 111380229  degrees of freedom\n",
      "AIC: 50105029\n",
      "\n",
      "Number of Fisher Scoring iterations: 6\n",
      "\n",
      "[1] \"2y\"\n",
      "\n",
      "Call:\n",
      "glm(formula = c ~ t + ll, family = binomial, data = tx[[i]])\n",
      "\n",
      "Deviance Residuals: \n",
      "    Min       1Q   Median       3Q      Max  \n",
      "-2.4252  -0.4107  -0.3701  -0.3448   2.6989  \n",
      "\n",
      "Coefficients:\n",
      "               Estimate Std. Error z value Pr(>|z|)    \n",
      "(Intercept)   2.346e+00  5.878e-03  399.00   <2e-16 ***\n",
      "t            -3.236e-09  3.958e-12 -817.76   <2e-16 ***\n",
      "llC           4.989e-01  1.652e-03  302.05   <2e-16 ***\n",
      "llCSS        -1.111e-01  4.348e-03  -25.55   <2e-16 ***\n",
      "llCs         -3.105e-01  3.322e-03  -93.48   <2e-16 ***\n",
      "llFml        -1.685e-01  9.898e-03  -17.02   <2e-16 ***\n",
      "llGo          1.018e-01  6.459e-03   15.76   <2e-16 ***\n",
      "llJS         -2.893e-01  1.419e-03 -203.95   <2e-16 ***\n",
      "llKotlin     -8.207e-01  1.333e-02  -61.58   <2e-16 ***\n",
      "llMarkdown   -6.455e-01  3.209e-03 -201.14   <2e-16 ***\n",
      "llObjectiveC -7.438e-02  6.574e-03  -11.31   <2e-16 ***\n",
      "llPY         -2.202e-01  3.010e-03  -73.16   <2e-16 ***\n",
      "llR           2.161e-01  8.274e-03   26.12   <2e-16 ***\n",
      "llRust       -1.154e-01  9.432e-03  -12.23   <2e-16 ***\n",
      "llScala      -7.932e-01  1.227e-02  -64.64   <2e-16 ***\n",
      "llSql        -1.983e-01  9.880e-03  -20.07   <2e-16 ***\n",
      "llSwift      -8.144e-01  1.117e-02  -72.91   <2e-16 ***\n",
      "llTypeScript -6.286e-02  4.611e-03  -13.63   <2e-16 ***\n",
      "llipy        -4.340e-01  1.476e-02  -29.41   <2e-16 ***\n",
      "lljava       -1.025e-01  1.831e-03  -55.97   <2e-16 ***\n",
      "llphp         1.820e-01  2.321e-03   78.44   <2e-16 ***\n",
      "llpl          5.441e-01  8.310e-03   65.48   <2e-16 ***\n",
      "llrb         -6.293e-01  4.384e-03 -143.54   <2e-16 ***\n",
      "---\n",
      "Signif. codes:  0 '***' 0.001 '**' 0.01 '*' 0.05 '.' 0.1 ' ' 1\n",
      "\n",
      "(Dispersion parameter for binomial family taken to be 1)\n",
      "\n",
      "    Null deviance: 45438151  on 84556092  degrees of freedom\n",
      "Residual deviance: 44344751  on 84556070  degrees of freedom\n",
      "AIC: 44344797\n",
      "\n",
      "Number of Fisher Scoring iterations: 5\n",
      "\n"
     ]
    }
   ],
   "source": [
    "for(i in 2:3) {\n",
    "    print(names(x)[i])\n",
    "    glm=glm(c~t+ll, data=tx[[i]], family=binomial)\n",
    "    print(summary(glm))\n",
    "}"
   ]
  },
  {
   "cell_type": "markdown",
   "id": "0a110d86",
   "metadata": {},
   "source": [
    "**Plotting created and copied blobs over time for each language**"
   ]
  },
  {
   "cell_type": "code",
   "execution_count": null,
   "id": "8077db38",
   "metadata": {},
   "outputs": [],
   "source": [
    "tsl=list()\n",
    "for(i in 2:3){\n",
    "    tsl[[i]]=list()\n",
    "    for(l in ty){\n",
    "        tsl[[i]][[l]]=list()\n",
    "        data=tx[[i]][tx[[i]]$ll==l,]\n",
    "        for(j in 1:dim(data)[1]){\n",
    "            posix=as.POSIXct(data$t[j], origin=\"1970-01-01\")\n",
    "            period=substr(posix,1,7)\n",
    "            c=data$c[j]\n",
    "            if(is.null(tsl[[i]][[l]][[period]])){\n",
    "                tsl[[i]][[l]][[period]][\"total\"]=1\n",
    "                tsl[[i]][[l]][[period]][\"copied\"]=c\n",
    "            }else{\n",
    "                tsl[[i]][[l]][[period]][\"total\"]=tsl[[i]][[l]][[period]][\"total\"]+1\n",
    "                tsl[[i]][[l]][[period]][\"copied\"]=tsl[[i]][[l]][[period]][\"copied\"]+c\n",
    "            }\n",
    "        }\n",
    "    }\n",
    "}\n",
    "saveRDS(tsl,\"../data/blobs/bsample.tsl.rds\")"
   ]
  },
  {
   "cell_type": "markdown",
   "id": "2ef71261",
   "metadata": {},
   "source": [
    "## Regression Model"
   ]
  },
  {
   "cell_type": "code",
   "execution_count": 58,
   "id": "38b4d76c",
   "metadata": {},
   "outputs": [],
   "source": [
    "data=x[[2]]\n",
    "data$lns=log(data$s + 1)"
   ]
  },
  {
   "cell_type": "code",
   "execution_count": 59,
   "id": "2751e87e",
   "metadata": {},
   "outputs": [],
   "source": [
    "data[data$t==0,\"t\"]=NA"
   ]
  },
  {
   "cell_type": "code",
   "execution_count": 17,
   "id": "5655376a",
   "metadata": {},
   "outputs": [],
   "source": [
    "pred=c(\"t\",\"b\",\"lns\")"
   ]
  },
  {
   "cell_type": "code",
   "execution_count": 18,
   "id": "add05456",
   "metadata": {},
   "outputs": [
    {
     "data": {
      "text/html": [
       "<table class=\"dataframe\">\n",
       "<caption>A matrix: 3 x 3 of type dbl</caption>\n",
       "<thead>\n",
       "\t<tr><th></th><th scope=col>t</th><th scope=col>b</th><th scope=col>lns</th></tr>\n",
       "</thead>\n",
       "<tbody>\n",
       "\t<tr><th scope=row>t</th><td>1.00000000</td><td>0.05169052</td><td>NA</td></tr>\n",
       "\t<tr><th scope=row>b</th><td>0.05169052</td><td>1.00000000</td><td>NA</td></tr>\n",
       "\t<tr><th scope=row>lns</th><td>        NA</td><td>        NA</td><td> 1</td></tr>\n",
       "</tbody>\n",
       "</table>\n"
      ],
      "text/latex": [
       "A matrix: 3 x 3 of type dbl\n",
       "\\begin{tabular}{r|lll}\n",
       "  & t & b & lns\\\\\n",
       "\\hline\n",
       "\tt & 1.00000000 & 0.05169052 & NA\\\\\n",
       "\tb & 0.05169052 & 1.00000000 & NA\\\\\n",
       "\tlns &         NA &         NA &  1\\\\\n",
       "\\end{tabular}\n"
      ],
      "text/markdown": [
       "\n",
       "A matrix: 3 x 3 of type dbl\n",
       "\n",
       "| <!--/--> | t | b | lns |\n",
       "|---|---|---|---|\n",
       "| t | 1.00000000 | 0.05169052 | NA |\n",
       "| b | 0.05169052 | 1.00000000 | NA |\n",
       "| lns |         NA |         NA |  1 |\n",
       "\n"
      ],
      "text/plain": [
       "    t          b          lns\n",
       "t   1.00000000 0.05169052 NA \n",
       "b   0.05169052 1.00000000 NA \n",
       "lns         NA         NA  1 "
      ]
     },
     "metadata": {},
     "output_type": "display_data"
    }
   ],
   "source": [
    "cor(data[,pred],method=\"spearman\")"
   ]
  },
  {
   "cell_type": "code",
   "execution_count": 19,
   "id": "3a1dbe95",
   "metadata": {},
   "outputs": [
    {
     "ename": "ERROR",
     "evalue": "Error in svd(x, nu = 0, nv = k): infinite or missing values in 'x'\n",
     "output_type": "error",
     "traceback": [
      "Error in svd(x, nu = 0, nv = k): infinite or missing values in 'x'\nTraceback:\n",
      "1. prcomp(data[, pred], retx = F, scale = T)",
      "2. prcomp.default(data[, pred], retx = F, scale = T)",
      "3. svd(x, nu = 0, nv = k)",
      "4. stop(\"infinite or missing values in 'x'\")"
     ]
    }
   ],
   "source": [
    "pca <- prcomp(data[,pred], retx=F, scale=T)\n",
    "print(pca)"
   ]
  },
  {
   "cell_type": "code",
   "execution_count": 63,
   "id": "94509835",
   "metadata": {},
   "outputs": [
    {
     "name": "stdout",
     "output_type": "stream",
     "text": [
      "\n",
      "Call:\n",
      "glm(formula = c ~ t + b + ll + lns, family = binomial, data = data)\n",
      "\n",
      "Deviance Residuals: \n",
      "    Min       1Q   Median       3Q      Max  \n",
      "-2.8560  -0.3548  -0.3060  -0.2733   2.9477  \n",
      "\n",
      "Coefficients: (1 not defined because of singularities)\n",
      "               Estimate Std. Error  z value Pr(>|z|)    \n",
      "(Intercept)   3.563e+00  6.487e-03  549.240   <2e-16 ***\n",
      "t            -3.915e-09  4.070e-12 -962.066   <2e-16 ***\n",
      "bTRUE                NA         NA       NA       NA    \n",
      "llC           7.038e-01  1.706e-03  412.559   <2e-16 ***\n",
      "llCSS         1.375e-01  4.134e-03   33.267   <2e-16 ***\n",
      "llCs         -5.598e-02  3.187e-03  -17.564   <2e-16 ***\n",
      "llFml         1.567e-02  9.902e-03    1.582    0.114    \n",
      "llGo          3.631e-01  5.968e-03   60.841   <2e-16 ***\n",
      "llJS         -6.251e-02  1.390e-03  -44.956   <2e-16 ***\n",
      "llKotlin     -5.683e-01  1.145e-02  -49.616   <2e-16 ***\n",
      "llMarkdown   -5.249e-01  3.143e-03 -167.039   <2e-16 ***\n",
      "llObjectiveC  1.020e-01  6.786e-03   15.028   <2e-16 ***\n",
      "llPY         -3.559e-03  2.933e-03   -1.213    0.225    \n",
      "llR           4.473e-01  7.978e-03   56.061   <2e-16 ***\n",
      "llRust        1.191e-01  8.830e-03   13.483   <2e-16 ***\n",
      "llScala      -6.511e-01  1.233e-02  -52.799   <2e-16 ***\n",
      "llSql        -5.459e-03  9.835e-03   -0.555    0.579    \n",
      "llSwift      -5.740e-01  1.075e-02  -53.374   <2e-16 ***\n",
      "llTypeScript  1.832e-01  3.999e-03   45.816   <2e-16 ***\n",
      "llipy        -2.016e-02  1.317e-02   -1.531    0.126    \n",
      "lljava        7.665e-02  1.872e-03   40.955   <2e-16 ***\n",
      "llphp         3.971e-01  2.325e-03  170.842   <2e-16 ***\n",
      "llpl          7.436e-01  8.445e-03   88.055   <2e-16 ***\n",
      "llrb         -5.034e-01  4.487e-03 -112.189   <2e-16 ***\n",
      "lns          -7.434e-02  2.980e-04 -249.436   <2e-16 ***\n",
      "---\n",
      "Signif. codes:  0 '***' 0.001 '**' 0.01 '*' 0.05 '.' 0.1 ' ' 1\n",
      "\n",
      "(Dispersion parameter for binomial family taken to be 1)\n",
      "\n",
      "    Null deviance: 37762293  on 86540828  degrees of freedom\n",
      "Residual deviance: 36266651  on 86540805  degrees of freedom\n",
      "  (24920161 observations deleted due to missingness)\n",
      "AIC: 36266699\n",
      "\n",
      "Number of Fisher Scoring iterations: 6\n",
      "\n"
     ]
    }
   ],
   "source": [
    "glm=glm(c~t+b+ll+lns, data=data, family=binomial)\n",
    "print(summary(glm))"
   ]
  },
  {
   "cell_type": "code",
   "execution_count": 65,
   "id": "2711a1e7",
   "metadata": {},
   "outputs": [
    {
     "name": "stdout",
     "output_type": "stream",
     "text": [
      "\n",
      "Call:\n",
      "glm(formula = c ~ t + b + lns, family = binomial, data = data)\n",
      "\n",
      "Deviance Residuals: \n",
      "    Min       1Q   Median       3Q      Max  \n",
      "-2.8240  -0.3552  -0.3087  -0.2797   2.8060  \n",
      "\n",
      "Coefficients: (1 not defined because of singularities)\n",
      "              Estimate Std. Error z value Pr(>|z|)    \n",
      "(Intercept)  4.124e+00  6.232e-03   661.7   <2e-16 ***\n",
      "t           -4.331e-09  3.914e-12 -1106.4   <2e-16 ***\n",
      "bTRUE               NA         NA      NA       NA    \n",
      "lns         -6.035e-02  2.910e-04  -207.4   <2e-16 ***\n",
      "---\n",
      "Signif. codes:  0 '***' 0.001 '**' 0.01 '*' 0.05 '.' 0.1 ' ' 1\n",
      "\n",
      "(Dispersion parameter for binomial family taken to be 1)\n",
      "\n",
      "    Null deviance: 37762293  on 86540828  degrees of freedom\n",
      "Residual deviance: 36534695  on 86540826  degrees of freedom\n",
      "  (24920161 observations deleted due to missingness)\n",
      "AIC: 36534701\n",
      "\n",
      "Number of Fisher Scoring iterations: 5\n",
      "\n"
     ]
    }
   ],
   "source": [
    "glm=glm(c~t+b+lns, data=data, family=binomial)\n",
    "print(summary(glm))"
   ]
  },
  {
   "cell_type": "code",
   "execution_count": 64,
   "id": "aae258e7",
   "metadata": {},
   "outputs": [
    {
     "name": "stdout",
     "output_type": "stream",
     "text": [
      "\n",
      "Call:\n",
      "lm(formula = d ~ t + b + ll + lns, data = data)\n",
      "\n",
      "Residuals:\n",
      "   Min     1Q Median     3Q    Max \n",
      "    -3     -1      0      0  58205 \n",
      "\n",
      "Coefficients: (1 not defined because of singularities)\n",
      "               Estimate Std. Error t value Pr(>|t|)    \n",
      "(Intercept)   1.632e+00  7.201e-02  22.660  < 2e-16 ***\n",
      "t            -8.034e-10  4.596e-11 -17.481  < 2e-16 ***\n",
      "bTRUE                NA         NA      NA       NA    \n",
      "llC           2.502e-01  2.058e-02  12.159  < 2e-16 ***\n",
      "llCSS         1.834e-01  3.785e-02   4.846 1.26e-06 ***\n",
      "llCs         -5.027e-02  2.772e-02  -1.814  0.06970 .  \n",
      "llFml        -2.038e-01  9.405e-02  -2.167  0.03022 *  \n",
      "llGo          4.236e-01  5.785e-02   7.321 2.46e-13 ***\n",
      "llJS          4.852e-01  1.140e-02  42.563  < 2e-16 ***\n",
      "llKotlin     -2.058e-01  7.069e-02  -2.912  0.00359 ** \n",
      "llMarkdown    5.152e-02  2.145e-02   2.401  0.01634 *  \n",
      "llObjectiveC  3.339e-02  6.777e-02   0.493  0.62217    \n",
      "llPY          2.869e-01  2.565e-02  11.187  < 2e-16 ***\n",
      "llR          -1.781e-01  8.545e-02  -2.084  0.03717 *  \n",
      "llRust       -1.029e-02  7.817e-02  -0.132  0.89526    \n",
      "llScala      -2.388e-01  8.234e-02  -2.900  0.00373 ** \n",
      "llSql        -1.602e-01  8.809e-02  -1.819  0.06897 .  \n",
      "llSwift      -6.858e-02  7.041e-02  -0.974  0.33007    \n",
      "llTypeScript  9.140e-01  3.506e-02  26.071  < 2e-16 ***\n",
      "llipy        -1.190e-01  9.397e-02  -1.266  0.20542    \n",
      "lljava       -1.613e-01  1.772e-02  -9.102  < 2e-16 ***\n",
      "llphp         1.013e+00  2.474e-02  40.927  < 2e-16 ***\n",
      "llpl          9.329e-04  1.192e-01   0.008  0.99375    \n",
      "llrb         -3.600e-02  3.605e-02  -0.999  0.31794    \n",
      "lns          -1.669e-02  2.550e-03  -6.544 5.99e-11 ***\n",
      "---\n",
      "Signif. codes:  0 '***' 0.001 '**' 0.01 '*' 0.05 '.' 0.1 ' ' 1\n",
      "\n",
      "Residual standard error: 38.75 on 86540805 degrees of freedom\n",
      "  (24920161 observations deleted due to missingness)\n",
      "Multiple R-squared:  5.26e-05,\tAdjusted R-squared:  5.233e-05 \n",
      "F-statistic: 197.9 on 23 and 86540805 DF,  p-value: < 2.2e-16\n",
      "\n"
     ]
    }
   ],
   "source": [
    "lm=lm(d~t+b+ll+lns, data=data)\n",
    "print(summary(lm))"
   ]
  }
 ],
 "metadata": {
  "kernelspec": {
   "display_name": "R",
   "language": "R",
   "name": "ir"
  },
  "language_info": {
   "codemirror_mode": "r",
   "file_extension": ".r",
   "mimetype": "text/x-r-source",
   "name": "R",
   "pygments_lexer": "r",
   "version": "3.6.3"
  }
 },
 "nbformat": 4,
 "nbformat_minor": 5
}
