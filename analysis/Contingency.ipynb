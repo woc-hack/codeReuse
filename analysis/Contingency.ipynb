{
 "cells": [
  {
   "cell_type": "code",
   "execution_count": 41,
   "id": "6d282c1b",
   "metadata": {},
   "outputs": [
    {
     "data": {
      "text/html": [
       "<table class=\"dataframe\">\n",
       "<caption>A data.frame: 9 x 4</caption>\n",
       "<thead>\n",
       "\t<tr><th scope=col>names</th><th scope=col>counts</th><th scope=col>up</th><th scope=col>down</th></tr>\n",
       "\t<tr><th scope=col>&lt;fct&gt;</th><th scope=col>&lt;dbl&gt;</th><th scope=col>&lt;fct&gt;</th><th scope=col>&lt;fct&gt;</th></tr>\n",
       "</thead>\n",
       "<tbody>\n",
       "\t<tr><td>b2b</td><td>  9031889</td><td>big </td><td>big </td></tr>\n",
       "\t<tr><td>b2m</td><td>114704285</td><td>big </td><td>med </td></tr>\n",
       "\t<tr><td>b2s</td><td> 89998530</td><td>big </td><td>asml</td></tr>\n",
       "\t<tr><td>m2b</td><td>  7285985</td><td>amed</td><td>big </td></tr>\n",
       "\t<tr><td>m2m</td><td>162803551</td><td>amed</td><td>med </td></tr>\n",
       "\t<tr><td>m2s</td><td>132257105</td><td>amed</td><td>asml</td></tr>\n",
       "\t<tr><td>s2b</td><td>  1237363</td><td>sml </td><td>big </td></tr>\n",
       "\t<tr><td>s2m</td><td> 59871792</td><td>sml </td><td>med </td></tr>\n",
       "\t<tr><td>s2s</td><td> 62809500</td><td>sml </td><td>asml</td></tr>\n",
       "</tbody>\n",
       "</table>\n"
      ],
      "text/latex": [
       "A data.frame: 9 x 4\n",
       "\\begin{tabular}{llll}\n",
       " names & counts & up & down\\\\\n",
       " <fct> & <dbl> & <fct> & <fct>\\\\\n",
       "\\hline\n",
       "\t b2b &   9031889 & big  & big \\\\\n",
       "\t b2m & 114704285 & big  & med \\\\\n",
       "\t b2s &  89998530 & big  & asml\\\\\n",
       "\t m2b &   7285985 & amed & big \\\\\n",
       "\t m2m & 162803551 & amed & med \\\\\n",
       "\t m2s & 132257105 & amed & asml\\\\\n",
       "\t s2b &   1237363 & sml  & big \\\\\n",
       "\t s2m &  59871792 & sml  & med \\\\\n",
       "\t s2s &  62809500 & sml  & asml\\\\\n",
       "\\end{tabular}\n"
      ],
      "text/markdown": [
       "\n",
       "A data.frame: 9 x 4\n",
       "\n",
       "| names &lt;fct&gt; | counts &lt;dbl&gt; | up &lt;fct&gt; | down &lt;fct&gt; |\n",
       "|---|---|---|---|\n",
       "| b2b |   9031889 | big  | big  |\n",
       "| b2m | 114704285 | big  | med  |\n",
       "| b2s |  89998530 | big  | asml |\n",
       "| m2b |   7285985 | amed | big  |\n",
       "| m2m | 162803551 | amed | med  |\n",
       "| m2s | 132257105 | amed | asml |\n",
       "| s2b |   1237363 | sml  | big  |\n",
       "| s2m |  59871792 | sml  | med  |\n",
       "| s2s |  62809500 | sml  | asml |\n",
       "\n"
      ],
      "text/plain": [
       "  names counts    up   down\n",
       "1 b2b     9031889 big  big \n",
       "2 b2m   114704285 big  med \n",
       "3 b2s    89998530 big  asml\n",
       "4 m2b     7285985 amed big \n",
       "5 m2m   162803551 amed med \n",
       "6 m2s   132257105 amed asml\n",
       "7 s2b     1237363 sml  big \n",
       "8 s2m    59871792 sml  med \n",
       "9 s2s    62809500 sml  asml"
      ]
     },
     "metadata": {},
     "output_type": "display_data"
    }
   ],
   "source": [
    "names <- c(\"b2b\",\"b2m\",\"b2s\",\"m2b\",\"m2m\",\"m2s\",\"s2b\",\"s2m\",\"s2s\")\n",
    "counts <- c(9031889,114704285,89998530,7285985,162803551,132257105,1237363,59871792,62809500)\n",
    "ubig <- \"big\"\n",
    "umed <- \"amed\"\n",
    "usml <- \"sml\"\n",
    "big <- \"big\"\n",
    "med <- \"med\"\n",
    "sml <- \"asml\"\n",
    "up <- c(ubig,ubig,ubig,umed,umed,umed,usml,usml,usml)\n",
    "down <- c(big,med,sml,big,med,sml,big,med,sml)\n",
    "data <- data.frame(names,counts,up,down)\n",
    "data"
   ]
  },
  {
   "cell_type": "code",
   "execution_count": 23,
   "id": "e7fc5977",
   "metadata": {},
   "outputs": [
    {
     "data": {
      "image/png": "[encoded data removed]",
      "text/plain": [
       "Plot with title “xtabs(counts ~ down + up, data)”"
      ]
     },
     "metadata": {
      "image/png": {
       "height": 420,
       "width": 420
      }
     },
     "output_type": "display_data"
    }
   ],
   "source": [
    "plot(xtabs(counts ~ down + up, data))"
   ]
  },
  {
   "cell_type": "code",
   "execution_count": 24,
   "id": "7393f38e",
   "metadata": {
    "scrolled": false
   },
   "outputs": [
    {
     "data": {
      "image/png": "[encoded data removed]",
      "text/plain": [
       "Plot with title “xtabs(fitted(glm) ~ down + up, data)”"
      ]
     },
     "metadata": {
      "image/png": {
       "height": 420,
       "width": 420
      }
     },
     "output_type": "display_data"
    }
   ],
   "source": [
    "glm <- glm(counts~up+down, data=data, family=poisson)\n",
    "plot(xtabs(fitted(glm) ~ down + up, data))"
   ]
  },
  {
   "cell_type": "code",
   "execution_count": 25,
   "id": "8e2cb71f",
   "metadata": {},
   "outputs": [
    {
     "data": {
      "text/plain": [
       "\n",
       "\tPearson's Chi-squared test\n",
       "\n",
       "data:  xtabs(counts ~ down + up, data)\n",
       "X-squared = 5153332, df = 4, p-value < 2.2e-16\n"
      ]
     },
     "metadata": {},
     "output_type": "display_data"
    }
   ],
   "source": [
    "chisq.test(xtabs(counts ~ down + up, data))"
   ]
  },
  {
   "cell_type": "code",
   "execution_count": 40,
   "id": "000ef76e",
   "metadata": {},
   "outputs": [
    {
     "data": {
      "text/plain": [
       "\n",
       "Call:\n",
       "glm(formula = counts ~ up + down, family = poisson, data = data)\n",
       "\n",
       "Deviance Residuals: \n",
       "      1        2        3        4        5        6        7        8  \n",
       " 1211.5    190.9   -538.1   -357.3    269.9   -208.5  -1350.1   -684.4  \n",
       "      9  \n",
       " 1002.6  \n",
       "\n",
       "Coefficients:\n",
       "              Estimate Std. Error z value Pr(>|z|)    \n",
       "(Intercept)  1.889e+01  6.862e-05  275230   <2e-16 ***\n",
       "upbig       -3.468e-01  8.937e-05   -3881   <2e-16 ***\n",
       "upsml       -8.919e-01  1.067e-04   -8362   <2e-16 ***\n",
       "downbig     -2.956e+00  2.448e-04  -12075   <2e-16 ***\n",
       "downsml     -1.685e-01  8.045e-05   -2094   <2e-16 ***\n",
       "---\n",
       "Signif. codes:  0 ‘***’ 0.001 ‘**’ 0.01 ‘*’ 0.05 ‘.’ 0.1 ‘ ’ 1\n",
       "\n",
       "(Dispersion parameter for poisson family taken to be 1)\n",
       "\n",
       "    Null deviance: 469220725  on 8  degrees of freedom\n",
       "Residual deviance:   5334099  on 4  degrees of freedom\n",
       "AIC: 5334282\n",
       "\n",
       "Number of Fisher Scoring iterations: 4\n"
      ]
     },
     "metadata": {},
     "output_type": "display_data"
    }
   ],
   "source": [
    "glm <- glm(counts~up+down, data=data, family=poisson)\n",
    "summary(glm)"
   ]
  },
  {
   "cell_type": "code",
   "execution_count": 31,
   "id": "5f28a186",
   "metadata": {},
   "outputs": [
    {
     "data": {
      "text/plain": [
       "\n",
       "Call:\n",
       "glm(formula = counts ~ up * down, family = poisson, data = data)\n",
       "\n",
       "Deviance Residuals: \n",
       "[1]  0  0  0  0  0  0  0  0  0\n",
       "\n",
       "Coefficients:\n",
       "                Estimate Std. Error  z value Pr(>|z|)    \n",
       "(Intercept)    1.891e+01  7.837e-05 241256.4   <2e-16 ***\n",
       "upbig         -3.502e-01  1.219e-04  -2872.7   <2e-16 ***\n",
       "upsml         -1.000e+00  1.511e-04  -6618.4   <2e-16 ***\n",
       "downbig       -3.107e+00  3.787e-04  -8203.9   <2e-16 ***\n",
       "downsml       -2.078e-01  1.171e-04  -1775.1   <2e-16 ***\n",
       "upbig:downbig  5.650e-01  5.127e-04   1102.1   <2e-16 ***\n",
       "upsml:downbig -7.726e-01  9.840e-04   -785.2   <2e-16 ***\n",
       "upbig:downsml -3.477e-02  1.831e-04   -189.9   <2e-16 ***\n",
       "upsml:downsml  2.557e-01  2.152e-04   1188.0   <2e-16 ***\n",
       "---\n",
       "Signif. codes:  0 ‘***’ 0.001 ‘**’ 0.01 ‘*’ 0.05 ‘.’ 0.1 ‘ ’ 1\n",
       "\n",
       "(Dispersion parameter for poisson family taken to be 1)\n",
       "\n",
       "    Null deviance: 4.6922e+08  on 8  degrees of freedom\n",
       "Residual deviance: 1.9685e-08  on 0  degrees of freedom\n",
       "AIC: 190.73\n",
       "\n",
       "Number of Fisher Scoring iterations: 19\n"
      ]
     },
     "metadata": {},
     "output_type": "display_data"
    }
   ],
   "source": [
    "glm <- glm(counts~up*down, data=data, family=poisson)\n",
    "summary(glm)"
   ]
  },
  {
   "cell_type": "code",
   "execution_count": 37,
   "id": "3645cbdf",
   "metadata": {},
   "outputs": [
    {
     "data": {
      "text/plain": [
       "\n",
       "Call:\n",
       "glm(formula = counts ~ up * down, family = poisson, data = data)\n",
       "\n",
       "Deviance Residuals: \n",
       "[1]  0  0  0  0  0  0  0  0  0\n",
       "\n",
       "Coefficients:\n",
       "                Estimate Std. Error z value Pr(>|z|)    \n",
       "(Intercept)   14.0284931  0.0008990 15604.8   <2e-16 ***\n",
       "upbig          1.9877790  0.0009586  2073.7   <2e-16 ***\n",
       "upmed          1.7729701  0.0009723  1823.4   <2e-16 ***\n",
       "downmed        3.8792230  0.0009082  4271.2   <2e-16 ***\n",
       "downsml        3.9271238  0.0009078  4326.0   <2e-16 ***\n",
       "upbig:downmed -1.3376271  0.0009718 -1376.5   <2e-16 ***\n",
       "upmed:downmed -0.7726313  0.0009840  -785.2   <2e-16 ***\n",
       "upbig:downsml -1.6280920  0.0009726 -1674.0   <2e-16 ***\n",
       "upmed:downsml -1.0283287  0.0009843 -1044.7   <2e-16 ***\n",
       "---\n",
       "Signif. codes:  0 ‘***’ 0.001 ‘**’ 0.01 ‘*’ 0.05 ‘.’ 0.1 ‘ ’ 1\n",
       "\n",
       "(Dispersion parameter for poisson family taken to be 1)\n",
       "\n",
       "    Null deviance:  4.6922e+08  on 8  degrees of freedom\n",
       "Residual deviance: -1.0801e-09  on 0  degrees of freedom\n",
       "AIC: 190.73\n",
       "\n",
       "Number of Fisher Scoring iterations: 11\n"
      ]
     },
     "metadata": {},
     "output_type": "display_data"
    }
   ],
   "source": [
    "glm <- glm(counts~up*down, data=data, family=poisson)\n",
    "summary(glm)"
   ]
  },
  {
   "cell_type": "code",
   "execution_count": 42,
   "id": "696b45f7",
   "metadata": {},
   "outputs": [
    {
     "data": {
      "text/plain": [
       "\n",
       "Call:\n",
       "glm(formula = counts ~ up * down, family = poisson, data = data)\n",
       "\n",
       "Deviance Residuals: \n",
       "[1]  0  0  0  0  0  0  0  0  0\n",
       "\n",
       "Coefficients:\n",
       "                Estimate Std. Error  z value Pr(>|z|)    \n",
       "(Intercept)    1.870e+01  8.695e-05 215058.7   <2e-16 ***\n",
       "upbig         -3.850e-01  1.366e-04  -2817.2   <2e-16 ***\n",
       "upsml         -7.446e-01  1.532e-04  -4859.3   <2e-16 ***\n",
       "downbig       -2.899e+00  3.805e-04  -7617.6   <2e-16 ***\n",
       "downmed        2.078e-01  1.171e-04   1775.1   <2e-16 ***\n",
       "upbig:downbig  5.998e-01  5.164e-04   1161.5   <2e-16 ***\n",
       "upsml:downbig -1.028e+00  9.843e-04  -1044.7   <2e-16 ***\n",
       "upbig:downmed  3.477e-02  1.831e-04    189.9   <2e-16 ***\n",
       "upsml:downmed -2.557e-01  2.152e-04  -1188.0   <2e-16 ***\n",
       "---\n",
       "Signif. codes:  0 ‘***’ 0.001 ‘**’ 0.01 ‘*’ 0.05 ‘.’ 0.1 ‘ ’ 1\n",
       "\n",
       "(Dispersion parameter for poisson family taken to be 1)\n",
       "\n",
       "    Null deviance: 4.6922e+08  on 8  degrees of freedom\n",
       "Residual deviance: 6.6016e-09  on 0  degrees of freedom\n",
       "AIC: 190.73\n",
       "\n",
       "Number of Fisher Scoring iterations: 19\n"
      ]
     },
     "metadata": {},
     "output_type": "display_data"
    }
   ],
   "source": [
    "glm <- glm(counts~up*down, data=data, family=poisson)\n",
    "summary(glm)"
   ]
  },
  {
   "cell_type": "code",
   "execution_count": 1,
   "id": "94757012",
   "metadata": {},
   "outputs": [],
   "source": [
    "data <- read.csv(\"../data/annoteStats/contingency.rand\", header = FALSE, sep = \";\", comment.char=\"\", quote=\"\", \n",
    "                 fill = TRUE,col.names = c(\"up\",\"down\",\"d\",\"cr\",\"counts\"))"
   ]
  },
  {
   "cell_type": "code",
   "execution_count": 12,
   "id": "38f12b82",
   "metadata": {},
   "outputs": [
    {
     "data": {
      "text/html": [
       "<table class=\"dataframe\">\n",
       "<caption>A data.frame: 9 x 3</caption>\n",
       "<thead>\n",
       "\t<tr><th></th><th scope=col>up</th><th scope=col>down</th><th scope=col>count</th></tr>\n",
       "\t<tr><th></th><th scope=col>&lt;chr&gt;</th><th scope=col>&lt;chr&gt;</th><th scope=col>&lt;int&gt;</th></tr>\n",
       "</thead>\n",
       "<tbody>\n",
       "\t<tr><th scope=row>1</th><td>a1</td><td>b1</td><td>  9031889</td></tr>\n",
       "\t<tr><th scope=row>2</th><td>a1</td><td>b2</td><td>114704285</td></tr>\n",
       "\t<tr><th scope=row>3</th><td>a1</td><td>b3</td><td> 89998530</td></tr>\n",
       "\t<tr><th scope=row>4</th><td>a2</td><td>b1</td><td>  7285985</td></tr>\n",
       "\t<tr><th scope=row>5</th><td>a2</td><td>b2</td><td>162803551</td></tr>\n",
       "\t<tr><th scope=row>6</th><td>a2</td><td>b3</td><td>132257105</td></tr>\n",
       "\t<tr><th scope=row>7</th><td>a3</td><td>b1</td><td>  1237363</td></tr>\n",
       "\t<tr><th scope=row>8</th><td>a3</td><td>b2</td><td> 59871792</td></tr>\n",
       "\t<tr><th scope=row>9</th><td>a3</td><td>b3</td><td> 62809500</td></tr>\n",
       "</tbody>\n",
       "</table>\n"
      ],
      "text/latex": [
       "A data.frame: 9 x 3\n",
       "\\begin{tabular}{r|lll}\n",
       "  & up & down & count\\\\\n",
       "  & <chr> & <chr> & <int>\\\\\n",
       "\\hline\n",
       "\t1 & a1 & b1 &   9031889\\\\\n",
       "\t2 & a1 & b2 & 114704285\\\\\n",
       "\t3 & a1 & b3 &  89998530\\\\\n",
       "\t4 & a2 & b1 &   7285985\\\\\n",
       "\t5 & a2 & b2 & 162803551\\\\\n",
       "\t6 & a2 & b3 & 132257105\\\\\n",
       "\t7 & a3 & b1 &   1237363\\\\\n",
       "\t8 & a3 & b2 &  59871792\\\\\n",
       "\t9 & a3 & b3 &  62809500\\\\\n",
       "\\end{tabular}\n"
      ],
      "text/markdown": [
       "\n",
       "A data.frame: 9 x 3\n",
       "\n",
       "| <!--/--> | up &lt;chr&gt; | down &lt;chr&gt; | count &lt;int&gt; |\n",
       "|---|---|---|---|\n",
       "| 1 | a1 | b1 |   9031889 |\n",
       "| 2 | a1 | b2 | 114704285 |\n",
       "| 3 | a1 | b3 |  89998530 |\n",
       "| 4 | a2 | b1 |   7285985 |\n",
       "| 5 | a2 | b2 | 162803551 |\n",
       "| 6 | a2 | b3 | 132257105 |\n",
       "| 7 | a3 | b1 |   1237363 |\n",
       "| 8 | a3 | b2 |  59871792 |\n",
       "| 9 | a3 | b3 |  62809500 |\n",
       "\n"
      ],
      "text/plain": [
       "  up down count    \n",
       "1 a1 b1     9031889\n",
       "2 a1 b2   114704285\n",
       "3 a1 b3    89998530\n",
       "4 a2 b1     7285985\n",
       "5 a2 b2   162803551\n",
       "6 a2 b3   132257105\n",
       "7 a3 b1     1237363\n",
       "8 a3 b2    59871792\n",
       "9 a3 b3    62809500"
      ]
     },
     "metadata": {},
     "output_type": "display_data"
    }
   ],
   "source": [
    "df=data.frame(matrix(ncol=3, nrow=0))\n",
    "colnames(df)=c(\"up\",\"down\",\"count\")\n",
    "i=1\n",
    "for(u in names(table(data$up))){\n",
    "    for(d in names(table(data$down))){\n",
    "        n=sum(data[data$up==u & data$down==d,\"counts\"])\n",
    "        df[i,]=c(u,d,n)\n",
    "        i=i+1\n",
    "    }\n",
    "}\n",
    "df$count=as.integer(df$count)\n",
    "df"
   ]
  },
  {
   "cell_type": "code",
   "execution_count": 2,
   "id": "10b6c6d3",
   "metadata": {},
   "outputs": [
    {
     "data": {
      "text/plain": [
       "\n",
       "Call:\n",
       "glm(formula = counts ~ up + down + d + cr, family = poisson, \n",
       "    data = data)\n",
       "\n",
       "Deviance Residuals: \n",
       "    Min       1Q   Median       3Q      Max  \n",
       "-3945.4  -1949.2   -393.4    773.0   5448.1  \n",
       "\n",
       "Coefficients:\n",
       "              Estimate Std. Error z value Pr(>|z|)    \n",
       "(Intercept)  1.266e+01  2.666e-04   47465   <2e-16 ***\n",
       "upa2         3.468e-01  8.937e-05    3881   <2e-16 ***\n",
       "upa3        -5.451e-01  1.129e-04   -4828   <2e-16 ***\n",
       "downb2       2.956e+00  2.448e-04   12075   <2e-16 ***\n",
       "downb3       2.787e+00  2.459e-04   11335   <2e-16 ***\n",
       "dd2         -1.799e-01  1.049e-04   -1715   <2e-16 ***\n",
       "dd3          3.140e-01  9.308e-05    3374   <2e-16 ***\n",
       "crcr2        4.518e-01  1.222e-04    3697   <2e-16 ***\n",
       "crcr3        1.083e+00  1.105e-04    9797   <2e-16 ***\n",
       "crcr4       -1.153e+00  1.950e-04   -5914   <2e-16 ***\n",
       "---\n",
       "Signif. codes:  0 '***' 0.001 '**' 0.01 '*' 0.05 '.' 0.1 ' ' 1\n",
       "\n",
       "(Dispersion parameter for poisson family taken to be 1)\n",
       "\n",
       "    Null deviance: 1214266303  on 107  degrees of freedom\n",
       "Residual deviance:  430692860  on  98  degrees of freedom\n",
       "AIC: 430694451\n",
       "\n",
       "Number of Fisher Scoring iterations: 6\n"
      ]
     },
     "metadata": {},
     "output_type": "display_data"
    }
   ],
   "source": [
    "glm <- glm(counts~up+down+d+cr, data=data, family=poisson)\n",
    "summary(glm)"
   ]
  },
  {
   "cell_type": "code",
   "execution_count": 3,
   "id": "ad684513",
   "metadata": {},
   "outputs": [
    {
     "name": "stderr",
     "output_type": "stream",
     "text": [
      "Warning message:\n",
      "\"glm.fit: algorithm did not converge\"\n"
     ]
    },
    {
     "data": {
      "text/plain": [
       "\n",
       "Call:\n",
       "glm(formula = counts ~ up * down * d * cr, family = poisson, \n",
       "    data = data)\n",
       "\n",
       "Deviance Residuals: \n",
       "  [1]  0  0  0  0  0  0  0  0  0  0  0  0  0  0  0  0  0  0  0  0  0  0  0  0  0\n",
       " [26]  0  0  0  0  0  0  0  0  0  0  0  0  0  0  0  0  0  0  0  0  0  0  0  0  0\n",
       " [51]  0  0  0  0  0  0  0  0  0  0  0  0  0  0  0  0  0  0  0  0  0  0  0  0  0\n",
       " [76]  0  0  0  0  0  0  0  0  0  0  0  0  0  0  0  0  0  0  0  0  0  0  0  0  0\n",
       "[101]  0  0  0  0  0  0  0  0\n",
       "\n",
       "Coefficients:\n",
       "                        Estimate Std. Error  z value Pr(>|z|)    \n",
       "(Intercept)            1.308e+01  1.443e-03 9068.207  < 2e-16 ***\n",
       "upa2                   6.689e-01  1.774e-03  377.020  < 2e-16 ***\n",
       "upa3                  -4.800e+00  1.596e-02 -300.639  < 2e-16 ***\n",
       "downb2                 1.088e+00  1.668e-03  652.519  < 2e-16 ***\n",
       "downb3                -2.416e+00  5.040e-03 -479.427  < 2e-16 ***\n",
       "dd2                   -1.682e+00  3.642e-03 -461.679  < 2e-16 ***\n",
       "dd3                   -1.365e-01  2.114e-03  -64.599  < 2e-16 ***\n",
       "crcr2                  1.199e+00  1.646e-03  728.514  < 2e-16 ***\n",
       "crcr3                  1.960e+00  1.541e-03 1272.040  < 2e-16 ***\n",
       "crcr4                 -2.175e-01  2.161e-03 -100.682  < 2e-16 ***\n",
       "upa2:downb2           -2.911e-01  2.081e-03 -139.894  < 2e-16 ***\n",
       "upa3:downb2            3.777e-01  1.772e-02   21.316  < 2e-16 ***\n",
       "upa2:downb3           -7.473e-01  7.190e-03 -103.936  < 2e-16 ***\n",
       "upa3:downb3            2.708e+00  2.161e-02  125.329  < 2e-16 ***\n",
       "upa2:dd2              -5.836e-01  4.960e-03 -117.660  < 2e-16 ***\n",
       "upa3:dd2               1.909e+00  2.162e-02   88.270  < 2e-16 ***\n",
       "upa2:dd3               1.294e-01  2.570e-03   50.341  < 2e-16 ***\n",
       "upa3:dd3               4.063e+00  1.619e-02  250.890  < 2e-16 ***\n",
       "downb2:dd2             6.916e-01  3.982e-03  173.697  < 2e-16 ***\n",
       "downb3:dd2             2.922e+00  6.583e-03  443.808  < 2e-16 ***\n",
       "downb2:dd3             1.453e+00  2.314e-03  627.749  < 2e-16 ***\n",
       "downb3:dd3             4.630e+00  5.296e-03  874.259  < 2e-16 ***\n",
       "upa2:crcr2            -8.829e-01  2.134e-03 -413.816  < 2e-16 ***\n",
       "upa3:crcr2             1.750e+00  1.639e-02  106.751  < 2e-16 ***\n",
       "upa2:crcr3            -1.365e+00  2.007e-03 -680.039  < 2e-16 ***\n",
       "upa3:crcr3             2.381e+00  1.608e-02  148.113  < 2e-16 ***\n",
       "upa2:crcr4            -9.161e-01  3.008e-03 -304.555  < 2e-16 ***\n",
       "upa3:crcr4             2.695e+00  1.669e-02  161.427  < 2e-16 ***\n",
       "downb2:crcr2           4.621e-01  1.882e-03  245.514  < 2e-16 ***\n",
       "downb3:crcr2           3.088e+00  5.133e-03  601.538  < 2e-16 ***\n",
       "downb2:crcr3           1.099e+00  1.763e-03  623.213  < 2e-16 ***\n",
       "downb3:crcr3           4.280e+00  5.074e-03  843.661  < 2e-16 ***\n",
       "downb2:crcr4           1.569e+00  2.356e-03  665.776  < 2e-16 ***\n",
       "downb3:crcr4           4.826e+00  5.313e-03  908.452  < 2e-16 ***\n",
       "dd2:crcr2              7.353e-01  3.938e-03  186.696  < 2e-16 ***\n",
       "dd3:crcr2             -7.274e-01  2.566e-03 -283.505  < 2e-16 ***\n",
       "dd2:crcr3              5.515e-01  3.804e-03  145.002  < 2e-16 ***\n",
       "dd3:crcr3             -2.455e+00  2.945e-03 -833.523  < 2e-16 ***\n",
       "dd2:crcr4             -3.041e+00  1.752e-02 -173.616  < 2e-16 ***\n",
       "dd3:crcr4             -4.003e+01  5.147e+05    0.000        1    \n",
       "upa2:downb2:dd2        2.864e-01  5.423e-03   52.809  < 2e-16 ***\n",
       "upa3:downb2:dd2        2.562e-01  2.338e-02   10.960  < 2e-16 ***\n",
       "upa2:downb3:dd2        5.598e-01  9.347e-03   59.889  < 2e-16 ***\n",
       "upa3:downb3:dd2       -1.571e+00  2.693e-02  -58.328  < 2e-16 ***\n",
       "upa2:downb2:dd3        1.358e+00  2.829e-03  479.894  < 2e-16 ***\n",
       "upa3:downb2:dd3        1.236e+00  1.793e-02   68.904  < 2e-16 ***\n",
       "upa2:downb3:dd3        2.051e+00  7.446e-03  275.485  < 2e-16 ***\n",
       "upa3:downb3:dd3       -7.009e-01  2.179e-02  -32.171  < 2e-16 ***\n",
       "upa2:downb2:crcr2      3.673e-01  2.453e-03  149.702  < 2e-16 ***\n",
       "upa3:downb2:crcr2      8.440e-01  1.813e-02   46.549  < 2e-16 ***\n",
       "upa2:downb3:crcr2      7.644e-01  7.335e-03  104.200  < 2e-16 ***\n",
       "upa3:downb3:crcr2     -8.115e-01  2.196e-02  -36.955  < 2e-16 ***\n",
       "upa2:downb2:crcr3      1.003e+00  2.297e-03  436.724  < 2e-16 ***\n",
       "upa3:downb2:crcr3      1.139e+00  1.782e-02   63.922  < 2e-16 ***\n",
       "upa2:downb3:crcr3      1.418e+00  7.257e-03  195.420  < 2e-16 ***\n",
       "upa3:downb3:crcr3     -8.030e-01  2.169e-02  -37.014  < 2e-16 ***\n",
       "upa2:downb2:crcr4      1.078e+00  3.243e-03  332.446  < 2e-16 ***\n",
       "upa3:downb2:crcr4      1.063e+00  1.839e-02   57.796  < 2e-16 ***\n",
       "upa2:downb3:crcr4      1.543e+00  7.613e-03  202.723  < 2e-16 ***\n",
       "upa3:downb3:crcr4     -7.118e-01  2.217e-02  -32.113  < 2e-16 ***\n",
       "upa2:dd2:crcr2         4.337e-01  5.473e-03   79.248  < 2e-16 ***\n",
       "upa3:dd2:crcr2        -8.113e-01  2.224e-02  -36.488  < 2e-16 ***\n",
       "upa2:dd3:crcr2         7.504e-02  3.317e-03   22.620  < 2e-16 ***\n",
       "upa3:dd3:crcr2        -2.106e+00  1.679e-02 -125.380  < 2e-16 ***\n",
       "upa2:dd2:crcr3         8.107e-01  5.277e-03  153.637  < 2e-16 ***\n",
       "upa3:dd2:crcr3        -1.021e+00  2.182e-02  -46.786  < 2e-16 ***\n",
       "upa2:dd3:crcr3         5.195e-01  3.937e-03  131.957  < 2e-16 ***\n",
       "upa3:dd3:crcr3        -3.290e+00  1.703e-02 -193.215  < 2e-16 ***\n",
       "upa2:dd2:crcr4         2.216e-01  2.927e-02    7.572 3.69e-14 ***\n",
       "upa3:dd2:crcr4        -1.673e+00  5.166e-02  -32.389  < 2e-16 ***\n",
       "upa2:dd3:crcr4         1.178e-01  7.279e+05    0.000        1    \n",
       "upa3:dd3:crcr4        -1.958e+00  7.279e+05    0.000        1    \n",
       "downb2:dd2:crcr2       3.837e-01  4.283e-03   89.586  < 2e-16 ***\n",
       "downb3:dd2:crcr2      -1.357e+00  6.788e-03 -199.973  < 2e-16 ***\n",
       "downb2:dd3:crcr2       1.728e-01  2.769e-03   62.399  < 2e-16 ***\n",
       "downb3:dd3:crcr2      -2.252e+00  5.528e-03 -407.407  < 2e-16 ***\n",
       "downb2:dd2:crcr3       3.865e-01  4.138e-03   93.401  < 2e-16 ***\n",
       "downb3:dd2:crcr3      -1.612e+00  6.680e-03 -241.287  < 2e-16 ***\n",
       "downb2:dd3:crcr3       6.965e-02  3.113e-03   22.377  < 2e-16 ***\n",
       "downb3:dd3:crcr3      -2.813e+00  5.692e-03 -494.269  < 2e-16 ***\n",
       "downb2:dd2:crcr4      -2.057e-01  1.795e-02  -11.461  < 2e-16 ***\n",
       "downb3:dd2:crcr4      -1.948e+00  1.863e-02 -104.573  < 2e-16 ***\n",
       "downb2:dd3:crcr4       2.539e+01  5.147e+05    0.000        1    \n",
       "downb3:dd3:crcr4      -7.040e+00  7.279e+05    0.000        1    \n",
       "upa2:downb2:dd2:crcr2 -1.213e-01  5.941e-03  -20.410  < 2e-16 ***\n",
       "upa3:downb2:dd2:crcr2 -8.759e-01  2.398e-02  -36.534  < 2e-16 ***\n",
       "upa2:downb3:dd2:crcr2 -3.062e-01  9.685e-03  -31.621  < 2e-16 ***\n",
       "upa3:downb3:dd2:crcr2  5.278e-01  2.746e-02   19.219  < 2e-16 ***\n",
       "upa2:downb2:dd3:crcr2 -7.986e-01  3.575e-03 -223.364  < 2e-16 ***\n",
       "upa3:downb2:dd3:crcr2 -1.515e+00  1.851e-02  -81.858  < 2e-16 ***\n",
       "upa2:downb3:dd3:crcr2 -1.461e+00  7.789e-03 -187.605  < 2e-16 ***\n",
       "upa3:downb3:dd3:crcr2 -1.652e-01  2.227e-02   -7.420 1.17e-13 ***\n",
       "upa2:downb2:dd2:crcr3 -5.910e-01  5.726e-03 -103.218  < 2e-16 ***\n",
       "upa3:downb2:dd2:crcr3 -1.215e+00  2.357e-02  -51.564  < 2e-16 ***\n",
       "upa2:downb3:dd2:crcr3 -8.182e-01  9.528e-03  -85.873  < 2e-16 ***\n",
       "upa3:downb3:dd2:crcr3  4.234e-01  2.710e-02   15.625  < 2e-16 ***\n",
       "upa2:downb2:dd3:crcr3 -1.725e+00  4.139e-03 -416.842  < 2e-16 ***\n",
       "upa3:downb2:dd3:crcr3 -2.162e+00  1.870e-02 -115.592  < 2e-16 ***\n",
       "upa2:downb3:dd3:crcr3 -2.413e+00  8.038e-03 -300.152  < 2e-16 ***\n",
       "upa3:downb3:dd3:crcr3 -5.848e-01  2.243e-02  -26.078  < 2e-16 ***\n",
       "upa2:downb2:dd2:crcr4 -4.156e-01  2.977e-02  -13.962  < 2e-16 ***\n",
       "upa3:downb2:dd2:crcr4 -8.209e-01  5.287e-02  -15.527  < 2e-16 ***\n",
       "upa2:downb3:dd2:crcr4 -8.000e-01  3.066e-02  -26.095  < 2e-16 ***\n",
       "upa3:downb3:dd2:crcr4  5.667e-01  5.441e-02   10.414  < 2e-16 ***\n",
       "upa2:downb2:dd3:crcr4  7.819e-01  7.279e+05    0.000        1    \n",
       "upa3:downb2:dd3:crcr4 -4.180e+00  7.279e+05    0.000        1    \n",
       "upa2:downb3:dd3:crcr4 -2.847e+00  1.029e+06    0.000        1    \n",
       "upa3:downb3:dd3:crcr4  2.711e+01  8.914e+05    0.000        1    \n",
       "---\n",
       "Signif. codes:  0 '***' 0.001 '**' 0.01 '*' 0.05 '.' 0.1 ' ' 1\n",
       "\n",
       "(Dispersion parameter for poisson family taken to be 1)\n",
       "\n",
       "    Null deviance: 1.2143e+09  on 107  degrees of freedom\n",
       "Residual deviance: 1.2789e-08  on   0  degrees of freedom\n",
       "AIC: 1787.3\n",
       "\n",
       "Number of Fisher Scoring iterations: 25\n"
      ]
     },
     "metadata": {},
     "output_type": "display_data"
    }
   ],
   "source": [
    "glm <- glm(counts~up*down*d*cr, data=data, family=poisson)\n",
    "summary(glm)"
   ]
  },
  {
   "cell_type": "code",
   "execution_count": 8,
   "id": "e79badcd",
   "metadata": {},
   "outputs": [
    {
     "data": {
      "text/plain": [
       "\n",
       "Call:\n",
       "glm(formula = counts ~ up + down, family = poisson, data = data)\n",
       "\n",
       "Deviance Residuals: \n",
       "    Min       1Q   Median       3Q      Max  \n",
       "-5153.6  -2048.8   -586.2    667.2   5422.0  \n",
       "\n",
       "Coefficients:\n",
       "              Estimate Std. Error z value Pr(>|z|)    \n",
       "(Intercept)  1.310e+01  2.451e-04   53444   <2e-16 ***\n",
       "upa2         3.468e-01  8.936e-05    3881   <2e-16 ***\n",
       "upa3        -5.451e-01  1.129e-04   -4828   <2e-16 ***\n",
       "downb2       2.956e+00  2.448e-04   12075   <2e-16 ***\n",
       "downb3       2.787e+00  2.459e-04   11335   <2e-16 ***\n",
       "---\n",
       "Signif. codes:  0 '***' 0.001 '**' 0.01 '*' 0.05 '.' 0.1 ' ' 1\n",
       "\n",
       "(Dispersion parameter for poisson family taken to be 1)\n",
       "\n",
       "    Null deviance: 1214266303  on 107  degrees of freedom\n",
       "Residual deviance:  750379677  on 103  degrees of freedom\n",
       "AIC: 750381259\n",
       "\n",
       "Number of Fisher Scoring iterations: 5\n"
      ]
     },
     "metadata": {},
     "output_type": "display_data"
    }
   ],
   "source": [
    "glm <- glm(counts~up+down, data=data, family=poisson)\n",
    "summary(glm)"
   ]
  },
  {
   "cell_type": "code",
   "execution_count": 7,
   "id": "edf9a47b",
   "metadata": {},
   "outputs": [
    {
     "data": {
      "text/plain": [
       "\n",
       "Call:\n",
       "glm(formula = counts ~ up * down, family = poisson, data = data)\n",
       "\n",
       "Deviance Residuals: \n",
       "    Min       1Q   Median       3Q      Max  \n",
       "-5208.6  -2055.9   -460.0    664.4   5352.5  \n",
       "\n",
       "Coefficients:\n",
       "              Estimate Std. Error z value Pr(>|z|)    \n",
       "(Intercept) 13.5313654  0.0003327 40667.0   <2e-16 ***\n",
       "upa2        -0.2148089  0.0004980  -431.4   <2e-16 ***\n",
       "upa3        -1.9877790  0.0009586 -2073.7   <2e-16 ***\n",
       "downb2       2.5415958  0.0003456  7354.4   <2e-16 ***\n",
       "downb3       2.2990318  0.0003490  6586.9   <2e-16 ***\n",
       "upa2:downb2  0.5649958  0.0005127  1102.1   <2e-16 ***\n",
       "upa3:downb2  1.3376271  0.0009717  1376.5   <2e-16 ***\n",
       "upa2:downb3  0.5997634  0.0005164  1161.5   <2e-16 ***\n",
       "upa3:downb3  1.6280920  0.0009726  1674.0   <2e-16 ***\n",
       "---\n",
       "Signif. codes:  0 '***' 0.001 '**' 0.01 '*' 0.05 '.' 0.1 ' ' 1\n",
       "\n",
       "(Dispersion parameter for poisson family taken to be 1)\n",
       "\n",
       "    Null deviance: 1214266303  on 107  degrees of freedom\n",
       "Residual deviance:  745045578  on  99  degrees of freedom\n",
       "AIC: 745047168\n",
       "\n",
       "Number of Fisher Scoring iterations: 5\n"
      ]
     },
     "metadata": {},
     "output_type": "display_data"
    }
   ],
   "source": [
    "glm <- glm(counts~up*down, data=data, family=poisson)\n",
    "summary(glm)"
   ]
  },
  {
   "cell_type": "code",
   "execution_count": 6,
   "id": "cc83569d",
   "metadata": {},
   "outputs": [
    {
     "data": {
      "text/plain": [
       "\n",
       "Call:\n",
       "glm(formula = counts ~ up + down + d, family = poisson, data = data)\n",
       "\n",
       "Deviance Residuals: \n",
       "    Min       1Q   Median       3Q      Max  \n",
       "-5834.5  -2099.6   -599.8    499.5   5996.0  \n",
       "\n",
       "Coefficients:\n",
       "              Estimate Std. Error z value Pr(>|z|)    \n",
       "(Intercept)  1.303e+01  2.520e-04   51712   <2e-16 ***\n",
       "upa2         3.468e-01  8.937e-05    3881   <2e-16 ***\n",
       "upa3        -5.451e-01  1.129e-04   -4828   <2e-16 ***\n",
       "downb2       2.956e+00  2.448e-04   12075   <2e-16 ***\n",
       "downb3       2.787e+00  2.459e-04   11335   <2e-16 ***\n",
       "dd2         -1.799e-01  1.049e-04   -1715   <2e-16 ***\n",
       "dd3          3.140e-01  9.308e-05    3374   <2e-16 ***\n",
       "---\n",
       "Signif. codes:  0 '***' 0.001 '**' 0.01 '*' 0.05 '.' 0.1 ' ' 1\n",
       "\n",
       "(Dispersion parameter for poisson family taken to be 1)\n",
       "\n",
       "    Null deviance: 1214266303  on 107  degrees of freedom\n",
       "Residual deviance:  723009367  on 101  degrees of freedom\n",
       "AIC: 723010952\n",
       "\n",
       "Number of Fisher Scoring iterations: 6\n"
      ]
     },
     "metadata": {},
     "output_type": "display_data"
    }
   ],
   "source": [
    "glm <- glm(counts~up+down+d, data=data, family=poisson)\n",
    "summary(glm)"
   ]
  },
  {
   "cell_type": "code",
   "execution_count": 7,
   "id": "59458364",
   "metadata": {},
   "outputs": [
    {
     "data": {
      "text/plain": [
       "\n",
       "Call:\n",
       "glm(formula = counts ~ up * down * d, family = poisson, data = data)\n",
       "\n",
       "Deviance Residuals: \n",
       "    Min       1Q   Median       3Q      Max  \n",
       "-6264.3  -1813.4   -439.5    600.1   5066.0  \n",
       "\n",
       "Coefficients:\n",
       "                  Estimate Std. Error  z value Pr(>|z|)    \n",
       "(Intercept)     14.1994152  0.0004127 34408.39   <2e-16 ***\n",
       "upa2            -0.3286866  0.0006379  -515.29   <2e-16 ***\n",
       "upa3            -2.6132393  0.0015792 -1654.84   <2e-16 ***\n",
       "downb2           2.0329634  0.0004389  4632.36   <2e-16 ***\n",
       "downb3           1.6130816  0.0004519  3569.37   <2e-16 ***\n",
       "dd2             -1.1750071  0.0008496 -1383.07   <2e-16 ***\n",
       "dd3             -1.4726993  0.0009555 -1541.29   <2e-16 ***\n",
       "upa2:downb2      0.4165710  0.0006705   621.27   <2e-16 ***\n",
       "upa3:downb2      1.6072904  0.0016053  1001.24   <2e-16 ***\n",
       "upa2:downb3      0.3956175  0.0006874   575.51   <2e-16 ***\n",
       "upa3:downb3      2.1215998  0.0016072  1320.05   <2e-16 ***\n",
       "upa2:dd2        -0.0688658  0.0013338   -51.63   <2e-16 ***\n",
       "upa3:dd2         0.9145833  0.0024617   371.53   <2e-16 ***\n",
       "upa2:dd3         0.6411579  0.0013011   492.77   <2e-16 ***\n",
       "upa3:dd3         1.5718106  0.0023110   680.15   <2e-16 ***\n",
       "downb2:dd2       1.0097381  0.0008777  1150.43   <2e-16 ***\n",
       "downb3:dd2       1.2690290  0.0008869  1430.87   <2e-16 ***\n",
       "downb2:dd3       1.1305689  0.0009832  1149.89   <2e-16 ***\n",
       "downb3:dd3       1.4272845  0.0009912  1440.00   <2e-16 ***\n",
       "upa2:downb2:dd2 -0.0916237  0.0013698   -66.89   <2e-16 ***\n",
       "upa3:downb2:dd2 -0.9658393  0.0024990  -386.49   <2e-16 ***\n",
       "upa2:downb3:dd2 -0.0612101  0.0013815   -44.31   <2e-16 ***\n",
       "upa3:downb3:dd2 -1.2502390  0.0025001  -500.07   <2e-16 ***\n",
       "upa2:downb2:dd3  0.1729197  0.0013341   129.62   <2e-16 ***\n",
       "upa3:downb2:dd3 -0.6168465  0.0023427  -263.31   <2e-16 ***\n",
       "upa2:downb3:dd3  0.2076521  0.0013447   154.42   <2e-16 ***\n",
       "upa3:downb3:dd3 -0.9959756  0.0023448  -424.76   <2e-16 ***\n",
       "---\n",
       "Signif. codes:  0 ‘***’ 0.001 ‘**’ 0.01 ‘*’ 0.05 ‘.’ 0.1 ‘ ’ 1\n",
       "\n",
       "(Dispersion parameter for poisson family taken to be 1)\n",
       "\n",
       "    Null deviance: 1214266303  on 107  degrees of freedom\n",
       "Residual deviance:  682419010  on  81  degrees of freedom\n",
       "AIC: 682420635\n",
       "\n",
       "Number of Fisher Scoring iterations: 6\n"
      ]
     },
     "metadata": {},
     "output_type": "display_data"
    }
   ],
   "source": [
    "glm <- glm(counts~up*down*d, data=data, family=poisson)\n",
    "summary(glm)"
   ]
  },
  {
   "cell_type": "code",
   "execution_count": 4,
   "id": "1a03e5ad",
   "metadata": {},
   "outputs": [
    {
     "data": {
      "text/plain": [
       "\n",
       "Call:\n",
       "glm(formula = counts ~ d * down, family = poisson, data = data)\n",
       "\n",
       "Deviance Residuals: \n",
       "   Min      1Q  Median      3Q     Max  \n",
       " -4841   -2575    -517     653    6060  \n",
       "\n",
       "Coefficients:\n",
       "              Estimate Std. Error z value Pr(>|z|)    \n",
       "(Intercept) 13.6847853  0.0003082   44406   <2e-16 ***\n",
       "dd2         -1.1411630  0.0006263   -1822   <2e-16 ***\n",
       "dd3         -1.0561422  0.0006067   -1741   <2e-16 ***\n",
       "downb2       2.3481498  0.0003226    7280   <2e-16 ***\n",
       "downb3       2.0152310  0.0003281    6143   <2e-16 ***\n",
       "dd2:downb2   0.8997569  0.0006426    1400   <2e-16 ***\n",
       "dd3:downb2   1.2997890  0.0006199    2097   <2e-16 ***\n",
       "dd2:downb3   1.1144874  0.0006465    1724   <2e-16 ***\n",
       "dd3:downb3   1.5477057  0.0006232    2483   <2e-16 ***\n",
       "---\n",
       "Signif. codes:  0 '***' 0.001 '**' 0.01 '*' 0.05 '.' 0.1 ' ' 1\n",
       "\n",
       "(Dispersion parameter for poisson family taken to be 1)\n",
       "\n",
       "    Null deviance: 1214266303  on 107  degrees of freedom\n",
       "Residual deviance:  791589199  on  99  degrees of freedom\n",
       "AIC: 791590788\n",
       "\n",
       "Number of Fisher Scoring iterations: 6\n"
      ]
     },
     "metadata": {},
     "output_type": "display_data"
    }
   ],
   "source": [
    "glm <- glm(counts~d*down, data=data, family=poisson)\n",
    "summary(glm)"
   ]
  },
  {
   "cell_type": "code",
   "execution_count": 8,
   "id": "1e5b3cdd",
   "metadata": {
    "scrolled": false
   },
   "outputs": [
    {
     "data": {
      "text/plain": [
       "\n",
       "Call:\n",
       "glm(formula = counts ~ up * down * cr, family = poisson, data = data)\n",
       "\n",
       "Deviance Residuals: \n",
       "    Min       1Q   Median       3Q      Max  \n",
       "-4530.3  -1717.4   -352.2    774.8   5185.7  \n",
       "\n",
       "Coefficients:\n",
       "                   Estimate Std. Error  z value Pr(>|z|)    \n",
       "(Intercept)       12.705852   0.001006 12635.87   <2e-16 ***\n",
       "upa2               0.687292   0.001233   557.53   <2e-16 ***\n",
       "upa3              -1.551704   0.002405  -645.25   <2e-16 ***\n",
       "downb2             1.995889   0.001072  1862.38   <2e-16 ***\n",
       "downb3             1.403985   0.001122  1251.04   <2e-16 ***\n",
       "crcr2              1.070208   0.001165   918.42   <2e-16 ***\n",
       "crcr3              1.573172   0.001105  1423.82   <2e-16 ***\n",
       "crcr4             -0.930645   0.001891  -492.18   <2e-16 ***\n",
       "upa2:downb2        0.939044   0.001298   723.62   <2e-16 ***\n",
       "upa3:downb2        2.120716   0.002449   865.91   <2e-16 ***\n",
       "upa2:downb3        1.371920   0.001342  1022.67   <2e-16 ***\n",
       "upa3:downb3        2.776026   0.002471  1123.58   <2e-16 ***\n",
       "upa2:crcr2        -0.878621   0.001512  -581.09   <2e-16 ***\n",
       "upa3:crcr2        -0.452575   0.002950  -153.41   <2e-16 ***\n",
       "upa2:crcr3        -1.280912   0.001452  -882.03   <2e-16 ***\n",
       "upa3:crcr3        -0.535465   0.002772  -193.18   <2e-16 ***\n",
       "upa2:crcr4        -0.937145   0.002716  -345.06   <2e-16 ***\n",
       "upa3:crcr4        -0.550688   0.005416  -101.67   <2e-16 ***\n",
       "downb2:crcr2       0.415318   0.001235   336.17   <2e-16 ***\n",
       "downb3:crcr2       0.676006   0.001284   526.35   <2e-16 ***\n",
       "downb2:crcr3       0.686024   0.001172   585.57   <2e-16 ***\n",
       "downb3:crcr3       1.102634   0.001219   904.46   <2e-16 ***\n",
       "downb2:crcr4       0.666596   0.001973   337.90   <2e-16 ***\n",
       "downb3:crcr4       1.020207   0.002013   506.89   <2e-16 ***\n",
       "upa2:downb2:crcr2 -0.429590   0.001583  -271.46   <2e-16 ***\n",
       "upa3:downb2:crcr2 -0.737697   0.003001  -245.80   <2e-16 ***\n",
       "upa2:downb3:crcr2 -0.805036   0.001625  -495.53   <2e-16 ***\n",
       "upa3:downb3:crcr2 -1.123121   0.003021  -371.72   <2e-16 ***\n",
       "upa2:downb2:crcr3 -0.311853   0.001517  -205.56   <2e-16 ***\n",
       "upa3:downb2:crcr3 -0.986299   0.002820  -349.80   <2e-16 ***\n",
       "upa2:downb3:crcr3 -0.760443   0.001557  -488.54   <2e-16 ***\n",
       "upa3:downb3:crcr3 -1.391587   0.002838  -490.28   <2e-16 ***\n",
       "upa2:downb2:crcr4 -0.154898   0.002797   -55.38   <2e-16 ***\n",
       "upa3:downb2:crcr4 -0.686421   0.005485  -125.15   <2e-16 ***\n",
       "upa2:downb3:crcr4 -0.583619   0.002831  -206.14   <2e-16 ***\n",
       "upa3:downb3:crcr4 -0.794251   0.005490  -144.67   <2e-16 ***\n",
       "---\n",
       "Signif. codes:  0 ‘***’ 0.001 ‘**’ 0.01 ‘*’ 0.05 ‘.’ 0.1 ‘ ’ 1\n",
       "\n",
       "(Dispersion parameter for poisson family taken to be 1)\n",
       "\n",
       "    Null deviance: 1214266303  on 107  degrees of freedom\n",
       "Residual deviance:  413096948  on  72  degrees of freedom\n",
       "AIC: 413098591\n",
       "\n",
       "Number of Fisher Scoring iterations: 6\n"
      ]
     },
     "metadata": {},
     "output_type": "display_data"
    }
   ],
   "source": [
    "glm <- glm(counts~up*down*cr, data=data, family=poisson)\n",
    "summary(glm)"
   ]
  },
  {
   "cell_type": "code",
   "execution_count": 1,
   "id": "79b44eb7",
   "metadata": {},
   "outputs": [
    {
     "data": {
      "text/plain": [
       "                                       blob          \n",
       " 0000000000000000000000000000000000000000:        1  \n",
       " 00000037fcddaff50199cda688a81e1123b9c12e:        1  \n",
       " 00000056a59bde3926f65c334caef688ccad0a08:        1  \n",
       " 0000007bdb36644799f1db546c2f1939a637fcf5:        1  \n",
       " 0000011ffffb8d78a8b5fe2f240db7938939db0d:        1  \n",
       " 000001bf7ac878380d30a1dc04257fea9ba03e8f:        1  \n",
       " (Other)                                 :111948179  \n",
       "                                  p                  nmc         \n",
       " gentoo_gentoo-portage-rsync-mirror:  1223265   Min.   :   0.00  \n",
       " bloomberg_chromium.bb             :  1208787   1st Qu.:   2.00  \n",
       " Jackeagle_kernel_msm-3.18         :  1081147   Median :   8.00  \n",
       " gentoo_gentoo                     :   663022   Mean   :  58.58  \n",
       " apple_llvm-project-v5-split       :   443917   3rd Qu.:  87.00  \n",
       " WebKit_webkit                     :   315646   Max.   :1304.00  \n",
       " (Other)                           :107012401                    \n",
       "     nblob               nsa             ncore              ncmt         \n",
       " Min.   :       1   Min.   :     0   Min.   :    1.0   Min.   :       1  \n",
       " 1st Qu.:    2484   1st Qu.:     0   1st Qu.:    1.0   1st Qu.:      13  \n",
       " Median :   16585   Median :     1   Median :    2.0   Median :     128  \n",
       " Mean   :  782323   Mean   :  2885   Mean   :  119.8   Mean   :  517789  \n",
       " 3rd Qu.:  123785   3rd Qu.:   123   3rd Qu.:    9.0   3rd Qu.:    9447  \n",
       " Max.   :36998066   Max.   :259118   Max.   :65785.0   Max.   :31610821  \n",
       "                                     NA's   :640286                      \n",
       "       na             ncopy                ext                lan           \n",
       " Min.   :     1   Min.   :     1.00          :64896916          :111724305  \n",
       " 1st Qu.:     1   1st Qu.:     1.00   png    : 4265932   Go     :    94840  \n",
       " Median :     3   Median :     1.00   jpg    : 2734782   Java   :    54297  \n",
       " Mean   :  1931   Mean   :     5.72   js     : 2543550   Cs     :    36739  \n",
       " 3rd Qu.:    75   3rd Qu.:     2.00   html   : 2518803   JS     :    32982  \n",
       " Max.   :127725   Max.   :101661.00   (Other):34988201   pl     :     4103  \n",
       " NA's   :649855                       NA's   :       1   (Other):      919  \n",
       "      pac             copied             imp           \n",
       "        :111724305   Mode:logical     Mode :logical    \n",
       " main   :     4732   TRUE:111948185   FALSE:111724305  \n",
       " unix   :     3664                    TRUE :223880     \n",
       " v1     :     2886                                     \n",
       " v1beta1:     2226                                     \n",
       " fake   :     1663                                     \n",
       " (Other):   208709                                     "
      ]
     },
     "metadata": {},
     "output_type": "display_data"
    }
   ],
   "source": [
    "data <- read.csv(\"../data/blobs/blobs.rand\", header = FALSE, sep = \";\", comment.char=\"\", quote=\"\", fill = TRUE,\n",
    "                 col.names = c(\"blob\",\"p\",\"nmc\",\"nblob\",\"nsa\",\"ncore\",\"ncmt\",\"na\",\"ncopy\",\"ext\",\"lan\",\"pac\"))\n",
    "data$copied <- data$ncopy > 0\n",
    "data$imp <- data$pac != \"\"\n",
    "summary(data)"
   ]
  }
 ],
 "metadata": {
  "kernelspec": {
   "display_name": "R",
   "language": "R",
   "name": "ir"
  },
  "language_info": {
   "codemirror_mode": "r",
   "file_extension": ".r",
   "mimetype": "text/x-r-source",
   "name": "R",
   "pygments_lexer": "r",
   "version": "3.6.3"
  }
 },
 "nbformat": 4,
 "nbformat_minor": 5
}
