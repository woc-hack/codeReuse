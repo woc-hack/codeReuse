{
 "cells": [
  {
   "cell_type": "markdown",
   "id": "b9d03144",
   "metadata": {},
   "source": [
    "# 1. Loading Data"
   ]
  },
  {
   "cell_type": "code",
   "execution_count": 7,
   "id": "462b2664",
   "metadata": {
    "scrolled": true
   },
   "outputs": [
    {
     "name": "stderr",
     "output_type": "stream",
     "text": [
      "Loading required package: lattice\n",
      "\n",
      "Loading required package: ggplot2\n",
      "\n"
     ]
    }
   ],
   "source": [
    "library(caret)"
   ]
  },
  {
   "cell_type": "code",
   "execution_count": 1,
   "id": "9e982e5a",
   "metadata": {},
   "outputs": [],
   "source": [
    "data <- read.csv(\"../data/blobs/uPab.0\", header = FALSE, sep = \";\")\n",
    "names(data) <- c(\"p\",\"nmc\",\"nblob\",\"nsa\",\"ncore\",\"ncmt\",\"na\",\"blob\",\"ncopy\")\n",
    "data$copied <- data$ncopy > 0"
   ]
  },
  {
   "cell_type": "code",
   "execution_count": 145,
   "id": "44de12c9",
   "metadata": {
    "scrolled": false
   },
   "outputs": [
    {
     "data": {
      "text/plain": [
       "                                    p                  nmc        \n",
       " TheMattSykes_personal-website       :  4022099   Min.   :  0.00  \n",
       " AlexxNica_doc.servo.org             :  3802719   1st Qu.:  2.00  \n",
       " AdrianDC_aosp_development_sony8960_q:  3113923   Median :  8.00  \n",
       " CISecurity_OVALRepo                 :  2638118   Mean   : 36.38  \n",
       " odoo_odoo                           :  2181203   3rd Qu.: 38.00  \n",
       " 3442853561_pistondoc                :  1874252   Max.   :375.00  \n",
       " (Other)                             :282784051                   \n",
       "     nblob              nsa               ncore              ncmt        \n",
       " Min.   :      1   Min.   :     0.0   Min.   :   1      Min.   :      1  \n",
       " 1st Qu.:   1333   1st Qu.:     0.0   1st Qu.:   1      1st Qu.:     25  \n",
       " Median :   9906   Median :     0.0   Median :   2      Median :    161  \n",
       " Mean   : 313067   Mean   :   744.9   Mean   : 113      Mean   : 152056  \n",
       " 3rd Qu.:  88700   3rd Qu.:    10.0   3rd Qu.:   3      3rd Qu.:   1892  \n",
       " Max.   :5508791   Max.   :110811.0   Max.   :6091      Max.   :6833601  \n",
       "                                      NA's   :5318169                    \n",
       "       na                                                blob          \n",
       " Min.   :    1     0000fa01b7b23e5317cf2e79fa3765280d75ba9d:        2  \n",
       " 1st Qu.:    1     000a5215bc99e2910a67ef0e09e74dba9baa4af5:        2  \n",
       " Median :    3     000b92a0b1a54c2209275ef888f7f1fc06314cbf:        2  \n",
       " Mean   : 1127     0013b6b7be7e2cfc8d426b3a939c5fd7127cea1e:        2  \n",
       " 3rd Qu.:   14     0018d01aa85c2c3195872bc3995dfb61e82fe053:        2  \n",
       " Max.   :55896     001ac29532535ebff95b7b756e0bf2e4b99f9fe4:        2  \n",
       " NA's   :5329439   (Other)                                 :300416353  \n",
       "     ncopy             copied         \n",
       " Min.   :      0.0   Mode :logical    \n",
       " 1st Qu.:      0.0   FALSE:269738405  \n",
       " Median :      0.0   TRUE :30677960   \n",
       " Mean   :      3.1                    \n",
       " 3rd Qu.:      0.0                    \n",
       " Max.   :2243020.0                    \n",
       "                                      "
      ]
     },
     "metadata": {},
     "output_type": "display_data"
    }
   ],
   "source": [
    "summary(data)"
   ]
  },
  {
   "cell_type": "code",
   "execution_count": 4,
   "id": "6933a064",
   "metadata": {},
   "outputs": [],
   "source": [
    "data$lnmc <- log(data$nmc + 1)\n",
    "data$lnblob <- log(data$nblob + 1)\n",
    "data$lnsa <- log(data$nsa + 1)\n",
    "data$lncore <- log(data$ncore + 1)\n",
    "data$lncmt <- log(data$ncmt + 1)\n",
    "data$lna <- log(data$na + 1)\n",
    "data$lncopy <- log(data$ncopy + 1)\n",
    "nas <- which(is.na(data$ncore) | is.na(data$na))\n",
    "data_c <- data[-nas,c(\"p\",\"lnmc\",\"lnblob\",\"lnsa\",\"lncore\",\"lncmt\",\"lna\",\"copied\",\"lncopy\")]"
   ]
  },
  {
   "cell_type": "code",
   "execution_count": 49,
   "id": "abc84c89",
   "metadata": {
    "scrolled": false
   },
   "outputs": [
    {
     "data": {
      "text/plain": [
       "                                    p                  lnmc      \n",
       " TheMattSykes_personal-website       :  4022099   Min.   :0.000  \n",
       " AdrianDC_aosp_development_sony8960_q:  3113923   1st Qu.:1.099  \n",
       " CISecurity_OVALRepo                 :  2638118   Median :2.197  \n",
       " odoo_odoo                           :  2181203   Mean   :2.511  \n",
       " 3442853561_pistondoc                :  1874252   3rd Qu.:3.689  \n",
       " funtoo_experimental-mini-2011       :  1823296   Max.   :5.930  \n",
       " (Other)                             :279434035                  \n",
       "     lnblob             lnsa            lncore           lncmt        \n",
       " Min.   : 0.6931   Min.   : 0.000   Min.   :0.6931   Min.   : 0.6931  \n",
       " 1st Qu.: 7.1647   1st Qu.: 0.000   1st Qu.:0.6931   1st Qu.: 3.2581  \n",
       " Median : 9.1447   Median : 0.000   Median :1.0986   Median : 5.0499  \n",
       " Mean   : 9.2784   Mean   : 1.759   Mean   :1.4404   Mean   : 5.6372  \n",
       " 3rd Qu.:11.2881   3rd Qu.: 2.485   3rd Qu.:1.3863   3rd Qu.: 7.6094  \n",
       " Max.   :15.5219   Max.   :11.616   Max.   :8.7147   Max.   :15.7374  \n",
       "                                                                      \n",
       "      lna            copied              lncopy       \n",
       " Min.   : 0.6931   Mode :logical     Min.   : 0.0000  \n",
       " 1st Qu.: 0.6931   FALSE:264563716   1st Qu.: 0.0000  \n",
       " Median : 1.3863   TRUE :30523210    Median : 0.0000  \n",
       " Mean   : 2.2144                     Mean   : 0.1267  \n",
       " 3rd Qu.: 2.7081                     3rd Qu.: 0.0000  \n",
       " Max.   :10.9313                     Max.   :14.6233  \n",
       "                                                      "
      ]
     },
     "metadata": {},
     "output_type": "display_data"
    }
   ],
   "source": [
    "summary(data_c)"
   ]
  },
  {
   "cell_type": "markdown",
   "id": "9bb834f8",
   "metadata": {},
   "source": [
    "Test data"
   ]
  },
  {
   "cell_type": "code",
   "execution_count": null,
   "id": "c35bf7c7",
   "metadata": {},
   "outputs": [],
   "source": [
    "data_t <- read.csv(\"../data/blobs/uPab_test.0\", header = FALSE, sep = \";\")\n",
    "names(data_t) <- c(\"p\",\"nmc\",\"nblob\",\"nsa\",\"ncore\",\"ncmt\",\"na\",\"blob\",\"ncopy\")\n",
    "data_t$copied <- data_t$ncopy > 0\n",
    "data_t$lnmc <- log(data_t$nmc + 1)\n",
    "data_t$lnblob <- log(data_t$nblob + 1)\n",
    "data_t$lnsa <- log(data_t$nsa + 1)\n",
    "data_t$lncore <- log(data_t$ncore + 1)\n",
    "data_t$lncmt <- log(data_t$ncmt + 1)\n",
    "data_t$lna <- log(data_t$na + 1)\n",
    "data_t$lncopy <- log(data_t$ncopy + 1)\n",
    "nas_t <- which(is.na(data_t$ncore) | is.na(data_t$na))\n",
    "data_tc <- data_t[-nas_t,c(\"p\",\"lnmc\",\"lnblob\",\"lnsa\",\"lncore\",\"lncmt\",\"lna\",\"copied\",\"lncopy\")]"
   ]
  },
  {
   "cell_type": "markdown",
   "id": "035b50f2",
   "metadata": {},
   "source": [
    "# 2. Correlations"
   ]
  },
  {
   "cell_type": "code",
   "execution_count": 7,
   "id": "063d0a6e",
   "metadata": {},
   "outputs": [],
   "source": [
    "pred_n <- c(2:7)"
   ]
  },
  {
   "cell_type": "code",
   "execution_count": 56,
   "id": "20add104",
   "metadata": {},
   "outputs": [
    {
     "data": {
      "text/html": [
       "<table class=\"dataframe\">\n",
       "<caption>A matrix: 6 x 6 of type dbl</caption>\n",
       "<thead>\n",
       "\t<tr><th></th><th scope=col>lnmc</th><th scope=col>lnblob</th><th scope=col>lnsa</th><th scope=col>lncore</th><th scope=col>lncmt</th><th scope=col>lna</th></tr>\n",
       "</thead>\n",
       "<tbody>\n",
       "\t<tr><th scope=row>lnmc</th><td>1.0000000</td><td>0.5242928</td><td>0.7121010</td><td>0.5699704</td><td>0.8897361</td><td>0.7450550</td></tr>\n",
       "\t<tr><th scope=row>lnblob</th><td>0.5242928</td><td>1.0000000</td><td>0.4394352</td><td>0.3683275</td><td>0.5402930</td><td>0.4450408</td></tr>\n",
       "\t<tr><th scope=row>lnsa</th><td>0.7121010</td><td>0.4394352</td><td>1.0000000</td><td>0.5484231</td><td>0.6781614</td><td>0.6865592</td></tr>\n",
       "\t<tr><th scope=row>lncore</th><td>0.5699704</td><td>0.3683275</td><td>0.5484231</td><td>1.0000000</td><td>0.6284436</td><td>0.8450870</td></tr>\n",
       "\t<tr><th scope=row>lncmt</th><td>0.8897361</td><td>0.5402930</td><td>0.6781614</td><td>0.6284436</td><td>1.0000000</td><td>0.7899323</td></tr>\n",
       "\t<tr><th scope=row>lna</th><td>0.7450550</td><td>0.4450408</td><td>0.6865592</td><td>0.8450870</td><td>0.7899323</td><td>1.0000000</td></tr>\n",
       "</tbody>\n",
       "</table>\n"
      ],
      "text/latex": [
       "A matrix: 6 x 6 of type dbl\n",
       "\\begin{tabular}{r|llllll}\n",
       "  & lnmc & lnblob & lnsa & lncore & lncmt & lna\\\\\n",
       "\\hline\n",
       "\tlnmc & 1.0000000 & 0.5242928 & 0.7121010 & 0.5699704 & 0.8897361 & 0.7450550\\\\\n",
       "\tlnblob & 0.5242928 & 1.0000000 & 0.4394352 & 0.3683275 & 0.5402930 & 0.4450408\\\\\n",
       "\tlnsa & 0.7121010 & 0.4394352 & 1.0000000 & 0.5484231 & 0.6781614 & 0.6865592\\\\\n",
       "\tlncore & 0.5699704 & 0.3683275 & 0.5484231 & 1.0000000 & 0.6284436 & 0.8450870\\\\\n",
       "\tlncmt & 0.8897361 & 0.5402930 & 0.6781614 & 0.6284436 & 1.0000000 & 0.7899323\\\\\n",
       "\tlna & 0.7450550 & 0.4450408 & 0.6865592 & 0.8450870 & 0.7899323 & 1.0000000\\\\\n",
       "\\end{tabular}\n"
      ],
      "text/markdown": [
       "\n",
       "A matrix: 6 x 6 of type dbl\n",
       "\n",
       "| <!--/--> | lnmc | lnblob | lnsa | lncore | lncmt | lna |\n",
       "|---|---|---|---|---|---|---|\n",
       "| lnmc | 1.0000000 | 0.5242928 | 0.7121010 | 0.5699704 | 0.8897361 | 0.7450550 |\n",
       "| lnblob | 0.5242928 | 1.0000000 | 0.4394352 | 0.3683275 | 0.5402930 | 0.4450408 |\n",
       "| lnsa | 0.7121010 | 0.4394352 | 1.0000000 | 0.5484231 | 0.6781614 | 0.6865592 |\n",
       "| lncore | 0.5699704 | 0.3683275 | 0.5484231 | 1.0000000 | 0.6284436 | 0.8450870 |\n",
       "| lncmt | 0.8897361 | 0.5402930 | 0.6781614 | 0.6284436 | 1.0000000 | 0.7899323 |\n",
       "| lna | 0.7450550 | 0.4450408 | 0.6865592 | 0.8450870 | 0.7899323 | 1.0000000 |\n",
       "\n"
      ],
      "text/plain": [
       "       lnmc      lnblob    lnsa      lncore    lncmt     lna      \n",
       "lnmc   1.0000000 0.5242928 0.7121010 0.5699704 0.8897361 0.7450550\n",
       "lnblob 0.5242928 1.0000000 0.4394352 0.3683275 0.5402930 0.4450408\n",
       "lnsa   0.7121010 0.4394352 1.0000000 0.5484231 0.6781614 0.6865592\n",
       "lncore 0.5699704 0.3683275 0.5484231 1.0000000 0.6284436 0.8450870\n",
       "lncmt  0.8897361 0.5402930 0.6781614 0.6284436 1.0000000 0.7899323\n",
       "lna    0.7450550 0.4450408 0.6865592 0.8450870 0.7899323 1.0000000"
      ]
     },
     "metadata": {},
     "output_type": "display_data"
    }
   ],
   "source": [
    "cor(data_c[,pred_n],method=\"spearman\")"
   ]
  },
  {
   "cell_type": "code",
   "execution_count": 99,
   "id": "a8da438d",
   "metadata": {
    "scrolled": false
   },
   "outputs": [
    {
     "name": "stdout",
     "output_type": "stream",
     "text": [
      "Standard deviations (1, .., p=6):\n",
      "[1] 2.1458975 0.7925032 0.6408342 0.4900691 0.2929314 0.1744061\n",
      "\n",
      "Rotation (n x k) = (6 x 6):\n",
      "             PC1         PC2         PC3         PC4         PC5          PC6\n",
      "lnmc   0.4127365  0.12655864 -0.64349742  0.10430538 -0.61579558  0.097255970\n",
      "lnblob 0.3212261  0.85458026  0.39366714 -0.09971444 -0.03878803 -0.009225134\n",
      "lnsa   0.4149031 -0.22057111 -0.05313086 -0.84656158  0.17225844  0.173324694\n",
      "lncore 0.4077342 -0.36264552  0.52767243  0.32422920 -0.21532189  0.521837871\n",
      "lncmt  0.4346419  0.06837165 -0.33055836  0.38642817  0.73274402  0.104414338\n",
      "lna    0.4462701 -0.26236888  0.20101577  0.08977528 -0.07963040 -0.822920170\n"
     ]
    },
    {
     "data": {
      "image/png": "[encoded data removed]",
      "text/plain": [
       "plot without title"
      ]
     },
     "metadata": {
      "image/png": {
       "height": 420,
       "width": 420
      }
     },
     "output_type": "display_data"
    }
   ],
   "source": [
    "pca <- prcomp(data_c[,pred_n], retx=F, scale=T)\n",
    "print(pca)\n",
    "var <- sum(pca$sdev^2)\n",
    "cumVar <- cumsum(pca$sdev^2)\n",
    "plot(1:6,cumVar/var,ylim=c(0,1),xlab=\"Number of coponents\",ylab=\"Fraction of variance\")"
   ]
  },
  {
   "cell_type": "code",
   "execution_count": 100,
   "id": "fe65e9fa",
   "metadata": {},
   "outputs": [
    {
     "name": "stdout",
     "output_type": "stream",
     "text": [
      "         lnmc    lnblob      lnsa    lncore     lncmt       lna\n",
      "PC1 0.4127365 0.3212261 0.4149031 0.4077342 0.4346419 0.4462701\n",
      "       lnblob     lncore\n",
      "PC2 0.8545803 -0.3626455\n",
      "          lnmc    lnblob    lncore      lncmt\n",
      "PC3 -0.6434974 0.3936671 0.5276724 -0.3305584\n"
     ]
    }
   ],
   "source": [
    "n <- 0\n",
    "varPer <- 0.9\n",
    "for (i in c(1:length(pca$sdev))) {\n",
    "    if(cumVar[i] > var*varPer) {\n",
    "        n <- i\n",
    "        break\n",
    "    }\n",
    "}\n",
    "res <- pca$rotation[,1:n]\n",
    "resAbs <- res\n",
    "resAbs[res<0] <- -res[res<0]\n",
    "for (i in 1:n)\n",
    "  print(t(res[resAbs[,i]>.3,i,drop=FALSE]));"
   ]
  },
  {
   "cell_type": "code",
   "execution_count": 8,
   "id": "804db1e5",
   "metadata": {},
   "outputs": [],
   "source": [
    "vnam <- names(data_c[,pred_n])\n",
    "len <- dim(data_c[,pred_n])[2]\n",
    "res <- vector(mode=\"list\", length=len)\n",
    "for (i in 1:len){\n",
    "  fmla <- as.formula(paste(vnam[i],paste(vnam[-i],collapse=\"+\"),sep=\"~\"));\n",
    "  res[[i]] <- lm(fmla,data=data_c[,pred_n]);\n",
    "}"
   ]
  },
  {
   "cell_type": "code",
   "execution_count": 9,
   "id": "10e71ad2",
   "metadata": {
    "scrolled": false
   },
   "outputs": [
    {
     "name": "stdout",
     "output_type": "stream",
     "text": [
      "[1] lnmc              ->                0.828950609106906\n",
      "[1] lnblob            ->                0.384352131731084\n",
      "[1] lnsa              ->                0.774733504572413\n",
      "[1] lncore            ->                0.907868966300289\n",
      "[1] lncmt             ->                0.867581629389782\n",
      "[1] lna               ->                0.955795503217049\n"
     ]
    }
   ],
   "source": [
    "for (i in 1:len) {\n",
    "    print(c(vnam[i],\"-> \",summary(res[[i]])$adj.r.squared),quote=FALSE)\n",
    "}"
   ]
  },
  {
   "cell_type": "markdown",
   "id": "ede9eacf",
   "metadata": {},
   "source": [
    "# 3. Model"
   ]
  },
  {
   "cell_type": "markdown",
   "id": "9c8b8d08",
   "metadata": {},
   "source": [
    "### 3.1. ~ lnmc + lnblob + lnsa + lncmt"
   ]
  },
  {
   "cell_type": "code",
   "execution_count": 117,
   "id": "dc826f89",
   "metadata": {},
   "outputs": [
    {
     "data": {
      "text/plain": [
       "\n",
       "Call:\n",
       "lm(formula = lncopy ~ lnmc + lnblob + lnsa + lncmt, data = data_c)\n",
       "\n",
       "Residuals:\n",
       "    Min      1Q  Median      3Q     Max \n",
       "-0.4148 -0.1434 -0.1011 -0.0655 14.4563 \n",
       "\n",
       "Coefficients:\n",
       "              Estimate Std. Error t value Pr(>|t|)    \n",
       "(Intercept)  8.586e-02  1.030e-04   833.9   <2e-16 ***\n",
       "lnmc        -7.210e-03  4.265e-05  -169.0   <2e-16 ***\n",
       "lnblob       8.178e-03  1.256e-05   651.0   <2e-16 ***\n",
       "lnsa         3.471e-02  1.658e-05  2093.5   <2e-16 ***\n",
       "lncmt       -1.383e-02  2.021e-05  -684.5   <2e-16 ***\n",
       "---\n",
       "Signif. codes:  0 '***' 0.001 '**' 0.01 '*' 0.05 '.' 0.1 ' ' 1\n",
       "\n",
       "Residual standard error: 0.4775 on 295086921 degrees of freedom\n",
       "Multiple R-squared:  0.02114,\tAdjusted R-squared:  0.02114 \n",
       "F-statistic: 1.593e+06 on 4 and 295086921 DF,  p-value: < 2.2e-16\n"
      ]
     },
     "metadata": {},
     "output_type": "display_data"
    }
   ],
   "source": [
    "lm <- lm(lncopy~lnmc+lnblob+lnsa+lncmt, data=data_c)\n",
    "summary(lm)"
   ]
  },
  {
   "cell_type": "code",
   "execution_count": null,
   "id": "0a20f6ad",
   "metadata": {},
   "outputs": [],
   "source": [
    "plot(residuals(lm, type=\"deviance\"))"
   ]
  },
  {
   "cell_type": "code",
   "execution_count": 36,
   "id": "14b463ef",
   "metadata": {
    "scrolled": false
   },
   "outputs": [
    {
     "data": {
      "text/plain": [
       "\n",
       "Call:\n",
       "glm(formula = copied ~ lnmc + lnblob + lnsa + lncmt, family = binomial, \n",
       "    data = data_c)\n",
       "\n",
       "Deviance Residuals: \n",
       "    Min       1Q   Median       3Q      Max  \n",
       "-0.8897  -0.4952  -0.4290  -0.3752   2.8120  \n",
       "\n",
       "Coefficients:\n",
       "              Estimate Std. Error  z value Pr(>|z|)    \n",
       "(Intercept) -2.414e+00  7.324e-04 -3296.24   <2e-16 ***\n",
       "lnmc         1.625e-02  3.091e-04    52.58   <2e-16 ***\n",
       "lnblob       7.085e-02  8.679e-05   816.40   <2e-16 ***\n",
       "lnsa         2.000e-01  1.112e-04  1797.68   <2e-16 ***\n",
       "lncmt       -1.524e-01  1.449e-04 -1052.17   <2e-16 ***\n",
       "---\n",
       "Signif. codes:  0 '***' 0.001 '**' 0.01 '*' 0.05 '.' 0.1 ' ' 1\n",
       "\n",
       "(Dispersion parameter for binomial family taken to be 1)\n",
       "\n",
       "    Null deviance: 196275349  on 295086925  degrees of freedom\n",
       "Residual deviance: 191665246  on 295086921  degrees of freedom\n",
       "AIC: 191665256\n",
       "\n",
       "Number of Fisher Scoring iterations: 5\n"
      ]
     },
     "metadata": {},
     "output_type": "display_data"
    }
   ],
   "source": [
    "glm <- glm(copied~lnmc+lnblob+lnsa+lncmt,data=data_c,family=binomial)\n",
    "summary(glm)"
   ]
  },
  {
   "cell_type": "code",
   "execution_count": 37,
   "id": "adc5c692",
   "metadata": {},
   "outputs": [
    {
     "name": "stderr",
     "output_type": "stream",
     "text": [
      "Warning message in confusionMatrix.default(data = factor(glm_p), reference = factor(data_tc[, :\n",
      "\"Levels are not in the same order for reference and data. Refactoring data to match.\"\n"
     ]
    },
    {
     "data": {
      "text/plain": [
       "Confusion Matrix and Statistics\n",
       "\n",
       "          Reference\n",
       "Prediction    FALSE     TRUE\n",
       "     FALSE 18224593  1625415\n",
       "     TRUE         0        0\n",
       "                                         \n",
       "               Accuracy : 0.9181         \n",
       "                 95% CI : (0.918, 0.9182)\n",
       "    No Information Rate : 0.9181         \n",
       "    P-Value [Acc > NIR] : 0.5002         \n",
       "                                         \n",
       "                  Kappa : 0              \n",
       "                                         \n",
       " Mcnemar's Test P-Value : <2e-16         \n",
       "                                         \n",
       "            Sensitivity : 1.0000         \n",
       "            Specificity : 0.0000         \n",
       "         Pos Pred Value : 0.9181         \n",
       "         Neg Pred Value :    NaN         \n",
       "             Prevalence : 0.9181         \n",
       "         Detection Rate : 0.9181         \n",
       "   Detection Prevalence : 1.0000         \n",
       "      Balanced Accuracy : 0.5000         \n",
       "                                         \n",
       "       'Positive' Class : FALSE          \n",
       "                                         "
      ]
     },
     "metadata": {},
     "output_type": "display_data"
    }
   ],
   "source": [
    "glm_p <- predict(glm,newdata=data_tc,type=\"response\") > 0.5\n",
    "confusionMatrix(data=factor(glm_p), reference = factor(data_tc[,\"copied\"]))"
   ]
  },
  {
   "cell_type": "markdown",
   "id": "7e1f4379",
   "metadata": {},
   "source": [
    "### 3.2. ~ lnsa"
   ]
  },
  {
   "cell_type": "code",
   "execution_count": 8,
   "id": "67c8cecd",
   "metadata": {},
   "outputs": [
    {
     "data": {
      "text/plain": [
       "\n",
       "Call:\n",
       "lm(formula = lncopy ~ lnsa, data = data_c)\n",
       "\n",
       "Residuals:\n",
       "    Min      1Q  Median      3Q     Max \n",
       "-0.3557 -0.1310 -0.0858 -0.0858 14.4448 \n",
       "\n",
       "Coefficients:\n",
       "             Estimate Std. Error t value Pr(>|t|)    \n",
       "(Intercept) 8.584e-02  3.331e-05    2577   <2e-16 ***\n",
       "lnsa        2.324e-02  1.038e-05    2238   <2e-16 ***\n",
       "---\n",
       "Signif. codes:  0 '***' 0.001 '**' 0.01 '*' 0.05 '.' 0.1 ' ' 1\n",
       "\n",
       "Residual standard error: 0.4786 on 295086924 degrees of freedom\n",
       "Multiple R-squared:  0.01669,\tAdjusted R-squared:  0.01669 \n",
       "F-statistic: 5.008e+06 on 1 and 295086924 DF,  p-value: < 2.2e-16\n"
      ]
     },
     "metadata": {},
     "output_type": "display_data"
    }
   ],
   "source": [
    "lm2 <- lm(lncopy~lnsa, data=data_c)\n",
    "summary(lm2)"
   ]
  },
  {
   "cell_type": "code",
   "execution_count": 9,
   "id": "c1f8b609",
   "metadata": {},
   "outputs": [
    {
     "data": {
      "text/plain": [
       "\n",
       "Call:\n",
       "glm(formula = copied ~ lnsa, family = binomial, data = data_c)\n",
       "\n",
       "Deviance Residuals: \n",
       "    Min       1Q   Median       3Q      Max  \n",
       "-0.7272  -0.4646  -0.4231  -0.4231   2.2172  \n",
       "\n",
       "Coefficients:\n",
       "              Estimate Std. Error z value Pr(>|z|)    \n",
       "(Intercept) -2.368e+00  2.426e-04   -9764   <2e-16 ***\n",
       "lnsa         1.010e-01  6.192e-05    1631   <2e-16 ***\n",
       "---\n",
       "Signif. codes:  0 '***' 0.001 '**' 0.01 '*' 0.05 '.' 0.1 ' ' 1\n",
       "\n",
       "(Dispersion parameter for binomial family taken to be 1)\n",
       "\n",
       "    Null deviance: 196275349  on 295086925  degrees of freedom\n",
       "Residual deviance: 193818462  on 295086924  degrees of freedom\n",
       "AIC: 193818466\n",
       "\n",
       "Number of Fisher Scoring iterations: 5\n"
      ]
     },
     "metadata": {},
     "output_type": "display_data"
    }
   ],
   "source": [
    "glm2 <- glm(copied~lnsa,data=data_c,family=binomial)\n",
    "summary(glm2)"
   ]
  },
  {
   "cell_type": "code",
   "execution_count": 34,
   "id": "3c849a5e",
   "metadata": {},
   "outputs": [
    {
     "name": "stderr",
     "output_type": "stream",
     "text": [
      "Warning message in confusionMatrix.default(data = factor(glm2_p), reference = factor(data_tc[, :\n",
      "\"Levels are not in the same order for reference and data. Refactoring data to match.\"\n"
     ]
    },
    {
     "data": {
      "text/plain": [
       "Confusion Matrix and Statistics\n",
       "\n",
       "          Reference\n",
       "Prediction    FALSE     TRUE\n",
       "     FALSE 18224593  1625415\n",
       "     TRUE         0        0\n",
       "                                         \n",
       "               Accuracy : 0.9181         \n",
       "                 95% CI : (0.918, 0.9182)\n",
       "    No Information Rate : 0.9181         \n",
       "    P-Value [Acc > NIR] : 0.5002         \n",
       "                                         \n",
       "                  Kappa : 0              \n",
       "                                         \n",
       " Mcnemar's Test P-Value : <2e-16         \n",
       "                                         \n",
       "            Sensitivity : 1.0000         \n",
       "            Specificity : 0.0000         \n",
       "         Pos Pred Value : 0.9181         \n",
       "         Neg Pred Value :    NaN         \n",
       "             Prevalence : 0.9181         \n",
       "         Detection Rate : 0.9181         \n",
       "   Detection Prevalence : 1.0000         \n",
       "      Balanced Accuracy : 0.5000         \n",
       "                                         \n",
       "       'Positive' Class : FALSE          \n",
       "                                         "
      ]
     },
     "metadata": {},
     "output_type": "display_data"
    }
   ],
   "source": [
    "glm2_p <- predict(glm2,newdata=data_tc,type=\"response\") > 0.5\n",
    "confusionMatrix(data=factor(glm2_p), reference = factor(data_tc[,\"copied\"]))"
   ]
  },
  {
   "cell_type": "markdown",
   "id": "87d6705e",
   "metadata": {},
   "source": [
    "### 3.3. ~ lnmc + lnblob + lnsa + lncmt + cext"
   ]
  },
  {
   "cell_type": "code",
   "execution_count": 1,
   "id": "449d3728",
   "metadata": {},
   "outputs": [],
   "source": [
    "data <- read.csv(\"../data/blobs/blobs.0\", header = FALSE, sep = \";\", comment.char=\"\", quote=\"\", fill = TRUE,\n",
    "                 col.names = c(\"blob\",\"p\",\"nmc\",\"nblob\",\"nsa\",\"ncore\",\"ncmt\",\"na\",\"ncopy\",\"ext\",\"null\"))\n",
    "data$copied <- data$ncopy > 0"
   ]
  },
  {
   "cell_type": "code",
   "execution_count": 4,
   "id": "b6ac1038",
   "metadata": {
    "scrolled": false
   },
   "outputs": [
    {
     "data": {
      "text/plain": [
       "                                       blob          \n",
       " 000046a34e09d434cd7b155d2d7edeec67e33343:        2  \n",
       " 0000859499ce00d7ce45fed541c73400e21b2b18:        2  \n",
       " 0000f17d6a3b9fba1ad146924e1499016f207b28:        2  \n",
       " 0000fa01b7b23e5317cf2e79fa3765280d75ba9d:        2  \n",
       " 000225b41a38cafdc84e16108631675bb8c78b3b:        2  \n",
       " 0002b6ae2e76bc70543326c604c29857d90a75a6:        2  \n",
       " (Other)                                 :146058545  \n",
       "                                    p                  nmc        \n",
       " AlexxNica_doc.servo.org             :  1912352   Min.   :  0.00  \n",
       " TheMattSykes_personal-website       :  1793642   1st Qu.:  3.00  \n",
       " AdrianDC_aosp_development_sony8960_q:  1687091   Median :  8.00  \n",
       " CISecurity_OVALRepo                 :  1326881   Mean   : 38.14  \n",
       " odoo_odoo                           :  1096477   3rd Qu.: 42.00  \n",
       " 3442853561_pistondoc                :   942718   Max.   :375.00  \n",
       " (Other)                             :137299396                   \n",
       "     nblob              nsa               ncore              ncmt        \n",
       " Min.   :      1   Min.   :     0.0   Min.   :   1.0    Min.   :      1  \n",
       " 1st Qu.:   1244   1st Qu.:     0.0   1st Qu.:   1.0    1st Qu.:     29  \n",
       " Median :   9240   Median :     0.0   Median :   2.0    Median :    180  \n",
       " Mean   : 317672   Mean   :   767.6   Mean   : 108.4    Mean   : 150313  \n",
       " 3rd Qu.:  99062   3rd Qu.:    12.0   3rd Qu.:   3.0    3rd Qu.:   2247  \n",
       " Max.   :5508791   Max.   :110811.0   Max.   :6091.0    Max.   :6833601  \n",
       "                                      NA's   :2641512                    \n",
       "       na              ncopy                ext             null          \n",
       " Min.   :    1     Min.   :      0.0   html   :15622259   Mode:logical    \n",
       " 1st Qu.:    1     1st Qu.:      0.0   java   :10507343   NA's:146058557  \n",
       " Median :    3     Median :      0.0          : 8784207                   \n",
       " Mean   : 1097     Mean   :      3.3   js     : 7511623                   \n",
       " 3rd Qu.:   16     3rd Qu.:      0.0   png    : 6923887                   \n",
       " Max.   :55896     Max.   :2243020.0   xml    : 6435210                   \n",
       " NA's   :2647140                       (Other):90274028                   \n",
       "   copied         \n",
       " Mode :logical    \n",
       " FALSE:129755508  \n",
       " TRUE :16303049   \n",
       "                  \n",
       "                  \n",
       "                  \n",
       "                  "
      ]
     },
     "metadata": {},
     "output_type": "display_data"
    }
   ],
   "source": [
    "summary(data)"
   ]
  },
  {
   "cell_type": "code",
   "execution_count": null,
   "id": "86338973",
   "metadata": {},
   "outputs": [],
   "source": [
    "#log transform\n",
    "data$lnmc <- log(data$nmc + 1)\n",
    "data$lnblob <- log(data$nblob + 1)\n",
    "data$lnsa <- log(data$nsa + 1)\n",
    "data$lncore <- log(data$ncore + 1)\n",
    "data$lncmt <- log(data$ncmt + 1)\n",
    "data$lna <- log(data$na + 1)\n",
    "data$lncopy <- log(data$ncopy + 1)\n",
    "\n",
    "#cleaning extensions\n",
    "lower_ext <- tolower(gsub(\"[^[:alnum:]]\",\"\",data$ext))\n",
    "ext_levels <- sort(table(lower_ext),decreasing=TRUE)\n",
    "data$cext <- as.factor(ifelse(((lower_ext %in% names(ext_levels[1:50])) & (lower_ext != \"\")), \n",
    "                    lower_ext, \"other\"))\n",
    "\n",
    "#dealing with missing data\n",
    "nas <- which(is.na(data$ncore) | is.na(data$na) )\n",
    "\n",
    "#aggregating\n",
    "data_c <- data[-nas,c(\"lnmc\",\"lnblob\",\"lnsa\",\"lncore\",\"lncmt\",\"lna\",\"copied\",\"lncopy\",\"cext\")]"
   ]
  },
  {
   "cell_type": "code",
   "execution_count": 99,
   "id": "9941995e",
   "metadata": {
    "scrolled": false
   },
   "outputs": [
    {
     "data": {
      "text/plain": [
       "      lnmc           lnblob             lnsa            lncore      \n",
       " Min.   :0.000   Min.   : 0.6931   Min.   : 0.000   Min.   :0.6931  \n",
       " 1st Qu.:1.386   1st Qu.: 7.0959   1st Qu.: 0.000   1st Qu.:0.6931  \n",
       " Median :2.303   Median : 9.0811   Median : 0.000   Median :1.0986  \n",
       " Mean   :2.572   Mean   : 9.2653   Mean   : 1.822   Mean   :1.4602  \n",
       " 3rd Qu.:3.784   3rd Qu.:11.3896   3rd Qu.: 2.639   3rd Qu.:1.3863  \n",
       " Max.   :5.930   Max.   :15.5219   Max.   :11.616   Max.   :8.7147  \n",
       "                                                                    \n",
       "     lncmt              lna            copied              lncopy       \n",
       " Min.   : 0.6931   Min.   : 0.6931   Mode :logical     Min.   : 0.0000  \n",
       " 1st Qu.: 3.4012   1st Qu.: 0.6931   FALSE:127184352   1st Qu.: 0.0000  \n",
       " Median : 5.1591   Median : 1.3863   TRUE :16227065    Median : 0.0000  \n",
       " Mean   : 5.7533   Mean   : 2.2666                     Mean   : 0.1392  \n",
       " 3rd Qu.: 7.7467   3rd Qu.: 2.8332                     3rd Qu.: 0.0000  \n",
       " Max.   :15.7374   Max.   :10.9313                     Max.   :14.6233  \n",
       "                                                                        \n",
       "      cext         \n",
       " other  :34652227  \n",
       " html   :13700246  \n",
       " java   :10468658  \n",
       " js     : 7491455  \n",
       " png    : 6871163  \n",
       " xml    : 6422260  \n",
       " (Other):63805408  "
      ]
     },
     "metadata": {},
     "output_type": "display_data"
    }
   ],
   "source": [
    "summary(data_c)"
   ]
  },
  {
   "cell_type": "code",
   "execution_count": 3,
   "id": "54398e14",
   "metadata": {},
   "outputs": [],
   "source": [
    "ext_levels <- sort(table(data$cext),decreasing=TRUE)"
   ]
  },
  {
   "cell_type": "code",
   "execution_count": 5,
   "id": "709c95e1",
   "metadata": {},
   "outputs": [
    {
     "data": {
      "text/plain": [
       "\n",
       "      html       java                    js        png        xml       json \n",
       "  15625233   10509410    8784799    7513273    6973192    6441124    5724187 \n",
       "       jpg        php         md        txt         py        pyc         cs \n",
       "   4833489    4387845    4343098    4046411    3934828    3872922    3064631 \n",
       "         h        cpp          c         ts      class         rb       meta \n",
       "   2252094    2230496    1956677    1732826    1726899    1708490    1520087 \n",
       "       css        csv         po    geojson        yml         go       scss \n",
       "   1367531    1199593    1139373     964700     935185     739697     704064 \n",
       "      info        erb          m      cache        map        vue        svg \n",
       "    614131     546940     525824     511776     489578     485430     477051 \n",
       "         o        pdf       flat      swift        hpp         sh        bin \n",
       "    472134     471588     464260     437543     427278     423602     421312 \n",
       "    csproj       lock properties         kt        jsx      scala         cc \n",
       "    405775     402477     402416     399075     356826     351605     337506 \n",
       "       jsp \n",
       "    334266 "
      ]
     },
     "metadata": {},
     "output_type": "display_data"
    }
   ],
   "source": [
    "ext_levels[0:50]"
   ]
  },
  {
   "cell_type": "code",
   "execution_count": 100,
   "id": "b7b48879",
   "metadata": {},
   "outputs": [
    {
     "data": {
      "text/plain": [
       "\n",
       "Call:\n",
       "lm(formula = lncopy ~ lnmc + lnblob + lnsa + lncmt + cext, data = data_c)\n",
       "\n",
       "Residuals:\n",
       "    Min      1Q  Median      3Q     Max \n",
       "-0.7693 -0.1793 -0.1076 -0.0356 14.3830 \n",
       "\n",
       "Coefficients:\n",
       "                 Estimate Std. Error t value Pr(>|t|)    \n",
       "(Intercept)     4.361e-01  7.838e-04   556.4   <2e-16 ***\n",
       "lnmc            1.197e-02  6.442e-05   185.8   <2e-16 ***\n",
       "lnblob          6.995e-03  2.091e-05   334.5   <2e-16 ***\n",
       "lnsa            2.804e-02  2.442e-05  1148.4   <2e-16 ***\n",
       "lncmt          -1.215e-02  3.104e-05  -391.5   <2e-16 ***\n",
       "cextc          -2.921e-01  8.445e-04  -345.9   <2e-16 ***\n",
       "cextcache      -4.245e-01  1.030e-03  -412.0   <2e-16 ***\n",
       "cextcc         -3.061e-01  1.147e-03  -266.9   <2e-16 ***\n",
       "cextclass      -3.006e-01  8.521e-04  -352.8   <2e-16 ***\n",
       "cextcpp        -3.687e-01  8.368e-04  -440.6   <2e-16 ***\n",
       "cextcs         -4.284e-01  8.168e-04  -524.5   <2e-16 ***\n",
       "cextcsproj     -4.806e-01  1.090e-03  -440.8   <2e-16 ***\n",
       "cextcss        -3.756e-01  8.762e-04  -428.7   <2e-16 ***\n",
       "cextcsv        -4.408e-01  8.865e-04  -497.2   <2e-16 ***\n",
       "cexterb        -4.235e-01  1.018e-03  -416.0   <2e-16 ***\n",
       "cextflat       -4.348e-01  1.053e-03  -413.1   <2e-16 ***\n",
       "cextgeojson    -5.308e-01  9.185e-04  -577.9   <2e-16 ***\n",
       "cextgo         -3.916e-01  9.598e-04  -408.0   <2e-16 ***\n",
       "cexth          -2.715e-01  8.355e-04  -325.0   <2e-16 ***\n",
       "cexthpp        -3.987e-01  1.077e-03  -370.1   <2e-16 ***\n",
       "cexthtml       -4.606e-01  7.768e-04  -592.9   <2e-16 ***\n",
       "cextinfo       -3.385e-01  9.894e-04  -342.2   <2e-16 ***\n",
       "cextjava       -3.916e-01  7.826e-04  -500.4   <2e-16 ***\n",
       "cextjpg        -2.880e-01  7.956e-04  -362.0   <2e-16 ***\n",
       "cextjs         -3.902e-01  7.885e-04  -494.9   <2e-16 ***\n",
       "cextjson       -4.389e-01  7.926e-04  -553.7   <2e-16 ***\n",
       "cextjsp        -3.919e-01  1.149e-03  -341.2   <2e-16 ***\n",
       "cextjsx        -4.564e-01  1.129e-03  -404.4   <2e-16 ***\n",
       "cextkt         -4.754e-01  1.095e-03  -434.0   <2e-16 ***\n",
       "cextlock       -4.336e-01  1.094e-03  -396.3   <2e-16 ***\n",
       "cextm          -3.914e-01  1.027e-03  -381.3   <2e-16 ***\n",
       "cextmap        -4.266e-01  1.041e-03  -409.7   <2e-16 ***\n",
       "cextmd         -4.713e-01  8.023e-04  -587.4   <2e-16 ***\n",
       "cextmeta       -2.845e-01  8.626e-04  -329.8   <2e-16 ***\n",
       "cexto          -4.290e-01  1.049e-03  -409.0   <2e-16 ***\n",
       "cextother      -3.184e-01  7.694e-04  -413.8   <2e-16 ***\n",
       "cextpdf        -3.641e-01  1.051e-03  -346.3   <2e-16 ***\n",
       "cextphp        -3.537e-01  8.021e-04  -440.9   <2e-16 ***\n",
       "cextpng        -3.027e-01  7.868e-04  -384.7   <2e-16 ***\n",
       "cextpo         -1.067e-01  9.039e-04  -118.1   <2e-16 ***\n",
       "cextproperties -3.817e-01  1.093e-03  -349.2   <2e-16 ***\n",
       "cextpy         -4.331e-01  8.088e-04  -535.5   <2e-16 ***\n",
       "cextpyc        -4.494e-01  8.034e-04  -559.3   <2e-16 ***\n",
       "cextrb         -4.080e-01  8.567e-04  -476.3   <2e-16 ***\n",
       "cextscala      -5.090e-01  1.134e-03  -449.0   <2e-16 ***\n",
       "cextscss       -3.939e-01  9.673e-04  -407.2   <2e-16 ***\n",
       "cextsh         -3.992e-01  1.080e-03  -369.5   <2e-16 ***\n",
       "cextsvg        -2.028e-01  1.047e-03  -193.7   <2e-16 ***\n",
       "cextswift      -4.452e-01  1.071e-03  -415.6   <2e-16 ***\n",
       "cextts         -4.095e-01  8.545e-04  -479.2   <2e-16 ***\n",
       "cexttxt        -4.034e-01  8.027e-04  -502.5   <2e-16 ***\n",
       "cextvue        -4.356e-01  1.045e-03  -416.9   <2e-16 ***\n",
       "cextxml        -4.038e-01  7.904e-04  -511.0   <2e-16 ***\n",
       "cextyml        -4.398e-01  9.229e-04  -476.5   <2e-16 ***\n",
       "---\n",
       "Signif. codes:  0 ‘***’ 0.001 ‘**’ 0.01 ‘*’ 0.05 ‘.’ 0.1 ‘ ’ 1\n",
       "\n",
       "Residual standard error: 0.4934 on 143411363 degrees of freedom\n",
       "Multiple R-squared:  0.0397,\tAdjusted R-squared:  0.03969 \n",
       "F-statistic: 1.118e+05 on 53 and 143411363 DF,  p-value: < 2.2e-16\n"
      ]
     },
     "metadata": {},
     "output_type": "display_data"
    }
   ],
   "source": [
    "lm <- lm(lncopy~lnmc+lnblob+lnsa+lncmt+cext, data=data_c)\n",
    "summary(lm)"
   ]
  },
  {
   "cell_type": "code",
   "execution_count": 4,
   "id": "d026906c",
   "metadata": {},
   "outputs": [
    {
     "data": {
      "text/plain": [
       "\n",
       "Call:\n",
       "glm(formula = copied ~ lnmc + lnblob + lnsa + lncmt + cext, family = binomial, \n",
       "    data = data_c)\n",
       "\n",
       "Deviance Residuals: \n",
       "    Min       1Q   Median       3Q      Max  \n",
       "-1.2699  -0.5434  -0.4279  -0.3150   4.0740  \n",
       "\n",
       "Coefficients:\n",
       "                 Estimate Std. Error z value Pr(>|z|)    \n",
       "(Intercept)    -1.4689022  0.0036700  -400.2   <2e-16 ***\n",
       "lnmc            0.1989849  0.0004317   460.9   <2e-16 ***\n",
       "lnblob          0.0651555  0.0001361   478.6   <2e-16 ***\n",
       "lnsa            0.1353542  0.0001527   886.4   <2e-16 ***\n",
       "lncmt          -0.1463838  0.0002095  -698.9   <2e-16 ***\n",
       "cextc          -0.7657900  0.0039904  -191.9   <2e-16 ***\n",
       "cextcache      -1.7964818  0.0072539  -247.7   <2e-16 ***\n",
       "cextcc         -0.6609089  0.0055320  -119.5   <2e-16 ***\n",
       "cextclass      -0.6980222  0.0041080  -169.9   <2e-16 ***\n",
       "cextcpp        -0.9219593  0.0039875  -231.2   <2e-16 ***\n",
       "cextcs         -1.6241690  0.0041743  -389.1   <2e-16 ***\n",
       "cextcsproj     -2.4151190  0.0093974  -257.0   <2e-16 ***\n",
       "cextcss        -1.1524228  0.0046267  -249.1   <2e-16 ***\n",
       "cextcsv        -1.8577753  0.0052128  -356.4   <2e-16 ***\n",
       "cexterb        -1.8552957  0.0073920  -251.0   <2e-16 ***\n",
       "cextflat       -1.8127924  0.0073143  -247.8   <2e-16 ***\n",
       "cextgeojson    -6.6348087  0.0366605  -181.0   <2e-16 ***\n",
       "cextgo         -1.2640243  0.0050589  -249.9   <2e-16 ***\n",
       "cexth          -0.5838683  0.0038938  -149.9   <2e-16 ***\n",
       "cexthpp        -1.0903469  0.0056485  -193.0   <2e-16 ***\n",
       "cexthtml       -1.9830184  0.0036706  -540.2   <2e-16 ***\n",
       "cextinfo       -0.9687871  0.0052348  -185.1   <2e-16 ***\n",
       "cextjava       -1.1419908  0.0036444  -313.4   <2e-16 ***\n",
       "cextjpg        -0.4564106  0.0036633  -124.6   <2e-16 ***\n",
       "cextjs         -1.3883330  0.0037518  -370.0   <2e-16 ***\n",
       "cextjson       -1.7621497  0.0038757  -454.7   <2e-16 ***\n",
       "cextjsp        -1.2532321  0.0073143  -171.3   <2e-16 ***\n",
       "cextjsx        -2.2843290  0.0100221  -227.9   <2e-16 ***\n",
       "cextkt         -2.5506166  0.0102201  -249.6   <2e-16 ***\n",
       "cextlock       -1.8632512  0.0079984  -233.0   <2e-16 ***\n",
       "cextm          -1.0976636  0.0056056  -195.8   <2e-16 ***\n",
       "cextmap        -1.9021300  0.0072892  -261.0   <2e-16 ***\n",
       "cextmd         -2.2012181  0.0042092  -523.0   <2e-16 ***\n",
       "cextmeta       -0.6563944  0.0041789  -157.1   <2e-16 ***\n",
       "cexto          -1.6984630  0.0069430  -244.6   <2e-16 ***\n",
       "cextother      -0.8810264  0.0035196  -250.3   <2e-16 ***\n",
       "cextpdf        -0.8353752  0.0055502  -150.5   <2e-16 ***\n",
       "cextphp        -1.0691504  0.0038190  -280.0   <2e-16 ***\n",
       "cextpng        -0.6009644  0.0036224  -165.9   <2e-16 ***\n",
       "cextpo         -0.5483558  0.0041281  -132.8   <2e-16 ***\n",
       "cextproperties -1.1530282  0.0061389  -187.8   <2e-16 ***\n",
       "cextpy         -1.6424991  0.0040055  -410.1   <2e-16 ***\n",
       "cextpyc        -2.1094095  0.0043111  -489.3   <2e-16 ***\n",
       "cextrb         -1.5913089  0.0046082  -345.3   <2e-16 ***\n",
       "cextscala      -2.6161511  0.0101537  -257.7   <2e-16 ***\n",
       "cextscss       -1.4402390  0.0058681  -245.4   <2e-16 ***\n",
       "cextsh         -1.3069734  0.0062511  -209.1   <2e-16 ***\n",
       "cextsvg        -0.1638870  0.0048057   -34.1   <2e-16 ***\n",
       "cextswift      -2.0280766  0.0079654  -254.6   <2e-16 ***\n",
       "cextts         -1.5759660  0.0045474  -346.6   <2e-16 ***\n",
       "cexttxt        -1.2612588  0.0038536  -327.3   <2e-16 ***\n",
       "cextvue        -1.8941574  0.0077083  -245.7   <2e-16 ***\n",
       "cextxml        -1.2604989  0.0036980  -340.9   <2e-16 ***\n",
       "cextyml        -1.7948218  0.0055507  -323.4   <2e-16 ***\n",
       "---\n",
       "Signif. codes:  0 ‘***’ 0.001 ‘**’ 0.01 ‘*’ 0.05 ‘.’ 0.1 ‘ ’ 1\n",
       "\n",
       "(Dispersion parameter for binomial family taken to be 1)\n",
       "\n",
       "    Null deviance: 101263323  on 143411416  degrees of freedom\n",
       "Residual deviance:  95767643  on 143411363  degrees of freedom\n",
       "AIC: 95767751\n",
       "\n",
       "Number of Fisher Scoring iterations: 9\n"
      ]
     },
     "metadata": {},
     "output_type": "display_data"
    }
   ],
   "source": [
    "glm <- glm(copied~lnmc+lnblob+lnsa+lncmt+cext, data=data_c, family=binomial)\n",
    "summary(glm)"
   ]
  },
  {
   "cell_type": "code",
   "execution_count": null,
   "id": "df968fbb",
   "metadata": {},
   "outputs": [],
   "source": [
    "data_t <- read.csv(\"../data/blobs/blobs_test.0\", header = FALSE, sep = \";\", comment.char=\"\", quote=\"\", fill = TRUE,\n",
    "                 col.names = c(\"blob\",\"p\",\"nmc\",\"nblob\",\"nsa\",\"ncore\",\"ncmt\",\"na\",\"ncopy\",\"ext\",\"null\"))\n",
    "data_t$copied <- data_t$ncopy > 0\n",
    "data_t$lnmc <- log(data_t$nmc + 1)\n",
    "data_t$lnblob <- log(data_t$nblob + 1)\n",
    "data_t$lnsa <- log(data_t$nsa + 1)\n",
    "data_t$lncore <- log(data_t$ncore + 1)\n",
    "data_t$lncmt <- log(data_t$ncmt + 1)\n",
    "data_t$lna <- log(data_t$na + 1)\n",
    "data_t$lncopy <- log(data_t$ncopy + 1)\n",
    "lower_ext_t <- tolower(gsub(\"[^[:alnum:]]\",\"\",data_t$ext))\n",
    "data_t$cext <- as.factor(ifelse(((lower_ext_t %in% names(ext_levels[1:50])) & (lower_ext_t != \"\")), \n",
    "                    lower_ext_t, \"other\"))\n",
    "nas_t <- which(is.na(data_t$ncore) | is.na(data_t$na))\n",
    "data_tc <- data_t[-nas_t,c(\"lnmc\",\"lnblob\",\"lnsa\",\"lncore\",\"lncmt\",\"lna\",\"copied\",\"lncopy\",\"cext\")]"
   ]
  },
  {
   "cell_type": "code",
   "execution_count": 8,
   "id": "ef42d6be",
   "metadata": {},
   "outputs": [
    {
     "data": {
      "text/plain": [
       "Confusion Matrix and Statistics\n",
       "\n",
       "          Reference\n",
       "Prediction    FALSE     TRUE\n",
       "     FALSE 18104229  1745172\n",
       "     TRUE         7        9\n",
       "                                         \n",
       "               Accuracy : 0.9121         \n",
       "                 95% CI : (0.912, 0.9122)\n",
       "    No Information Rate : 0.9121         \n",
       "    P-Value [Acc > NIR] : 0.4996         \n",
       "                                         \n",
       "                  Kappa : 0              \n",
       "                                         \n",
       " Mcnemar's Test P-Value : <2e-16         \n",
       "                                         \n",
       "            Sensitivity : 1.000e+00      \n",
       "            Specificity : 5.157e-06      \n",
       "         Pos Pred Value : 9.121e-01      \n",
       "         Neg Pred Value : 5.625e-01      \n",
       "             Prevalence : 9.121e-01      \n",
       "         Detection Rate : 9.121e-01      \n",
       "   Detection Prevalence : 1.000e+00      \n",
       "      Balanced Accuracy : 5.000e-01      \n",
       "                                         \n",
       "       'Positive' Class : FALSE          \n",
       "                                         "
      ]
     },
     "metadata": {},
     "output_type": "display_data"
    }
   ],
   "source": [
    "library(caret)\n",
    "glm_p <- predict(glm,newdata=data_tc,type=\"response\") > 0.5\n",
    "confusionMatrix(data=factor(glm_p), reference = factor(data_tc[,\"copied\"]))"
   ]
  },
  {
   "cell_type": "markdown",
   "id": "07173c9b",
   "metadata": {},
   "source": [
    "### 3.4. ~ c language"
   ]
  },
  {
   "cell_type": "code",
   "execution_count": 1,
   "id": "f104319a",
   "metadata": {},
   "outputs": [],
   "source": [
    "data <- read.csv(\"../data/blobs/blobs.0\", header = FALSE, sep = \";\", comment.char=\"\", quote=\"\", fill = TRUE,\n",
    "                 col.names = c(\"blob\",\"p\",\"nmc\",\"nblob\",\"nsa\",\"ncore\",\"ncmt\",\"na\",\"ncopy\",\"ext\",\"null\"))\n",
    "data$copied <- data$ncopy > 0\n",
    "data$lnmc <- log(data$nmc + 1)\n",
    "data$lnblob <- log(data$nblob + 1)\n",
    "data$lnsa <- log(data$nsa + 1)\n",
    "data$lncore <- log(data$ncore + 1)\n",
    "data$lncmt <- log(data$ncmt + 1)\n",
    "data$lna <- log(data$na + 1)\n",
    "data$lncopy <- log(data$ncopy + 1)\n",
    "data$cext <- as.factor(tolower(gsub(\"[^[:alnum:]]\",\"\",data$ext)))"
   ]
  },
  {
   "cell_type": "code",
   "execution_count": 24,
   "id": "bb6dca06",
   "metadata": {},
   "outputs": [],
   "source": [
    "c_idx <- which(lower_ext == \"c\" | lower_ext == \"cpp\" | lower_ext == \"cxx\" | lower_ext == \"h\" |\n",
    "                      lower_ext == \"hpp\" | lower_ext == \"hxx\" | lower_ext == \"cs\")\n",
    "data_c <- data[c_idx,]\n",
    "nas <- which(is.na(data_c$ncore) | is.na(data_c$na))\n",
    "data_c <- data_c[-nas,c(\"lnmc\",\"lnblob\",\"lnsa\",\"lncore\",\"lncmt\",\"lna\",\"copied\",\"lncopy\",\"cext\")]"
   ]
  },
  {
   "cell_type": "code",
   "execution_count": 41,
   "id": "7aa39f6a",
   "metadata": {},
   "outputs": [
    {
     "data": {
      "text/plain": [
       "      lnmc           lnblob             lnsa            lncore      \n",
       " Min.   :0.000   Min.   : 0.6931   Min.   : 0.000   Min.   :0.6931  \n",
       " 1st Qu.:1.792   1st Qu.: 7.1131   1st Qu.: 0.000   1st Qu.:0.6931  \n",
       " Median :3.091   Median : 9.0083   Median : 1.099   Median :1.0986  \n",
       " Mean   :3.153   Mean   : 9.1366   Mean   : 2.479   Mean   :1.6171  \n",
       " 3rd Qu.:4.635   3rd Qu.:11.0246   3rd Qu.: 4.654   3rd Qu.:1.7918  \n",
       " Max.   :5.930   Max.   :15.5219   Max.   :11.616   Max.   :8.7147  \n",
       "                                                                    \n",
       "     lncmt              lna            copied            lncopy      \n",
       " Min.   : 0.6931   Min.   : 0.6931   Mode :logical   Min.   :0.0000  \n",
       " 1st Qu.: 4.3307   1st Qu.: 1.0986   FALSE:8558170   1st Qu.:0.0000  \n",
       " Median : 6.2226   Median : 1.7918   TRUE :1454584   Median :0.0000  \n",
       " Mean   : 6.6741   Mean   : 2.7284                   Mean   :0.1765  \n",
       " 3rd Qu.: 8.9092   3rd Qu.: 3.9120                   3rd Qu.:0.0000  \n",
       " Max.   :15.7374   Max.   :10.9313                   Max.   :9.6389  \n",
       "                                                                     \n",
       "      cext        \n",
       " cs     :3058903  \n",
       " h      :2247282  \n",
       " cpp    :2228592  \n",
       " c      :1954945  \n",
       " hpp    : 427202  \n",
       " cxx    :  82109  \n",
       " (Other):  13721  "
      ]
     },
     "metadata": {},
     "output_type": "display_data"
    }
   ],
   "source": [
    "summary(data_c)"
   ]
  },
  {
   "cell_type": "code",
   "execution_count": 45,
   "id": "94ea4dbd",
   "metadata": {},
   "outputs": [
    {
     "data": {
      "text/plain": [
       "\n",
       "Call:\n",
       "lm(formula = lncopy ~ lnmc + lnblob + lnsa + lncmt + cext, data = data_c)\n",
       "\n",
       "Residuals:\n",
       "    Min      1Q  Median      3Q     Max \n",
       "-0.6751 -0.2302 -0.1263 -0.0221  9.3158 \n",
       "\n",
       "Coefficients:\n",
       "              Estimate Std. Error t value Pr(>|t|)    \n",
       "(Intercept) -5.957e-02  8.289e-04  -71.86   <2e-16 ***\n",
       "lnmc        -2.204e-02  2.518e-04  -87.53   <2e-16 ***\n",
       "lnblob       1.279e-02  9.942e-05  128.65   <2e-16 ***\n",
       "lnsa         3.806e-03  8.823e-05   43.13   <2e-16 ***\n",
       "lncmt        3.222e-02  1.363e-04  236.46   <2e-16 ***\n",
       "cextcpp     -6.444e-02  5.156e-04 -124.97   <2e-16 ***\n",
       "cextcs      -9.370e-02  5.024e-04 -186.50   <2e-16 ***\n",
       "cextcxx      1.199e-01  1.829e-03   65.55   <2e-16 ***\n",
       "cexth        4.442e-02  5.111e-04   86.91   <2e-16 ***\n",
       "cexthpp     -9.087e-02  8.672e-04 -104.78   <2e-16 ***\n",
       "cexthxx      5.845e-02  4.376e-03   13.36   <2e-16 ***\n",
       "---\n",
       "Signif. codes:  0 ‘***’ 0.001 ‘**’ 0.01 ‘*’ 0.05 ‘.’ 0.1 ‘ ’ 1\n",
       "\n",
       "Residual standard error: 0.5103 on 10012743 degrees of freedom\n",
       "Multiple R-squared:  0.06292,\tAdjusted R-squared:  0.06291 \n",
       "F-statistic: 6.723e+04 on 10 and 10012743 DF,  p-value: < 2.2e-16\n"
      ]
     },
     "metadata": {},
     "output_type": "display_data"
    }
   ],
   "source": [
    "lm <- lm(lncopy~lnmc+lnblob+lnsa+lncmt+cext, data=data_c)\n",
    "summary(lm)"
   ]
  },
  {
   "cell_type": "code",
   "execution_count": 46,
   "id": "0b475c84",
   "metadata": {},
   "outputs": [
    {
     "data": {
      "text/plain": [
       "\n",
       "Call:\n",
       "glm(formula = copied ~ lnmc + lnblob + lnsa + lncmt + cext, family = binomial, \n",
       "    data = data_c)\n",
       "\n",
       "Deviance Residuals: \n",
       "    Min       1Q   Median       3Q      Max  \n",
       "-1.2823  -0.6019  -0.4608  -0.3319   2.7388  \n",
       "\n",
       "Coefficients:\n",
       "              Estimate Std. Error z value Pr(>|z|)    \n",
       "(Intercept) -3.2539779  0.0050868 -639.69   <2e-16 ***\n",
       "lnmc         0.0939821  0.0014132   66.50   <2e-16 ***\n",
       "lnblob       0.0714856  0.0005933  120.49   <2e-16 ***\n",
       "lnsa        -0.0184384  0.0004693  -39.29   <2e-16 ***\n",
       "lncmt        0.0817504  0.0007732  105.73   <2e-16 ***\n",
       "cextcpp     -0.0947109  0.0027848  -34.01   <2e-16 ***\n",
       "cextcs      -0.6110728  0.0031851 -191.85   <2e-16 ***\n",
       "cextcxx      0.7343313  0.0077247   95.06   <2e-16 ***\n",
       "cexth        0.3109672  0.0026442  117.60   <2e-16 ***\n",
       "cexthpp     -0.2099330  0.0048502  -43.28   <2e-16 ***\n",
       "cexthxx      0.5871995  0.0188959   31.08   <2e-16 ***\n",
       "---\n",
       "Signif. codes:  0 ‘***’ 0.001 ‘**’ 0.01 ‘*’ 0.05 ‘.’ 0.1 ‘ ’ 1\n",
       "\n",
       "(Dispersion parameter for binomial family taken to be 1)\n",
       "\n",
       "    Null deviance: 8299000  on 10012753  degrees of freedom\n",
       "Residual deviance: 7723553  on 10012743  degrees of freedom\n",
       "AIC: 7723575\n",
       "\n",
       "Number of Fisher Scoring iterations: 5\n"
      ]
     },
     "metadata": {},
     "output_type": "display_data"
    }
   ],
   "source": [
    "glm <- glm(copied~lnmc+lnblob+lnsa+lncmt+cext, data=data_c, family=binomial)\n",
    "summary(glm)"
   ]
  },
  {
   "cell_type": "markdown",
   "id": "36aee3cf",
   "metadata": {},
   "source": [
    "### 3.5. ~ java language"
   ]
  },
  {
   "cell_type": "code",
   "execution_count": 47,
   "id": "055da0ee",
   "metadata": {},
   "outputs": [],
   "source": [
    "java_idx <- which(lower_ext == \"class\" | lower_ext == \"dpj\" | lower_ext == \"java\" | lower_ext == \"jar\")\n",
    "data_c <- data[java_idx,]\n",
    "nas <- which(is.na(data_c$ncore) | is.na(data_c$na))\n",
    "data_c <- data_c[-nas,c(\"lnmc\",\"lnblob\",\"lnsa\",\"lncore\",\"lncmt\",\"lna\",\"copied\",\"lncopy\",\"cext\")]"
   ]
  },
  {
   "cell_type": "code",
   "execution_count": 48,
   "id": "17164591",
   "metadata": {},
   "outputs": [
    {
     "data": {
      "text/plain": [
       "      lnmc            lnblob             lnsa             lncore      \n",
       " Min.   :0.6931   Min.   : 0.6931   Min.   : 0.0000   Min.   :0.6931  \n",
       " 1st Qu.:1.3863   1st Qu.: 6.6542   1st Qu.: 0.0000   1st Qu.:0.6931  \n",
       " Median :2.4849   Median : 8.3462   Median : 0.6931   Median :1.0986  \n",
       " Mean   :2.7957   Mean   : 8.7970   Mean   : 2.1295   Mean   :1.8255  \n",
       " 3rd Qu.:4.3438   3rd Qu.:10.6810   3rd Qu.: 3.5835   3rd Qu.:2.0794  \n",
       " Max.   :5.9296   Max.   :15.5219   Max.   :11.6156   Max.   :8.7147  \n",
       "                                                                      \n",
       "     lncmt              lna            copied             lncopy     \n",
       " Min.   : 0.6931   Min.   : 0.6931   Mode :logical    Min.   :0.000  \n",
       " 1st Qu.: 3.4657   1st Qu.: 1.0986   FALSE:10881592   1st Qu.:0.000  \n",
       " Median : 5.5413   Median : 1.6094   TRUE :1493138    Median :0.000  \n",
       " Mean   : 6.3251   Mean   : 2.7898                    Mean   :0.136  \n",
       " 3rd Qu.: 8.6601   3rd Qu.: 3.8067                    3rd Qu.:0.000  \n",
       " Max.   :15.7374   Max.   :10.9313                    Max.   :8.895  \n",
       "                                                                     \n",
       "      cext         \n",
       " java   :10468658  \n",
       " class  : 1718422  \n",
       " jar    :  187639  \n",
       " dpj    :      11  \n",
       "        :       0  \n",
       " 0      :       0  \n",
       " (Other):       0  "
      ]
     },
     "metadata": {},
     "output_type": "display_data"
    }
   ],
   "source": [
    "summary(data_c)"
   ]
  },
  {
   "cell_type": "code",
   "execution_count": 49,
   "id": "da08a8a5",
   "metadata": {
    "scrolled": false
   },
   "outputs": [
    {
     "data": {
      "text/plain": [
       "\n",
       "Call:\n",
       "lm(formula = lncopy ~ lnmc + lnblob + lnsa + lncmt + cext, data = data_c)\n",
       "\n",
       "Residuals:\n",
       "    Min      1Q  Median      3Q     Max \n",
       "-0.4168 -0.1779 -0.1027 -0.0370  8.9046 \n",
       "\n",
       "Coefficients:\n",
       "              Estimate Std. Error  t value Pr(>|t|)    \n",
       "(Intercept) -1.647e-02  6.309e-04  -26.099   <2e-16 ***\n",
       "lnmc         1.381e-02  1.942e-04   71.112   <2e-16 ***\n",
       "lnblob       2.558e-02  9.009e-05  283.979   <2e-16 ***\n",
       "lnsa         8.389e-03  7.047e-05  119.045   <2e-16 ***\n",
       "lncmt       -7.600e-03  9.549e-05  -79.596   <2e-16 ***\n",
       "cextdpj     -1.955e-01  1.326e-01   -1.474     0.14    \n",
       "cextjar     -3.931e-02  1.072e-03  -36.669   <2e-16 ***\n",
       "cextjava    -9.500e-02  3.954e-04 -240.282   <2e-16 ***\n",
       "---\n",
       "Signif. codes:  0 ‘***’ 0.001 ‘**’ 0.01 ‘*’ 0.05 ‘.’ 0.1 ‘ ’ 1\n",
       "\n",
       "Residual standard error: 0.4399 on 12374722 degrees of freedom\n",
       "Multiple R-squared:  0.03888,\tAdjusted R-squared:  0.03888 \n",
       "F-statistic: 7.152e+04 on 7 and 12374722 DF,  p-value: < 2.2e-16\n"
      ]
     },
     "metadata": {},
     "output_type": "display_data"
    }
   ],
   "source": [
    "lm <- lm(lncopy~lnmc+lnblob+lnsa+lncmt+cext, data=data_c)\n",
    "summary(lm)"
   ]
  },
  {
   "cell_type": "markdown",
   "id": "cd645055",
   "metadata": {},
   "source": [
    "### 3.6. ~ python language"
   ]
  },
  {
   "cell_type": "code",
   "execution_count": 50,
   "id": "90fbab52",
   "metadata": {},
   "outputs": [
    {
     "data": {
      "text/plain": [
       "      lnmc            lnblob             lnsa            lncore      \n",
       " Min.   :0.6931   Min.   : 0.6931   Min.   : 0.000   Min.   :0.6931  \n",
       " 1st Qu.:1.0986   1st Qu.: 7.2752   1st Qu.: 0.000   1st Qu.:0.6931  \n",
       " Median :1.6094   Median : 8.6597   Median : 0.000   Median :0.6931  \n",
       " Mean   :2.2243   Mean   : 8.5710   Mean   : 1.677   Mean   :1.4070  \n",
       " 3rd Qu.:3.3673   3rd Qu.: 9.5868   3rd Qu.: 2.197   3rd Qu.:1.3863  \n",
       " Max.   :5.9296   Max.   :15.5219   Max.   :11.616   Max.   :8.7147  \n",
       "                                                                     \n",
       "     lncmt              lna            copied            lncopy       \n",
       " Min.   : 0.6931   Min.   : 0.6931   Mode :logical   Min.   :0.00000  \n",
       " 1st Qu.: 2.4849   1st Qu.: 0.6931   FALSE:7323972   1st Qu.:0.00000  \n",
       " Median : 4.1897   Median : 1.0986   TRUE :468271    Median :0.00000  \n",
       " Mean   : 5.0492   Mean   : 2.1214                   Mean   :0.06728  \n",
       " 3rd Qu.: 6.8079   3rd Qu.: 2.4849                   3rd Qu.:0.00000  \n",
       " Max.   :15.7374   Max.   :10.9313                   Max.   :9.31425  \n",
       "                                                                      \n",
       "      cext        \n",
       " py     :3929796  \n",
       " pyc    :3851386  \n",
       " pyo    :  10193  \n",
       " pyw    :    770  \n",
       " py3    :     98  \n",
       "        :      0  \n",
       " (Other):      0  "
      ]
     },
     "metadata": {},
     "output_type": "display_data"
    }
   ],
   "source": [
    "py_idx <- which(lower_ext == \"py\" | lower_ext == \"py3\" | lower_ext == \"pyc\" | lower_ext == \"pyo\" \n",
    "                | lower_ext == \"pyw\")\n",
    "data_c <- data[py_idx,]\n",
    "nas <- which(is.na(data_c$ncore) | is.na(data_c$na))\n",
    "data_c <- data_c[-nas,c(\"lnmc\",\"lnblob\",\"lnsa\",\"lncore\",\"lncmt\",\"lna\",\"copied\",\"lncopy\",\"cext\")]\n",
    "summary(data_c)"
   ]
  },
  {
   "cell_type": "code",
   "execution_count": 51,
   "id": "a0877bed",
   "metadata": {},
   "outputs": [
    {
     "data": {
      "text/plain": [
       "\n",
       "Call:\n",
       "lm(formula = lncopy ~ lnmc + lnblob + lnsa + lncmt + cext, data = data_c)\n",
       "\n",
       "Residuals:\n",
       "    Min      1Q  Median      3Q     Max \n",
       "-0.4364 -0.0743 -0.0442 -0.0262  9.2429 \n",
       "\n",
       "Coefficients:\n",
       "              Estimate Std. Error  t value Pr(>|t|)    \n",
       "(Intercept)  5.110e-02  5.603e-04   91.203   <2e-16 ***\n",
       "lnmc         6.409e-03  2.213e-04   28.967   <2e-16 ***\n",
       "lnblob       6.338e-03  9.690e-05   65.405   <2e-16 ***\n",
       "lnsa         2.397e-02  8.221e-05  291.557   <2e-16 ***\n",
       "lncmt       -1.391e-02  1.122e-04 -123.973   <2e-16 ***\n",
       "cextpy3      2.912e-01  3.406e-02    8.549   <2e-16 ***\n",
       "cextpyc     -4.535e-02  4.419e-04 -102.633   <2e-16 ***\n",
       "cextpyo      3.768e-02  3.361e-03   11.210   <2e-16 ***\n",
       "cextpyw     -3.085e-02  1.215e-02   -2.538   0.0111 *  \n",
       "---\n",
       "Signif. codes:  0 ‘***’ 0.001 ‘**’ 0.01 ‘*’ 0.05 ‘.’ 0.1 ‘ ’ 1\n",
       "\n",
       "Residual standard error: 0.3372 on 7792234 degrees of freedom\n",
       "Multiple R-squared:  0.02958,\tAdjusted R-squared:  0.02958 \n",
       "F-statistic: 2.969e+04 on 8 and 7792234 DF,  p-value: < 2.2e-16\n"
      ]
     },
     "metadata": {},
     "output_type": "display_data"
    }
   ],
   "source": [
    "lm <- lm(lncopy~lnmc+lnblob+lnsa+lncmt+cext, data=data_c)\n",
    "summary(lm)"
   ]
  },
  {
   "cell_type": "markdown",
   "id": "477741e7",
   "metadata": {},
   "source": [
    "### 3.7. ~ go language"
   ]
  },
  {
   "cell_type": "code",
   "execution_count": 52,
   "id": "61be6d64",
   "metadata": {},
   "outputs": [
    {
     "data": {
      "text/plain": [
       "      lnmc            lnblob             lnsa            lncore      \n",
       " Min.   :0.6931   Min.   : 0.6931   Min.   : 0.000   Min.   :0.6931  \n",
       " 1st Qu.:2.3026   1st Qu.: 6.7178   1st Qu.: 1.099   1st Qu.:0.6931  \n",
       " Median :3.3673   Median : 8.6149   Median : 3.871   Median :1.3863  \n",
       " Mean   :3.1468   Mean   : 8.7216   Mean   : 3.856   Mean   :1.8517  \n",
       " 3rd Qu.:4.0254   3rd Qu.:11.0252   3rd Qu.: 6.215   3rd Qu.:2.1972  \n",
       " Max.   :5.9296   Max.   :15.5219   Max.   :11.616   Max.   :8.7147  \n",
       "                                                                     \n",
       "     lncmt              lna            copied            lncopy     \n",
       " Min.   : 0.6931   Min.   : 0.6931   Mode :logical   Min.   :0.000  \n",
       " 1st Qu.: 5.0239   1st Qu.: 1.3863   FALSE:651542    1st Qu.:0.000  \n",
       " Median : 6.8628   Median : 2.8904   TRUE :87667     Median :0.000  \n",
       " Mean   : 7.1862   Mean   : 3.2364                   Mean   :0.164  \n",
       " 3rd Qu.: 9.7294   3rd Qu.: 4.4188                   3rd Qu.:0.000  \n",
       " Max.   :15.7374   Max.   :10.9313                   Max.   :8.417  \n",
       "                                                                    \n",
       "      cext       \n",
       " go     :739209  \n",
       "        :     0  \n",
       " 0      :     0  \n",
       " 00     :     0  \n",
       " 000    :     0  \n",
       " 0000   :     0  \n",
       " (Other):     0  "
      ]
     },
     "metadata": {},
     "output_type": "display_data"
    }
   ],
   "source": [
    "go_idx <- which(lower_ext == \"go\")\n",
    "data_c <- data[go_idx,]\n",
    "nas <- which(is.na(data_c$ncore) | is.na(data_c$na))\n",
    "data_c <- data_c[-nas,c(\"lnmc\",\"lnblob\",\"lnsa\",\"lncore\",\"lncmt\",\"lna\",\"copied\",\"lncopy\",\"cext\")]\n",
    "summary(data_c)"
   ]
  },
  {
   "cell_type": "code",
   "execution_count": 53,
   "id": "1bfc0168",
   "metadata": {},
   "outputs": [
    {
     "data": {
      "text/plain": [
       "\n",
       "Call:\n",
       "lm(formula = lncopy ~ lnmc + lnblob + lnsa + lncmt, data = data_c)\n",
       "\n",
       "Residuals:\n",
       "    Min      1Q  Median      3Q     Max \n",
       "-0.4715 -0.2523 -0.1343 -0.0007  8.3210 \n",
       "\n",
       "Coefficients:\n",
       "              Estimate Std. Error t value Pr(>|t|)    \n",
       "(Intercept) -0.1842424  0.0025962  -70.97   <2e-16 ***\n",
       "lnmc         0.0484330  0.0012172   39.79   <2e-16 ***\n",
       "lnblob       0.0492309  0.0006658   73.94   <2e-16 ***\n",
       "lnsa         0.0278703  0.0003800   73.34   <2e-16 ***\n",
       "lncmt       -0.0474534  0.0007009  -67.70   <2e-16 ***\n",
       "---\n",
       "Signif. codes:  0 ‘***’ 0.001 ‘**’ 0.01 ‘*’ 0.05 ‘.’ 0.1 ‘ ’ 1\n",
       "\n",
       "Residual standard error: 0.5393 on 739204 degrees of freedom\n",
       "Multiple R-squared:  0.05565,\tAdjusted R-squared:  0.05564 \n",
       "F-statistic: 1.089e+04 on 4 and 739204 DF,  p-value: < 2.2e-16\n"
      ]
     },
     "metadata": {},
     "output_type": "display_data"
    }
   ],
   "source": [
    "lm <- lm(lncopy~lnmc+lnblob+lnsa+lncmt, data=data_c)\n",
    "summary(lm)"
   ]
  },
  {
   "cell_type": "code",
   "execution_count": 2,
   "id": "eb8cffee",
   "metadata": {},
   "outputs": [
    {
     "data": {
      "text/plain": [
       "                                       blob          \n",
       " 000046a34e09d434cd7b155d2d7edeec67e33343:        2  \n",
       " 0000859499ce00d7ce45fed541c73400e21b2b18:        2  \n",
       " 0000f17d6a3b9fba1ad146924e1499016f207b28:        2  \n",
       " 0000fa01b7b23e5317cf2e79fa3765280d75ba9d:        2  \n",
       " 000225b41a38cafdc84e16108631675bb8c78b3b:        2  \n",
       " 0002b6ae2e76bc70543326c604c29857d90a75a6:        2  \n",
       " (Other)                                 :146058545  \n",
       "                                    p                  nmc        \n",
       " AlexxNica_doc.servo.org             :  1912352   Min.   :  0.00  \n",
       " TheMattSykes_personal-website       :  1793642   1st Qu.:  3.00  \n",
       " AdrianDC_aosp_development_sony8960_q:  1687091   Median :  8.00  \n",
       " CISecurity_OVALRepo                 :  1326881   Mean   : 38.14  \n",
       " odoo_odoo                           :  1096477   3rd Qu.: 42.00  \n",
       " 3442853561_pistondoc                :   942718   Max.   :375.00  \n",
       " (Other)                             :137299396                   \n",
       "     nblob              nsa               ncore              ncmt        \n",
       " Min.   :      1   Min.   :     0.0   Min.   :   1.0    Min.   :      1  \n",
       " 1st Qu.:   1244   1st Qu.:     0.0   1st Qu.:   1.0    1st Qu.:     29  \n",
       " Median :   9240   Median :     0.0   Median :   2.0    Median :    180  \n",
       " Mean   : 317672   Mean   :   767.6   Mean   : 108.4    Mean   : 150313  \n",
       " 3rd Qu.:  99062   3rd Qu.:    12.0   3rd Qu.:   3.0    3rd Qu.:   2247  \n",
       " Max.   :5508791   Max.   :110811.0   Max.   :6091.0    Max.   :6833601  \n",
       "                                      NA's   :2641512                    \n",
       "       na              ncopy                ext                lan           \n",
       " Min.   :    1     Min.   :      0.0   html   :15622259          :145972239  \n",
       " 1st Qu.:    1     1st Qu.:      0.0   java   :10507343   Java   :    41845  \n",
       " Median :    3     Median :      0.0          : 8784207   Cs     :    23126  \n",
       " Mean   : 1097     Mean   :      3.3   js     : 7511623   Go     :    12335  \n",
       " 3rd Qu.:   16     3rd Qu.:      0.0   png    : 6923887   JS     :     7209  \n",
       " Max.   :55896     Max.   :2243020.0   xml    : 6435210   pl     :      664  \n",
       " NA's   :2647140                       (Other):90274028   (Other):     1139  \n",
       "               pac              copied             imp           \n",
       "                 :145972239   Mode :logical     Mode :logical    \n",
       " android.app     :     1962   FALSE:129755508   FALSE:145972239  \n",
       " android.view    :     1805   TRUE :16303049    TRUE :86318      \n",
       " android.widget  :     1477                                      \n",
       " android.provider:     1270                                      \n",
       " android.media   :     1065                                      \n",
       " (Other)         :    78739                                      "
      ]
     },
     "metadata": {},
     "output_type": "display_data"
    }
   ],
   "source": [
    "data <- read.csv(\"../data/blobs/blobs.0\", header = FALSE, sep = \";\", comment.char=\"\", quote=\"\", fill = TRUE,\n",
    "                 col.names = c(\"blob\",\"p\",\"nmc\",\"nblob\",\"nsa\",\"ncore\",\"ncmt\",\"na\",\"ncopy\",\"ext\",\"lan\",\"pac\"))\n",
    "data$copied <- data$ncopy > 0\n",
    "data$imp <- data$pac != \"\"\n",
    "summary(data)"
   ]
  },
  {
   "cell_type": "code",
   "execution_count": 3,
   "id": "e05d8913",
   "metadata": {},
   "outputs": [],
   "source": [
    "lower_ext <- tolower(gsub(\"[^[:alnum:]]\",\"\",data$ext))\n",
    "ext_levels <- sort(table(lower_ext),decreasing=TRUE)\n",
    "data$cext <- as.factor(ifelse(((lower_ext %in% names(ext_levels[1:50])) & (lower_ext != \"\")), \n",
    "                    lower_ext, \"other\"))"
   ]
  },
  {
   "cell_type": "code",
   "execution_count": 5,
   "id": "2f140bdc",
   "metadata": {},
   "outputs": [],
   "source": [
    "data$lnmc <- log(data$nmc + 1)\n",
    "data$lnblob <- log(data$nblob + 1)\n",
    "data$lnsa <- log(data$nsa + 1)\n",
    "data$lncore <- log(data$ncore + 1)\n",
    "data$lncmt <- log(data$ncmt + 1)\n",
    "data$lna <- log(data$na + 1)\n",
    "data$lncopy <- log(data$ncopy + 1)\n",
    "c_idx <- which(lower_ext == \"c\" | lower_ext == \"cpp\" | lower_ext == \"cxx\" | lower_ext == \"h\" |\n",
    "                      lower_ext == \"hpp\" | lower_ext == \"hxx\" | lower_ext == \"cs\")\n",
    "data_c <- data[c_idx,]\n",
    "nas <- which(is.na(data_c$ncore) | is.na(data_c$na))\n",
    "data_c <- data_c[-nas,c(\"lnmc\",\"lnblob\",\"lnsa\",\"lncore\",\"lncmt\",\"lna\",\"copied\",\"lncopy\",\"cext\",\"imp\")]"
   ]
  },
  {
   "cell_type": "code",
   "execution_count": 6,
   "id": "8f4d6035",
   "metadata": {},
   "outputs": [
    {
     "data": {
      "text/plain": [
       "      lnmc           lnblob             lnsa            lncore      \n",
       " Min.   :0.000   Min.   : 0.6931   Min.   : 0.000   Min.   :0.6931  \n",
       " 1st Qu.:1.792   1st Qu.: 7.1131   1st Qu.: 0.000   1st Qu.:0.6931  \n",
       " Median :3.091   Median : 9.0083   Median : 1.099   Median :1.0986  \n",
       " Mean   :3.153   Mean   : 9.1366   Mean   : 2.479   Mean   :1.6171  \n",
       " 3rd Qu.:4.635   3rd Qu.:11.0246   3rd Qu.: 4.654   3rd Qu.:1.7918  \n",
       " Max.   :5.930   Max.   :15.5219   Max.   :11.616   Max.   :8.7147  \n",
       "                                                                    \n",
       "     lncmt              lna            copied            lncopy      \n",
       " Min.   : 0.6931   Min.   : 0.6931   Mode :logical   Min.   :0.0000  \n",
       " 1st Qu.: 4.3307   1st Qu.: 1.0986   FALSE:8558173   1st Qu.:0.0000  \n",
       " Median : 6.2226   Median : 1.7918   TRUE :1454584   Median :0.0000  \n",
       " Mean   : 6.6741   Mean   : 2.7284                   Mean   :0.1765  \n",
       " 3rd Qu.: 8.9092   3rd Qu.: 3.9120                   3rd Qu.:0.0000  \n",
       " Max.   :15.7374   Max.   :10.9313                   Max.   :9.6389  \n",
       "                                                                     \n",
       "      cext            imp         \n",
       " cs     :3058903   Mode :logical  \n",
       " h      :2247282   FALSE:9989721  \n",
       " cpp    :2228592   TRUE :23036    \n",
       " c      :1954948                  \n",
       " hpp    : 427202                  \n",
       " other  :  95830                  \n",
       " (Other):      0                  "
      ]
     },
     "metadata": {},
     "output_type": "display_data"
    }
   ],
   "source": [
    "summary(data_c)"
   ]
  },
  {
   "cell_type": "code",
   "execution_count": 9,
   "id": "b654552f",
   "metadata": {},
   "outputs": [
    {
     "data": {
      "text/plain": [
       "\n",
       "Call:\n",
       "lm(formula = lncopy ~ lnmc + lnblob + lnsa + lncmt + cext + imp, \n",
       "    data = data_c)\n",
       "\n",
       "Residuals:\n",
       "    Min      1Q  Median      3Q     Max \n",
       "-0.6663 -0.2303 -0.1264 -0.0221  9.3158 \n",
       "\n",
       "Coefficients:\n",
       "              Estimate Std. Error  t value Pr(>|t|)    \n",
       "(Intercept) -5.951e-02  8.289e-04  -71.792  < 2e-16 ***\n",
       "lnmc        -2.206e-02  2.518e-04  -87.605  < 2e-16 ***\n",
       "lnblob       1.280e-02  9.942e-05  128.691  < 2e-16 ***\n",
       "lnsa         3.807e-03  8.823e-05   43.148  < 2e-16 ***\n",
       "lncmt        3.221e-02  1.363e-04  236.427  < 2e-16 ***\n",
       "cextcpp     -6.443e-02  5.156e-04 -124.957  < 2e-16 ***\n",
       "cextcs      -9.393e-02  5.032e-04 -186.662  < 2e-16 ***\n",
       "cexth        4.442e-02  5.111e-04   86.913  < 2e-16 ***\n",
       "cexthpp     -9.087e-02  8.672e-04 -104.775  < 2e-16 ***\n",
       "cextother    1.111e-01  1.700e-03   65.360  < 2e-16 ***\n",
       "impTRUE      2.744e-02  3.377e-03    8.128 4.38e-16 ***\n",
       "---\n",
       "Signif. codes:  0 '***' 0.001 '**' 0.01 '*' 0.05 '.' 0.1 ' ' 1\n",
       "\n",
       "Residual standard error: 0.5103 on 10012746 degrees of freedom\n",
       "Multiple R-squared:  0.06291,\tAdjusted R-squared:  0.06291 \n",
       "F-statistic: 6.721e+04 on 10 and 10012746 DF,  p-value: < 2.2e-16\n"
      ]
     },
     "metadata": {},
     "output_type": "display_data"
    }
   ],
   "source": [
    "lm <- lm(lncopy~lnmc+lnblob+lnsa+lncmt+cext+imp, data=data_c)\n",
    "summary(lm)"
   ]
  },
  {
   "cell_type": "code",
   "execution_count": 11,
   "id": "bdac4889",
   "metadata": {},
   "outputs": [
    {
     "data": {
      "text/plain": [
       "\n",
       "Call:\n",
       "glm(formula = copied ~ lnmc + lnblob + lnsa + lncmt + cext + \n",
       "    imp, family = binomial, data = data_c)\n",
       "\n",
       "Deviance Residuals: \n",
       "    Min       1Q   Median       3Q      Max  \n",
       "-1.2733  -0.6020  -0.4609  -0.3314   2.7404  \n",
       "\n",
       "Coefficients:\n",
       "              Estimate Std. Error z value Pr(>|z|)    \n",
       "(Intercept) -3.2529800  0.0050867 -639.51   <2e-16 ***\n",
       "lnmc         0.0937293  0.0014131   66.33   <2e-16 ***\n",
       "lnblob       0.0714802  0.0005932  120.49   <2e-16 ***\n",
       "lnsa        -0.0185035  0.0004693  -39.43   <2e-16 ***\n",
       "lncmt        0.0817817  0.0007732  105.77   <2e-16 ***\n",
       "cextcpp     -0.0946414  0.0027847  -33.99   <2e-16 ***\n",
       "cextcs      -0.6162699  0.0031971 -192.76   <2e-16 ***\n",
       "cexth        0.3109740  0.0026442  117.61   <2e-16 ***\n",
       "cexthpp     -0.2098548  0.0048501  -43.27   <2e-16 ***\n",
       "cextother    0.7143949  0.0072290   98.82   <2e-16 ***\n",
       "impTRUE      0.4341607  0.0199445   21.77   <2e-16 ***\n",
       "---\n",
       "Signif. codes:  0 '***' 0.001 '**' 0.01 '*' 0.05 '.' 0.1 ' ' 1\n",
       "\n",
       "(Dispersion parameter for binomial family taken to be 1)\n",
       "\n",
       "    Null deviance: 8299001  on 10012756  degrees of freedom\n",
       "Residual deviance: 7723180  on 10012746  degrees of freedom\n",
       "AIC: 7723202\n",
       "\n",
       "Number of Fisher Scoring iterations: 5\n"
      ]
     },
     "metadata": {},
     "output_type": "display_data"
    }
   ],
   "source": [
    "glm <- glm(copied~lnmc+lnblob+lnsa+lncmt+cext+imp, data=data_c, family=binomial)\n",
    "summary(glm)"
   ]
  }
 ],
 "metadata": {
  "kernelspec": {
   "display_name": "R",
   "language": "R",
   "name": "ir"
  },
  "language_info": {
   "codemirror_mode": "r",
   "file_extension": ".r",
   "mimetype": "text/x-r-source",
   "name": "R",
   "pygments_lexer": "r",
   "version": "3.6.3"
  }
 },
 "nbformat": 4,
 "nbformat_minor": 5
}
