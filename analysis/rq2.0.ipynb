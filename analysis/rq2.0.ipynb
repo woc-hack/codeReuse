{
 "cells": [
  {
   "cell_type": "markdown",
   "id": "b9d03144",
   "metadata": {},
   "source": [
    "# 1. Loading Data"
   ]
  },
  {
   "cell_type": "code",
   "execution_count": null,
   "id": "462b2664",
   "metadata": {},
   "outputs": [],
   "source": [
    "library(caret)"
   ]
  },
  {
   "cell_type": "code",
   "execution_count": 1,
   "id": "9e982e5a",
   "metadata": {},
   "outputs": [],
   "source": [
    "data <- read.csv(\"../data/blobs/uPab.0\", header = FALSE, sep = \";\")\n",
    "names(data) <- c(\"p\",\"nmc\",\"nblob\",\"nsa\",\"ncore\",\"ncmt\",\"na\",\"blob\",\"ncopy\")\n",
    "data$copied <- data$ncopy > 0"
   ]
  },
  {
   "cell_type": "code",
   "execution_count": 145,
   "id": "44de12c9",
   "metadata": {
    "scrolled": false
   },
   "outputs": [
    {
     "data": {
      "text/plain": [
       "                                    p                  nmc        \n",
       " TheMattSykes_personal-website       :  4022099   Min.   :  0.00  \n",
       " AlexxNica_doc.servo.org             :  3802719   1st Qu.:  2.00  \n",
       " AdrianDC_aosp_development_sony8960_q:  3113923   Median :  8.00  \n",
       " CISecurity_OVALRepo                 :  2638118   Mean   : 36.38  \n",
       " odoo_odoo                           :  2181203   3rd Qu.: 38.00  \n",
       " 3442853561_pistondoc                :  1874252   Max.   :375.00  \n",
       " (Other)                             :282784051                   \n",
       "     nblob              nsa               ncore              ncmt        \n",
       " Min.   :      1   Min.   :     0.0   Min.   :   1      Min.   :      1  \n",
       " 1st Qu.:   1333   1st Qu.:     0.0   1st Qu.:   1      1st Qu.:     25  \n",
       " Median :   9906   Median :     0.0   Median :   2      Median :    161  \n",
       " Mean   : 313067   Mean   :   744.9   Mean   : 113      Mean   : 152056  \n",
       " 3rd Qu.:  88700   3rd Qu.:    10.0   3rd Qu.:   3      3rd Qu.:   1892  \n",
       " Max.   :5508791   Max.   :110811.0   Max.   :6091      Max.   :6833601  \n",
       "                                      NA's   :5318169                    \n",
       "       na                                                blob          \n",
       " Min.   :    1     0000fa01b7b23e5317cf2e79fa3765280d75ba9d:        2  \n",
       " 1st Qu.:    1     000a5215bc99e2910a67ef0e09e74dba9baa4af5:        2  \n",
       " Median :    3     000b92a0b1a54c2209275ef888f7f1fc06314cbf:        2  \n",
       " Mean   : 1127     0013b6b7be7e2cfc8d426b3a939c5fd7127cea1e:        2  \n",
       " 3rd Qu.:   14     0018d01aa85c2c3195872bc3995dfb61e82fe053:        2  \n",
       " Max.   :55896     001ac29532535ebff95b7b756e0bf2e4b99f9fe4:        2  \n",
       " NA's   :5329439   (Other)                                 :300416353  \n",
       "     ncopy             copied         \n",
       " Min.   :      0.0   Mode :logical    \n",
       " 1st Qu.:      0.0   FALSE:269738405  \n",
       " Median :      0.0   TRUE :30677960   \n",
       " Mean   :      3.1                    \n",
       " 3rd Qu.:      0.0                    \n",
       " Max.   :2243020.0                    \n",
       "                                      "
      ]
     },
     "metadata": {},
     "output_type": "display_data"
    }
   ],
   "source": [
    "summary(data)"
   ]
  },
  {
   "cell_type": "code",
   "execution_count": 4,
   "id": "6933a064",
   "metadata": {},
   "outputs": [],
   "source": [
    "data$lnmc <- log(data$nmc + 1)\n",
    "data$lnblob <- log(data$nblob + 1)\n",
    "data$lnsa <- log(data$nsa + 1)\n",
    "data$lncore <- log(data$ncore + 1)\n",
    "data$lncmt <- log(data$ncmt + 1)\n",
    "data$lna <- log(data$na + 1)\n",
    "data$lncopy <- log(data$ncopy + 1)\n",
    "nas <- which(is.na(data$ncore) | is.na(data$na))\n",
    "data_c <- data[-nas,c(\"p\",\"lnmc\",\"lnblob\",\"lnsa\",\"lncore\",\"lncmt\",\"lna\",\"copied\",\"lncopy\")]"
   ]
  },
  {
   "cell_type": "code",
   "execution_count": 49,
   "id": "abc84c89",
   "metadata": {
    "scrolled": false
   },
   "outputs": [
    {
     "data": {
      "text/plain": [
       "                                    p                  lnmc      \n",
       " TheMattSykes_personal-website       :  4022099   Min.   :0.000  \n",
       " AdrianDC_aosp_development_sony8960_q:  3113923   1st Qu.:1.099  \n",
       " CISecurity_OVALRepo                 :  2638118   Median :2.197  \n",
       " odoo_odoo                           :  2181203   Mean   :2.511  \n",
       " 3442853561_pistondoc                :  1874252   3rd Qu.:3.689  \n",
       " funtoo_experimental-mini-2011       :  1823296   Max.   :5.930  \n",
       " (Other)                             :279434035                  \n",
       "     lnblob             lnsa            lncore           lncmt        \n",
       " Min.   : 0.6931   Min.   : 0.000   Min.   :0.6931   Min.   : 0.6931  \n",
       " 1st Qu.: 7.1647   1st Qu.: 0.000   1st Qu.:0.6931   1st Qu.: 3.2581  \n",
       " Median : 9.1447   Median : 0.000   Median :1.0986   Median : 5.0499  \n",
       " Mean   : 9.2784   Mean   : 1.759   Mean   :1.4404   Mean   : 5.6372  \n",
       " 3rd Qu.:11.2881   3rd Qu.: 2.485   3rd Qu.:1.3863   3rd Qu.: 7.6094  \n",
       " Max.   :15.5219   Max.   :11.616   Max.   :8.7147   Max.   :15.7374  \n",
       "                                                                      \n",
       "      lna            copied              lncopy       \n",
       " Min.   : 0.6931   Mode :logical     Min.   : 0.0000  \n",
       " 1st Qu.: 0.6931   FALSE:264563716   1st Qu.: 0.0000  \n",
       " Median : 1.3863   TRUE :30523210    Median : 0.0000  \n",
       " Mean   : 2.2144                     Mean   : 0.1267  \n",
       " 3rd Qu.: 2.7081                     3rd Qu.: 0.0000  \n",
       " Max.   :10.9313                     Max.   :14.6233  \n",
       "                                                      "
      ]
     },
     "metadata": {},
     "output_type": "display_data"
    }
   ],
   "source": [
    "summary(data_c)"
   ]
  },
  {
   "cell_type": "markdown",
   "id": "9bb834f8",
   "metadata": {},
   "source": [
    "Test data"
   ]
  },
  {
   "cell_type": "code",
   "execution_count": null,
   "id": "c35bf7c7",
   "metadata": {},
   "outputs": [],
   "source": [
    "data_t <- read.csv(\"../data/blobs/uPab_test.0\", header = FALSE, sep = \";\")\n",
    "names(data_t) <- c(\"p\",\"nmc\",\"nblob\",\"nsa\",\"ncore\",\"ncmt\",\"na\",\"blob\",\"ncopy\")\n",
    "data_t$copied <- data_t$ncopy > 0\n",
    "data_t$lnmc <- log(data_t$nmc + 1)\n",
    "data_t$lnblob <- log(data_t$nblob + 1)\n",
    "data_t$lnsa <- log(data_t$nsa + 1)\n",
    "data_t$lncore <- log(data_t$ncore + 1)\n",
    "data_t$lncmt <- log(data_t$ncmt + 1)\n",
    "data_t$lna <- log(data_t$na + 1)\n",
    "data_t$lncopy <- log(data_t$ncopy + 1)\n",
    "nas_t <- which(is.na(data_t$ncore) | is.na(data_t$na))\n",
    "data_tc <- data_t[-nas_t,c(\"p\",\"lnmc\",\"lnblob\",\"lnsa\",\"lncore\",\"lncmt\",\"lna\",\"copied\",\"lncopy\")]"
   ]
  },
  {
   "cell_type": "markdown",
   "id": "035b50f2",
   "metadata": {},
   "source": [
    "# 2. Correlations"
   ]
  },
  {
   "cell_type": "code",
   "execution_count": 7,
   "id": "063d0a6e",
   "metadata": {},
   "outputs": [],
   "source": [
    "pred_n <- c(2:7)"
   ]
  },
  {
   "cell_type": "code",
   "execution_count": 56,
   "id": "20add104",
   "metadata": {},
   "outputs": [
    {
     "data": {
      "text/html": [
       "<table class=\"dataframe\">\n",
       "<caption>A matrix: 6 x 6 of type dbl</caption>\n",
       "<thead>\n",
       "\t<tr><th></th><th scope=col>lnmc</th><th scope=col>lnblob</th><th scope=col>lnsa</th><th scope=col>lncore</th><th scope=col>lncmt</th><th scope=col>lna</th></tr>\n",
       "</thead>\n",
       "<tbody>\n",
       "\t<tr><th scope=row>lnmc</th><td>1.0000000</td><td>0.5242928</td><td>0.7121010</td><td>0.5699704</td><td>0.8897361</td><td>0.7450550</td></tr>\n",
       "\t<tr><th scope=row>lnblob</th><td>0.5242928</td><td>1.0000000</td><td>0.4394352</td><td>0.3683275</td><td>0.5402930</td><td>0.4450408</td></tr>\n",
       "\t<tr><th scope=row>lnsa</th><td>0.7121010</td><td>0.4394352</td><td>1.0000000</td><td>0.5484231</td><td>0.6781614</td><td>0.6865592</td></tr>\n",
       "\t<tr><th scope=row>lncore</th><td>0.5699704</td><td>0.3683275</td><td>0.5484231</td><td>1.0000000</td><td>0.6284436</td><td>0.8450870</td></tr>\n",
       "\t<tr><th scope=row>lncmt</th><td>0.8897361</td><td>0.5402930</td><td>0.6781614</td><td>0.6284436</td><td>1.0000000</td><td>0.7899323</td></tr>\n",
       "\t<tr><th scope=row>lna</th><td>0.7450550</td><td>0.4450408</td><td>0.6865592</td><td>0.8450870</td><td>0.7899323</td><td>1.0000000</td></tr>\n",
       "</tbody>\n",
       "</table>\n"
      ],
      "text/latex": [
       "A matrix: 6 x 6 of type dbl\n",
       "\\begin{tabular}{r|llllll}\n",
       "  & lnmc & lnblob & lnsa & lncore & lncmt & lna\\\\\n",
       "\\hline\n",
       "\tlnmc & 1.0000000 & 0.5242928 & 0.7121010 & 0.5699704 & 0.8897361 & 0.7450550\\\\\n",
       "\tlnblob & 0.5242928 & 1.0000000 & 0.4394352 & 0.3683275 & 0.5402930 & 0.4450408\\\\\n",
       "\tlnsa & 0.7121010 & 0.4394352 & 1.0000000 & 0.5484231 & 0.6781614 & 0.6865592\\\\\n",
       "\tlncore & 0.5699704 & 0.3683275 & 0.5484231 & 1.0000000 & 0.6284436 & 0.8450870\\\\\n",
       "\tlncmt & 0.8897361 & 0.5402930 & 0.6781614 & 0.6284436 & 1.0000000 & 0.7899323\\\\\n",
       "\tlna & 0.7450550 & 0.4450408 & 0.6865592 & 0.8450870 & 0.7899323 & 1.0000000\\\\\n",
       "\\end{tabular}\n"
      ],
      "text/markdown": [
       "\n",
       "A matrix: 6 x 6 of type dbl\n",
       "\n",
       "| <!--/--> | lnmc | lnblob | lnsa | lncore | lncmt | lna |\n",
       "|---|---|---|---|---|---|---|\n",
       "| lnmc | 1.0000000 | 0.5242928 | 0.7121010 | 0.5699704 | 0.8897361 | 0.7450550 |\n",
       "| lnblob | 0.5242928 | 1.0000000 | 0.4394352 | 0.3683275 | 0.5402930 | 0.4450408 |\n",
       "| lnsa | 0.7121010 | 0.4394352 | 1.0000000 | 0.5484231 | 0.6781614 | 0.6865592 |\n",
       "| lncore | 0.5699704 | 0.3683275 | 0.5484231 | 1.0000000 | 0.6284436 | 0.8450870 |\n",
       "| lncmt | 0.8897361 | 0.5402930 | 0.6781614 | 0.6284436 | 1.0000000 | 0.7899323 |\n",
       "| lna | 0.7450550 | 0.4450408 | 0.6865592 | 0.8450870 | 0.7899323 | 1.0000000 |\n",
       "\n"
      ],
      "text/plain": [
       "       lnmc      lnblob    lnsa      lncore    lncmt     lna      \n",
       "lnmc   1.0000000 0.5242928 0.7121010 0.5699704 0.8897361 0.7450550\n",
       "lnblob 0.5242928 1.0000000 0.4394352 0.3683275 0.5402930 0.4450408\n",
       "lnsa   0.7121010 0.4394352 1.0000000 0.5484231 0.6781614 0.6865592\n",
       "lncore 0.5699704 0.3683275 0.5484231 1.0000000 0.6284436 0.8450870\n",
       "lncmt  0.8897361 0.5402930 0.6781614 0.6284436 1.0000000 0.7899323\n",
       "lna    0.7450550 0.4450408 0.6865592 0.8450870 0.7899323 1.0000000"
      ]
     },
     "metadata": {},
     "output_type": "display_data"
    }
   ],
   "source": [
    "cor(data_c[,pred_n],method=\"spearman\")"
   ]
  },
  {
   "cell_type": "code",
   "execution_count": 99,
   "id": "a8da438d",
   "metadata": {
    "scrolled": false
   },
   "outputs": [
    {
     "name": "stdout",
     "output_type": "stream",
     "text": [
      "Standard deviations (1, .., p=6):\n",
      "[1] 2.1458975 0.7925032 0.6408342 0.4900691 0.2929314 0.1744061\n",
      "\n",
      "Rotation (n x k) = (6 x 6):\n",
      "             PC1         PC2         PC3         PC4         PC5          PC6\n",
      "lnmc   0.4127365  0.12655864 -0.64349742  0.10430538 -0.61579558  0.097255970\n",
      "lnblob 0.3212261  0.85458026  0.39366714 -0.09971444 -0.03878803 -0.009225134\n",
      "lnsa   0.4149031 -0.22057111 -0.05313086 -0.84656158  0.17225844  0.173324694\n",
      "lncore 0.4077342 -0.36264552  0.52767243  0.32422920 -0.21532189  0.521837871\n",
      "lncmt  0.4346419  0.06837165 -0.33055836  0.38642817  0.73274402  0.104414338\n",
      "lna    0.4462701 -0.26236888  0.20101577  0.08977528 -0.07963040 -0.822920170\n"
     ]
    },
    {
     "data": {
      "image/png": "[encoded data removed]",
      "text/plain": [
       "plot without title"
      ]
     },
     "metadata": {
      "image/png": {
       "height": 420,
       "width": 420
      }
     },
     "output_type": "display_data"
    }
   ],
   "source": [
    "pca <- prcomp(data_c[,pred_n], retx=F, scale=T)\n",
    "print(pca)\n",
    "var <- sum(pca$sdev^2)\n",
    "cumVar <- cumsum(pca$sdev^2)\n",
    "plot(1:6,cumVar/var,ylim=c(0,1),xlab=\"Number of coponents\",ylab=\"Fraction of variance\")"
   ]
  },
  {
   "cell_type": "code",
   "execution_count": 100,
   "id": "fe65e9fa",
   "metadata": {},
   "outputs": [
    {
     "name": "stdout",
     "output_type": "stream",
     "text": [
      "         lnmc    lnblob      lnsa    lncore     lncmt       lna\n",
      "PC1 0.4127365 0.3212261 0.4149031 0.4077342 0.4346419 0.4462701\n",
      "       lnblob     lncore\n",
      "PC2 0.8545803 -0.3626455\n",
      "          lnmc    lnblob    lncore      lncmt\n",
      "PC3 -0.6434974 0.3936671 0.5276724 -0.3305584\n"
     ]
    }
   ],
   "source": [
    "n <- 0\n",
    "varPer <- 0.9\n",
    "for (i in c(1:length(pca$sdev))) {\n",
    "    if(cumVar[i] > var*varPer) {\n",
    "        n <- i\n",
    "        break\n",
    "    }\n",
    "}\n",
    "res <- pca$rotation[,1:n]\n",
    "resAbs <- res\n",
    "resAbs[res<0] <- -res[res<0]\n",
    "for (i in 1:n)\n",
    "  print(t(res[resAbs[,i]>.3,i,drop=FALSE]));"
   ]
  },
  {
   "cell_type": "code",
   "execution_count": 8,
   "id": "804db1e5",
   "metadata": {},
   "outputs": [],
   "source": [
    "vnam <- names(data_c[,pred_n])\n",
    "len <- dim(data_c[,pred_n])[2]\n",
    "res <- vector(mode=\"list\", length=len)\n",
    "for (i in 1:len){\n",
    "  fmla <- as.formula(paste(vnam[i],paste(vnam[-i],collapse=\"+\"),sep=\"~\"));\n",
    "  res[[i]] <- lm(fmla,data=data_c[,pred_n]);\n",
    "}"
   ]
  },
  {
   "cell_type": "code",
   "execution_count": 9,
   "id": "10e71ad2",
   "metadata": {
    "scrolled": false
   },
   "outputs": [
    {
     "name": "stdout",
     "output_type": "stream",
     "text": [
      "[1] lnmc              ->                0.828950609106906\n",
      "[1] lnblob            ->                0.384352131731084\n",
      "[1] lnsa              ->                0.774733504572413\n",
      "[1] lncore            ->                0.907868966300289\n",
      "[1] lncmt             ->                0.867581629389782\n",
      "[1] lna               ->                0.955795503217049\n"
     ]
    }
   ],
   "source": [
    "for (i in 1:len) {\n",
    "    print(c(vnam[i],\"-> \",summary(res[[i]])$adj.r.squared),quote=FALSE)\n",
    "}"
   ]
  },
  {
   "cell_type": "markdown",
   "id": "ede9eacf",
   "metadata": {},
   "source": [
    "# 3. Model"
   ]
  },
  {
   "cell_type": "markdown",
   "id": "9c8b8d08",
   "metadata": {},
   "source": [
    "### 3.1. ~ lnmc + lnblob + lnsa + lncmt"
   ]
  },
  {
   "cell_type": "code",
   "execution_count": 117,
   "id": "dc826f89",
   "metadata": {},
   "outputs": [
    {
     "data": {
      "text/plain": [
       "\n",
       "Call:\n",
       "lm(formula = lncopy ~ lnmc + lnblob + lnsa + lncmt, data = data_c)\n",
       "\n",
       "Residuals:\n",
       "    Min      1Q  Median      3Q     Max \n",
       "-0.4148 -0.1434 -0.1011 -0.0655 14.4563 \n",
       "\n",
       "Coefficients:\n",
       "              Estimate Std. Error t value Pr(>|t|)    \n",
       "(Intercept)  8.586e-02  1.030e-04   833.9   <2e-16 ***\n",
       "lnmc        -7.210e-03  4.265e-05  -169.0   <2e-16 ***\n",
       "lnblob       8.178e-03  1.256e-05   651.0   <2e-16 ***\n",
       "lnsa         3.471e-02  1.658e-05  2093.5   <2e-16 ***\n",
       "lncmt       -1.383e-02  2.021e-05  -684.5   <2e-16 ***\n",
       "---\n",
       "Signif. codes:  0 '***' 0.001 '**' 0.01 '*' 0.05 '.' 0.1 ' ' 1\n",
       "\n",
       "Residual standard error: 0.4775 on 295086921 degrees of freedom\n",
       "Multiple R-squared:  0.02114,\tAdjusted R-squared:  0.02114 \n",
       "F-statistic: 1.593e+06 on 4 and 295086921 DF,  p-value: < 2.2e-16\n"
      ]
     },
     "metadata": {},
     "output_type": "display_data"
    }
   ],
   "source": [
    "lm <- lm(lncopy~lnmc+lnblob+lnsa+lncmt, data=data_c)\n",
    "summary(lm)"
   ]
  },
  {
   "cell_type": "code",
   "execution_count": null,
   "id": "0a20f6ad",
   "metadata": {},
   "outputs": [],
   "source": [
    "plot(residuals(lm, type=\"deviance\"))"
   ]
  },
  {
   "cell_type": "code",
   "execution_count": 36,
   "id": "14b463ef",
   "metadata": {
    "scrolled": false
   },
   "outputs": [
    {
     "data": {
      "text/plain": [
       "\n",
       "Call:\n",
       "glm(formula = copied ~ lnmc + lnblob + lnsa + lncmt, family = binomial, \n",
       "    data = data_c)\n",
       "\n",
       "Deviance Residuals: \n",
       "    Min       1Q   Median       3Q      Max  \n",
       "-0.8897  -0.4952  -0.4290  -0.3752   2.8120  \n",
       "\n",
       "Coefficients:\n",
       "              Estimate Std. Error  z value Pr(>|z|)    \n",
       "(Intercept) -2.414e+00  7.324e-04 -3296.24   <2e-16 ***\n",
       "lnmc         1.625e-02  3.091e-04    52.58   <2e-16 ***\n",
       "lnblob       7.085e-02  8.679e-05   816.40   <2e-16 ***\n",
       "lnsa         2.000e-01  1.112e-04  1797.68   <2e-16 ***\n",
       "lncmt       -1.524e-01  1.449e-04 -1052.17   <2e-16 ***\n",
       "---\n",
       "Signif. codes:  0 '***' 0.001 '**' 0.01 '*' 0.05 '.' 0.1 ' ' 1\n",
       "\n",
       "(Dispersion parameter for binomial family taken to be 1)\n",
       "\n",
       "    Null deviance: 196275349  on 295086925  degrees of freedom\n",
       "Residual deviance: 191665246  on 295086921  degrees of freedom\n",
       "AIC: 191665256\n",
       "\n",
       "Number of Fisher Scoring iterations: 5\n"
      ]
     },
     "metadata": {},
     "output_type": "display_data"
    }
   ],
   "source": [
    "glm <- glm(copied~lnmc+lnblob+lnsa+lncmt,data=data_c,family=binomial)\n",
    "summary(glm)"
   ]
  },
  {
   "cell_type": "code",
   "execution_count": 37,
   "id": "adc5c692",
   "metadata": {},
   "outputs": [
    {
     "name": "stderr",
     "output_type": "stream",
     "text": [
      "Warning message in confusionMatrix.default(data = factor(glm_p), reference = factor(data_tc[, :\n",
      "\"Levels are not in the same order for reference and data. Refactoring data to match.\"\n"
     ]
    },
    {
     "data": {
      "text/plain": [
       "Confusion Matrix and Statistics\n",
       "\n",
       "          Reference\n",
       "Prediction    FALSE     TRUE\n",
       "     FALSE 18224593  1625415\n",
       "     TRUE         0        0\n",
       "                                         \n",
       "               Accuracy : 0.9181         \n",
       "                 95% CI : (0.918, 0.9182)\n",
       "    No Information Rate : 0.9181         \n",
       "    P-Value [Acc > NIR] : 0.5002         \n",
       "                                         \n",
       "                  Kappa : 0              \n",
       "                                         \n",
       " Mcnemar's Test P-Value : <2e-16         \n",
       "                                         \n",
       "            Sensitivity : 1.0000         \n",
       "            Specificity : 0.0000         \n",
       "         Pos Pred Value : 0.9181         \n",
       "         Neg Pred Value :    NaN         \n",
       "             Prevalence : 0.9181         \n",
       "         Detection Rate : 0.9181         \n",
       "   Detection Prevalence : 1.0000         \n",
       "      Balanced Accuracy : 0.5000         \n",
       "                                         \n",
       "       'Positive' Class : FALSE          \n",
       "                                         "
      ]
     },
     "metadata": {},
     "output_type": "display_data"
    }
   ],
   "source": [
    "glm_p <- predict(glm,newdata=data_tc,type=\"response\") > 0.5\n",
    "confusionMatrix(data=factor(glm_p), reference = factor(data_tc[,\"copied\"]))"
   ]
  },
  {
   "cell_type": "markdown",
   "id": "7e1f4379",
   "metadata": {},
   "source": [
    "### 3.2. ~ lnsa"
   ]
  },
  {
   "cell_type": "code",
   "execution_count": 8,
   "id": "67c8cecd",
   "metadata": {},
   "outputs": [
    {
     "data": {
      "text/plain": [
       "\n",
       "Call:\n",
       "lm(formula = lncopy ~ lnsa, data = data_c)\n",
       "\n",
       "Residuals:\n",
       "    Min      1Q  Median      3Q     Max \n",
       "-0.3557 -0.1310 -0.0858 -0.0858 14.4448 \n",
       "\n",
       "Coefficients:\n",
       "             Estimate Std. Error t value Pr(>|t|)    \n",
       "(Intercept) 8.584e-02  3.331e-05    2577   <2e-16 ***\n",
       "lnsa        2.324e-02  1.038e-05    2238   <2e-16 ***\n",
       "---\n",
       "Signif. codes:  0 '***' 0.001 '**' 0.01 '*' 0.05 '.' 0.1 ' ' 1\n",
       "\n",
       "Residual standard error: 0.4786 on 295086924 degrees of freedom\n",
       "Multiple R-squared:  0.01669,\tAdjusted R-squared:  0.01669 \n",
       "F-statistic: 5.008e+06 on 1 and 295086924 DF,  p-value: < 2.2e-16\n"
      ]
     },
     "metadata": {},
     "output_type": "display_data"
    }
   ],
   "source": [
    "lm2 <- lm(lncopy~lnsa, data=data_c)\n",
    "summary(lm2)"
   ]
  },
  {
   "cell_type": "code",
   "execution_count": 9,
   "id": "c1f8b609",
   "metadata": {},
   "outputs": [
    {
     "data": {
      "text/plain": [
       "\n",
       "Call:\n",
       "glm(formula = copied ~ lnsa, family = binomial, data = data_c)\n",
       "\n",
       "Deviance Residuals: \n",
       "    Min       1Q   Median       3Q      Max  \n",
       "-0.7272  -0.4646  -0.4231  -0.4231   2.2172  \n",
       "\n",
       "Coefficients:\n",
       "              Estimate Std. Error z value Pr(>|z|)    \n",
       "(Intercept) -2.368e+00  2.426e-04   -9764   <2e-16 ***\n",
       "lnsa         1.010e-01  6.192e-05    1631   <2e-16 ***\n",
       "---\n",
       "Signif. codes:  0 '***' 0.001 '**' 0.01 '*' 0.05 '.' 0.1 ' ' 1\n",
       "\n",
       "(Dispersion parameter for binomial family taken to be 1)\n",
       "\n",
       "    Null deviance: 196275349  on 295086925  degrees of freedom\n",
       "Residual deviance: 193818462  on 295086924  degrees of freedom\n",
       "AIC: 193818466\n",
       "\n",
       "Number of Fisher Scoring iterations: 5\n"
      ]
     },
     "metadata": {},
     "output_type": "display_data"
    }
   ],
   "source": [
    "glm2 <- glm(copied~lnsa,data=data_c,family=binomial)\n",
    "summary(glm2)"
   ]
  },
  {
   "cell_type": "code",
   "execution_count": 34,
   "id": "3c849a5e",
   "metadata": {},
   "outputs": [
    {
     "name": "stderr",
     "output_type": "stream",
     "text": [
      "Warning message in confusionMatrix.default(data = factor(glm2_p), reference = factor(data_tc[, :\n",
      "\"Levels are not in the same order for reference and data. Refactoring data to match.\"\n"
     ]
    },
    {
     "data": {
      "text/plain": [
       "Confusion Matrix and Statistics\n",
       "\n",
       "          Reference\n",
       "Prediction    FALSE     TRUE\n",
       "     FALSE 18224593  1625415\n",
       "     TRUE         0        0\n",
       "                                         \n",
       "               Accuracy : 0.9181         \n",
       "                 95% CI : (0.918, 0.9182)\n",
       "    No Information Rate : 0.9181         \n",
       "    P-Value [Acc > NIR] : 0.5002         \n",
       "                                         \n",
       "                  Kappa : 0              \n",
       "                                         \n",
       " Mcnemar's Test P-Value : <2e-16         \n",
       "                                         \n",
       "            Sensitivity : 1.0000         \n",
       "            Specificity : 0.0000         \n",
       "         Pos Pred Value : 0.9181         \n",
       "         Neg Pred Value :    NaN         \n",
       "             Prevalence : 0.9181         \n",
       "         Detection Rate : 0.9181         \n",
       "   Detection Prevalence : 1.0000         \n",
       "      Balanced Accuracy : 0.5000         \n",
       "                                         \n",
       "       'Positive' Class : FALSE          \n",
       "                                         "
      ]
     },
     "metadata": {},
     "output_type": "display_data"
    }
   ],
   "source": [
    "glm2_p <- predict(glm2,newdata=data_tc,type=\"response\") > 0.5\n",
    "confusionMatrix(data=factor(glm2_p), reference = factor(data_tc[,\"copied\"]))"
   ]
  }
 ],
 "metadata": {
  "kernelspec": {
   "display_name": "R",
   "language": "R",
   "name": "ir"
  },
  "language_info": {
   "codemirror_mode": "r",
   "file_extension": ".r",
   "mimetype": "text/x-r-source",
   "name": "R",
   "pygments_lexer": "r",
   "version": "3.6.3"
  }
 },
 "nbformat": 4,
 "nbformat_minor": 5
}
