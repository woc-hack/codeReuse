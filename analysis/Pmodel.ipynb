{
 "cells": [
  {
   "cell_type": "code",
   "execution_count": 24,
   "id": "2889537b",
   "metadata": {},
   "outputs": [
    {
     "data": {
      "text/plain": [
       "                                        p               nmc         \n",
       " 0-0Yang_canteen                         :     1   Min.   :  0.000  \n",
       " 0-1123_mvp1001nights2                   :     1   1st Qu.:  1.000  \n",
       " 0-1CxH_Hadoop-MapReduce-Spark-Excercises:     1   Median :  1.000  \n",
       " 0-Eclipse-0_Tic-Tac-Toe                 :     1   Mean   :  6.392  \n",
       " 0-Inacio-0_Prova-Lab-V                  :     1   3rd Qu.:  3.000  \n",
       " 0-complexity_selfhealing                :     1   Max.   :500.000  \n",
       " (Other)                                 :734908                    \n",
       "     nblob            nsa                ncore             ncmt         \n",
       " Min.   :    1   Min.   :     0.00   Min.   :   1.0   Min.   :       1  \n",
       " 1st Qu.: 5404   1st Qu.:     0.00   1st Qu.:   2.0   1st Qu.:       2  \n",
       " Median :11819   Median :     0.00   Median :   2.0   Median :       7  \n",
       " Mean   :11384   Mean   :    69.87   Mean   : 140.3   Mean   :     676  \n",
       " 3rd Qu.:17309   3rd Qu.:     0.00   3rd Qu.: 266.0   3rd Qu.:      32  \n",
       " Max.   :24400   Max.   :259118.00   Max.   :1063.0   Max.   :31610821  \n",
       "                                                                        \n",
       "       na             ncopy             copied       \n",
       " Min.   :   1.0   Min.   :        0   Mode :logical  \n",
       " 1st Qu.:   2.0   1st Qu.:        0   FALSE:439238   \n",
       " Median :   2.0   Median :        0   TRUE :295676   \n",
       " Mean   : 443.5   Mean   :     5355                  \n",
       " 3rd Qu.: 675.0   3rd Qu.:        4                  \n",
       " Max.   :2068.0   Max.   :197036096                  \n",
       "                                                     "
      ]
     },
     "metadata": {},
     "output_type": "display_data"
    }
   ],
   "source": [
    "data <- read.csv(\"../data/projects/cP.p\", header = FALSE, sep = \";\", comment.char=\"\", quote=\"\",na.strings='NULL')\n",
    "names(data) <- c(\"p\",\"nmc\",\"nblob\",\"nsa\",\"ncore\",\"ncmt\",\"na\",\"ncopy\")\n",
    "data$copied <- data$ncopy > 0\n",
    "data$nblob=as.integer(data$nblob)\n",
    "data$ncore=as.integer(data$ncore)\n",
    "data$na=as.integer(data$na)\n",
    "summary(data)"
   ]
  },
  {
   "cell_type": "code",
   "execution_count": 25,
   "id": "7b08a7e9",
   "metadata": {},
   "outputs": [
    {
     "data": {
      "text/html": [
       "<table class=\"dataframe\">\n",
       "<caption>A data.frame: 6 x 9</caption>\n",
       "<thead>\n",
       "\t<tr><th></th><th scope=col>p</th><th scope=col>nmc</th><th scope=col>nblob</th><th scope=col>nsa</th><th scope=col>ncore</th><th scope=col>ncmt</th><th scope=col>na</th><th scope=col>ncopy</th><th scope=col>copied</th></tr>\n",
       "\t<tr><th></th><th scope=col>&lt;fct&gt;</th><th scope=col>&lt;int&gt;</th><th scope=col>&lt;int&gt;</th><th scope=col>&lt;int&gt;</th><th scope=col>&lt;int&gt;</th><th scope=col>&lt;int&gt;</th><th scope=col>&lt;int&gt;</th><th scope=col>&lt;int&gt;</th><th scope=col>&lt;lgl&gt;</th></tr>\n",
       "</thead>\n",
       "<tbody>\n",
       "\t<tr><th scope=row>1</th><td>0-1123_mvp1001nights2</td><td>1</td><td>24178</td><td>0</td><td>  2</td><td>1</td><td>  2</td><td>0</td><td>FALSE</td></tr>\n",
       "\t<tr><th scope=row>2</th><td>0-mYk-1_Project_01   </td><td>1</td><td>14748</td><td>0</td><td>  2</td><td>2</td><td>  2</td><td>0</td><td>FALSE</td></tr>\n",
       "\t<tr><th scope=row>3</th><td>0-taku_ossbasic2017  </td><td>1</td><td>17122</td><td>0</td><td>266</td><td>4</td><td>675</td><td>0</td><td>FALSE</td></tr>\n",
       "\t<tr><th scope=row>4</th><td>0-void_redux-counter </td><td>1</td><td>21996</td><td>0</td><td>  2</td><td>1</td><td>  2</td><td>0</td><td>FALSE</td></tr>\n",
       "\t<tr><th scope=row>5</th><td>00-03_MassDM-V2      </td><td>1</td><td>17122</td><td>0</td><td>  2</td><td>5</td><td>  2</td><td>0</td><td>FALSE</td></tr>\n",
       "\t<tr><th scope=row>6</th><td>00-mao_red           </td><td>1</td><td>    1</td><td>0</td><td>  2</td><td>1</td><td>  2</td><td>0</td><td>FALSE</td></tr>\n",
       "</tbody>\n",
       "</table>\n"
      ],
      "text/latex": [
       "A data.frame: 6 x 9\n",
       "\\begin{tabular}{r|lllllllll}\n",
       "  & p & nmc & nblob & nsa & ncore & ncmt & na & ncopy & copied\\\\\n",
       "  & <fct> & <int> & <int> & <int> & <int> & <int> & <int> & <int> & <lgl>\\\\\n",
       "\\hline\n",
       "\t1 & 0-1123\\_mvp1001nights2 & 1 & 24178 & 0 &   2 & 1 &   2 & 0 & FALSE\\\\\n",
       "\t2 & 0-mYk-1\\_Project\\_01    & 1 & 14748 & 0 &   2 & 2 &   2 & 0 & FALSE\\\\\n",
       "\t3 & 0-taku\\_ossbasic2017   & 1 & 17122 & 0 & 266 & 4 & 675 & 0 & FALSE\\\\\n",
       "\t4 & 0-void\\_redux-counter  & 1 & 21996 & 0 &   2 & 1 &   2 & 0 & FALSE\\\\\n",
       "\t5 & 00-03\\_MassDM-V2       & 1 & 17122 & 0 &   2 & 5 &   2 & 0 & FALSE\\\\\n",
       "\t6 & 00-mao\\_red            & 1 &     1 & 0 &   2 & 1 &   2 & 0 & FALSE\\\\\n",
       "\\end{tabular}\n"
      ],
      "text/markdown": [
       "\n",
       "A data.frame: 6 x 9\n",
       "\n",
       "| <!--/--> | p &lt;fct&gt; | nmc &lt;int&gt; | nblob &lt;int&gt; | nsa &lt;int&gt; | ncore &lt;int&gt; | ncmt &lt;int&gt; | na &lt;int&gt; | ncopy &lt;int&gt; | copied &lt;lgl&gt; |\n",
       "|---|---|---|---|---|---|---|---|---|---|\n",
       "| 1 | 0-1123_mvp1001nights2 | 1 | 24178 | 0 |   2 | 1 |   2 | 0 | FALSE |\n",
       "| 2 | 0-mYk-1_Project_01    | 1 | 14748 | 0 |   2 | 2 |   2 | 0 | FALSE |\n",
       "| 3 | 0-taku_ossbasic2017   | 1 | 17122 | 0 | 266 | 4 | 675 | 0 | FALSE |\n",
       "| 4 | 0-void_redux-counter  | 1 | 21996 | 0 |   2 | 1 |   2 | 0 | FALSE |\n",
       "| 5 | 00-03_MassDM-V2       | 1 | 17122 | 0 |   2 | 5 |   2 | 0 | FALSE |\n",
       "| 6 | 00-mao_red            | 1 |     1 | 0 |   2 | 1 |   2 | 0 | FALSE |\n",
       "\n"
      ],
      "text/plain": [
       "  p                     nmc nblob nsa ncore ncmt na  ncopy copied\n",
       "1 0-1123_mvp1001nights2 1   24178 0     2   1      2 0     FALSE \n",
       "2 0-mYk-1_Project_01    1   14748 0     2   2      2 0     FALSE \n",
       "3 0-taku_ossbasic2017   1   17122 0   266   4    675 0     FALSE \n",
       "4 0-void_redux-counter  1   21996 0     2   1      2 0     FALSE \n",
       "5 00-03_MassDM-V2       1   17122 0     2   5      2 0     FALSE \n",
       "6 00-mao_red            1       1 0     2   1      2 0     FALSE "
      ]
     },
     "metadata": {},
     "output_type": "display_data"
    }
   ],
   "source": [
    "head(data)"
   ]
  },
  {
   "cell_type": "code",
   "execution_count": 28,
   "id": "8aef8956",
   "metadata": {},
   "outputs": [],
   "source": [
    "data$lnmc <- log(as.numeric(data$nmc) + 1)\n",
    "data$lnblob <- log(as.numeric(data$nblob) + 1)\n",
    "data$lnsa <- log(as.numeric(data$nsa) + 1)\n",
    "data$lncore <- log(as.numeric(data$ncore) + 1)\n",
    "data$lncmt <- log(as.numeric(data$ncmt) + 1)\n",
    "data$lna <- log(as.numeric(data$na) + 1)\n",
    "data$lncopy <- log(as.numeric(data$ncopy) + 1)\n",
    "data_c <- data[,c(\"p\",\"lnmc\",\"lnblob\",\"lnsa\",\"lncore\",\"lncmt\",\"lna\",\"lncopy\",\"copied\")]"
   ]
  },
  {
   "cell_type": "code",
   "execution_count": 29,
   "id": "2e41f174",
   "metadata": {},
   "outputs": [
    {
     "data": {
      "text/plain": [
       "                                        p               lnmc       \n",
       " 0-0Yang_canteen                         :     1   Min.   :0.0000  \n",
       " 0-1123_mvp1001nights2                   :     1   1st Qu.:0.6931  \n",
       " 0-1CxH_Hadoop-MapReduce-Spark-Excercises:     1   Median :0.6931  \n",
       " 0-Eclipse-0_Tic-Tac-Toe                 :     1   Mean   :1.2557  \n",
       " 0-Inacio-0_Prova-Lab-V                  :     1   3rd Qu.:1.3863  \n",
       " 0-complexity_selfhealing                :     1   Max.   :6.2166  \n",
       " (Other)                                 :734908                   \n",
       "     lnblob             lnsa             lncore           lncmt        \n",
       " Min.   : 0.6931   Min.   : 0.0000   Min.   :0.6931   Min.   : 0.6931  \n",
       " 1st Qu.: 8.5951   1st Qu.: 0.0000   1st Qu.:1.0986   1st Qu.: 1.0986  \n",
       " Median : 9.3775   Median : 0.0000   Median :1.0986   Median : 2.0794  \n",
       " Mean   : 8.5240   Mean   : 0.4831   Mean   :2.8291   Mean   : 2.6193  \n",
       " 3rd Qu.: 9.7590   3rd Qu.: 0.0000   3rd Qu.:5.5872   3rd Qu.: 3.4965  \n",
       " Max.   :10.1024   Max.   :12.4650   Max.   :6.9698   Max.   :17.2690  \n",
       "                                                                       \n",
       "      lna             lncopy         copied       \n",
       " Min.   :0.6931   Min.   : 0.000   Mode :logical  \n",
       " 1st Qu.:1.0986   1st Qu.: 0.000   FALSE:439238   \n",
       " Median :1.0986   Median : 0.000   TRUE :295676   \n",
       " Mean   :3.8062   Mean   : 1.201                  \n",
       " 3rd Qu.:6.5162   3rd Qu.: 1.609                  \n",
       " Max.   :7.6348   Max.   :19.099                  \n",
       "                                                  "
      ]
     },
     "metadata": {},
     "output_type": "display_data"
    }
   ],
   "source": [
    "summary(data_c)"
   ]
  },
  {
   "cell_type": "code",
   "execution_count": 30,
   "id": "a042905d",
   "metadata": {},
   "outputs": [
    {
     "data": {
      "text/html": [
       "<table class=\"dataframe\">\n",
       "<caption>A matrix: 6 x 6 of type dbl</caption>\n",
       "<thead>\n",
       "\t<tr><th></th><th scope=col>lnmc</th><th scope=col>lnblob</th><th scope=col>lnsa</th><th scope=col>lncore</th><th scope=col>lncmt</th><th scope=col>lna</th></tr>\n",
       "</thead>\n",
       "<tbody>\n",
       "\t<tr><th scope=row>lnmc</th><td>1.0000000</td><td>0.10329556</td><td>0.50007450</td><td>0.43729725</td><td>0.7700929</td><td>0.5316708</td></tr>\n",
       "\t<tr><th scope=row>lnblob</th><td>0.1032956</td><td>1.00000000</td><td>0.05847527</td><td>0.09036291</td><td>0.1733729</td><td>0.1093828</td></tr>\n",
       "\t<tr><th scope=row>lnsa</th><td>0.5000745</td><td>0.05847527</td><td>1.00000000</td><td>0.32777538</td><td>0.4643094</td><td>0.3488345</td></tr>\n",
       "\t<tr><th scope=row>lncore</th><td>0.4372973</td><td>0.09036291</td><td>0.32777538</td><td>1.00000000</td><td>0.5017078</td><td>0.7642414</td></tr>\n",
       "\t<tr><th scope=row>lncmt</th><td>0.7700929</td><td>0.17337286</td><td>0.46430940</td><td>0.50170784</td><td>1.0000000</td><td>0.6327536</td></tr>\n",
       "\t<tr><th scope=row>lna</th><td>0.5316708</td><td>0.10938276</td><td>0.34883448</td><td>0.76424144</td><td>0.6327536</td><td>1.0000000</td></tr>\n",
       "</tbody>\n",
       "</table>\n"
      ],
      "text/latex": [
       "A matrix: 6 x 6 of type dbl\n",
       "\\begin{tabular}{r|llllll}\n",
       "  & lnmc & lnblob & lnsa & lncore & lncmt & lna\\\\\n",
       "\\hline\n",
       "\tlnmc & 1.0000000 & 0.10329556 & 0.50007450 & 0.43729725 & 0.7700929 & 0.5316708\\\\\n",
       "\tlnblob & 0.1032956 & 1.00000000 & 0.05847527 & 0.09036291 & 0.1733729 & 0.1093828\\\\\n",
       "\tlnsa & 0.5000745 & 0.05847527 & 1.00000000 & 0.32777538 & 0.4643094 & 0.3488345\\\\\n",
       "\tlncore & 0.4372973 & 0.09036291 & 0.32777538 & 1.00000000 & 0.5017078 & 0.7642414\\\\\n",
       "\tlncmt & 0.7700929 & 0.17337286 & 0.46430940 & 0.50170784 & 1.0000000 & 0.6327536\\\\\n",
       "\tlna & 0.5316708 & 0.10938276 & 0.34883448 & 0.76424144 & 0.6327536 & 1.0000000\\\\\n",
       "\\end{tabular}\n"
      ],
      "text/markdown": [
       "\n",
       "A matrix: 6 x 6 of type dbl\n",
       "\n",
       "| <!--/--> | lnmc | lnblob | lnsa | lncore | lncmt | lna |\n",
       "|---|---|---|---|---|---|---|\n",
       "| lnmc | 1.0000000 | 0.10329556 | 0.50007450 | 0.43729725 | 0.7700929 | 0.5316708 |\n",
       "| lnblob | 0.1032956 | 1.00000000 | 0.05847527 | 0.09036291 | 0.1733729 | 0.1093828 |\n",
       "| lnsa | 0.5000745 | 0.05847527 | 1.00000000 | 0.32777538 | 0.4643094 | 0.3488345 |\n",
       "| lncore | 0.4372973 | 0.09036291 | 0.32777538 | 1.00000000 | 0.5017078 | 0.7642414 |\n",
       "| lncmt | 0.7700929 | 0.17337286 | 0.46430940 | 0.50170784 | 1.0000000 | 0.6327536 |\n",
       "| lna | 0.5316708 | 0.10938276 | 0.34883448 | 0.76424144 | 0.6327536 | 1.0000000 |\n",
       "\n"
      ],
      "text/plain": [
       "       lnmc      lnblob     lnsa       lncore     lncmt     lna      \n",
       "lnmc   1.0000000 0.10329556 0.50007450 0.43729725 0.7700929 0.5316708\n",
       "lnblob 0.1032956 1.00000000 0.05847527 0.09036291 0.1733729 0.1093828\n",
       "lnsa   0.5000745 0.05847527 1.00000000 0.32777538 0.4643094 0.3488345\n",
       "lncore 0.4372973 0.09036291 0.32777538 1.00000000 0.5017078 0.7642414\n",
       "lncmt  0.7700929 0.17337286 0.46430940 0.50170784 1.0000000 0.6327536\n",
       "lna    0.5316708 0.10938276 0.34883448 0.76424144 0.6327536 1.0000000"
      ]
     },
     "metadata": {},
     "output_type": "display_data"
    }
   ],
   "source": [
    "pred_n <- c(2:7)\n",
    "cor(data_c[,pred_n],method=\"spearman\")"
   ]
  },
  {
   "cell_type": "code",
   "execution_count": 32,
   "id": "76bf0194",
   "metadata": {},
   "outputs": [
    {
     "name": "stdout",
     "output_type": "stream",
     "text": [
      "Standard deviations (1, .., p=6):\n",
      "[1] 1.8032557 1.0413497 0.9542755 0.6256881 0.4784551 0.3644354\n",
      "\n",
      "Rotation (n x k) = (6 x 6):\n",
      "             PC1        PC2         PC3         PC4         PC5         PC6\n",
      "lnmc   0.4783915 -0.3523689  0.08268271 -0.32164964 -0.18140973  0.70976986\n",
      "lnblob 0.1657669  0.4433134  0.87175121  0.11266839 -0.02783620  0.05074825\n",
      "lnsa   0.3970257 -0.4860361  0.08994247  0.73919010  0.18033780 -0.13829721\n",
      "lncore 0.4057897  0.4505051 -0.35921083  0.27165967 -0.65334266 -0.05188346\n",
      "lncmt  0.4942411 -0.1763443  0.10006889 -0.51216189 -0.02924212 -0.67190012\n",
      "lna    0.4208253  0.4571938 -0.29338975 -0.03655901  0.71139455  0.14277105\n"
     ]
    },
    {
     "data": {
      "image/png": "[encoded data removed]",
      "text/plain": [
       "plot without title"
      ]
     },
     "metadata": {
      "image/png": {
       "height": 420,
       "width": 420
      }
     },
     "output_type": "display_data"
    }
   ],
   "source": [
    "pca <- prcomp(data_c[,pred_n], retx=F, scale=T)\n",
    "print(pca)\n",
    "var <- sum(pca$sdev^2)\n",
    "cumVar <- cumsum(pca$sdev^2)\n",
    "plot(1:6,cumVar/var,ylim=c(0,1),xlab=\"Number of coponents\",ylab=\"Fraction of variance\")"
   ]
  },
  {
   "cell_type": "code",
   "execution_count": 33,
   "id": "02b8181d",
   "metadata": {},
   "outputs": [
    {
     "name": "stdout",
     "output_type": "stream",
     "text": [
      "         lnmc      lnsa    lncore     lncmt       lna\n",
      "PC1 0.4783915 0.3970257 0.4057897 0.4942411 0.4208253\n",
      "          lnmc    lnblob       lnsa    lncore       lna\n",
      "PC2 -0.3523689 0.4433134 -0.4860361 0.4505051 0.4571938\n",
      "       lnblob     lncore\n",
      "PC3 0.8717512 -0.3592108\n",
      "          lnmc      lnsa      lncmt\n",
      "PC4 -0.3216496 0.7391901 -0.5121619\n"
     ]
    }
   ],
   "source": [
    "n <- 0\n",
    "varPer <- 0.9\n",
    "for (i in c(1:length(pca$sdev))) {\n",
    "    if(cumVar[i] > var*varPer) {\n",
    "        n <- i\n",
    "        break\n",
    "    }\n",
    "}\n",
    "res <- pca$rotation[,1:n]\n",
    "resAbs <- res\n",
    "resAbs[res<0] <- -res[res<0]\n",
    "for (i in 1:n)\n",
    "  print(t(res[resAbs[,i]>.3,i,drop=FALSE]));"
   ]
  },
  {
   "cell_type": "code",
   "execution_count": 34,
   "id": "84e13b28",
   "metadata": {},
   "outputs": [
    {
     "name": "stdout",
     "output_type": "stream",
     "text": [
      "[1] lnmc              ->                0.772390361288751\n",
      "[1] lnblob             ->                 0.0735555882997078\n",
      "[1] lnsa              ->                0.489007806221941\n",
      "[1] lncore            ->                0.592321246702561\n",
      "[1] lncmt             ->                0.761203916415668\n",
      "[1] lna               ->                0.630908805154734\n"
     ]
    }
   ],
   "source": [
    "vnam <- names(data_c[,pred_n])\n",
    "len <- dim(data_c[,pred_n])[2]\n",
    "res <- vector(mode=\"list\", length=len)\n",
    "for (i in 1:len){\n",
    "  fmla <- as.formula(paste(vnam[i],paste(vnam[-i],collapse=\"+\"),sep=\"~\"));\n",
    "  res[[i]] <- lm(fmla,data=data_c[,pred_n]);\n",
    "}\n",
    "for (i in 1:len) {\n",
    "    print(c(vnam[i],\"-> \",summary(res[[i]])$adj.r.squared),quote=FALSE)\n",
    "}"
   ]
  },
  {
   "cell_type": "code",
   "execution_count": 50,
   "id": "82f05fd9",
   "metadata": {},
   "outputs": [
    {
     "data": {
      "text/plain": [
       "\n",
       "Call:\n",
       "lm(formula = lncopy ~ lncmt + lnsa, data = data_c)\n",
       "\n",
       "Residuals:\n",
       "     Min       1Q   Median       3Q      Max \n",
       "-12.3846  -0.7653  -0.1479   0.3195  13.7604 \n",
       "\n",
       "Coefficients:\n",
       "             Estimate Std. Error t value Pr(>|t|)    \n",
       "(Intercept) -0.428033   0.003178  -134.7   <2e-16 ***\n",
       "lncmt        0.524272   0.001168   448.7   <2e-16 ***\n",
       "lnsa         0.530154   0.001597   332.0   <2e-16 ***\n",
       "---\n",
       "Signif. codes:  0 '***' 0.001 '**' 0.01 '*' 0.05 '.' 0.1 ' ' 1\n",
       "\n",
       "Residual standard error: 1.481 on 734911 degrees of freedom\n",
       "Multiple R-squared:  0.5117,\tAdjusted R-squared:  0.5117 \n",
       "F-statistic: 3.851e+05 on 2 and 734911 DF,  p-value: < 2.2e-16\n"
      ]
     },
     "metadata": {},
     "output_type": "display_data"
    }
   ],
   "source": [
    "lm <- lm(lncopy~lncmt+lnsa, data=data_c)\n",
    "summary(lm)"
   ]
  },
  {
   "cell_type": "code",
   "execution_count": 51,
   "id": "8c6fd9bf",
   "metadata": {},
   "outputs": [
    {
     "data": {
      "text/plain": [
       "\n",
       "Call:\n",
       "glm(formula = copied ~ lncmt + lnsa, family = binomial, data = data_c)\n",
       "\n",
       "Deviance Residuals: \n",
       "    Min       1Q   Median       3Q      Max  \n",
       "-4.4466  -0.7866  -0.5730   0.9173   1.9432  \n",
       "\n",
       "Coefficients:\n",
       "             Estimate Std. Error z value Pr(>|z|)    \n",
       "(Intercept) -2.171365   0.005810  -373.7   <2e-16 ***\n",
       "lncmt        0.645700   0.002166   298.1   <2e-16 ***\n",
       "lnsa         0.285200   0.004068    70.1   <2e-16 ***\n",
       "---\n",
       "Signif. codes:  0 '***' 0.001 '**' 0.01 '*' 0.05 '.' 0.1 ' ' 1\n",
       "\n",
       "(Dispersion parameter for binomial family taken to be 1)\n",
       "\n",
       "    Null deviance: 990582  on 734913  degrees of freedom\n",
       "Residual deviance: 787985  on 734911  degrees of freedom\n",
       "AIC: 787991\n",
       "\n",
       "Number of Fisher Scoring iterations: 5\n"
      ]
     },
     "metadata": {},
     "output_type": "display_data"
    }
   ],
   "source": [
    "glm <- glm(copied~lncmt+lnsa,data=data_c,family=binomial)\n",
    "summary(glm)"
   ]
  },
  {
   "cell_type": "code",
   "execution_count": 15,
   "id": "9ff84d86",
   "metadata": {},
   "outputs": [
    {
     "data": {
      "text/plain": [
       "\n",
       "Call:\n",
       "lm(formula = lncopy ~ lnmc + lnblob + lncmt, data = data_c)\n",
       "\n",
       "Residuals:\n",
       "    Min      1Q  Median      3Q     Max \n",
       "-9.9587 -0.7299 -0.1139  0.3322 13.4033 \n",
       "\n",
       "Coefficients:\n",
       "              Estimate Std. Error  t value Pr(>|t|)    \n",
       "(Intercept) -0.9096742  0.0070580 -128.886  < 2e-16 ***\n",
       "lnmc         0.9127463  0.0036796  248.056  < 2e-16 ***\n",
       "lnblob      -0.0031440  0.0008024   -3.918 8.92e-05 ***\n",
       "lncmt        0.3786123  0.0018423  205.510  < 2e-16 ***\n",
       "---\n",
       "Signif. codes:  0 '***' 0.001 '**' 0.01 '*' 0.05 '.' 0.1 ' ' 1\n",
       "\n",
       "Residual standard error: 1.525 on 734910 degrees of freedom\n",
       "Multiple R-squared:  0.4824,\tAdjusted R-squared:  0.4824 \n",
       "F-statistic: 2.283e+05 on 3 and 734910 DF,  p-value: < 2.2e-16\n"
      ]
     },
     "metadata": {},
     "output_type": "display_data"
    }
   ],
   "source": [
    "lm <- lm(lncopy~lnmc+lnblob+lncmt, data=data_c)\n",
    "summary(lm)"
   ]
  },
  {
   "cell_type": "code",
   "execution_count": 16,
   "id": "4af6e358",
   "metadata": {},
   "outputs": [
    {
     "data": {
      "text/plain": [
       "\n",
       "Call:\n",
       "glm(formula = copied ~ lnmc + lnblob + lncmt, family = binomial, \n",
       "    data = data_c)\n",
       "\n",
       "Deviance Residuals: \n",
       "    Min       1Q   Median       3Q      Max  \n",
       "-4.0869  -0.8110  -0.6077   0.9117   2.2291  \n",
       "\n",
       "Coefficients:\n",
       "             Estimate Std. Error z value Pr(>|z|)    \n",
       "(Intercept) -3.175628   0.014805 -214.50   <2e-16 ***\n",
       "lnmc         0.430754   0.006185   69.64   <2e-16 ***\n",
       "lnblob       0.098942   0.001597   61.94   <2e-16 ***\n",
       "lncmt        0.535239   0.002934  182.45   <2e-16 ***\n",
       "---\n",
       "Signif. codes:  0 '***' 0.001 '**' 0.01 '*' 0.05 '.' 0.1 ' ' 1\n",
       "\n",
       "(Dispersion parameter for binomial family taken to be 1)\n",
       "\n",
       "    Null deviance: 990582  on 734913  degrees of freedom\n",
       "Residual deviance: 785021  on 734910  degrees of freedom\n",
       "AIC: 785029\n",
       "\n",
       "Number of Fisher Scoring iterations: 5\n"
      ]
     },
     "metadata": {},
     "output_type": "display_data"
    }
   ],
   "source": [
    "glm <- glm(copied~lnmc+lnblob+lncmt,data=data_c,family=binomial)\n",
    "summary(glm)"
   ]
  },
  {
   "cell_type": "code",
   "execution_count": 31,
   "id": "4562d136",
   "metadata": {},
   "outputs": [
    {
     "data": {
      "text/plain": [
       "\n",
       "Call:\n",
       "lm(formula = lncopy ~ lnmc + lncmt, data = data_c)\n",
       "\n",
       "Residuals:\n",
       "    Min      1Q  Median      3Q     Max \n",
       "-9.9463 -0.7297 -0.1135  0.3310 13.3976 \n",
       "\n",
       "Coefficients:\n",
       "             Estimate Std. Error t value Pr(>|t|)    \n",
       "(Intercept) -0.934442   0.003140  -297.6   <2e-16 ***\n",
       "lnmc         0.914186   0.003661   249.7   <2e-16 ***\n",
       "lncmt        0.377111   0.001802   209.3   <2e-16 ***\n",
       "---\n",
       "Signif. codes:  0 '***' 0.001 '**' 0.01 '*' 0.05 '.' 0.1 ' ' 1\n",
       "\n",
       "Residual standard error: 1.525 on 734911 degrees of freedom\n",
       "Multiple R-squared:  0.4824,\tAdjusted R-squared:  0.4824 \n",
       "F-statistic: 3.425e+05 on 2 and 734911 DF,  p-value: < 2.2e-16\n"
      ]
     },
     "metadata": {},
     "output_type": "display_data"
    }
   ],
   "source": [
    "lm <- lm(lncopy~lnmc+lncmt, data=data_c)\n",
    "summary(lm)"
   ]
  },
  {
   "cell_type": "code",
   "execution_count": 32,
   "id": "74071b5c",
   "metadata": {},
   "outputs": [
    {
     "data": {
      "text/plain": [
       "\n",
       "Call:\n",
       "glm(formula = copied ~ lnmc + lncmt, family = binomial, data = data_c)\n",
       "\n",
       "Deviance Residuals: \n",
       "    Min       1Q   Median       3Q      Max  \n",
       "-4.1709  -0.7996  -0.5821   0.9082   1.9282  \n",
       "\n",
       "Coefficients:\n",
       "             Estimate Std. Error z value Pr(>|z|)    \n",
       "(Intercept) -2.367949   0.006020 -393.35   <2e-16 ***\n",
       "lnmc         0.409360   0.006197   66.06   <2e-16 ***\n",
       "lncmt        0.569298   0.002898  196.46   <2e-16 ***\n",
       "---\n",
       "Signif. codes:  0 '***' 0.001 '**' 0.01 '*' 0.05 '.' 0.1 ' ' 1\n",
       "\n",
       "(Dispersion parameter for binomial family taken to be 1)\n",
       "\n",
       "    Null deviance: 990582  on 734913  degrees of freedom\n",
       "Residual deviance: 789365  on 734911  degrees of freedom\n",
       "AIC: 789371\n",
       "\n",
       "Number of Fisher Scoring iterations: 5\n"
      ]
     },
     "metadata": {},
     "output_type": "display_data"
    }
   ],
   "source": [
    "glm <- glm(copied~lnmc+lncmt,data=data_c,family=binomial)\n",
    "summary(glm)"
   ]
  }
 ],
 "metadata": {
  "kernelspec": {
   "display_name": "R",
   "language": "R",
   "name": "ir"
  },
  "language_info": {
   "codemirror_mode": "r",
   "file_extension": ".r",
   "mimetype": "text/x-r-source",
   "name": "R",
   "pygments_lexer": "r",
   "version": "3.6.3"
  }
 },
 "nbformat": 4,
 "nbformat_minor": 5
}
