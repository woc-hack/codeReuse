{
 "cells": [
  {
   "cell_type": "code",
   "execution_count": 8,
   "id": "2889537b",
   "metadata": {},
   "outputs": [],
   "source": [
    "data <- read.csv(\"../data/projects/cP.p\", header = FALSE, sep = \";\", comment.char=\"\", quote=\"\", fill = TRUE)\n",
    " #               colClasses=c(\"character\", \"numeric\", \"numeric\",\"numeric\",\"numeric\",\"numeric\",\"numeric\"),\n",
    " #               na.strings='NULL')\n",
    "names(data) <- c(\"p\",\"nmc\",\"nblob\",\"ncore\",\"ncmt\",\"na\",\"ncopy\")\n",
    "data$copied <- data$ncopy > 0"
   ]
  },
  {
   "cell_type": "code",
   "execution_count": 9,
   "id": "b552ee8e",
   "metadata": {},
   "outputs": [
    {
     "data": {
      "text/plain": [
       "                                        p               nmc         \n",
       "                                         :   744   Min.   :  0.000  \n",
       " 0-0Yang_canteen                         :     1   1st Qu.:  1.000  \n",
       " 0-1123_mvp1001nights2                   :     1   Median :  1.000  \n",
       " 0-1CxH_Hadoop-MapReduce-Spark-Excercises:     1   Mean   :  6.392  \n",
       " 0-Eclipse-0_Tic-Tac-Toe                 :     1   3rd Qu.:  3.000  \n",
       " 0-Inacio-0_Prova-Lab-V                  :     1   Max.   :500.000  \n",
       " (Other)                                 :734909   NA's   :744      \n",
       "     nblob            ncore             ncmt                na        \n",
       " 1      : 44649   1      :462941   Min.   :       1   1      :377286  \n",
       " 2      : 36855   2      :157530   1st Qu.:       2   2      :164745  \n",
       " 3      : 24998   3      : 39016   Median :       7   3      : 48720  \n",
       " 4      : 20647   4      : 16945   Mean   :     676   4      : 25320  \n",
       " 5      : 16541   5      :  9108   3rd Qu.:      32   5      : 15977  \n",
       " 6      : 14698   6      :  6194   Max.   :31610821   6      : 11223  \n",
       " (Other):577270   (Other): 43924   NA's   :744        (Other): 92387  \n",
       "     ncopy             copied       \n",
       " Min.   :        0   Mode :logical  \n",
       " 1st Qu.:        0   FALSE:439982   \n",
       " Median :        0   TRUE :295676   \n",
       " Mean   :     5349                  \n",
       " 3rd Qu.:        4                  \n",
       " Max.   :197036096                  \n",
       "                                    "
      ]
     },
     "metadata": {},
     "output_type": "display_data"
    }
   ],
   "source": [
    "summary(data)"
   ]
  },
  {
   "cell_type": "code",
   "execution_count": 10,
   "id": "7b08a7e9",
   "metadata": {},
   "outputs": [
    {
     "data": {
      "text/html": [
       "<table class=\"dataframe\">\n",
       "<caption>A data.frame: 6 x 8</caption>\n",
       "<thead>\n",
       "\t<tr><th></th><th scope=col>p</th><th scope=col>nmc</th><th scope=col>nblob</th><th scope=col>ncore</th><th scope=col>ncmt</th><th scope=col>na</th><th scope=col>ncopy</th><th scope=col>copied</th></tr>\n",
       "\t<tr><th></th><th scope=col>&lt;fct&gt;</th><th scope=col>&lt;int&gt;</th><th scope=col>&lt;fct&gt;</th><th scope=col>&lt;fct&gt;</th><th scope=col>&lt;int&gt;</th><th scope=col>&lt;fct&gt;</th><th scope=col>&lt;int&gt;</th><th scope=col>&lt;lgl&gt;</th></tr>\n",
       "</thead>\n",
       "<tbody>\n",
       "\t<tr><th scope=row>1</th><td>0-0Yang_canteen                         </td><td> 3</td><td>408 </td><td>1</td><td> 54</td><td>3 </td><td> 58</td><td>TRUE</td></tr>\n",
       "\t<tr><th scope=row>2</th><td>0-1CxH_Hadoop-MapReduce-Spark-Excercises</td><td> 2</td><td>253 </td><td>1</td><td> 20</td><td>1 </td><td>  2</td><td>TRUE</td></tr>\n",
       "\t<tr><th scope=row>3</th><td>0-Eclipse-0_Tic-Tac-Toe                 </td><td> 2</td><td>21  </td><td>2</td><td>  6</td><td>2 </td><td> 93</td><td>TRUE</td></tr>\n",
       "\t<tr><th scope=row>4</th><td>0-Inacio-0_Prova-Lab-V                  </td><td> 1</td><td>112 </td><td>1</td><td>  3</td><td>1 </td><td>  3</td><td>TRUE</td></tr>\n",
       "\t<tr><th scope=row>5</th><td>0-complexity_selfhealing                </td><td>23</td><td>1276</td><td>9</td><td>858</td><td>30</td><td>103</td><td>TRUE</td></tr>\n",
       "\t<tr><th scope=row>6</th><td>0-ho98_Todoly                           </td><td> 3</td><td>138 </td><td>2</td><td> 73</td><td>4 </td><td>  4</td><td>TRUE</td></tr>\n",
       "</tbody>\n",
       "</table>\n"
      ],
      "text/latex": [
       "A data.frame: 6 x 8\n",
       "\\begin{tabular}{r|llllllll}\n",
       "  & p & nmc & nblob & ncore & ncmt & na & ncopy & copied\\\\\n",
       "  & <fct> & <int> & <fct> & <fct> & <int> & <fct> & <int> & <lgl>\\\\\n",
       "\\hline\n",
       "\t1 & 0-0Yang\\_canteen                          &  3 & 408  & 1 &  54 & 3  &  58 & TRUE\\\\\n",
       "\t2 & 0-1CxH\\_Hadoop-MapReduce-Spark-Excercises &  2 & 253  & 1 &  20 & 1  &   2 & TRUE\\\\\n",
       "\t3 & 0-Eclipse-0\\_Tic-Tac-Toe                  &  2 & 21   & 2 &   6 & 2  &  93 & TRUE\\\\\n",
       "\t4 & 0-Inacio-0\\_Prova-Lab-V                   &  1 & 112  & 1 &   3 & 1  &   3 & TRUE\\\\\n",
       "\t5 & 0-complexity\\_selfhealing                 & 23 & 1276 & 9 & 858 & 30 & 103 & TRUE\\\\\n",
       "\t6 & 0-ho98\\_Todoly                            &  3 & 138  & 2 &  73 & 4  &   4 & TRUE\\\\\n",
       "\\end{tabular}\n"
      ],
      "text/markdown": [
       "\n",
       "A data.frame: 6 x 8\n",
       "\n",
       "| <!--/--> | p &lt;fct&gt; | nmc &lt;int&gt; | nblob &lt;fct&gt; | ncore &lt;fct&gt; | ncmt &lt;int&gt; | na &lt;fct&gt; | ncopy &lt;int&gt; | copied &lt;lgl&gt; |\n",
       "|---|---|---|---|---|---|---|---|---|\n",
       "| 1 | 0-0Yang_canteen                          |  3 | 408  | 1 |  54 | 3  |  58 | TRUE |\n",
       "| 2 | 0-1CxH_Hadoop-MapReduce-Spark-Excercises |  2 | 253  | 1 |  20 | 1  |   2 | TRUE |\n",
       "| 3 | 0-Eclipse-0_Tic-Tac-Toe                  |  2 | 21   | 2 |   6 | 2  |  93 | TRUE |\n",
       "| 4 | 0-Inacio-0_Prova-Lab-V                   |  1 | 112  | 1 |   3 | 1  |   3 | TRUE |\n",
       "| 5 | 0-complexity_selfhealing                 | 23 | 1276 | 9 | 858 | 30 | 103 | TRUE |\n",
       "| 6 | 0-ho98_Todoly                            |  3 | 138  | 2 |  73 | 4  |   4 | TRUE |\n",
       "\n"
      ],
      "text/plain": [
       "  p                                        nmc nblob ncore ncmt na ncopy copied\n",
       "1 0-0Yang_canteen                           3  408   1      54  3   58   TRUE  \n",
       "2 0-1CxH_Hadoop-MapReduce-Spark-Excercises  2  253   1      20  1    2   TRUE  \n",
       "3 0-Eclipse-0_Tic-Tac-Toe                   2  21    2       6  2   93   TRUE  \n",
       "4 0-Inacio-0_Prova-Lab-V                    1  112   1       3  1    3   TRUE  \n",
       "5 0-complexity_selfhealing                 23  1276  9     858  30 103   TRUE  \n",
       "6 0-ho98_Todoly                             3  138   2      73  4    4   TRUE  "
      ]
     },
     "metadata": {},
     "output_type": "display_data"
    }
   ],
   "source": [
    "head(data)"
   ]
  },
  {
   "cell_type": "code",
   "execution_count": 13,
   "id": "8aef8956",
   "metadata": {},
   "outputs": [],
   "source": [
    "data$lnmc <- log(as.numeric(data$nmc) + 1)\n",
    "data$lnblob <- log(as.numeric(data$nblob) + 1)\n",
    "data$lncore <- log(as.numeric(data$ncore) + 1)\n",
    "data$lncmt <- log(as.numeric(data$ncmt) + 1)\n",
    "data$lna <- log(as.numeric(data$na) + 1)\n",
    "data$lncopy <- log(as.numeric(data$ncopy) + 1)\n",
    "nas <- which(is.na(data$nmc) | is.na(data$ncmt))\n",
    "data_c <- data[-nas,c(\"p\",\"lnmc\",\"lnblob\",\"lncore\",\"lncmt\",\"lna\",\"lncopy\",\"copied\")]"
   ]
  },
  {
   "cell_type": "code",
   "execution_count": 14,
   "id": "2e41f174",
   "metadata": {},
   "outputs": [
    {
     "data": {
      "text/plain": [
       "                                        p               lnmc       \n",
       " 0-0Yang_canteen                         :     1   Min.   :0.0000  \n",
       " 0-1123_mvp1001nights2                   :     1   1st Qu.:0.6931  \n",
       " 0-1CxH_Hadoop-MapReduce-Spark-Excercises:     1   Median :0.6931  \n",
       " 0-Eclipse-0_Tic-Tac-Toe                 :     1   Mean   :1.2557  \n",
       " 0-Inacio-0_Prova-Lab-V                  :     1   3rd Qu.:1.3863  \n",
       " 0-complexity_selfhealing                :     1   Max.   :6.2166  \n",
       " (Other)                                 :734908                   \n",
       "     lnblob           lncore           lncmt              lna        \n",
       " Min.   : 1.099   Min.   :0.6931   Min.   : 0.6931   Min.   :0.6931  \n",
       " 1st Qu.: 8.595   1st Qu.:1.0986   1st Qu.: 1.0986   1st Qu.:1.0986  \n",
       " Median : 9.378   Median :1.0986   Median : 2.0794   Median :1.0986  \n",
       " Mean   : 8.553   Mean   :2.8291   Mean   : 2.6193   Mean   :3.8062  \n",
       " 3rd Qu.: 9.759   3rd Qu.:5.5872   3rd Qu.: 3.4965   3rd Qu.:6.5162  \n",
       " Max.   :10.102   Max.   :6.9698   Max.   :17.2690   Max.   :7.6348  \n",
       "                                                                     \n",
       "     lncopy         copied       \n",
       " Min.   : 0.000   Mode :logical  \n",
       " 1st Qu.: 0.000   FALSE:439238   \n",
       " Median : 0.000   TRUE :295676   \n",
       " Mean   : 1.201                  \n",
       " 3rd Qu.: 1.609                  \n",
       " Max.   :19.099                  \n",
       "                                 "
      ]
     },
     "metadata": {},
     "output_type": "display_data"
    }
   ],
   "source": [
    "summary(data_c)"
   ]
  },
  {
   "cell_type": "code",
   "execution_count": 24,
   "id": "a042905d",
   "metadata": {},
   "outputs": [
    {
     "data": {
      "text/html": [
       "<table class=\"dataframe\">\n",
       "<caption>A matrix: 5 x 5 of type dbl</caption>\n",
       "<thead>\n",
       "\t<tr><th></th><th scope=col>lnmc</th><th scope=col>lnblob</th><th scope=col>lncore</th><th scope=col>lncmt</th><th scope=col>lna</th></tr>\n",
       "</thead>\n",
       "<tbody>\n",
       "\t<tr><th scope=row>lnmc</th><td>1.0000000</td><td>0.10329556</td><td>0.43729725</td><td>0.7700929</td><td>0.5316708</td></tr>\n",
       "\t<tr><th scope=row>lnblob</th><td>0.1032956</td><td>1.00000000</td><td>0.09036291</td><td>0.1733729</td><td>0.1093828</td></tr>\n",
       "\t<tr><th scope=row>lncore</th><td>0.4372973</td><td>0.09036291</td><td>1.00000000</td><td>0.5017078</td><td>0.7642414</td></tr>\n",
       "\t<tr><th scope=row>lncmt</th><td>0.7700929</td><td>0.17337286</td><td>0.50170784</td><td>1.0000000</td><td>0.6327536</td></tr>\n",
       "\t<tr><th scope=row>lna</th><td>0.5316708</td><td>0.10938276</td><td>0.76424144</td><td>0.6327536</td><td>1.0000000</td></tr>\n",
       "</tbody>\n",
       "</table>\n"
      ],
      "text/latex": [
       "A matrix: 5 x 5 of type dbl\n",
       "\\begin{tabular}{r|lllll}\n",
       "  & lnmc & lnblob & lncore & lncmt & lna\\\\\n",
       "\\hline\n",
       "\tlnmc & 1.0000000 & 0.10329556 & 0.43729725 & 0.7700929 & 0.5316708\\\\\n",
       "\tlnblob & 0.1032956 & 1.00000000 & 0.09036291 & 0.1733729 & 0.1093828\\\\\n",
       "\tlncore & 0.4372973 & 0.09036291 & 1.00000000 & 0.5017078 & 0.7642414\\\\\n",
       "\tlncmt & 0.7700929 & 0.17337286 & 0.50170784 & 1.0000000 & 0.6327536\\\\\n",
       "\tlna & 0.5316708 & 0.10938276 & 0.76424144 & 0.6327536 & 1.0000000\\\\\n",
       "\\end{tabular}\n"
      ],
      "text/markdown": [
       "\n",
       "A matrix: 5 x 5 of type dbl\n",
       "\n",
       "| <!--/--> | lnmc | lnblob | lncore | lncmt | lna |\n",
       "|---|---|---|---|---|---|\n",
       "| lnmc | 1.0000000 | 0.10329556 | 0.43729725 | 0.7700929 | 0.5316708 |\n",
       "| lnblob | 0.1032956 | 1.00000000 | 0.09036291 | 0.1733729 | 0.1093828 |\n",
       "| lncore | 0.4372973 | 0.09036291 | 1.00000000 | 0.5017078 | 0.7642414 |\n",
       "| lncmt | 0.7700929 | 0.17337286 | 0.50170784 | 1.0000000 | 0.6327536 |\n",
       "| lna | 0.5316708 | 0.10938276 | 0.76424144 | 0.6327536 | 1.0000000 |\n",
       "\n"
      ],
      "text/plain": [
       "       lnmc      lnblob     lncore     lncmt     lna      \n",
       "lnmc   1.0000000 0.10329556 0.43729725 0.7700929 0.5316708\n",
       "lnblob 0.1032956 1.00000000 0.09036291 0.1733729 0.1093828\n",
       "lncore 0.4372973 0.09036291 1.00000000 0.5017078 0.7642414\n",
       "lncmt  0.7700929 0.17337286 0.50170784 1.0000000 0.6327536\n",
       "lna    0.5316708 0.10938276 0.76424144 0.6327536 1.0000000"
      ]
     },
     "metadata": {},
     "output_type": "display_data"
    }
   ],
   "source": [
    "pred_n <- c(2:6)\n",
    "cor(data_c[,pred_n],method=\"spearman\")"
   ]
  },
  {
   "cell_type": "code",
   "execution_count": 27,
   "id": "76bf0194",
   "metadata": {},
   "outputs": [
    {
     "name": "stdout",
     "output_type": "stream",
     "text": [
      "Standard deviations (1, .., p=5):\n",
      "[1] 1.6844295 0.9636977 0.9255659 0.4875632 0.3736227\n",
      "\n",
      "Rotation (n x k) = (5 x 5):\n",
      "              PC1         PC2        PC3         PC4         PC5\n",
      "lnmc   -0.4807526  0.20889961 -0.5280206 -0.16093201  0.64848513\n",
      "lnblob -0.2002853 -0.96991589 -0.1156668 -0.04969607  0.05744964\n",
      "lncore -0.4690351  0.06078592  0.5519701 -0.68123727 -0.08692453\n",
      "lncmt  -0.5183997  0.10744010 -0.4173048  0.12135472 -0.72859325\n",
      "lna    -0.4899291  0.01964198  0.4785406  0.70201140  0.19432596\n"
     ]
    },
    {
     "data": {
      "image/png": "[encoded data removed]",
      "text/plain": [
       "plot without title"
      ]
     },
     "metadata": {
      "image/png": {
       "height": 420,
       "width": 420
      }
     },
     "output_type": "display_data"
    }
   ],
   "source": [
    "pca <- prcomp(data_c[,pred_n], retx=F, scale=T)\n",
    "print(pca)\n",
    "var <- sum(pca$sdev^2)\n",
    "cumVar <- cumsum(pca$sdev^2)\n",
    "plot(1:5,cumVar/var,ylim=c(0,1),xlab=\"Number of coponents\",ylab=\"Fraction of variance\")"
   ]
  },
  {
   "cell_type": "code",
   "execution_count": 28,
   "id": "02b8181d",
   "metadata": {},
   "outputs": [
    {
     "name": "stdout",
     "output_type": "stream",
     "text": [
      "          lnmc     lncore      lncmt        lna\n",
      "PC1 -0.4807526 -0.4690351 -0.5183997 -0.4899291\n",
      "        lnblob\n",
      "PC2 -0.9699159\n",
      "          lnmc    lncore      lncmt       lna\n",
      "PC3 -0.5280206 0.5519701 -0.4173048 0.4785406\n"
     ]
    }
   ],
   "source": [
    "n <- 0\n",
    "varPer <- 0.9\n",
    "for (i in c(1:length(pca$sdev))) {\n",
    "    if(cumVar[i] > var*varPer) {\n",
    "        n <- i\n",
    "        break\n",
    "    }\n",
    "}\n",
    "res <- pca$rotation[,1:n]\n",
    "resAbs <- res\n",
    "resAbs[res<0] <- -res[res<0]\n",
    "for (i in 1:n)\n",
    "  print(t(res[resAbs[,i]>.3,i,drop=FALSE]));"
   ]
  },
  {
   "cell_type": "code",
   "execution_count": 29,
   "id": "84e13b28",
   "metadata": {},
   "outputs": [
    {
     "name": "stdout",
     "output_type": "stream",
     "text": [
      "[1] lnmc              ->                0.720308953765154\n",
      "[1] lnblob             ->                 0.0712606765522401\n",
      "[1] lncore            ->                0.590754660045161\n",
      "[1] lncmt             ->                0.760487942234244\n",
      "[1] lna               ->                0.629074745993651\n"
     ]
    }
   ],
   "source": [
    "vnam <- names(data_c[,pred_n])\n",
    "len <- dim(data_c[,pred_n])[2]\n",
    "res <- vector(mode=\"list\", length=len)\n",
    "for (i in 1:len){\n",
    "  fmla <- as.formula(paste(vnam[i],paste(vnam[-i],collapse=\"+\"),sep=\"~\"));\n",
    "  res[[i]] <- lm(fmla,data=data_c[,pred_n]);\n",
    "}\n",
    "for (i in 1:len) {\n",
    "    print(c(vnam[i],\"-> \",summary(res[[i]])$adj.r.squared),quote=FALSE)\n",
    "}"
   ]
  },
  {
   "cell_type": "code",
   "execution_count": 30,
   "id": "82f05fd9",
   "metadata": {},
   "outputs": [
    {
     "data": {
      "text/plain": [
       "\n",
       "Call:\n",
       "lm(formula = lncopy ~ lnmc + lncore + lncmt + lna + lnblob, data = data_c)\n",
       "\n",
       "Residuals:\n",
       "     Min       1Q   Median       3Q      Max \n",
       "-10.1102  -0.7152  -0.1488   0.3412  13.6214 \n",
       "\n",
       "Coefficients:\n",
       "              Estimate Std. Error t value Pr(>|t|)    \n",
       "(Intercept) -0.9069092  0.0070780 -128.13   <2e-16 ***\n",
       "lnmc         0.8956133  0.0036799  243.38   <2e-16 ***\n",
       "lncore       0.0641405  0.0012092   53.04   <2e-16 ***\n",
       "lncmt        0.3990020  0.0019573  203.86   <2e-16 ***\n",
       "lna         -0.0625279  0.0010294  -60.74   <2e-16 ***\n",
       "lnblob      -0.0005864  0.0008037   -0.73    0.466    \n",
       "---\n",
       "Signif. codes:  0 '***' 0.001 '**' 0.01 '*' 0.05 '.' 0.1 ' ' 1\n",
       "\n",
       "Residual standard error: 1.521 on 734908 degrees of freedom\n",
       "Multiple R-squared:  0.4852,\tAdjusted R-squared:  0.4852 \n",
       "F-statistic: 1.385e+05 on 5 and 734908 DF,  p-value: < 2.2e-16\n"
      ]
     },
     "metadata": {},
     "output_type": "display_data"
    }
   ],
   "source": [
    "lm <- lm(lncopy~lnmc+lncore+lncmt+lna+lnblob, data=data_c)\n",
    "summary(lm)"
   ]
  },
  {
   "cell_type": "code",
   "execution_count": 15,
   "id": "9ff84d86",
   "metadata": {},
   "outputs": [
    {
     "data": {
      "text/plain": [
       "\n",
       "Call:\n",
       "lm(formula = lncopy ~ lnmc + lnblob + lncmt, data = data_c)\n",
       "\n",
       "Residuals:\n",
       "    Min      1Q  Median      3Q     Max \n",
       "-9.9587 -0.7299 -0.1139  0.3322 13.4033 \n",
       "\n",
       "Coefficients:\n",
       "              Estimate Std. Error  t value Pr(>|t|)    \n",
       "(Intercept) -0.9096742  0.0070580 -128.886  < 2e-16 ***\n",
       "lnmc         0.9127463  0.0036796  248.056  < 2e-16 ***\n",
       "lnblob      -0.0031440  0.0008024   -3.918 8.92e-05 ***\n",
       "lncmt        0.3786123  0.0018423  205.510  < 2e-16 ***\n",
       "---\n",
       "Signif. codes:  0 '***' 0.001 '**' 0.01 '*' 0.05 '.' 0.1 ' ' 1\n",
       "\n",
       "Residual standard error: 1.525 on 734910 degrees of freedom\n",
       "Multiple R-squared:  0.4824,\tAdjusted R-squared:  0.4824 \n",
       "F-statistic: 2.283e+05 on 3 and 734910 DF,  p-value: < 2.2e-16\n"
      ]
     },
     "metadata": {},
     "output_type": "display_data"
    }
   ],
   "source": [
    "lm <- lm(lncopy~lnmc+lnblob+lncmt, data=data_c)\n",
    "summary(lm)"
   ]
  },
  {
   "cell_type": "code",
   "execution_count": 16,
   "id": "4af6e358",
   "metadata": {},
   "outputs": [
    {
     "data": {
      "text/plain": [
       "\n",
       "Call:\n",
       "glm(formula = copied ~ lnmc + lnblob + lncmt, family = binomial, \n",
       "    data = data_c)\n",
       "\n",
       "Deviance Residuals: \n",
       "    Min       1Q   Median       3Q      Max  \n",
       "-4.0869  -0.8110  -0.6077   0.9117   2.2291  \n",
       "\n",
       "Coefficients:\n",
       "             Estimate Std. Error z value Pr(>|z|)    \n",
       "(Intercept) -3.175628   0.014805 -214.50   <2e-16 ***\n",
       "lnmc         0.430754   0.006185   69.64   <2e-16 ***\n",
       "lnblob       0.098942   0.001597   61.94   <2e-16 ***\n",
       "lncmt        0.535239   0.002934  182.45   <2e-16 ***\n",
       "---\n",
       "Signif. codes:  0 '***' 0.001 '**' 0.01 '*' 0.05 '.' 0.1 ' ' 1\n",
       "\n",
       "(Dispersion parameter for binomial family taken to be 1)\n",
       "\n",
       "    Null deviance: 990582  on 734913  degrees of freedom\n",
       "Residual deviance: 785021  on 734910  degrees of freedom\n",
       "AIC: 785029\n",
       "\n",
       "Number of Fisher Scoring iterations: 5\n"
      ]
     },
     "metadata": {},
     "output_type": "display_data"
    }
   ],
   "source": [
    "glm <- glm(copied~lnmc+lnblob+lncmt,data=data_c,family=binomial)\n",
    "summary(glm)"
   ]
  },
  {
   "cell_type": "code",
   "execution_count": 31,
   "id": "4562d136",
   "metadata": {},
   "outputs": [
    {
     "data": {
      "text/plain": [
       "\n",
       "Call:\n",
       "lm(formula = lncopy ~ lnmc + lncmt, data = data_c)\n",
       "\n",
       "Residuals:\n",
       "    Min      1Q  Median      3Q     Max \n",
       "-9.9463 -0.7297 -0.1135  0.3310 13.3976 \n",
       "\n",
       "Coefficients:\n",
       "             Estimate Std. Error t value Pr(>|t|)    \n",
       "(Intercept) -0.934442   0.003140  -297.6   <2e-16 ***\n",
       "lnmc         0.914186   0.003661   249.7   <2e-16 ***\n",
       "lncmt        0.377111   0.001802   209.3   <2e-16 ***\n",
       "---\n",
       "Signif. codes:  0 '***' 0.001 '**' 0.01 '*' 0.05 '.' 0.1 ' ' 1\n",
       "\n",
       "Residual standard error: 1.525 on 734911 degrees of freedom\n",
       "Multiple R-squared:  0.4824,\tAdjusted R-squared:  0.4824 \n",
       "F-statistic: 3.425e+05 on 2 and 734911 DF,  p-value: < 2.2e-16\n"
      ]
     },
     "metadata": {},
     "output_type": "display_data"
    }
   ],
   "source": [
    "lm <- lm(lncopy~lnmc+lncmt, data=data_c)\n",
    "summary(lm)"
   ]
  },
  {
   "cell_type": "code",
   "execution_count": 32,
   "id": "74071b5c",
   "metadata": {},
   "outputs": [
    {
     "data": {
      "text/plain": [
       "\n",
       "Call:\n",
       "glm(formula = copied ~ lnmc + lncmt, family = binomial, data = data_c)\n",
       "\n",
       "Deviance Residuals: \n",
       "    Min       1Q   Median       3Q      Max  \n",
       "-4.1709  -0.7996  -0.5821   0.9082   1.9282  \n",
       "\n",
       "Coefficients:\n",
       "             Estimate Std. Error z value Pr(>|z|)    \n",
       "(Intercept) -2.367949   0.006020 -393.35   <2e-16 ***\n",
       "lnmc         0.409360   0.006197   66.06   <2e-16 ***\n",
       "lncmt        0.569298   0.002898  196.46   <2e-16 ***\n",
       "---\n",
       "Signif. codes:  0 '***' 0.001 '**' 0.01 '*' 0.05 '.' 0.1 ' ' 1\n",
       "\n",
       "(Dispersion parameter for binomial family taken to be 1)\n",
       "\n",
       "    Null deviance: 990582  on 734913  degrees of freedom\n",
       "Residual deviance: 789365  on 734911  degrees of freedom\n",
       "AIC: 789371\n",
       "\n",
       "Number of Fisher Scoring iterations: 5\n"
      ]
     },
     "metadata": {},
     "output_type": "display_data"
    }
   ],
   "source": [
    "glm <- glm(copied~lnmc+lncmt,data=data_c,family=binomial)\n",
    "summary(glm)"
   ]
  }
 ],
 "metadata": {
  "kernelspec": {
   "display_name": "R",
   "language": "R",
   "name": "ir"
  },
  "language_info": {
   "codemirror_mode": "r",
   "file_extension": ".r",
   "mimetype": "text/x-r-source",
   "name": "R",
   "pygments_lexer": "r",
   "version": "3.6.3"
  }
 },
 "nbformat": 4,
 "nbformat_minor": 5
}
