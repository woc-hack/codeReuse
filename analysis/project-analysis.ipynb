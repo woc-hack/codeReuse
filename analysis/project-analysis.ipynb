{
 "cells": [
  {
   "cell_type": "markdown",
   "id": "d2a7f541",
   "metadata": {},
   "source": [
    "# Project-level Analysis"
   ]
  },
  {
   "cell_type": "code",
   "execution_count": 4,
   "id": "28008544",
   "metadata": {},
   "outputs": [],
   "source": [
    "x=list()\n",
    "classes=c(\"character\",\"integer\",\"integer\",\"integer\",\"integer\",\"integer\",\"integer\",\"integer\",\"integer\",\n",
    "          \"integer\",\"integer\",\"numeric\",\"numeric\",\"integer\",\"character\",\"integer\",\"integer\",\"integer\",\n",
    "          \"integer\",\"numeric\",\"numeric\",\"numeric\",\"numeric\")\n",
    "for(i in 0:2){\n",
    "    path=paste(\"../data/projects/sample.P2all.\",i,\"y\",sep=\"\")\n",
    "    x[[i+1]]=read.table(path,sep=\";\",colClasses=classes,na.strings=c(\"null\"))\n",
    "}\n",
    "names(x)=c(\"All\",\"1y\",\"2y\")"
   ]
  },
  {
   "cell_type": "code",
   "execution_count": 5,
   "id": "15ee2193",
   "metadata": {},
   "outputs": [],
   "source": [
    "for(i in 1:3) {\n",
    "    names(x[[i]])=c(\"p\",\"ncmt\",\"nblob\",\"na\",\"ncore\",\"nmc\",\"nf\",\"cs\",\"nfr\",\"gm\",\"gf\",\"et\",\"lt\",\"ns\",\n",
    "                    \"l\",\"nb\",\"cc\",\"bc\",\"bcc\",\"ad\",\"as\",\"acs\",\"ebt\")\n",
    "    x[[i]]$c=x[[i]]$cc>0\n",
    "    x[[i]]$cr=x[[i]]$cc/x[[i]]$nb\n",
    "    x[[i]]$br=x[[i]]$bc/x[[i]]$nb\n",
    "    x[[i]]$bcr=x[[i]]$bcc/x[[i]]$cc\n",
    "    x[[i]][is.na(x[[i]]$na),\"na\"]=1\n",
    "    x[[i]][is.na(x[[i]]$ncore),\"ncore\"]=1\n",
    "    x[[i]][is.na(x[[i]]$cs),\"cs\"]=1\n",
    "    x[[i]][is.na(x[[i]]$ns),\"ns\"]=0\n",
    "    x[[i]][is.na(x[[i]]$gm),\"gm\"]=0\n",
    "    x[[i]][is.na(x[[i]]$gf),\"gf\"]=0\n",
    "}"
   ]
  },
  {
   "cell_type": "code",
   "execution_count": 6,
   "id": "e3411a4b",
   "metadata": {},
   "outputs": [
    {
     "data": {
      "text/plain": [
       "\n",
       "       Cob        Ada      Basic       Cuda          F         jl     Erlang \n",
       "        10         25         53         71        102        162        206 \n",
       "       Asp     Groovy       Lisp    Clojure         pl        Lua       Dart \n",
       "       347        386        510        641        645        741        983 \n",
       "     Scala       Rust        Sql        Fml     Kotlin          R         Go \n",
       "      1034       1104       1151       1170       1774       2921       4077 \n",
       "     Swift ObjectiveC        ipy TypeScript        CSS         rb         Cs \n",
       "      4159       4260       6240       7873       8015      14789      14937 \n",
       "         C        php         PY       java         JS   Markdown    Unknown \n",
       "     22261      24672      34272      43185      86081     102393     217263 "
      ]
     },
     "metadata": {},
     "output_type": "display_data"
    }
   ],
   "source": [
    "sort(table(x[[3]]$l))"
   ]
  },
  {
   "cell_type": "code",
   "execution_count": 7,
   "id": "9e8d6da0",
   "metadata": {},
   "outputs": [
    {
     "data": {
      "text/plain": [
       "\n",
       "       Cob        Ada      Basic       Cuda          F         jl     Erlang \n",
       "        10         25         53         71        102        162        206 \n",
       "       Asp     Groovy       Lisp    Clojure         pl        Lua       Dart \n",
       "       347        386        510        641        645        741        983 \n",
       "     Scala       Rust        Sql        Fml     Kotlin          R         Go \n",
       "      1034       1104       1151       1170       1774       2921       4077 \n",
       "     Swift ObjectiveC TypeScript        CSS         rb         Cs          C \n",
       "      4159       4260       7873       8015      14789      14937      22261 \n",
       "       php         PY       java         JS   Markdown    Unknown \n",
       "     24672      40512      43185      86081     102393     217263 "
      ]
     },
     "metadata": {},
     "output_type": "display_data"
    }
   ],
   "source": [
    "for(i in 1:3){\n",
    "    x[[i]][x[[i]]$l==\"ipy\"&!is.na(x[[i]]$l),\"l\"]=\"PY\"\n",
    "}\n",
    "sort(table(x[[3]]$l))"
   ]
  },
  {
   "cell_type": "code",
   "execution_count": 8,
   "id": "575f9a31",
   "metadata": {},
   "outputs": [
    {
     "data": {
      "text/html": [
       "<style>\n",
       ".list-inline {list-style: none; margin:0; padding: 0}\n",
       ".list-inline>li {display: inline-block}\n",
       ".list-inline>li:not(:last-child)::after {content: \"\\00b7\"; padding: 0 .5ex}\n",
       "</style>\n",
       "<ol class=list-inline><li>'C'</li><li>'CSS'</li><li>'Cs'</li><li>'Fml'</li><li>'Go'</li><li>'JS'</li><li>'Kotlin'</li><li>'Markdown'</li><li>'ObjectiveC'</li><li>'PY'</li><li>'R'</li><li>'Rust'</li><li>'Scala'</li><li>'Sql'</li><li>'Swift'</li><li>'TypeScript'</li><li>'Unknown'</li><li>'java'</li><li>'php'</li><li>'rb'</li></ol>\n"
      ],
      "text/latex": [
       "\\begin{enumerate*}\n",
       "\\item 'C'\n",
       "\\item 'CSS'\n",
       "\\item 'Cs'\n",
       "\\item 'Fml'\n",
       "\\item 'Go'\n",
       "\\item 'JS'\n",
       "\\item 'Kotlin'\n",
       "\\item 'Markdown'\n",
       "\\item 'ObjectiveC'\n",
       "\\item 'PY'\n",
       "\\item 'R'\n",
       "\\item 'Rust'\n",
       "\\item 'Scala'\n",
       "\\item 'Sql'\n",
       "\\item 'Swift'\n",
       "\\item 'TypeScript'\n",
       "\\item 'Unknown'\n",
       "\\item 'java'\n",
       "\\item 'php'\n",
       "\\item 'rb'\n",
       "\\end{enumerate*}\n"
      ],
      "text/markdown": [
       "1. 'C'\n",
       "2. 'CSS'\n",
       "3. 'Cs'\n",
       "4. 'Fml'\n",
       "5. 'Go'\n",
       "6. 'JS'\n",
       "7. 'Kotlin'\n",
       "8. 'Markdown'\n",
       "9. 'ObjectiveC'\n",
       "10. 'PY'\n",
       "11. 'R'\n",
       "12. 'Rust'\n",
       "13. 'Scala'\n",
       "14. 'Sql'\n",
       "15. 'Swift'\n",
       "16. 'TypeScript'\n",
       "17. 'Unknown'\n",
       "18. 'java'\n",
       "19. 'php'\n",
       "20. 'rb'\n",
       "\n",
       "\n"
      ],
      "text/plain": [
       " [1] \"C\"          \"CSS\"        \"Cs\"         \"Fml\"        \"Go\"        \n",
       " [6] \"JS\"         \"Kotlin\"     \"Markdown\"   \"ObjectiveC\" \"PY\"        \n",
       "[11] \"R\"          \"Rust\"       \"Scala\"      \"Sql\"        \"Swift\"     \n",
       "[16] \"TypeScript\" \"Unknown\"    \"java\"       \"php\"        \"rb\"        "
      ]
     },
     "metadata": {},
     "output_type": "display_data"
    }
   ],
   "source": [
    "tmp=list()\n",
    "for(i in 1:3) {\n",
    "    tmp[[i]]=names(table(x[[i]]$l)[table(x[[i]]$l)>1000])\n",
    "}\n",
    "tmp2=intersect(intersect(tmp[[1]],tmp[[2]]),tmp[[3]])\n",
    "tmp2"
   ]
  },
  {
   "cell_type": "code",
   "execution_count": 9,
   "id": "cc627df0",
   "metadata": {},
   "outputs": [
    {
     "data": {
      "text/html": [
       "<style>\n",
       ".list-inline {list-style: none; margin:0; padding: 0}\n",
       ".list-inline>li {display: inline-block}\n",
       ".list-inline>li:not(:last-child)::after {content: \"\\00b7\"; padding: 0 .5ex}\n",
       "</style>\n",
       "<ol class=list-inline><li>'C'</li><li>'Cs'</li><li>'Go'</li><li>'JS'</li><li>'Kotlin'</li><li>'ObjectiveC'</li><li>'PY'</li><li>'R'</li><li>'Rust'</li><li>'Scala'</li><li>'TypeScript'</li><li>'Unknown'</li><li>'java'</li><li>'php'</li><li>'rb'</li><li>'pl'</li></ol>\n"
      ],
      "text/latex": [
       "\\begin{enumerate*}\n",
       "\\item 'C'\n",
       "\\item 'Cs'\n",
       "\\item 'Go'\n",
       "\\item 'JS'\n",
       "\\item 'Kotlin'\n",
       "\\item 'ObjectiveC'\n",
       "\\item 'PY'\n",
       "\\item 'R'\n",
       "\\item 'Rust'\n",
       "\\item 'Scala'\n",
       "\\item 'TypeScript'\n",
       "\\item 'Unknown'\n",
       "\\item 'java'\n",
       "\\item 'php'\n",
       "\\item 'rb'\n",
       "\\item 'pl'\n",
       "\\end{enumerate*}\n"
      ],
      "text/markdown": [
       "1. 'C'\n",
       "2. 'Cs'\n",
       "3. 'Go'\n",
       "4. 'JS'\n",
       "5. 'Kotlin'\n",
       "6. 'ObjectiveC'\n",
       "7. 'PY'\n",
       "8. 'R'\n",
       "9. 'Rust'\n",
       "10. 'Scala'\n",
       "11. 'TypeScript'\n",
       "12. 'Unknown'\n",
       "13. 'java'\n",
       "14. 'php'\n",
       "15. 'rb'\n",
       "16. 'pl'\n",
       "\n",
       "\n"
      ],
      "text/plain": [
       " [1] \"C\"          \"Cs\"         \"Go\"         \"JS\"         \"Kotlin\"    \n",
       " [6] \"ObjectiveC\" \"PY\"         \"R\"          \"Rust\"       \"Scala\"     \n",
       "[11] \"TypeScript\" \"Unknown\"    \"java\"       \"php\"        \"rb\"        \n",
       "[16] \"pl\"        "
      ]
     },
     "metadata": {},
     "output_type": "display_data"
    }
   ],
   "source": [
    "tmp2=tmp2[! tmp2 %in% c(\"CSS\",\"Fml\",\"Markdown\",\"Sql\",\"Swift\")]\n",
    "tmp2=c(tmp2,\"pl\")\n",
    "tmp2"
   ]
  },
  {
   "cell_type": "code",
   "execution_count": 10,
   "id": "b36c6c21",
   "metadata": {},
   "outputs": [
    {
     "data": {
      "text/html": [
       "<style>\n",
       ".list-inline {list-style: none; margin:0; padding: 0}\n",
       ".list-inline>li {display: inline-block}\n",
       ".list-inline>li:not(:last-child)::after {content: \"\\00b7\"; padding: 0 .5ex}\n",
       "</style>\n",
       "<ol class=list-inline><li>'0ther'</li><li>'C'</li><li>'Cs'</li><li>'Go'</li><li>'JS'</li><li>'Kotlin'</li><li>'ObjectiveC'</li><li>'PY'</li><li>'R'</li><li>'Rust'</li><li>'Scala'</li><li>'TypeScript'</li><li>'java'</li><li>'php'</li><li>'pl'</li><li>'rb'</li></ol>\n"
      ],
      "text/latex": [
       "\\begin{enumerate*}\n",
       "\\item '0ther'\n",
       "\\item 'C'\n",
       "\\item 'Cs'\n",
       "\\item 'Go'\n",
       "\\item 'JS'\n",
       "\\item 'Kotlin'\n",
       "\\item 'ObjectiveC'\n",
       "\\item 'PY'\n",
       "\\item 'R'\n",
       "\\item 'Rust'\n",
       "\\item 'Scala'\n",
       "\\item 'TypeScript'\n",
       "\\item 'java'\n",
       "\\item 'php'\n",
       "\\item 'pl'\n",
       "\\item 'rb'\n",
       "\\end{enumerate*}\n"
      ],
      "text/markdown": [
       "1. '0ther'\n",
       "2. 'C'\n",
       "3. 'Cs'\n",
       "4. 'Go'\n",
       "5. 'JS'\n",
       "6. 'Kotlin'\n",
       "7. 'ObjectiveC'\n",
       "8. 'PY'\n",
       "9. 'R'\n",
       "10. 'Rust'\n",
       "11. 'Scala'\n",
       "12. 'TypeScript'\n",
       "13. 'java'\n",
       "14. 'php'\n",
       "15. 'pl'\n",
       "16. 'rb'\n",
       "\n",
       "\n"
      ],
      "text/plain": [
       " [1] \"0ther\"      \"C\"          \"Cs\"         \"Go\"         \"JS\"        \n",
       " [6] \"Kotlin\"     \"ObjectiveC\" \"PY\"         \"R\"          \"Rust\"      \n",
       "[11] \"Scala\"      \"TypeScript\" \"java\"       \"php\"        \"pl\"        \n",
       "[16] \"rb\"        "
      ]
     },
     "metadata": {},
     "output_type": "display_data"
    }
   ],
   "source": [
    "for(i in 1:3) {\n",
    "    x[[i]]$ll=as.factor(ifelse(((x[[i]]$l %in% tmp2) & (x[[i]]$l != \"null\") & (x[[i]]$l != \"Unknown\")),\n",
    "                     as.character(x[[i]]$l), \"0ther\"))\n",
    "}\n",
    "ty=names(table(x[[i]]$ll))\n",
    "ty"
   ]
  },
  {
   "cell_type": "code",
   "execution_count": 11,
   "id": "b91afeb9",
   "metadata": {},
   "outputs": [
    {
     "data": {
      "text/plain": [
       "\n",
       "        pl      Scala       Rust     Kotlin          R         Go ObjectiveC \n",
       "       645       1034       1104       1774       2921       4077       4260 \n",
       "TypeScript         rb         Cs          C        php         PY       java \n",
       "      7873      14789      14937      22261      24672      40512      43185 \n",
       "        JS      0ther \n",
       "     86081     353751 "
      ]
     },
     "metadata": {},
     "output_type": "display_data"
    }
   ],
   "source": [
    "sort(table(x[[3]]$ll))"
   ]
  },
  {
   "cell_type": "markdown",
   "id": "db1e1ef0",
   "metadata": {},
   "source": [
    "## Variables\n",
    "\n",
    "**From MongoDB:**  \n",
    "\n",
    "- p: Project  \n",
    "- ncmt: NumCommits  \n",
    "- nblob: NumBlobs  \n",
    "- na: NumAuthors  \n",
    "- ncore: NumCore  \n",
    "- nmc: NumActiveMon  \n",
    "- nf: NumFiles  \n",
    "- cs: CommunitySize  \n",
    "- nfr: NumForks  \n",
    "- gm: Gender.male  \n",
    "- gf: Gender.female  \n",
    "- et: EarliestCommitDate  \n",
    "- lt: LatestCommitDate  \n",
    "- ns: Number of stars  \n",
    "\n",
    "**Calculated in copy timeframe(1y/2y):**\n",
    "\n",
    "- l: Most common original blob language  \n",
    "- nb: Original blobs count  \n",
    "- cc: Copied blobs count  \n",
    "- bc: Original binary blobs count  \n",
    "- bcc: Copied binary blobs count  \n",
    "- ad: Average downstream projects count  \n",
    "- as: Average original blob size (excluding binary blobs)  \n",
    "- acs: Average copied blob size (excluding binary blobs)  \n",
    "- ebt: Earliest original blob time  \n",
    "- c: Whether project has copied blobs\n",
    "- cr: Copied to original blobs ratio (cc/nb)\n",
    "- br: Binary to original blobs ratio (bc/nb)\n",
    "- bcr: Binary to copied blobs ratio (bcc/cc)"
   ]
  },
  {
   "cell_type": "code",
   "execution_count": 476,
   "id": "ddb17813",
   "metadata": {
    "scrolled": true
   },
   "outputs": [
    {
     "name": "stdout",
     "output_type": "stream",
     "text": [
      "[1] \"All\"\n",
      "      p                  ncmt             nblob               na          \n",
      " Length:921103      Min.   :      1   Min.   :      1   Min.   :    1.00  \n",
      " Class :character   1st Qu.:      2   1st Qu.:      6   1st Qu.:    1.00  \n",
      " Mode  :character   Median :      4   Median :     24   Median :    1.00  \n",
      "                    Mean   :     46   Mean   :    396   Mean   :    2.14  \n",
      "                    3rd Qu.:     12   3rd Qu.:     85   3rd Qu.:    1.00  \n",
      "                    Max.   :6129261   Max.   :5332329   Max.   :40930.00  \n",
      "                                                                          \n",
      "     ncore                nmc                nf                cs          \n",
      " Min.   :    1.000   Min.   :  0.000   Min.   :      1   Min.   :    1.00  \n",
      " 1st Qu.:    1.000   1st Qu.:  1.000   1st Qu.:      4   1st Qu.:    1.00  \n",
      " Median :    1.000   Median :  1.000   Median :     17   Median :    1.00  \n",
      " Mean   :    1.493   Mean   :  2.209   Mean   :    430   Mean   :    2.04  \n",
      " 3rd Qu.:    1.000   3rd Qu.:  2.000   3rd Qu.:     62   3rd Qu.:    1.00  \n",
      " Max.   :26847.000   Max.   :288.000   Max.   :5397220   Max.   :82386.00  \n",
      "                                                                           \n",
      "      nfr                 gm                  gf                  et           \n",
      " Min.   :    0.00   Min.   :    0.000   Min.   :    0.000   Min.   :3.158e+08  \n",
      " 1st Qu.:    0.00   1st Qu.:    0.000   1st Qu.:    0.000   1st Qu.:1.498e+09  \n",
      " Median :    0.00   Median :    1.000   Median :    0.000   Median :1.556e+09  \n",
      " Mean   :    1.06   Mean   :    1.138   Mean   :    0.254   Mean   :1.540e+09  \n",
      " 3rd Qu.:    0.00   3rd Qu.:    1.000   3rd Qu.:    0.000   3rd Qu.:1.599e+09  \n",
      " Max.   :72162.00   Max.   :24613.000   Max.   :15832.000   Max.   :1.638e+09  \n",
      " NA's   :211                                                NA's   :13         \n",
      "       lt                  ns                 l                   nb         \n",
      " Min.   :8.536e+08   Min.   :     0.00   Length:921103      Min.   :      1  \n",
      " 1st Qu.:1.508e+09   1st Qu.:     0.00   Class :character   1st Qu.:      4  \n",
      " Median :1.565e+09   Median :     0.00   Mode  :character   Median :     13  \n",
      " Mean   :1.549e+09   Mean   :     2.33                      Mean   :    155  \n",
      " 3rd Qu.:1.608e+09   3rd Qu.:     0.00                      3rd Qu.:     46  \n",
      " Max.   :5.701e+09   Max.   :105423.00                      Max.   :4889588  \n",
      " NA's   :13                                                                  \n",
      "       cc                 bc               bcc                 ad         \n",
      " Min.   :     0.0   Min.   :      0   Min.   :    0.00   Min.   :    1.0  \n",
      " 1st Qu.:     0.0   1st Qu.:      0   1st Qu.:    0.00   1st Qu.:    1.0  \n",
      " Median :     0.0   Median :      0   Median :    0.00   Median :    1.4  \n",
      " Mean   :    10.3   Mean   :     39   Mean   :    2.86   Mean   :    8.0  \n",
      " 3rd Qu.:     1.0   3rd Qu.:      3   3rd Qu.:    0.00   3rd Qu.:    3.0  \n",
      " Max.   :474664.0   Max.   :3330978   Max.   :84693.00   Max.   :61037.2  \n",
      "                                                         NA's   :628133   \n",
      "       as                acs                ebt                NA         \n",
      " Min.   :       3   Min.   :       3   Min.   :0.000e+00   Mode :logical  \n",
      " 1st Qu.:     451   1st Qu.:     220   1st Qu.:1.498e+09   FALSE:628133   \n",
      " Median :     994   Median :     582   Median :1.556e+09   TRUE :292970   \n",
      " Mean   :   21359   Mean   :   30454   Mean   :1.540e+09                  \n",
      " 3rd Qu.:    2702   3rd Qu.:    1614   3rd Qu.:1.599e+09                  \n",
      " Max.   :82777011   Max.   :91356577   Max.   :1.638e+09                  \n",
      " NA's   :19513      NA's   :664000                                        \n",
      "       NA                NA               NA                NA        \n",
      " Min.   :0.00000   Min.   :0.0000   Min.   :0.0      0ther   :336745  \n",
      " 1st Qu.:0.00000   1st Qu.:0.0000   1st Qu.:0.0      Markdown:154577  \n",
      " Median :0.00000   Median :0.0000   Median :0.0      JS      :140045  \n",
      " Mean   :0.06088   Mean   :0.1321   Mean   :0.2      java    : 60857  \n",
      " 3rd Qu.:0.01887   3rd Qu.:0.1495   3rd Qu.:0.3      PY      : 54295  \n",
      " Max.   :1.00000   Max.   :1.0000   Max.   :1.0      php     : 32146  \n",
      "                                    NA's   :628133   (Other) :142438  \n",
      "     c                 cr                br              bcr         \n",
      " Mode :logical   Min.   :0.00000   Min.   :0.0000   Min.   :0.00000  \n",
      " FALSE:628133    1st Qu.:0.00000   1st Qu.:0.0000   1st Qu.:0.00000  \n",
      " TRUE :292970    Median :0.00000   Median :0.0000   Median :0.00000  \n",
      "                 Mean   :0.06088   Mean   :0.1321   Mean   :0.06706  \n",
      "                 3rd Qu.:0.01887   3rd Qu.:0.1495   3rd Qu.:0.00000  \n",
      "                 Max.   :1.00000   Max.   :1.0000   Max.   :1.00000  \n",
      "                                                                     \n",
      "[1] \"1y\"\n",
      "      p                  ncmt             nblob               na          \n",
      " Length:823803      Min.   :      1   Min.   :      1   Min.   :    1.00  \n",
      " Class :character   1st Qu.:      2   1st Qu.:      6   1st Qu.:    1.00  \n",
      " Mode  :character   Median :      4   Median :     25   Median :    1.00  \n",
      "                    Mean   :     50   Mean   :    412   Mean   :    2.24  \n",
      "                    3rd Qu.:     13   3rd Qu.:     90   3rd Qu.:    1.00  \n",
      "                    Max.   :6129261   Max.   :5332329   Max.   :40930.00  \n",
      "                                                                          \n",
      "     ncore                nmc               nf                cs          \n",
      " Min.   :    1.000   Min.   :  0.00   Min.   :      1   Min.   :    1.00  \n",
      " 1st Qu.:    1.000   1st Qu.:  1.00   1st Qu.:      4   1st Qu.:    1.00  \n",
      " Median :    1.000   Median :  1.00   Median :     17   Median :    1.00  \n",
      " Mean   :    1.533   Mean   :  2.32   Mean   :    445   Mean   :    2.16  \n",
      " 3rd Qu.:    1.000   3rd Qu.:  2.00   3rd Qu.:     66   3rd Qu.:    1.00  \n",
      " Max.   :26847.000   Max.   :288.00   Max.   :5397220   Max.   :82386.00  \n",
      "                                                                          \n",
      "      nfr                 gm                 gf                 et           \n",
      " Min.   :    0.00   Min.   :    0.00   Min.   :    0.00   Min.   :3.158e+08  \n",
      " 1st Qu.:    0.00   1st Qu.:    0.00   1st Qu.:    0.00   1st Qu.:1.489e+09  \n",
      " Median :    0.00   Median :    1.00   Median :    0.00   Median :1.545e+09  \n",
      " Mean   :    1.19   Mean   :    1.21   Mean   :    0.27   Mean   :1.529e+09  \n",
      " 3rd Qu.:    0.00   3rd Qu.:    1.00   3rd Qu.:    0.00   3rd Qu.:1.587e+09  \n",
      " Max.   :72162.00   Max.   :24613.00   Max.   :15832.00   Max.   :1.631e+09  \n",
      " NA's   :200                                              NA's   :13         \n",
      "       lt                  ns                l                   nb         \n",
      " Min.   :8.536e+08   Min.   :     0.0   Length:823803      Min.   :      1  \n",
      " 1st Qu.:1.499e+09   1st Qu.:     0.0   Class :character   1st Qu.:      4  \n",
      " Median :1.554e+09   Median :     0.0   Mode  :character   Median :     13  \n",
      " Mean   :1.540e+09   Mean   :     2.6                      Mean   :    161  \n",
      " 3rd Qu.:1.596e+09   3rd Qu.:     0.0                      3rd Qu.:     48  \n",
      " Max.   :5.701e+09   Max.   :105423.0                      Max.   :4795549  \n",
      " NA's   :13                                                                 \n",
      "       cc                 bc               bcc                 ad         \n",
      " Min.   :     0.0   Min.   :      0   Min.   :    0.00   Min.   :    1.0  \n",
      " 1st Qu.:     0.0   1st Qu.:      0   1st Qu.:    0.00   1st Qu.:    1.0  \n",
      " Median :     0.0   Median :      0   Median :    0.00   Median :    1.1  \n",
      " Mean   :     9.2   Mean   :     40   Mean   :    2.51   Mean   :    4.8  \n",
      " 3rd Qu.:     1.0   3rd Qu.:      4   3rd Qu.:    0.00   3rd Qu.:    2.0  \n",
      " Max.   :425547.0   Max.   :3330978   Max.   :70652.00   Max.   :61031.2  \n",
      "                                                         NA's   :582852   \n",
      "       as                acs                ebt                NA         \n",
      " Min.   :       3   Min.   :       3   Min.   :0.000e+00   Mode :logical  \n",
      " 1st Qu.:     452   1st Qu.:     250   1st Qu.:1.490e+09   FALSE:582852   \n",
      " Median :     993   Median :     628   Median :1.545e+09   TRUE :240951   \n",
      " Mean   :   20389   Mean   :   29777   Mean   :1.530e+09                  \n",
      " 3rd Qu.:    2630   3rd Qu.:    1693   3rd Qu.:1.587e+09                  \n",
      " Max.   :82777011   Max.   :82690872   Max.   :1.620e+09                  \n",
      " NA's   :18180      NA's   :613887                                        \n",
      "       NA                NA               NA                NA        \n",
      " Min.   :0.00000   Min.   :0.0000   Min.   :0.0      0ther   :305572  \n",
      " 1st Qu.:0.00000   1st Qu.:0.0000   1st Qu.:0.0      Markdown:135720  \n",
      " Median :0.00000   Median :0.0000   Median :0.0      JS      :122758  \n",
      " Mean   :0.05257   Mean   :0.1347   Mean   :0.2      java    : 55382  \n",
      " 3rd Qu.:0.01042   3rd Qu.:0.1556   3rd Qu.:0.3      PY      : 48080  \n",
      " Max.   :1.00000   Max.   :1.0000   Max.   :1.0      php     : 29881  \n",
      "                                    NA's   :582852   (Other) :126410  \n",
      "     c                 cr                br              bcr         \n",
      " Mode :logical   Min.   :0.00000   Min.   :0.0000   Min.   :0.00000  \n",
      " FALSE:582852    1st Qu.:0.00000   1st Qu.:0.0000   1st Qu.:0.00000  \n",
      " TRUE :240951    Median :0.00000   Median :0.0000   Median :0.00000  \n",
      "                 Mean   :0.05257   Mean   :0.1347   Mean   :0.06266  \n",
      "                 3rd Qu.:0.01042   3rd Qu.:0.1556   3rd Qu.:0.00000  \n",
      "                 Max.   :1.00000   Max.   :1.0000   Max.   :1.00000  \n",
      "                                                                     \n",
      "[1] \"2y\"\n",
      "      p                  ncmt             nblob               na          \n",
      " Length:623876      Min.   :      1   Min.   :      1   Min.   :    1.00  \n",
      " Class :character   1st Qu.:      2   1st Qu.:      7   1st Qu.:    1.00  \n",
      " Mode  :character   Median :      5   Median :     27   Median :    1.00  \n",
      "                    Mean   :     61   Mean   :    434   Mean   :    2.52  \n",
      "                    3rd Qu.:     14   3rd Qu.:     98   3rd Qu.:    2.00  \n",
      "                    Max.   :6129261   Max.   :5332329   Max.   :40930.00  \n",
      "                                                                          \n",
      "     ncore                nmc               nf                  cs         \n",
      " Min.   :    1.000   Min.   :  0.00   Min.   :      1.0   Min.   :    1.0  \n",
      " 1st Qu.:    1.000   1st Qu.:  1.00   1st Qu.:      4.0   1st Qu.:    1.0  \n",
      " Median :    1.000   Median :  1.00   Median :     18.0   Median :    1.0  \n",
      " Mean   :    1.642   Mean   :  2.52   Mean   :    447.3   Mean   :    2.5  \n",
      " 3rd Qu.:    1.000   3rd Qu.:  2.00   3rd Qu.:     71.0   3rd Qu.:    1.0  \n",
      " Max.   :26847.000   Max.   :288.00   Max.   :2671945.0   Max.   :82386.0  \n",
      "                                                                           \n",
      "      nfr                 gm                  gf                  et           \n",
      " Min.   :    0.00   Min.   :    0.000   Min.   :    0.000   Min.   :3.158e+08  \n",
      " 1st Qu.:    0.00   1st Qu.:    0.000   1st Qu.:    0.000   1st Qu.:1.469e+09  \n",
      " Median :    0.00   Median :    1.000   Median :    0.000   Median :1.521e+09  \n",
      " Mean   :    1.53   Mean   :    1.392   Mean   :    0.314   Mean   :1.505e+09  \n",
      " 3rd Qu.:    0.00   3rd Qu.:    1.000   3rd Qu.:    0.000   3rd Qu.:1.557e+09  \n",
      " Max.   :72162.00   Max.   :24613.000   Max.   :15832.000   Max.   :1.631e+09  \n",
      " NA's   :172                                                NA's   :13         \n",
      "       lt                  ns                 l                   nb         \n",
      " Min.   :8.536e+08   Min.   :     0.00   Length:623876      Min.   :      1  \n",
      " 1st Qu.:1.480e+09   1st Qu.:     0.00   Class :character   1st Qu.:      4  \n",
      " Median :1.531e+09   Median :     0.00   Mode  :character   Median :     14  \n",
      " Mean   :1.518e+09   Mean   :     3.35                      Mean   :    165  \n",
      " 3rd Qu.:1.567e+09   3rd Qu.:     0.00                      3rd Qu.:     51  \n",
      " Max.   :5.701e+09   Max.   :105423.00                      Max.   :3331383  \n",
      " NA's   :13                                                                  \n",
      "       cc                 bc               bcc                 ad         \n",
      " Min.   :     0.0   Min.   :      0   Min.   :    0.00   Min.   :    1.0  \n",
      " 1st Qu.:     0.0   1st Qu.:      0   1st Qu.:    0.00   1st Qu.:    1.0  \n",
      " Median :     0.0   Median :      0   Median :    0.00   Median :    1.3  \n",
      " Mean   :    11.5   Mean   :     42   Mean   :    3.04   Mean   :    6.5  \n",
      " 3rd Qu.:     1.0   3rd Qu.:      4   3rd Qu.:    0.00   3rd Qu.:    2.7  \n",
      " Max.   :453498.0   Max.   :3330978   Max.   :50412.00   Max.   :61031.8  \n",
      "                                                         NA's   :417217   \n",
      "       as                acs                ebt                NA         \n",
      " Min.   :       3   Min.   :       3   Min.   :0.000e+00   Mode :logical  \n",
      " 1st Qu.:     442   1st Qu.:     220   1st Qu.:1.470e+09   FALSE:417217   \n",
      " Median :     971   Median :     582   Median :1.522e+09   TRUE :206659   \n",
      " Mean   :   18176   Mean   :   29436   Mean   :1.506e+09                  \n",
      " 3rd Qu.:    2407   3rd Qu.:    1568   3rd Qu.:1.557e+09                  \n",
      " Max.   :82777011   Max.   :82690872   Max.   :1.588e+09                  \n",
      " NA's   :15363      NA's   :442533                                        \n",
      "       NA               NA               NA                NA        \n",
      " Min.   :0.0000   Min.   :0.0000   Min.   :0.0      0ther   :237508  \n",
      " 1st Qu.:0.0000   1st Qu.:0.0000   1st Qu.:0.0      Markdown:102393  \n",
      " Median :0.0000   Median :0.0000   Median :0.0      JS      : 86081  \n",
      " Mean   :0.0598   Mean   :0.1407   Mean   :0.2      java    : 43185  \n",
      " 3rd Qu.:0.0211   3rd Qu.:0.1667   3rd Qu.:0.3      PY      : 34272  \n",
      " Max.   :1.0000   Max.   :1.0000   Max.   :1.0      php     : 24672  \n",
      "                                   NA's   :417217   (Other) : 95765  \n",
      "     c                 cr               br              bcr         \n",
      " Mode :logical   Min.   :0.0000   Min.   :0.0000   Min.   :0.00000  \n",
      " FALSE:417217    1st Qu.:0.0000   1st Qu.:0.0000   1st Qu.:0.00000  \n",
      " TRUE :206659    Median :0.0000   Median :0.0000   Median :0.00000  \n",
      "                 Mean   :0.0598   Mean   :0.1407   Mean   :0.07071  \n",
      "                 3rd Qu.:0.0211   3rd Qu.:0.1667   3rd Qu.:0.00000  \n",
      "                 Max.   :1.0000   Max.   :1.0000   Max.   :1.00000  \n",
      "                                                                    \n"
     ]
    }
   ],
   "source": [
    "for(i in 1:3) {\n",
    "    print(names(x)[i])\n",
    "    print(summary(x[[i]]))\n",
    "}"
   ]
  },
  {
   "cell_type": "markdown",
   "id": "47a2192e",
   "metadata": {},
   "source": [
    "### 1. What fraction of projects have copied blobs?"
   ]
  },
  {
   "cell_type": "code",
   "execution_count": 128,
   "id": "7d384f30",
   "metadata": {
    "scrolled": true
   },
   "outputs": [
    {
     "name": "stdout",
     "output_type": "stream",
     "text": [
      "[1] \"All\"               \"0.318064320711147\"\n",
      "[1] \"1y\"               \"0.29248618905248\"\n",
      "[1] \"2y\"                \"0.331250120216197\"\n"
     ]
    }
   ],
   "source": [
    "for(i in 1:3) {\n",
    "    print(c(names(x)[i],sum(x[[i]]$c)/dim(x[[i]])[1]))\n",
    "}"
   ]
  },
  {
   "cell_type": "markdown",
   "id": "044a997d",
   "metadata": {},
   "source": [
    "### 2. Does propensity to copy vary by language?"
   ]
  },
  {
   "cell_type": "code",
   "execution_count": 129,
   "id": "df00c597",
   "metadata": {},
   "outputs": [
    {
     "name": "stdout",
     "output_type": "stream",
     "text": [
      "[1] \"1y\"\n",
      "                Df Sum Sq Mean Sq F value Pr(>F)    \n",
      "ll              20   8613   430.7    2192 <2e-16 ***\n",
      "Residuals   823782 161863     0.2                   \n",
      "---\n",
      "Signif. codes:  0 '***' 0.001 '**' 0.01 '*' 0.05 '.' 0.1 ' ' 1\n",
      "[1] \"2y\"\n",
      "                Df Sum Sq Mean Sq F value Pr(>F)    \n",
      "ll              20   7224   361.2    1720 <2e-16 ***\n",
      "Residuals   623855 130979     0.2                   \n",
      "---\n",
      "Signif. codes:  0 '***' 0.001 '**' 0.01 '*' 0.05 '.' 0.1 ' ' 1\n"
     ]
    }
   ],
   "source": [
    "for(i in 2:3){\n",
    "    print(names(x)[i])\n",
    "    test=aov(c ~ ll, data=x[[i]])\n",
    "    print(summary(test));\n",
    "}"
   ]
  },
  {
   "cell_type": "markdown",
   "id": "1b6f100d",
   "metadata": {},
   "source": [
    "#### 2.1. Which languages are different?"
   ]
  },
  {
   "cell_type": "code",
   "execution_count": 447,
   "id": "4b293099",
   "metadata": {
    "scrolled": false
   },
   "outputs": [
    {
     "name": "stdout",
     "output_type": "stream",
     "text": [
      "[1] \"2y\"\n",
      "[1] \"0ther\"                 \"0.354514374252657\"     \"t: 30.431312 0.000000\"\n",
      "[1] \"C\"                    \"0.332554692062351\"    \"t: 0.420724 0.673960\"\n",
      "[1] \"CSS\"                   \"0.328758577666875\"     \"t: -0.477873 0.632753\"\n",
      "[1] \"Cs\"                    \"0.370690232309031\"     \"t: 10.107634 0.000000\"\n",
      "[1] \"Fml\"                   \"0.320512820512821\"     \"t: -0.787390 0.431213\"\n",
      "[1] \"Go\"                    \"0.313956340446407\"     \"t: -2.386601 0.017050\"\n",
      "[1] \"JS\"                    \"0.412692696413843\"     \"t: 52.657866 0.000000\"\n",
      "[1] \"Kotlin\"               \"0.400225479143179\"    \"t: 5.937019 0.000000\"\n",
      "[1] \"Markdown\"                \"0.116931821511236\"      \n",
      "[3] \"t: -212.408878 0.000000\"\n",
      "[1] \"ObjectiveC\"           \"0.400234741784038\"    \"t: 9.222776 0.000000\"\n",
      "[1] \"PY\"                    \"0.322683239962652\"     \"t: -3.488192 0.000487\"\n",
      "[1] \"R\"                     \"0.28483396097227\"      \"t: -5.569183 0.000000\"\n",
      "[1] \"Rust\"                  \"0.315217391304348\"     \"t: -1.147067 0.251602\"\n",
      "[1] \"Scala\"                \"0.36073500967118\"     \"t: 1.975103 0.048522\"\n",
      "[1] \"Sql\"                    \"0.203301476976542\"      \"t: -10.787513 0.000000\"\n",
      "[1] \"Swift\"                \"0.378937244529935\"    \"t: 6.361074 0.000000\"\n",
      "[1] \"TypeScript\"            \"0.623650450908167\"     \"t: 53.911454 0.000000\"\n",
      "[1] \"ipy\"                    \"0.209455128205128\"      \"t: -23.720484 0.000000\"\n",
      "[1] \"java\"                  \"0.362185944193586\"     \"t: 13.885329 0.000000\"\n",
      "[1] \"php\"                   \"0.464494163424125\"     \"t: 42.917845 0.000000\"\n",
      "[1] \"rb\"                    \"0.512272635066604\"     \"t: 44.634776 0.000000\"\n"
     ]
    }
   ],
   "source": [
    "sv=0.005\n",
    "for(i in 3:3){\n",
    "    print(names(x)[i])\n",
    "    for(l in ty){ \n",
    "        test=t.test(x[[i]][x[[i]]$ll==l,\"c\"],x[[i]][x[[i]]$ll!=l,\"c\"])\n",
    "        mean=sum(x[[i]][x[[i]]$ll==l,\"c\"])/dim(x[[i]][x[[i]]$ll==l,])[1]\n",
    "        print(c(l,mean,sprintf(\"t: %f %f\",test$statistic, test$p.value)))        \n",
    "    }\n",
    "}"
   ]
  },
  {
   "cell_type": "code",
   "execution_count": 448,
   "id": "ee4cd331",
   "metadata": {
    "scrolled": false
   },
   "outputs": [
    {
     "name": "stdout",
     "output_type": "stream",
     "text": [
      "[1] \"2y\"\n",
      "\n",
      "Call:\n",
      "glm(formula = c ~ ll, family = binomial, data = x[[i]])\n",
      "\n",
      "Deviance Residuals: \n",
      "    Min       1Q   Median       3Q      Max  \n",
      "-1.3980  -0.9357  -0.8827   1.3304   2.0718  \n",
      "\n",
      "Coefficients:\n",
      "              Estimate Std. Error  z value Pr(>|z|)    \n",
      "(Intercept)  -0.599254   0.004289 -139.704  < 2e-16 ***\n",
      "llC          -0.097399   0.014859   -6.555 5.56e-11 ***\n",
      "llCSS        -0.114551   0.024162   -4.741 2.13e-06 ***\n",
      "llCs          0.069997   0.017475    4.005 6.19e-05 ***\n",
      "llFml        -0.152162   0.062793   -2.423  0.01538 *  \n",
      "llGo         -0.182433   0.034017   -5.363 8.19e-08 ***\n",
      "llJS          0.246409   0.008144   30.256  < 2e-16 ***\n",
      "llKotlin      0.194728   0.048649    4.003 6.26e-05 ***\n",
      "llMarkdown   -1.422557   0.010629 -133.836  < 2e-16 ***\n",
      "llObjectiveC  0.194767   0.031564    6.171 6.81e-10 ***\n",
      "llPY         -0.142214   0.012325  -11.539  < 2e-16 ***\n",
      "llR          -0.321354   0.041219   -7.796 6.38e-15 ***\n",
      "llRust       -0.176585   0.064921   -2.720  0.00653 ** \n",
      "llScala       0.027079   0.064902    0.417  0.67651    \n",
      "llSql        -0.766532   0.073365  -10.448  < 2e-16 ***\n",
      "llSwift       0.105193   0.032250    3.262  0.00111 ** \n",
      "llTypeScript  1.104326   0.023655   46.685  < 2e-16 ***\n",
      "llipy        -0.728959   0.031404  -23.212  < 2e-16 ***\n",
      "lljava        0.033365   0.010892    3.063  0.00219 ** \n",
      "llphp         0.456991   0.013467   33.935  < 2e-16 ***\n",
      "llrb          0.648354   0.017001   38.136  < 2e-16 ***\n",
      "---\n",
      "Signif. codes:  0 '***' 0.001 '**' 0.01 '*' 0.05 '.' 0.1 ' ' 1\n",
      "\n",
      "(Dispersion parameter for binomial family taken to be 1)\n",
      "\n",
      "    Null deviance: 792398  on 623875  degrees of freedom\n",
      "Residual deviance: 756210  on 623855  degrees of freedom\n",
      "AIC: 756252\n",
      "\n",
      "Number of Fisher Scoring iterations: 4\n",
      "\n"
     ]
    }
   ],
   "source": [
    "for(i in 3:3) {\n",
    "    print(names(x)[i])\n",
    "    glm=glm(c~ll, data=x[[i]], family=binomial)\n",
    "    print(summary(glm))\n",
    "}"
   ]
  },
  {
   "cell_type": "markdown",
   "id": "72742b5f",
   "metadata": {},
   "source": [
    "### 3. Does copied blobs ratio differ by language?"
   ]
  },
  {
   "cell_type": "code",
   "execution_count": 451,
   "id": "1c74707d",
   "metadata": {},
   "outputs": [
    {
     "name": "stdout",
     "output_type": "stream",
     "text": [
      "[1] \"All\"                \"0.0608813527850081\"\n",
      "[1] \"1y\"                 \"0.0525710314357137\"\n",
      "[1] \"2y\"                \"0.059803944369165\"\n"
     ]
    }
   ],
   "source": [
    "for(i in 1:3){\n",
    "    mean=sum(x[[i]]$cr)/dim(x[[i]])[1]\n",
    "    print(c(names(x)[i],mean))\n",
    "}"
   ]
  },
  {
   "cell_type": "code",
   "execution_count": 131,
   "id": "c07a1f10",
   "metadata": {
    "scrolled": true
   },
   "outputs": [
    {
     "name": "stdout",
     "output_type": "stream",
     "text": [
      "[1] \"1y\"\n",
      "                Df Sum Sq Mean Sq F value Pr(>F)    \n",
      "ll              20    118   5.878   230.9 <2e-16 ***\n",
      "Residuals   823782  20976   0.025                   \n",
      "---\n",
      "Signif. codes:  0 '***' 0.001 '**' 0.01 '*' 0.05 '.' 0.1 ' ' 1\n",
      "[1] \"2y\"\n",
      "                Df Sum Sq Mean Sq F value Pr(>F)    \n",
      "ll              20     67   3.337   118.2 <2e-16 ***\n",
      "Residuals   623855  17617   0.028                   \n",
      "---\n",
      "Signif. codes:  0 '***' 0.001 '**' 0.01 '*' 0.05 '.' 0.1 ' ' 1\n"
     ]
    }
   ],
   "source": [
    "for(i in 2:3){\n",
    "    print(names(x)[i])\n",
    "    test=aov(cr ~ ll, data=x[[i]])\n",
    "    print(summary(test));\n",
    "}"
   ]
  },
  {
   "cell_type": "markdown",
   "id": "9fdf37ca",
   "metadata": {},
   "source": [
    "#### 3.1. Which languages are different?"
   ]
  },
  {
   "cell_type": "code",
   "execution_count": 452,
   "id": "af80ddba",
   "metadata": {
    "scrolled": false
   },
   "outputs": [
    {
     "name": "stdout",
     "output_type": "stream",
     "text": [
      "[1] \"2y\"\n",
      "[1] \"0ther\"                 \"0.0668074657317744\"    \"t: 25.324852 0.000000\"\n",
      "[1] \"C\"                     \"0.0574663555703928\"    \"t: -2.162675 0.030576\"\n",
      "[1] \"CSS\"                   \"0.097748145248851\"     \"t: 15.326840 0.000000\"\n",
      "[1] \"Cs\"                     \"0.0432788160719275\"     \"t: -14.945456 0.000000\"\n",
      "[1] \"Fml\"                   \"0.0325978521672272\"    \"t: -8.673058 0.000000\"\n",
      "[1] \"Go\"                     \"0.0407526539301348\"     \"t: -10.082458 0.000000\"\n",
      "[1] \"JS\"                   \"0.0620186215381198\"   \"t: 4.376852 0.000012\"\n",
      "[1] \"Kotlin\"                \"0.0336586514689889\"    \"t: -9.675417 0.000000\"\n",
      "[1] \"Markdown\"               \"0.0473323457508163\"     \"t: -24.707228 0.000000\"\n",
      "[1] \"ObjectiveC\"            \"0.0565318053931747\"    \"t: -1.446284 0.148170\"\n",
      "[1] \"PY\"                     \"0.0474306365439212\"     \"t: -16.315072 0.000000\"\n",
      "[1] \"R\"                     \"0.0585286982359239\"    \"t: -0.416818 0.676842\"\n",
      "[1] \"Rust\"                  \"0.0305404604237794\"    \"t: -9.273970 0.000000\"\n",
      "[1] \"Scala\"                 \"0.031235869492959\"     \"t: -9.185973 0.000000\"\n",
      "[1] \"Sql\"                  \"0.0644643867835498\"   \"t: 0.802956 0.422165\"\n",
      "[1] \"Swift\"                 \"0.0417619793216124\"    \"t: -9.599168 0.000000\"\n",
      "[1] \"TypeScript\"           \"0.0707294454841545\"   \"t: 6.516792 0.000000\"\n",
      "[1] \"ipy\"                   \"0.0519323651246952\"    \"t: -3.883916 0.000104\"\n",
      "[1] \"java\"                   \"0.0522338559246776\"     \"t: -10.508451 0.000000\"\n",
      "[1] \"php\"                   \"0.0768492702599332\"    \"t: 15.130414 0.000000\"\n",
      "[1] \"rb\"                   \"0.0609075124623016\"   \"t: 0.951676 0.341276\"\n"
     ]
    }
   ],
   "source": [
    "sv=0.005\n",
    "for(i in 3:3){\n",
    "    print(names(x)[i])\n",
    "    for(l in ty){ \n",
    "        test=t.test(x[[i]][x[[i]]$ll==l,\"cr\"],x[[i]][x[[i]]$ll!=l,\"cr\"])\n",
    "        mean=sum(x[[i]][x[[i]]$ll==l,\"cr\"])/dim(x[[i]][x[[i]]$ll==l,])[1]\n",
    "        print(c(l,mean,sprintf(\"t: %f %f\",test$statistic, test$p.value)))\n",
    "    }\n",
    "}"
   ]
  },
  {
   "cell_type": "code",
   "execution_count": 436,
   "id": "568759e9",
   "metadata": {
    "scrolled": false
   },
   "outputs": [
    {
     "name": "stdout",
     "output_type": "stream",
     "text": [
      "[1] \"1y\"\n",
      "\n",
      "Call:\n",
      "lm(formula = cr ~ ll, data = x[[i]])\n",
      "\n",
      "Residuals:\n",
      "     Min       1Q   Median       3Q      Max \n",
      "-0.09212 -0.06023 -0.04449 -0.03555  0.97688 \n",
      "\n",
      "Coefficients:\n",
      "               Estimate Std. Error t value Pr(>|t|)    \n",
      "(Intercept)   0.0602310  0.0002887 208.653  < 2e-16 ***\n",
      "llC          -0.0126833  0.0010137 -12.512  < 2e-16 ***\n",
      "llCSS         0.0318918  0.0014159  22.523  < 2e-16 ***\n",
      "llCs         -0.0219777  0.0011857 -18.535  < 2e-16 ***\n",
      "llFml        -0.0322901  0.0043768  -7.378 1.61e-13 ***\n",
      "llGo         -0.0283086  0.0021980 -12.879  < 2e-16 ***\n",
      "llJS         -0.0010494  0.0005392  -1.946 0.051645 .  \n",
      "llKotlin     -0.0276177  0.0029787  -9.272  < 2e-16 ***\n",
      "llMarkdown   -0.0246830  0.0005205 -47.420  < 2e-16 ***\n",
      "llObjectiveC -0.0130377  0.0023493  -5.550 2.87e-08 ***\n",
      "llPY         -0.0206444  0.0007829 -26.369  < 2e-16 ***\n",
      "llR          -0.0121334  0.0026395  -4.597 4.29e-06 ***\n",
      "llRust       -0.0345624  0.0040350  -8.566  < 2e-16 ***\n",
      "llScala      -0.0371121  0.0046680  -7.950 1.86e-15 ***\n",
      "llSql        -0.0020270  0.0040634  -0.499 0.617879    \n",
      "llSwift      -0.0252061  0.0022096 -11.408  < 2e-16 ***\n",
      "llTypeScript  0.0017468  0.0014482   1.206 0.227753    \n",
      "llipy        -0.0177359  0.0015748 -11.262  < 2e-16 ***\n",
      "lljava       -0.0157448  0.0007369 -21.365  < 2e-16 ***\n",
      "llphp         0.0079065  0.0009672   8.175 2.97e-16 ***\n",
      "llrb         -0.0048872  0.0012905  -3.787 0.000153 ***\n",
      "---\n",
      "Signif. codes:  0 '***' 0.001 '**' 0.01 '*' 0.05 '.' 0.1 ' ' 1\n",
      "\n",
      "Residual standard error: 0.1596 on 823782 degrees of freedom\n",
      "Multiple R-squared:  0.005574,\tAdjusted R-squared:  0.005549 \n",
      "F-statistic: 230.9 on 20 and 823782 DF,  p-value: < 2.2e-16\n",
      "\n",
      "[1] \"2y\"\n",
      "\n",
      "Call:\n",
      "lm(formula = cr ~ ll, data = x[[i]])\n",
      "\n",
      "Residuals:\n",
      "     Min       1Q   Median       3Q      Max \n",
      "-0.09775 -0.06681 -0.05181 -0.03729  0.96946 \n",
      "\n",
      "Coefficients:\n",
      "               Estimate Std. Error t value Pr(>|t|)    \n",
      "(Intercept)   0.0668075  0.0003448 193.751  < 2e-16 ***\n",
      "llC          -0.0093411  0.0011779  -7.930 2.19e-15 ***\n",
      "llCSS         0.0309407  0.0019084  16.213  < 2e-16 ***\n",
      "llCs         -0.0235286  0.0014175 -16.598  < 2e-16 ***\n",
      "llFml        -0.0342096  0.0049249  -6.946 3.75e-12 ***\n",
      "llGo         -0.0260548  0.0026543  -9.816  < 2e-16 ***\n",
      "llJS         -0.0047888  0.0006685  -7.163 7.89e-13 ***\n",
      "llKotlin     -0.0331488  0.0040046  -8.278  < 2e-16 ***\n",
      "llMarkdown   -0.0194751  0.0006282 -31.000  < 2e-16 ***\n",
      "llObjectiveC -0.0102757  0.0025976  -3.956 7.63e-05 ***\n",
      "llPY         -0.0193768  0.0009710 -19.956  < 2e-16 ***\n",
      "llR          -0.0082788  0.0031283  -2.646  0.00814 ** \n",
      "llRust       -0.0362670  0.0050692  -7.154 8.42e-13 ***\n",
      "llScala      -0.0355716  0.0052372  -6.792 1.11e-11 ***\n",
      "llSql        -0.0023431  0.0049651  -0.472  0.63699    \n",
      "llSwift      -0.0250455  0.0026284  -9.529  < 2e-16 ***\n",
      "llTypeScript  0.0039220  0.0019250   2.037  0.04161 *  \n",
      "llipy        -0.0148751  0.0021551  -6.902 5.12e-12 ***\n",
      "lljava       -0.0145736  0.0008791 -16.578  < 2e-16 ***\n",
      "llphp         0.0100418  0.0011240   8.934  < 2e-16 ***\n",
      "llrb         -0.0059000  0.0014242  -4.143 3.43e-05 ***\n",
      "---\n",
      "Signif. codes:  0 '***' 0.001 '**' 0.01 '*' 0.05 '.' 0.1 ' ' 1\n",
      "\n",
      "Residual standard error: 0.168 on 623855 degrees of freedom\n",
      "Multiple R-squared:  0.003775,\tAdjusted R-squared:  0.003743 \n",
      "F-statistic: 118.2 on 20 and 623855 DF,  p-value: < 2.2e-16\n",
      "\n"
     ]
    }
   ],
   "source": [
    "for(i in 2:3) {\n",
    "    print(names(x)[i])\n",
    "    lm=lm(cr~ll, data=x[[i]])\n",
    "    print(summary(lm))\n",
    "}"
   ]
  },
  {
   "cell_type": "markdown",
   "id": "5b5129bc",
   "metadata": {},
   "source": [
    "### 4. Are binary blobs being copied more?"
   ]
  },
  {
   "cell_type": "code",
   "execution_count": 89,
   "id": "074f308f",
   "metadata": {
    "scrolled": false
   },
   "outputs": [
    {
     "name": "stdout",
     "output_type": "stream",
     "text": [
      "[1] \"1y\"\n",
      "\n",
      "\tWelch Two Sample t-test\n",
      "\n",
      "data:  x[[i]]$bcr and x[[i]]$br\n",
      "t = 99.91, df = 308790, p-value < 2.2e-16\n",
      "alternative hypothesis: true difference in means is not equal to 0\n",
      "95 percent confidence interval:\n",
      " 0.07799839 0.08111986\n",
      "sample estimates:\n",
      "mean of x mean of y \n",
      "0.2142382 0.1346790 \n",
      "\n",
      "[1] \"2y\"\n",
      "\n",
      "\tWelch Two Sample t-test\n",
      "\n",
      "data:  x[[i]]$bcr and x[[i]]$br\n",
      "t = 84.408, df = 277783, p-value < 2.2e-16\n",
      "alternative hypothesis: true difference in means is not equal to 0\n",
      "95 percent confidence interval:\n",
      " 0.07109495 0.07447513\n",
      "sample estimates:\n",
      "mean of x mean of y \n",
      "0.2134628 0.1406778 \n",
      "\n"
     ]
    }
   ],
   "source": [
    "for(i in 2:3) {\n",
    "    print(names(x)[i])\n",
    "    print(t.test(x[[i]]$bcr,x[[i]]$br))\n",
    "}"
   ]
  },
  {
   "cell_type": "markdown",
   "id": "a06c7002",
   "metadata": {},
   "source": [
    "#### 4.1. Is this the case for all languages?"
   ]
  },
  {
   "cell_type": "code",
   "execution_count": 21,
   "id": "c801f980",
   "metadata": {},
   "outputs": [
    {
     "data": {
      "text/html": [
       "<strong>mean of x:</strong> 0.0758960414856814"
      ],
      "text/latex": [
       "\\textbf{mean of x:} 0.0758960414856814"
      ],
      "text/markdown": [
       "**mean of x:** 0.0758960414856814"
      ],
      "text/plain": [
       " mean of x \n",
       "0.07589604 "
      ]
     },
     "metadata": {},
     "output_type": "display_data"
    }
   ],
   "source": [
    "test$estimate[1]"
   ]
  },
  {
   "cell_type": "code",
   "execution_count": 4,
   "id": "e5d6faad",
   "metadata": {
    "scrolled": true
   },
   "outputs": [
    {
     "name": "stdout",
     "output_type": "stream",
     "text": [
      "[1] \"2y\"\n",
      "[1] \"0ther\"                                 \n",
      "[2] \"br: 0.224816 bcr: 0.276575 p: 0.000000\"\n",
      "[1] \"C\"                                     \n",
      "[2] \"br: 0.110686 bcr: 0.155031 p: 0.000000\"\n",
      "[1] \"CSS\"                                   \n",
      "[2] \"br: 0.234134 bcr: 0.544244 p: 0.000000\"\n",
      "[1] \"Cs\"                                    \n",
      "[2] \"br: 0.109747 bcr: 0.211713 p: 0.000000\"\n",
      "[1] \"Fml\"                                   \n",
      "[2] \"br: 0.045198 bcr: 0.074478 p: 0.017064\"\n",
      "[1] \"Go\"                                    \n",
      "[2] \"br: 0.037749 bcr: 0.061179 p: 0.000152\"\n",
      "[1] \"JS\"                                    \n",
      "[2] \"br: 0.054302 bcr: 0.142895 p: 0.000000\"\n",
      "[1] \"Kotlin\"                                \n",
      "[2] \"br: 0.058776 bcr: 0.124781 p: 0.000000\"\n",
      "[1] \"Markdown\"                              \n",
      "[2] \"br: 0.075642 bcr: 0.206201 p: 0.000000\"\n",
      "[1] \"ObjectiveC\"                            \n",
      "[2] \"br: 0.150880 bcr: 0.228701 p: 0.000000\"\n",
      "[1] \"PY\"                                    \n",
      "[2] \"br: 0.137531 bcr: 0.146907 p: 0.003515\"\n",
      "[1] \"R\"                                     \n",
      "[2] \"br: 0.110085 bcr: 0.175527 p: 0.000000\"\n",
      "[1] \"Rust\"                                  \n",
      "[2] \"br: 0.035502 bcr: 0.108275 p: 0.000003\"\n",
      "[1] \"Scala\"                                 \n",
      "[2] \"br: 0.043240 bcr: 0.087535 p: 0.001091\"\n",
      "[1] \"Sql\"                                   \n",
      "[2] \"br: 0.152535 bcr: 0.254483 p: 0.000125\"\n",
      "[1] \"Swift\"                                 \n",
      "[2] \"br: 0.126007 bcr: 0.209574 p: 0.000000\"\n",
      "[1] \"TypeScript\"                            \n",
      "[2] \"br: 0.028174 bcr: 0.060414 p: 0.000000\"\n",
      "[1] \"ipy\"                                   \n",
      "[2] \"br: 0.123285 bcr: 0.251832 p: 0.000000\"\n",
      "[1] \"java\"                                  \n",
      "[2] \"br: 0.124513 bcr: 0.195639 p: 0.000000\"\n",
      "[1] \"php\"                                   \n",
      "[2] \"br: 0.087544 bcr: 0.213859 p: 0.000000\"\n",
      "[1] \"rb\"                                    \n",
      "[2] \"br: 0.045315 bcr: 0.075896 p: 0.000000\"\n"
     ]
    }
   ],
   "source": [
    "sv=0.005\n",
    "for(i in 3:3){\n",
    "    print(names(x)[i])\n",
    "    for(l in ty){\n",
    "        data=x[[i]][x[[i]]$ll==l,]\n",
    "        n=dim(data)[1]\n",
    "        test=t.test(data$br,data$bcr)\n",
    "        print(c(l,sprintf(\"br: %f bcr: %f p: %f\",\n",
    "                          test$estimate[1],\n",
    "                          test$estimate[2],\n",
    "                          test$p.value)))\n",
    "    }\n",
    "}"
   ]
  },
  {
   "cell_type": "markdown",
   "id": "bd21b6c9",
   "metadata": {},
   "source": [
    "### 4. Does binary blob copy ratio differ by language?"
   ]
  },
  {
   "cell_type": "code",
   "execution_count": 418,
   "id": "7b71278a",
   "metadata": {},
   "outputs": [
    {
     "name": "stdout",
     "output_type": "stream",
     "text": [
      "[1] \"1y\"\n",
      "                Df Sum Sq Mean Sq F value Pr(>F)    \n",
      "ll              20   1587   79.33   619.6 <2e-16 ***\n",
      "Residuals   240930  30847    0.13                   \n",
      "---\n",
      "Signif. codes:  0 '***' 0.001 '**' 0.01 '*' 0.05 '.' 0.1 ' ' 1\n",
      "582852 observations deleted due to missingness\n",
      "[1] \"2y\"\n",
      "                Df Sum Sq Mean Sq F value Pr(>F)    \n",
      "ll              20   1195   59.75   473.6 <2e-16 ***\n",
      "Residuals   206638  26073    0.13                   \n",
      "---\n",
      "Signif. codes:  0 '***' 0.001 '**' 0.01 '*' 0.05 '.' 0.1 ' ' 1\n",
      "417217 observations deleted due to missingness\n"
     ]
    }
   ],
   "source": [
    "for(i in 2:3){\n",
    "    print(names(x)[i])\n",
    "    test=aov(bcr ~ ll, data=x[[i]])\n",
    "    print(summary(test));\n",
    "}"
   ]
  },
  {
   "cell_type": "markdown",
   "id": "af3e78b1",
   "metadata": {},
   "source": [
    "#### 4.1. Which languages are different?"
   ]
  },
  {
   "cell_type": "code",
   "execution_count": 422,
   "id": "8f61deff",
   "metadata": {
    "scrolled": true
   },
   "outputs": [
    {
     "name": "stdout",
     "output_type": "stream",
     "text": [
      "[1] \"1y\"\n",
      "[1] \"C\"                \"0.15647883200667\" \"t: -16.313175\"   \n",
      "[1] \"CSS\"              \"0.53439930042172\" \"t: 44.427040\"    \n",
      "[1] \"Cs\"               \"Not significant!\"\n",
      "[1] \"Fml\"                \"0.0772577394365586\" \"t: -11.139169\"     \n",
      "[1] \"Go\"                 \"0.0622853212577221\" \"t: -26.675567\"     \n",
      "[1] \"JS\"                \"0.136183458586808\" \"t: -58.277499\"    \n",
      "[1] \"Kotlin\"            \"0.128782874556374\" \"t: -9.936099\"     \n",
      "[1] \"Markdown\"          \"0.230244243600899\" \"t: 4.763339\"      \n",
      "[1] \"ObjectiveC\"       \"Not significant!\"\n",
      "[1] \"Other\"             \"0.282266697604368\" \"t: 72.411801\"     \n",
      "[1] \"PY\"                \"0.151788983656584\" \"t: -22.695511\"    \n",
      "[1] \"R\"                \"Not significant!\"\n",
      "[1] \"Rust\"              \"0.101166936395622\" \"t: -8.758388\"     \n",
      "[1] \"Scala\"              \"0.0841104720143495\" \"t: -9.856246\"      \n",
      "[1] \"Sql\"              \"Not significant!\"\n",
      "[1] \"Swift\"            \"Not significant!\"\n",
      "[1] \"TypeScript\"         \"0.0624840032112579\" \"t: -61.309956\"     \n",
      "[1] \"ipy\"              \"Not significant!\"\n",
      "[1] \"java\"              \"0.191161806009049\" \"t: -9.088530\"     \n",
      "[1] \"php\"              \"Not significant!\"\n",
      "[1] \"rb\"                 \"0.0745963173847452\" \"t: -55.591805\"     \n",
      "[1] \"2y\"\n",
      "[1] \"C\"                \"0.15503081958403\" \"t: -16.316185\"   \n",
      "[1] \"CSS\"               \"0.544243554825588\" \"t: 38.487584\"     \n",
      "[1] \"Cs\"               \"Not significant!\"\n",
      "[1] \"Fml\"                \"0.0744775569639498\" \"t: -11.909163\"     \n",
      "[1] \"Go\"                 \"0.0611786378280883\" \"t: -25.669725\"     \n",
      "[1] \"JS\"                \"0.142894717915583\" \"t: -45.441924\"    \n",
      "[1] \"Kotlin\"            \"0.124781107544662\" \"t: -8.365349\"     \n",
      "[1] \"Markdown\"         \"Not significant!\"\n",
      "[1] \"ObjectiveC\"       \"Not significant!\"\n",
      "[1] \"Other\"             \"0.276574958047474\" \"t: 64.067288\"     \n",
      "[1] \"PY\"                \"0.146906521892213\" \"t: -23.016201\"    \n",
      "[1] \"R\"                 \"0.175527404152183\" \"t: -3.345639\"     \n",
      "[1] \"Rust\"              \"0.108275049105087\" \"t: -7.092793\"     \n",
      "[1] \"Scala\"              \"0.0875350124005359\" \"t: -9.841263\"      \n",
      "[1] \"Sql\"              \"Not significant!\"\n",
      "[1] \"Swift\"            \"Not significant!\"\n",
      "[1] \"TypeScript\"         \"0.0604136377789758\" \"t: -53.789260\"     \n",
      "[1] \"ipy\"               \"0.251831547498951\" \"t: 3.653948\"      \n",
      "[1] \"java\"              \"0.195639191811874\" \"t: -6.726278\"     \n",
      "[1] \"php\"              \"Not significant!\"\n",
      "[1] \"rb\"                 \"0.0758960414856814\" \"t: -54.308836\"     \n"
     ]
    }
   ],
   "source": [
    "sv=0.005\n",
    "for(i in 2:3){\n",
    "    print(names(x)[i])\n",
    "    for(l in ty){\n",
    "        t1=x[[i]][x[[i]]$ll==l,\"bcr\"]\n",
    "        test=t.test(t1,x[[i]][x[[i]]$ll!=l,\"bcr\"])\n",
    "        if(test$p.value<sv){\n",
    "            mean=sum(t1,na.rm=TRUE)/(dim(x[[i]][x[[i]]$ll==l,])[1]-sum(is.na(t1)))\n",
    "            print(c(l,mean,sprintf(\"t: %f\",test$statistic)))\n",
    "        }else{\n",
    "            print(c(l,\"Not significant!\"))\n",
    "        }\n",
    "        \n",
    "    }\n",
    "}"
   ]
  },
  {
   "cell_type": "code",
   "execution_count": 437,
   "id": "43a7bf2a",
   "metadata": {
    "scrolled": true
   },
   "outputs": [
    {
     "name": "stdout",
     "output_type": "stream",
     "text": [
      "[1] \"1y\"\n",
      "\n",
      "Call:\n",
      "lm(formula = bcr ~ ll, data = x[[i]])\n",
      "\n",
      "Residuals:\n",
      "     Min       1Q   Median       3Q      Max \n",
      "-0.53440 -0.23514 -0.13618  0.09067  0.93771 \n",
      "\n",
      "Coefficients:\n",
      "              Estimate Std. Error t value Pr(>|t|)    \n",
      "(Intercept)   0.282267   0.001153 244.779  < 2e-16 ***\n",
      "llC          -0.125788   0.004224 -29.778  < 2e-16 ***\n",
      "llCSS         0.252133   0.005900  42.734  < 2e-16 ***\n",
      "llCs         -0.079614   0.004642 -17.150  < 2e-16 ***\n",
      "llFml        -0.205009   0.018588 -11.029  < 2e-16 ***\n",
      "llGo         -0.219981   0.009458 -23.260  < 2e-16 ***\n",
      "llJS         -0.146083   0.002022 -72.232  < 2e-16 ***\n",
      "llKotlin     -0.153484   0.010560 -14.535  < 2e-16 ***\n",
      "llMarkdown   -0.052022   0.003352 -15.518  < 2e-16 ***\n",
      "llObjectiveC -0.047129   0.008986  -5.244 1.57e-07 ***\n",
      "llPY         -0.130478   0.003367 -38.753  < 2e-16 ***\n",
      "llR          -0.087899   0.012076  -7.279 3.38e-13 ***\n",
      "llRust       -0.181100   0.017059 -10.616  < 2e-16 ***\n",
      "llScala      -0.198156   0.018816 -10.531  < 2e-16 ***\n",
      "llSql        -0.041675   0.021415  -1.946   0.0516 .  \n",
      "llSwift      -0.073845   0.008633  -8.554  < 2e-16 ***\n",
      "llTypeScript -0.219783   0.004410 -49.833  < 2e-16 ***\n",
      "llipy        -0.047364   0.008392  -5.644 1.66e-08 ***\n",
      "lljava       -0.091105   0.002971 -30.660  < 2e-16 ***\n",
      "llphp        -0.073899   0.003391 -21.792  < 2e-16 ***\n",
      "llrb         -0.207670   0.004222 -49.189  < 2e-16 ***\n",
      "---\n",
      "Signif. codes:  0 '***' 0.001 '**' 0.01 '*' 0.05 '.' 0.1 ' ' 1\n",
      "\n",
      "Residual standard error: 0.3578 on 240930 degrees of freedom\n",
      "  (582852 observations deleted due to missingness)\n",
      "Multiple R-squared:  0.04892,\tAdjusted R-squared:  0.04884 \n",
      "F-statistic: 619.6 on 20 and 240930 DF,  p-value: < 2.2e-16\n",
      "\n",
      "[1] \"2y\"\n",
      "\n",
      "Call:\n",
      "lm(formula = bcr ~ ll, data = x[[i]])\n",
      "\n",
      "Residuals:\n",
      "    Min      1Q  Median      3Q     Max \n",
      "-0.5442 -0.2518 -0.1429  0.0995  0.9396 \n",
      "\n",
      "Coefficients:\n",
      "              Estimate Std. Error t value Pr(>|t|)    \n",
      "(Intercept)   0.276575   0.001224 225.931  < 2e-16 ***\n",
      "llC          -0.121544   0.004306 -28.226  < 2e-16 ***\n",
      "llCSS         0.267669   0.007027  38.089  < 2e-16 ***\n",
      "llCs         -0.064862   0.004928 -13.162  < 2e-16 ***\n",
      "llFml        -0.202097   0.018384 -10.993  < 2e-16 ***\n",
      "llGo         -0.215396   0.010004 -21.531  < 2e-16 ***\n",
      "llJS         -0.133680   0.002247 -59.485  < 2e-16 ***\n",
      "llKotlin     -0.151794   0.013387 -11.339  < 2e-16 ***\n",
      "llMarkdown   -0.070374   0.003469 -20.284  < 2e-16 ***\n",
      "llObjectiveC -0.047873   0.008689  -5.509 3.60e-08 ***\n",
      "llPY         -0.129668   0.003593 -36.091  < 2e-16 ***\n",
      "llR          -0.101048   0.012376  -8.165 3.23e-16 ***\n",
      "llRust       -0.168300   0.019081  -8.820  < 2e-16 ***\n",
      "llScala      -0.189040   0.018433 -10.255  < 2e-16 ***\n",
      "llSql        -0.022092   0.023253  -0.950   0.3421    \n",
      "llSwift      -0.067001   0.009031  -7.419 1.19e-13 ***\n",
      "llTypeScript -0.216161   0.005215 -41.449  < 2e-16 ***\n",
      "llipy        -0.024743   0.009901  -2.499   0.0125 *  \n",
      "lljava       -0.080936   0.003093 -26.169  < 2e-16 ***\n",
      "llphp        -0.062716   0.003537 -17.733  < 2e-16 ***\n",
      "llrb         -0.200679   0.004261 -47.100  < 2e-16 ***\n",
      "---\n",
      "Signif. codes:  0 '***' 0.001 '**' 0.01 '*' 0.05 '.' 0.1 ' ' 1\n",
      "\n",
      "Residual standard error: 0.3552 on 206638 degrees of freedom\n",
      "  (417217 observations deleted due to missingness)\n",
      "Multiple R-squared:  0.04383,\tAdjusted R-squared:  0.04373 \n",
      "F-statistic: 473.6 on 20 and 206638 DF,  p-value: < 2.2e-16\n",
      "\n"
     ]
    }
   ],
   "source": [
    "for(i in 2:3) {\n",
    "    print(names(x)[i])\n",
    "    lm=lm(bcr~ll, data=x[[i]])\n",
    "    print(summary(lm))\n",
    "}"
   ]
  },
  {
   "cell_type": "markdown",
   "id": "48099c00",
   "metadata": {},
   "source": [
    "### 5. Does binary blob copy ratio differ by language? (Normalized with binary blob ratio)\n",
    "\n",
    "binary copy ratio / binary blob ratio"
   ]
  },
  {
   "cell_type": "code",
   "execution_count": 393,
   "id": "15e3073a",
   "metadata": {},
   "outputs": [
    {
     "name": "stdout",
     "output_type": "stream",
     "text": [
      "[1] \"1y\"\n",
      "                Df    Sum Sq Mean Sq F value   Pr(>F)    \n",
      "ll              20    274697   13735   5.464 2.68e-14 ***\n",
      "Residuals   144310 362720422    2513                     \n",
      "---\n",
      "Signif. codes:  0 '***' 0.001 '**' 0.01 '*' 0.05 '.' 0.1 ' ' 1\n",
      "679472 observations deleted due to missingness\n",
      "[1] \"2y\"\n",
      "                Df    Sum Sq Mean Sq F value Pr(>F)    \n",
      "ll              20    234371   11719    7.99 <2e-16 ***\n",
      "Residuals   124779 183004790    1467                   \n",
      "---\n",
      "Signif. codes:  0 '***' 0.001 '**' 0.01 '*' 0.05 '.' 0.1 ' ' 1\n",
      "499076 observations deleted due to missingness\n"
     ]
    }
   ],
   "source": [
    "for(i in 2:3){\n",
    "    print(names(x)[i])\n",
    "    test=aov(bcr/br ~ ll, data=x[[i]])\n",
    "    print(summary(test));\n",
    "}"
   ]
  },
  {
   "cell_type": "markdown",
   "id": "bf5dee2d",
   "metadata": {},
   "source": [
    "#### 5.1. Which languages are different?"
   ]
  },
  {
   "cell_type": "code",
   "execution_count": 417,
   "id": "eb9c79e9",
   "metadata": {},
   "outputs": [
    {
     "name": "stdout",
     "output_type": "stream",
     "text": [
      "[1] \"1y\"               \"4.30255631374552\"\n",
      "[1] \"2y\"               \"4.06794982518847\"\n"
     ]
    }
   ],
   "source": [
    "for(i in 2:3){\n",
    "    tmp=x[[i]]$bcr/x[[i]]$br\n",
    "    s=sum(tmp,na.rm=TRUE)/(dim(x[[i]])[1]-sum(is.na(tmp)))\n",
    "    print(c(names(x)[i],s))\n",
    "}"
   ]
  },
  {
   "cell_type": "code",
   "execution_count": 10,
   "id": "9d2956c5",
   "metadata": {
    "scrolled": true
   },
   "outputs": [
    {
     "name": "stdout",
     "output_type": "stream",
     "text": [
      "[1] \"2y\"\n",
      "[1] \"0ther\"                      \"mean: 3.545104 p: 0.000018\"\n",
      "[1] \"C\"                          \"mean: 3.334187 p: 0.001347\"\n",
      "[1] \"CSS\"                        \"mean: 2.541475 p: 0.000000\"\n",
      "[1] \"Cs\"                         \"mean: 4.920427 p: 0.014968\"\n",
      "[1] \"Fml\"                        \"mean: 3.085897 p: 0.305159\"\n",
      "[1] \"Go\"                         \"mean: 5.739548 p: 0.146827\"\n",
      "[1] \"JS\"                         \"mean: 7.048495 p: 0.000000\"\n",
      "[1] \"Kotlin\"                     \"mean: 5.429070 p: 0.104114\"\n",
      "[1] \"Markdown\"                   \"mean: 2.601752 p: 0.000000\"\n",
      "[1] \"ObjectiveC\"                 \"mean: 2.170565 p: 0.000000\"\n",
      "[1] \"PY\"                         \"mean: 2.215426 p: 0.000000\"\n",
      "[1] \"R\"                          \"mean: 2.658706 p: 0.000007\"\n",
      "[1] \"Rust\"                       \"mean: 6.060592 p: 0.130000\"\n",
      "[1] \"Scala\"                      \"mean: 5.383353 p: 0.282328\"\n",
      "[1] \"Sql\"                        \"mean: 1.719792 p: 0.000000\"\n",
      "[1] \"Swift\"                      \"mean: 2.414920 p: 0.000000\"\n",
      "[1] \"TypeScript\"                 \"mean: 5.176178 p: 0.006234\"\n",
      "[1] \"ipy\"                        \"mean: 2.034368 p: 0.000000\"\n",
      "[1] \"java\"                       \"mean: 4.914037 p: 0.000910\"\n",
      "[1] \"php\"                        \"mean: 4.487412 p: 0.079321\"\n",
      "[1] \"rb\"                         \"mean: 3.511326 p: 0.097980\"\n"
     ]
    }
   ],
   "source": [
    "sv=0.005\n",
    "for(i in 3:3){\n",
    "    print(names(x)[i])\n",
    "    for(l in ty){\n",
    "        t1=x[[i]][x[[i]]$ll==l,\"bcr\"]/x[[i]][x[[i]]$ll==l,\"br\"]\n",
    "        t2=x[[i]][x[[i]]$ll!=l,\"bcr\"]/x[[i]][x[[i]]$ll!=l,\"br\"]\n",
    "        test=t.test(t1,t2)\n",
    "        mean=sum(t1,na.rm=TRUE)/(dim(x[[i]][x[[i]]$ll==l,])[1]-sum(is.na(t1)))\n",
    "        print(c(l,sprintf(\"mean: %f p: %f\",test$estimate[1],test$p.value)))\n",
    "    }\n",
    "}"
   ]
  },
  {
   "cell_type": "code",
   "execution_count": 12,
   "id": "c628f4d2",
   "metadata": {},
   "outputs": [
    {
     "name": "stdout",
     "output_type": "stream",
     "text": [
      "[1] \"2y\"\n",
      "\n",
      "Call:\n",
      "lm(formula = metric ~ ll)\n",
      "\n",
      "Residuals:\n",
      "   Min     1Q Median     3Q    Max \n",
      "  -7.0   -3.5   -2.7   -1.3 9904.1 \n",
      "\n",
      "Coefficients:\n",
      "             Estimate Std. Error t value Pr(>|t|)    \n",
      "(Intercept)   3.54510    0.15898  22.299  < 2e-16 ***\n",
      "llC          -0.21092    0.56978  -0.370 0.711254    \n",
      "llCSS        -1.00363    0.85923  -1.168 0.242784    \n",
      "llCs          1.37532    0.64616   2.128 0.033302 *  \n",
      "llFml        -0.45921    3.06054  -0.150 0.880732    \n",
      "llGo          2.19444    1.65720   1.324 0.185442    \n",
      "llJS          3.50339    0.33955  10.318  < 2e-16 ***\n",
      "llKotlin      1.88397    1.90494   0.989 0.322670    \n",
      "llMarkdown   -0.94335    0.55938  -1.686 0.091717 .  \n",
      "llObjectiveC -1.37454    1.04981  -1.309 0.190427    \n",
      "llPY         -1.32968    0.48391  -2.748 0.006001 ** \n",
      "llR          -0.88640    1.60497  -0.552 0.580756    \n",
      "llRust        2.51549    3.20647   0.785 0.432746    \n",
      "llScala       1.83825    3.14141   0.585 0.558436    \n",
      "llSql        -1.82531    3.11033  -0.587 0.557303    \n",
      "llSwift      -1.13018    1.11237  -1.016 0.309624    \n",
      "llTypeScript  1.63107    0.91434   1.784 0.074445 .  \n",
      "llipy        -1.51074    1.32238  -1.142 0.253276    \n",
      "lljava        1.36893    0.41549   3.295 0.000985 ***\n",
      "llphp         0.94231    0.48409   1.947 0.051592 .  \n",
      "llrb         -0.03378    0.68117  -0.050 0.960451    \n",
      "---\n",
      "Signif. codes:  0 '***' 0.001 '**' 0.01 '*' 0.05 '.' 0.1 ' ' 1\n",
      "\n",
      "Residual standard error: 38.3 on 124779 degrees of freedom\n",
      "  (499076 observations deleted due to missingness)\n",
      "Multiple R-squared:  0.001279,\tAdjusted R-squared:  0.001119 \n",
      "F-statistic:  7.99 on 20 and 124779 DF,  p-value: < 2.2e-16\n",
      "\n"
     ]
    }
   ],
   "source": [
    "for(i in 3:3) {\n",
    "    print(names(x)[i])\n",
    "    metric=x[[i]]$bcr/x[[i]]$br\n",
    "    ll=x[[i]]$ll\n",
    "    lm=lm(metric~ll)\n",
    "    print(summary(lm))\n",
    "}"
   ]
  },
  {
   "cell_type": "code",
   "execution_count": 6,
   "id": "9d8bbfcb",
   "metadata": {
    "scrolled": false
   },
   "outputs": [
    {
     "name": "stdout",
     "output_type": "stream",
     "text": [
      "[1] \"2y\"\n",
      "\n",
      "Call:\n",
      "lm(formula = bcr/br ~ ll, data = x[[i]])\n",
      "\n",
      "Residuals:\n",
      "   Min     1Q Median     3Q    Max \n",
      "  -7.0   -3.5   -2.7   -1.3 9904.1 \n",
      "\n",
      "Coefficients:\n",
      "             Estimate Std. Error t value Pr(>|t|)    \n",
      "(Intercept)   3.54510    0.15898  22.299  < 2e-16 ***\n",
      "llC          -0.21092    0.56978  -0.370 0.711254    \n",
      "llCSS        -1.00363    0.85923  -1.168 0.242784    \n",
      "llCs          1.37532    0.64616   2.128 0.033302 *  \n",
      "llFml        -0.45921    3.06054  -0.150 0.880732    \n",
      "llGo          2.19444    1.65720   1.324 0.185442    \n",
      "llJS          3.50339    0.33955  10.318  < 2e-16 ***\n",
      "llKotlin      1.88397    1.90494   0.989 0.322670    \n",
      "llMarkdown   -0.94335    0.55938  -1.686 0.091717 .  \n",
      "llObjectiveC -1.37454    1.04981  -1.309 0.190427    \n",
      "llPY         -1.32968    0.48391  -2.748 0.006001 ** \n",
      "llR          -0.88640    1.60497  -0.552 0.580756    \n",
      "llRust        2.51549    3.20647   0.785 0.432746    \n",
      "llScala       1.83825    3.14141   0.585 0.558436    \n",
      "llSql        -1.82531    3.11033  -0.587 0.557303    \n",
      "llSwift      -1.13018    1.11237  -1.016 0.309624    \n",
      "llTypeScript  1.63107    0.91434   1.784 0.074445 .  \n",
      "llipy        -1.51074    1.32238  -1.142 0.253276    \n",
      "lljava        1.36893    0.41549   3.295 0.000985 ***\n",
      "llphp         0.94231    0.48409   1.947 0.051592 .  \n",
      "llrb         -0.03378    0.68117  -0.050 0.960451    \n",
      "---\n",
      "Signif. codes:  0 '***' 0.001 '**' 0.01 '*' 0.05 '.' 0.1 ' ' 1\n",
      "\n",
      "Residual standard error: 38.3 on 124779 degrees of freedom\n",
      "  (499076 observations deleted due to missingness)\n",
      "Multiple R-squared:  0.001279,\tAdjusted R-squared:  0.001119 \n",
      "F-statistic:  7.99 on 20 and 124779 DF,  p-value: < 2.2e-16\n",
      "\n"
     ]
    }
   ],
   "source": [
    "for(i in 3:3) {\n",
    "    print(names(x)[i])\n",
    "    lm=lm(bcr/br~ll, data=x[[i]])\n",
    "    print(summary(lm))\n",
    "}"
   ]
  },
  {
   "cell_type": "code",
   "execution_count": 5,
   "id": "48b11ff4",
   "metadata": {
    "scrolled": true
   },
   "outputs": [
    {
     "name": "stdout",
     "output_type": "stream",
     "text": [
      "[1] \"2y\"\n",
      "\n",
      "Call:\n",
      "lm(formula = br ~ ll, data = x[[i]])\n",
      "\n",
      "Residuals:\n",
      "     Min       1Q   Median       3Q      Max \n",
      "-0.23413 -0.13753 -0.07564  0.02518  0.95712 \n",
      "\n",
      "Coefficients:\n",
      "               Estimate Std. Error  t value Pr(>|t|)    \n",
      "(Intercept)   0.2248155  0.0005039  446.122  < 2e-16 ***\n",
      "llC          -0.1141294  0.0017214  -66.298  < 2e-16 ***\n",
      "llCSS         0.0093185  0.0027891    3.341 0.000835 ***\n",
      "llCs         -0.1150688  0.0020717  -55.543  < 2e-16 ***\n",
      "llFml        -0.1796180  0.0071976  -24.955  < 2e-16 ***\n",
      "llGo         -0.1870667  0.0038792  -48.224  < 2e-16 ***\n",
      "llJS         -0.1705136  0.0009770 -174.519  < 2e-16 ***\n",
      "llKotlin     -0.1660395  0.0058526  -28.370  < 2e-16 ***\n",
      "llMarkdown   -0.1491739  0.0009182 -162.472  < 2e-16 ***\n",
      "llObjectiveC -0.0739359  0.0037964  -19.475  < 2e-16 ***\n",
      "llPY         -0.0872848  0.0014191  -61.507  < 2e-16 ***\n",
      "llR          -0.1147302  0.0045719  -25.094  < 2e-16 ***\n",
      "llRust       -0.1893137  0.0074086  -25.553  < 2e-16 ***\n",
      "llScala      -0.1815751  0.0076541  -23.723  < 2e-16 ***\n",
      "llSql        -0.0722808  0.0072565   -9.961  < 2e-16 ***\n",
      "llSwift      -0.0988090  0.0038414  -25.722  < 2e-16 ***\n",
      "llTypeScript -0.1966415  0.0028133  -69.896  < 2e-16 ***\n",
      "llipy        -0.1015306  0.0031496  -32.236  < 2e-16 ***\n",
      "lljava       -0.1003024  0.0012848  -78.071  < 2e-16 ***\n",
      "llphp        -0.1372712  0.0016427  -83.562  < 2e-16 ***\n",
      "llrb         -0.1795006  0.0020814  -86.240  < 2e-16 ***\n",
      "---\n",
      "Signif. codes:  0 '***' 0.001 '**' 0.01 '*' 0.05 '.' 0.1 ' ' 1\n",
      "\n",
      "Residual standard error: 0.2456 on 623855 degrees of freedom\n",
      "Multiple R-squared:  0.07996,\tAdjusted R-squared:  0.07993 \n",
      "F-statistic:  2711 on 20 and 623855 DF,  p-value: < 2.2e-16\n",
      "\n"
     ]
    }
   ],
   "source": [
    "for(i in 3:3) {\n",
    "    print(names(x)[i])\n",
    "    lm=lm(br~ll, data=x[[i]])\n",
    "    print(summary(lm))\n",
    "}"
   ]
  },
  {
   "cell_type": "markdown",
   "id": "95fd6ee4",
   "metadata": {},
   "source": [
    "**Stars**"
   ]
  },
  {
   "cell_type": "code",
   "execution_count": 446,
   "id": "eb7dd38d",
   "metadata": {},
   "outputs": [
    {
     "data": {
      "text/html": [
       "0.132035853278536"
      ],
      "text/latex": [
       "0.132035853278536"
      ],
      "text/markdown": [
       "0.132035853278536"
      ],
      "text/plain": [
       "[1] 0.1320359"
      ]
     },
     "metadata": {},
     "output_type": "display_data"
    }
   ],
   "source": [
    "sum(x[[3]]$ns>0)/dim(x[[3]])[1]"
   ]
  },
  {
   "cell_type": "code",
   "execution_count": 440,
   "id": "3d60f9a2",
   "metadata": {},
   "outputs": [
    {
     "data": {
      "text/plain": [
       "\n",
       "\tWelch Two Sample t-test\n",
       "\n",
       "data:  x[[3]][x[[3]]$ns > 0, \"c\"] and x[[3]][x[[3]]$ns == 0, \"c\"]\n",
       "t = 95.462, df = 104875, p-value < 2.2e-16\n",
       "alternative hypothesis: true difference in means is not equal to 0\n",
       "95 percent confidence interval:\n",
       " 0.1730579 0.1803131\n",
       "sample estimates:\n",
       "mean of x mean of y \n",
       "0.4846068 0.3079213 \n"
      ]
     },
     "metadata": {},
     "output_type": "display_data"
    }
   ],
   "source": [
    "test=t.test(x[[3]][x[[3]]$ns>0,\"c\"],x[[3]][x[[3]]$ns==0,\"c\"])\n",
    "test"
   ]
  },
  {
   "cell_type": "code",
   "execution_count": 441,
   "id": "163a9823",
   "metadata": {},
   "outputs": [
    {
     "data": {
      "text/plain": [
       "\n",
       "\tWelch Two Sample t-test\n",
       "\n",
       "data:  x[[3]][x[[3]]$ns > 0, \"cr\"] and x[[3]][x[[3]]$ns == 0, \"cr\"]\n",
       "t = 13.567, df = 112927, p-value < 2.2e-16\n",
       "alternative hypothesis: true difference in means is not equal to 0\n",
       "95 percent confidence interval:\n",
       " 0.006961384 0.009312506\n",
       "sample estimates:\n",
       " mean of x  mean of y \n",
       "0.06686652 0.05872958 \n"
      ]
     },
     "metadata": {},
     "output_type": "display_data"
    }
   ],
   "source": [
    "test=t.test(x[[3]][x[[3]]$ns>0,\"cr\"],x[[3]][x[[3]]$ns==0,\"cr\"])\n",
    "test"
   ]
  },
  {
   "cell_type": "markdown",
   "id": "1f4737af",
   "metadata": {},
   "source": [
    "**Contingency**"
   ]
  },
  {
   "cell_type": "code",
   "execution_count": 5,
   "id": "7ca76fa2",
   "metadata": {},
   "outputs": [
    {
     "name": "stdout",
     "output_type": "stream",
     "text": [
      "[1] 0.006124615 0.372208580 0.621666806\n"
     ]
    }
   ],
   "source": [
    "data3=x[[3]][x[[3]]$ns==0&x[[3]]$ncmt<10,]\n",
    "data1=x[[3]][x[[3]]$ns>10&x[[3]]$ncmt>100,]\n",
    "pr1=dim(data1)[1]/dim(x[[3]])[1]\n",
    "pr3=dim(data3)[1]/dim(x[[3]])[1]\n",
    "pr2=1-pr1-pr3\n",
    "print(c(pr1,pr2,pr3))"
   ]
  },
  {
   "cell_type": "code",
   "execution_count": null,
   "id": "8757fd57",
   "metadata": {},
   "outputs": [],
   "source": [
    "ts=list()\n",
    "for(i in 2:3){\n",
    "    ts[[i]]=list()\n",
    "    for(j in 1:dim(tx[[i]])[1]){\n",
    "        posix=as.POSIXct(tx[[i]]$t[j], origin=\"1970-01-01\")\n",
    "        period=substr(posix,1,7)\n",
    "        c=tx[[i]]$c[j]\n",
    "        if(is.null(ts[[i]][[period]])){\n",
    "            ts[[i]][[period]][\"total\"]=1\n",
    "            ts[[i]][[period]][\"copied\"]=c\n",
    "        }else{\n",
    "            ts[[i]][[period]][\"total\"]=ts[[i]][[period]][\"total\"]+1\n",
    "            ts[[i]][[period]][\"copied\"]=ts[[i]][[period]][\"copied\"]+c\n",
    "        }\n",
    "    }\n",
    "}"
   ]
  },
  {
   "cell_type": "markdown",
   "id": "e7def226",
   "metadata": {},
   "source": [
    "**Model**"
   ]
  },
  {
   "cell_type": "code",
   "execution_count": 12,
   "id": "83d7346b",
   "metadata": {},
   "outputs": [],
   "source": [
    "ok_vars=c(\"et\",\"lt\",\"ll\",\"ebt\",\"c\")\n",
    "log_vars=c(\"ncmt\",\"nblob\",\"na\",\"ncore\",\"nmc\",\"nf\",\"cs\",\"nfr\",\"gm\",\"gf\",\"ns\",\n",
    "                    \"nb\",\"cc\",\"bc\",\"bcc\",\"ad\",\"as\",\"acs\",\"cr\",\"br\",\"bcr\")\n",
    "lvars=paste(\"l\",log_vars,sep=\"\")\n",
    "pred_n=c(\"et\",\"lt\",\"ebt\",\"lncmt\",\"lnblob\",\"lna\",\"lncore\",\"lnmc\",\"lnf\",\"lcs\",\"lnfr\",\"lgm\",\"lgf\",\"lns\",\n",
    "                    \"lnb\",\"lbc\",\"las\",\"lbr\")"
   ]
  },
  {
   "cell_type": "code",
   "execution_count": 13,
   "id": "a1c423cf",
   "metadata": {},
   "outputs": [],
   "source": [
    "data=x[[3]]\n",
    "data$lncmt= log(data$ncmt+1)\n",
    "data$lnblob= log(data$nblob+1)\n",
    "data$lna= log(data$na+1)\n",
    "data$lncore= log(data$ncore+1)\n",
    "data$lnmc= log(data$nmc+1)\n",
    "data$lnf= log(data$nf+1)\n",
    "data$lcs= log(data$cs+1)\n",
    "data$lnfr= log(data$nfr+1)\n",
    "data$lgm= log(data$gm+1)\n",
    "data$lgf= log(data$gf+1)\n",
    "data$lns= log(data$ns+1)\n",
    "data$lnb= log(data$nb+1)\n",
    "data$lcc= log(data$cc+1)\n",
    "data$lbc= log(data$bc+1)\n",
    "data$lbcc= log(data$bcc+1)\n",
    "data$lad= log(data$ad+1)\n",
    "data$las= log(data$as+1)\n",
    "data$lacs= log(data$acs+1)\n",
    "data$lcr= log(data$cr+1)\n",
    "data$lbr= log(data$br+1)\n",
    "data$lbcr= log(data$bcr+1)"
   ]
  },
  {
   "cell_type": "code",
   "execution_count": 14,
   "id": "9b9ff488",
   "metadata": {},
   "outputs": [],
   "source": [
    "nas=which(is.na(data$et) | is.na(data$lnfr) | is.na(data$las))\n",
    "data=data[-nas,]"
   ]
  },
  {
   "cell_type": "code",
   "execution_count": 15,
   "id": "b1f70cb9",
   "metadata": {},
   "outputs": [
    {
     "data": {
      "text/plain": [
       "      p                  ncmt             nblob               na          \n",
       " Length:608335      Min.   :      1   Min.   :      1   Min.   :    1.00  \n",
       " Class :character   1st Qu.:      2   1st Qu.:      7   1st Qu.:    1.00  \n",
       " Mode  :character   Median :      5   Median :     28   Median :    1.00  \n",
       "                    Mean   :     57   Mean   :    437   Mean   :    2.55  \n",
       "                    3rd Qu.:     14   3rd Qu.:    101   3rd Qu.:    2.00  \n",
       "                    Max.   :6129261   Max.   :5332329   Max.   :40930.00  \n",
       "                                                                          \n",
       "     ncore                nmc                nf                  cs          \n",
       " Min.   :    1.000   Min.   :  1.000   Min.   :      1.0   Min.   :    1.00  \n",
       " 1st Qu.:    1.000   1st Qu.:  1.000   1st Qu.:      5.0   1st Qu.:    1.00  \n",
       " Median :    1.000   Median :  1.000   Median :     19.0   Median :    1.00  \n",
       " Mean   :    1.656   Mean   :  2.548   Mean   :    450.4   Mean   :    2.54  \n",
       " 3rd Qu.:    1.000   3rd Qu.:  2.000   3rd Qu.:     73.0   3rd Qu.:    1.00  \n",
       " Max.   :26847.000   Max.   :288.000   Max.   :1398271.0   Max.   :82386.00  \n",
       "                                                                             \n",
       "      nfr                 gm                  gf                  et           \n",
       " Min.   :    0.00   Min.   :    0.000   Min.   :    0.000   Min.   :3.158e+08  \n",
       " 1st Qu.:    0.00   1st Qu.:    0.000   1st Qu.:    0.000   1st Qu.:1.469e+09  \n",
       " Median :    0.00   Median :    1.000   Median :    0.000   Median :1.522e+09  \n",
       " Mean   :    1.57   Mean   :    1.413   Mean   :    0.318   Mean   :1.505e+09  \n",
       " 3rd Qu.:    0.00   3rd Qu.:    1.000   3rd Qu.:    0.000   3rd Qu.:1.558e+09  \n",
       " Max.   :72162.00   Max.   :24613.000   Max.   :15832.000   Max.   :1.598e+09  \n",
       "                                                                               \n",
       "       lt                  ns                 l                   nb         \n",
       " Min.   :8.536e+08   Min.   :     0.00   Length:608335      Min.   :      1  \n",
       " 1st Qu.:1.480e+09   1st Qu.:     0.00   Class :character   1st Qu.:      4  \n",
       " Median :1.531e+09   Median :     0.00   Mode  :character   Median :     15  \n",
       " Mean   :1.518e+09   Mean   :     3.43                      Mean   :    163  \n",
       " 3rd Qu.:1.567e+09   3rd Qu.:     0.00                      3rd Qu.:     53  \n",
       " Max.   :5.701e+09   Max.   :105423.00                      Max.   :3331383  \n",
       "                                                                             \n",
       "       cc                 bc               bcc                 ad         \n",
       " Min.   :     0.0   Min.   :      0   Min.   :    0.00   Min.   :    1.0  \n",
       " 1st Qu.:     0.0   1st Qu.:      0   1st Qu.:    0.00   1st Qu.:    1.0  \n",
       " Median :     0.0   Median :      0   Median :    0.00   Median :    1.3  \n",
       " Mean   :    11.7   Mean   :     41   Mean   :    3.08   Mean   :    6.5  \n",
       " 3rd Qu.:     1.0   3rd Qu.:      4   3rd Qu.:    0.00   3rd Qu.:    2.7  \n",
       " Max.   :453498.0   Max.   :3330978   Max.   :50412.00   Max.   :61031.8  \n",
       "                                                         NA's   :403195   \n",
       "       as                acs                ebt                c          \n",
       " Min.   :       3   Min.   :       3   Min.   :0.000e+00   Mode :logical  \n",
       " 1st Qu.:     442   1st Qu.:     220   1st Qu.:1.469e+09   FALSE:403195   \n",
       " Median :     971   Median :     582   Median :1.522e+09   TRUE :205140   \n",
       " Mean   :   18178   Mean   :   29442   Mean   :1.506e+09                  \n",
       " 3rd Qu.:    2407   3rd Qu.:    1568   3rd Qu.:1.558e+09                  \n",
       " Max.   :82777011   Max.   :82690872   Max.   :1.588e+09                  \n",
       "                    NA's   :427055                                        \n",
       "       cr                br              bcr               ll        \n",
       " Min.   :0.00000   Min.   :0.0000   Min.   :0.0      0ther  :338274  \n",
       " 1st Qu.:0.00000   1st Qu.:0.0000   1st Qu.:0.0      JS     : 86065  \n",
       " Median :0.00000   Median :0.0000   Median :0.0      java   : 43172  \n",
       " Mean   :0.06024   Mean   :0.1190   Mean   :0.2      PY     : 40503  \n",
       " 3rd Qu.:0.02254   3rd Qu.:0.1396   3rd Qu.:0.3      php    : 24659  \n",
       " Max.   :1.00000   Max.   :1.0000   Max.   :1.0      C      : 22258  \n",
       "                                    NA's   :403195   (Other): 53404  \n",
       "     lncmt             lnblob             lna              lncore       \n",
       " Min.   : 0.6931   Min.   : 0.6931   Min.   : 0.6931   Min.   : 0.6931  \n",
       " 1st Qu.: 1.0986   1st Qu.: 2.0794   1st Qu.: 0.6931   1st Qu.: 0.6931  \n",
       " Median : 1.7918   Median : 3.3673   Median : 0.6931   Median : 0.6931  \n",
       " Mean   : 2.0502   Mean   : 3.5241   Mean   : 0.8505   Mean   : 0.7781  \n",
       " 3rd Qu.: 2.7081   3rd Qu.: 4.6250   3rd Qu.: 1.0986   3rd Qu.: 0.6931  \n",
       " Max.   :15.6286   Max.   :15.4893   Max.   :10.6196   Max.   :10.1979  \n",
       "                                                                        \n",
       "      lnmc             lnf               lcs               lnfr        \n",
       " Min.   :0.6931   Min.   : 0.6931   Min.   : 0.6931   Min.   : 0.0000  \n",
       " 1st Qu.:0.6931   1st Qu.: 1.7918   1st Qu.: 0.6931   1st Qu.: 0.0000  \n",
       " Median :0.6931   Median : 2.9957   Median : 0.6931   Median : 0.0000  \n",
       " Mean   :1.0101   Mean   : 3.2354   Mean   : 0.7998   Mean   : 0.1202  \n",
       " 3rd Qu.:1.0986   3rd Qu.: 4.3041   3rd Qu.: 0.6931   3rd Qu.: 0.0000  \n",
       " Max.   :5.6664   Max.   :14.1507   Max.   :11.3192   Max.   :11.1867  \n",
       "                                                                       \n",
       "      lgm               lgf               lns               lnb         \n",
       " Min.   : 0.0000   Min.   :0.00000   Min.   : 0.0000   Min.   : 0.6931  \n",
       " 1st Qu.: 0.0000   1st Qu.:0.00000   1st Qu.: 0.0000   1st Qu.: 1.6094  \n",
       " Median : 0.6931   Median :0.00000   Median : 0.0000   Median : 2.7726  \n",
       " Mean   : 0.4995   Mean   :0.09041   Mean   : 0.1794   Mean   : 2.9424  \n",
       " 3rd Qu.: 0.6931   3rd Qu.:0.00000   3rd Qu.: 0.0000   3rd Qu.: 3.9890  \n",
       " Max.   :10.1111   Max.   :9.66985   Max.   :11.5657   Max.   :15.0189  \n",
       "                                                                        \n",
       "      lcc               lbc              lbcc              lad        \n",
       " Min.   : 0.0000   Min.   : 0.000   Min.   : 0.0000   Min.   : 0.7    \n",
       " 1st Qu.: 0.0000   1st Qu.: 0.000   1st Qu.: 0.0000   1st Qu.: 0.7    \n",
       " Median : 0.0000   Median : 0.000   Median : 0.0000   Median : 0.8    \n",
       " Mean   : 0.5365   Mean   : 0.949   Mean   : 0.1809   Mean   : 1.1    \n",
       " 3rd Qu.: 0.6931   3rd Qu.: 1.609   3rd Qu.: 0.0000   3rd Qu.: 1.3    \n",
       " Max.   :13.0247   Max.   :15.019   Max.   :10.8280   Max.   :11.0    \n",
       "                                                      NA's   :403195  \n",
       "      las              lacs             lcr               lbr         \n",
       " Min.   : 1.386   Min.   : 1.4     Min.   :0.00000   Min.   :0.00000  \n",
       " 1st Qu.: 6.092   1st Qu.: 5.4     1st Qu.:0.00000   1st Qu.:0.00000  \n",
       " Median : 6.880   Median : 6.4     Median :0.00000   Median :0.00000  \n",
       " Mean   : 6.919   Mean   : 6.5     Mean   :0.04925   Mean   :0.09676  \n",
       " 3rd Qu.: 7.787   3rd Qu.: 7.4     3rd Qu.:0.02229   3rd Qu.:0.13070  \n",
       " Max.   :18.232   Max.   :18.2     Max.   :0.69315   Max.   :0.69314  \n",
       "                  NA's   :427055                                      \n",
       "      lbcr       \n",
       " Min.   :0.0     \n",
       " 1st Qu.:0.0     \n",
       " Median :0.0     \n",
       " Mean   :0.2     \n",
       " 3rd Qu.:0.3     \n",
       " Max.   :0.7     \n",
       " NA's   :403195  "
      ]
     },
     "metadata": {},
     "output_type": "display_data"
    }
   ],
   "source": [
    "summary(data)"
   ]
  },
  {
   "cell_type": "code",
   "execution_count": 19,
   "id": "4eaaa8cf",
   "metadata": {},
   "outputs": [],
   "source": [
    "vars=c(\"c\",\"ncmt\",\"na\",\"nmc\",\"nfr\",\"et\",\"ns\",\"nb\",\"br\",\"ll\",\n",
    "        \"lncmt\",\"lna\",\"lnmc\",\"lnfr\",\"lns\",\"lnb\",\"lbr\")\n",
    "data_c=data[,vars]"
   ]
  },
  {
   "cell_type": "code",
   "execution_count": 20,
   "id": "abf00d80",
   "metadata": {},
   "outputs": [
    {
     "data": {
      "text/plain": [
       "     c                ncmt               na                nmc         \n",
       " Mode :logical   Min.   :      1   Min.   :    1.00   Min.   :  1.000  \n",
       " FALSE:403195    1st Qu.:      2   1st Qu.:    1.00   1st Qu.:  1.000  \n",
       " TRUE :205140    Median :      5   Median :    1.00   Median :  1.000  \n",
       "                 Mean   :     57   Mean   :    2.55   Mean   :  2.548  \n",
       "                 3rd Qu.:     14   3rd Qu.:    2.00   3rd Qu.:  2.000  \n",
       "                 Max.   :6129261   Max.   :40930.00   Max.   :288.000  \n",
       "                                                                       \n",
       "      nfr                 et                  ns                  nb         \n",
       " Min.   :    0.00   Min.   :3.158e+08   Min.   :     0.00   Min.   :      1  \n",
       " 1st Qu.:    0.00   1st Qu.:1.469e+09   1st Qu.:     0.00   1st Qu.:      4  \n",
       " Median :    0.00   Median :1.522e+09   Median :     0.00   Median :     15  \n",
       " Mean   :    1.57   Mean   :1.505e+09   Mean   :     3.43   Mean   :    163  \n",
       " 3rd Qu.:    0.00   3rd Qu.:1.558e+09   3rd Qu.:     0.00   3rd Qu.:     53  \n",
       " Max.   :72162.00   Max.   :1.598e+09   Max.   :105423.00   Max.   :3331383  \n",
       "                                                                             \n",
       "       br               ll             lncmt              lna         \n",
       " Min.   :0.0000   0ther  :338274   Min.   : 0.6931   Min.   : 0.6931  \n",
       " 1st Qu.:0.0000   JS     : 86065   1st Qu.: 1.0986   1st Qu.: 0.6931  \n",
       " Median :0.0000   java   : 43172   Median : 1.7918   Median : 0.6931  \n",
       " Mean   :0.1190   PY     : 40503   Mean   : 2.0502   Mean   : 0.8505  \n",
       " 3rd Qu.:0.1396   php    : 24659   3rd Qu.: 2.7081   3rd Qu.: 1.0986  \n",
       " Max.   :1.0000   C      : 22258   Max.   :15.6286   Max.   :10.6196  \n",
       "                  (Other): 53404                                      \n",
       "      lnmc             lnfr              lns               lnb         \n",
       " Min.   :0.6931   Min.   : 0.0000   Min.   : 0.0000   Min.   : 0.6931  \n",
       " 1st Qu.:0.6931   1st Qu.: 0.0000   1st Qu.: 0.0000   1st Qu.: 1.6094  \n",
       " Median :0.6931   Median : 0.0000   Median : 0.0000   Median : 2.7726  \n",
       " Mean   :1.0101   Mean   : 0.1202   Mean   : 0.1794   Mean   : 2.9424  \n",
       " 3rd Qu.:1.0986   3rd Qu.: 0.0000   3rd Qu.: 0.0000   3rd Qu.: 3.9890  \n",
       " Max.   :5.6664   Max.   :11.1867   Max.   :11.5657   Max.   :15.0189  \n",
       "                                                                       \n",
       "      lbr         \n",
       " Min.   :0.00000  \n",
       " 1st Qu.:0.00000  \n",
       " Median :0.00000  \n",
       " Mean   :0.09676  \n",
       " 3rd Qu.:0.13070  \n",
       " Max.   :0.69314  \n",
       "                  "
      ]
     },
     "metadata": {},
     "output_type": "display_data"
    }
   ],
   "source": [
    "summary(data_c)"
   ]
  },
  {
   "cell_type": "code",
   "execution_count": 22,
   "id": "43f8e47c",
   "metadata": {},
   "outputs": [
    {
     "name": "stdout",
     "output_type": "stream",
     "text": [
      "                                   5%                50%                    \n",
      "            \"ncmt\"                \"1\"                \"5\" \"57.0530530053342\" \n",
      "               95% \n",
      "              \"84\" \n",
      "                                   5%                50%                    \n",
      "              \"na\"                \"1\"                \"1\" \"2.55386423598839\" \n",
      "               95% \n",
      "               \"3\" \n",
      "                                 5%               50%                   \n",
      "            \"nmc\"               \"1\"               \"1\" \"2.5482998676716\" \n",
      "              95% \n",
      "              \"8\" \n",
      "                                   5%                50%                    \n",
      "             \"nfr\"                \"0\"                \"0\" \"1.56890693450155\" \n",
      "               95% \n",
      "               \"1\" \n",
      "                                   5%                50%                    \n",
      "              \"et\"     \"1374186230.5\"       \"1522055200\" \"1505443609.57574\" \n",
      "               95% \n",
      "    \"1583225199.5\" \n",
      "                                   5%                50%                    \n",
      "              \"ns\"                \"0\"                \"0\" \"3.42627664033797\" \n",
      "               95% \n",
      "               \"2\" \n",
      "                                   5%                50%                    \n",
      "              \"nb\"                \"1\"               \"15\" \"162.718839126468\" \n",
      "               95% \n",
      "             \"397\" \n",
      "                                     5%                 50%                     \n",
      "               \"br\"                 \"0\"                 \"0\" \"0.118970100460346\" \n",
      "                95% \n",
      "\"0.654835811508914\" \n"
     ]
    }
   ],
   "source": [
    "for(v in c(\"ncmt\",\"na\",\"nmc\",\"nfr\",\"et\",\"ns\",\"nb\",\"br\")){\n",
    "    m=mean(data_c[,v])\n",
    "    quant=quantile(data_c[,v],probs=c(0.05,0.5,0.95))\n",
    "    print(c(v,quant[1],quant[2],m,quant[3]))\n",
    "}"
   ]
  },
  {
   "cell_type": "code",
   "execution_count": 23,
   "id": "48aa787e",
   "metadata": {},
   "outputs": [
    {
     "data": {
      "text/html": [
       "<table class=\"dataframe\">\n",
       "<caption>A matrix: 8 x 8 of type dbl</caption>\n",
       "<thead>\n",
       "\t<tr><th></th><th scope=col>lnb</th><th scope=col>lbr</th><th scope=col>lncmt</th><th scope=col>lna</th><th scope=col>lnfr</th><th scope=col>lns</th><th scope=col>et</th><th scope=col>lnmc</th></tr>\n",
       "</thead>\n",
       "<tbody>\n",
       "\t<tr><th scope=row>lnb</th><td> 1.00000000</td><td> 0.46323875</td><td> 0.67023544</td><td> 0.3360833</td><td> 0.21800206</td><td> 0.22480086</td><td>-0.08801195</td><td> 0.52056218</td></tr>\n",
       "\t<tr><th scope=row>lbr</th><td> 0.46323875</td><td> 1.00000000</td><td> 0.17547782</td><td> 0.1160402</td><td> 0.05666528</td><td> 0.05413461</td><td>-0.02127638</td><td> 0.14083098</td></tr>\n",
       "\t<tr><th scope=row>lncmt</th><td> 0.67023544</td><td> 0.17547782</td><td> 1.00000000</td><td> 0.4477577</td><td> 0.26553931</td><td> 0.26482424</td><td>-0.05155038</td><td> 0.67871887</td></tr>\n",
       "\t<tr><th scope=row>lna</th><td> 0.33608330</td><td> 0.11604019</td><td> 0.44775770</td><td> 1.0000000</td><td> 0.31790905</td><td> 0.21568708</td><td>-0.04894280</td><td> 0.38055069</td></tr>\n",
       "\t<tr><th scope=row>lnfr</th><td> 0.21800206</td><td> 0.05666528</td><td> 0.26553931</td><td> 0.3179091</td><td> 1.00000000</td><td> 0.48408326</td><td>-0.13935295</td><td> 0.27732004</td></tr>\n",
       "\t<tr><th scope=row>lns</th><td> 0.22480086</td><td> 0.05413461</td><td> 0.26482424</td><td> 0.2156871</td><td> 0.48408326</td><td> 1.00000000</td><td>-0.13319649</td><td> 0.28330169</td></tr>\n",
       "\t<tr><th scope=row>et</th><td>-0.08801195</td><td>-0.02127638</td><td>-0.05155038</td><td>-0.0489428</td><td>-0.13935295</td><td>-0.13319649</td><td> 1.00000000</td><td>-0.04779655</td></tr>\n",
       "\t<tr><th scope=row>lnmc</th><td> 0.52056218</td><td> 0.14083098</td><td> 0.67871887</td><td> 0.3805507</td><td> 0.27732004</td><td> 0.28330169</td><td>-0.04779655</td><td> 1.00000000</td></tr>\n",
       "</tbody>\n",
       "</table>\n"
      ],
      "text/latex": [
       "A matrix: 8 x 8 of type dbl\n",
       "\\begin{tabular}{r|llllllll}\n",
       "  & lnb & lbr & lncmt & lna & lnfr & lns & et & lnmc\\\\\n",
       "\\hline\n",
       "\tlnb &  1.00000000 &  0.46323875 &  0.67023544 &  0.3360833 &  0.21800206 &  0.22480086 & -0.08801195 &  0.52056218\\\\\n",
       "\tlbr &  0.46323875 &  1.00000000 &  0.17547782 &  0.1160402 &  0.05666528 &  0.05413461 & -0.02127638 &  0.14083098\\\\\n",
       "\tlncmt &  0.67023544 &  0.17547782 &  1.00000000 &  0.4477577 &  0.26553931 &  0.26482424 & -0.05155038 &  0.67871887\\\\\n",
       "\tlna &  0.33608330 &  0.11604019 &  0.44775770 &  1.0000000 &  0.31790905 &  0.21568708 & -0.04894280 &  0.38055069\\\\\n",
       "\tlnfr &  0.21800206 &  0.05666528 &  0.26553931 &  0.3179091 &  1.00000000 &  0.48408326 & -0.13935295 &  0.27732004\\\\\n",
       "\tlns &  0.22480086 &  0.05413461 &  0.26482424 &  0.2156871 &  0.48408326 &  1.00000000 & -0.13319649 &  0.28330169\\\\\n",
       "\tet & -0.08801195 & -0.02127638 & -0.05155038 & -0.0489428 & -0.13935295 & -0.13319649 &  1.00000000 & -0.04779655\\\\\n",
       "\tlnmc &  0.52056218 &  0.14083098 &  0.67871887 &  0.3805507 &  0.27732004 &  0.28330169 & -0.04779655 &  1.00000000\\\\\n",
       "\\end{tabular}\n"
      ],
      "text/markdown": [
       "\n",
       "A matrix: 8 x 8 of type dbl\n",
       "\n",
       "| <!--/--> | lnb | lbr | lncmt | lna | lnfr | lns | et | lnmc |\n",
       "|---|---|---|---|---|---|---|---|---|\n",
       "| lnb |  1.00000000 |  0.46323875 |  0.67023544 |  0.3360833 |  0.21800206 |  0.22480086 | -0.08801195 |  0.52056218 |\n",
       "| lbr |  0.46323875 |  1.00000000 |  0.17547782 |  0.1160402 |  0.05666528 |  0.05413461 | -0.02127638 |  0.14083098 |\n",
       "| lncmt |  0.67023544 |  0.17547782 |  1.00000000 |  0.4477577 |  0.26553931 |  0.26482424 | -0.05155038 |  0.67871887 |\n",
       "| lna |  0.33608330 |  0.11604019 |  0.44775770 |  1.0000000 |  0.31790905 |  0.21568708 | -0.04894280 |  0.38055069 |\n",
       "| lnfr |  0.21800206 |  0.05666528 |  0.26553931 |  0.3179091 |  1.00000000 |  0.48408326 | -0.13935295 |  0.27732004 |\n",
       "| lns |  0.22480086 |  0.05413461 |  0.26482424 |  0.2156871 |  0.48408326 |  1.00000000 | -0.13319649 |  0.28330169 |\n",
       "| et | -0.08801195 | -0.02127638 | -0.05155038 | -0.0489428 | -0.13935295 | -0.13319649 |  1.00000000 | -0.04779655 |\n",
       "| lnmc |  0.52056218 |  0.14083098 |  0.67871887 |  0.3805507 |  0.27732004 |  0.28330169 | -0.04779655 |  1.00000000 |\n",
       "\n"
      ],
      "text/plain": [
       "      lnb         lbr         lncmt       lna        lnfr        lns        \n",
       "lnb    1.00000000  0.46323875  0.67023544  0.3360833  0.21800206  0.22480086\n",
       "lbr    0.46323875  1.00000000  0.17547782  0.1160402  0.05666528  0.05413461\n",
       "lncmt  0.67023544  0.17547782  1.00000000  0.4477577  0.26553931  0.26482424\n",
       "lna    0.33608330  0.11604019  0.44775770  1.0000000  0.31790905  0.21568708\n",
       "lnfr   0.21800206  0.05666528  0.26553931  0.3179091  1.00000000  0.48408326\n",
       "lns    0.22480086  0.05413461  0.26482424  0.2156871  0.48408326  1.00000000\n",
       "et    -0.08801195 -0.02127638 -0.05155038 -0.0489428 -0.13935295 -0.13319649\n",
       "lnmc   0.52056218  0.14083098  0.67871887  0.3805507  0.27732004  0.28330169\n",
       "      et          lnmc       \n",
       "lnb   -0.08801195  0.52056218\n",
       "lbr   -0.02127638  0.14083098\n",
       "lncmt -0.05155038  0.67871887\n",
       "lna   -0.04894280  0.38055069\n",
       "lnfr  -0.13935295  0.27732004\n",
       "lns   -0.13319649  0.28330169\n",
       "et     1.00000000 -0.04779655\n",
       "lnmc  -0.04779655  1.00000000"
      ]
     },
     "metadata": {},
     "output_type": "display_data"
    }
   ],
   "source": [
    "pred=c(\"lnb\",\"lbr\",\"lncmt\",\"lna\",\"lnfr\",\"lns\",\"et\",\"lnmc\")\n",
    "cor=cor(data_c[,pred],method=\"spearman\")\n",
    "cor"
   ]
  },
  {
   "cell_type": "code",
   "execution_count": 25,
   "id": "31283b90",
   "metadata": {},
   "outputs": [
    {
     "name": "stdout",
     "output_type": "stream",
     "text": [
      "% latex table generated in R 3.6.3 by xtable 1.8-4 package\n",
      "% Tue Aug 30 19:54:46 2022\n",
      "\\begin{table}[ht]\n",
      "\\centering\n",
      "\\begin{tabular}{rrrrrrrrr}\n",
      "  \\hline\n",
      " & lnb & lbr & lncmt & lna & lnfr & lns & et & lnmc \\\\ \n",
      "  \\hline\n",
      "lnb & 1.00 & 0.46 & 0.67 & 0.34 & 0.22 & 0.22 & -0.09 & 0.52 \\\\ \n",
      "  lbr & 0.46 & 1.00 & 0.18 & 0.12 & 0.06 & 0.05 & -0.02 & 0.14 \\\\ \n",
      "  lncmt & 0.67 & 0.18 & 1.00 & 0.45 & 0.27 & 0.26 & -0.05 & 0.68 \\\\ \n",
      "  lna & 0.34 & 0.12 & 0.45 & 1.00 & 0.32 & 0.22 & -0.05 & 0.38 \\\\ \n",
      "  lnfr & 0.22 & 0.06 & 0.27 & 0.32 & 1.00 & 0.48 & -0.14 & 0.28 \\\\ \n",
      "  lns & 0.22 & 0.05 & 0.26 & 0.22 & 0.48 & 1.00 & -0.13 & 0.28 \\\\ \n",
      "  et & -0.09 & -0.02 & -0.05 & -0.05 & -0.14 & -0.13 & 1.00 & -0.05 \\\\ \n",
      "  lnmc & 0.52 & 0.14 & 0.68 & 0.38 & 0.28 & 0.28 & -0.05 & 1.00 \\\\ \n",
      "   \\hline\n",
      "\\end{tabular}\n",
      "\\end{table}\n"
     ]
    }
   ],
   "source": [
    "library(xtable)\n",
    "print(xtable(cor))"
   ]
  },
  {
   "cell_type": "code",
   "execution_count": 28,
   "id": "ffb8d68f",
   "metadata": {},
   "outputs": [
    {
     "name": "stdout",
     "output_type": "stream",
     "text": [
      "Standard deviations (1, .., p=8):\n",
      "[1] 1.8572729 1.1451029 0.9953273 0.9743117 0.7271313 0.6094677 0.4625926\n",
      "[8] 0.4302956\n",
      "\n",
      "Rotation (n x k) = (8 x 8):\n",
      "              PC1         PC2         PC3         PC4         PC5         PC6\n",
      "lnb    0.37317236  0.48818691 -0.01740779  0.06970588 -0.22620751  0.61313089\n",
      "lbr    0.03825647  0.51016730 -0.77920970 -0.09695274  0.10568204 -0.30060977\n",
      "lncmt  0.44409677  0.27747535  0.31459525  0.04226827 -0.08630977  0.03742194\n",
      "lna    0.40805532 -0.08931047  0.04052188 -0.09312383  0.85595169  0.07973497\n",
      "lnfr   0.38890571 -0.43194638 -0.28550708 -0.19326587 -0.02934040  0.10238400\n",
      "lns    0.37209872 -0.42563423 -0.29051382 -0.16931779 -0.40926910  0.02338363\n",
      "et    -0.12587332  0.17306454  0.20801102 -0.95291943 -0.04214170  0.01823065\n",
      "lnmc   0.43588823  0.13689569  0.28763841  0.03474109 -0.16559233 -0.71734551\n",
      "                PC7         PC8\n",
      "lnb    0.1042589617  0.42342028\n",
      "lbr   -0.0343081783 -0.13779041\n",
      "lncmt -0.1238754334 -0.77513470\n",
      "lna   -0.2263962258  0.15790569\n",
      "lnfr   0.7107737581 -0.16360320\n",
      "lns   -0.6267191403  0.08053810\n",
      "et     0.0005233035  0.02778468\n",
      "lnmc   0.1528926216  0.37674483\n"
     ]
    },
    {
     "data": {
      "image/png": "[encoded data removed]",
      "text/plain": [
       "plot without title"
      ]
     },
     "metadata": {
      "image/png": {
       "height": 420,
       "width": 420
      }
     },
     "output_type": "display_data"
    }
   ],
   "source": [
    "pca <- prcomp(data_c[,pred], retx=F, scale=T)\n",
    "print(pca)\n",
    "var <- sum(pca$sdev^2)\n",
    "cumVar <- cumsum(pca$sdev^2)\n",
    "plot(1:8,cumVar/var,ylim=c(0,1),xlab=\"Number of coponents\",ylab=\"Fraction of variance\")"
   ]
  },
  {
   "cell_type": "code",
   "execution_count": 29,
   "id": "68b64990",
   "metadata": {},
   "outputs": [
    {
     "name": "stdout",
     "output_type": "stream",
     "text": [
      "          lnb     lncmt       lna      lnfr       lns      lnmc\n",
      "PC1 0.3731724 0.4440968 0.4080553 0.3889057 0.3720987 0.4358882\n",
      "          lnb       lbr       lnfr        lns\n",
      "PC2 0.4881869 0.5101673 -0.4319464 -0.4256342\n",
      "           lbr     lncmt\n",
      "PC3 -0.7792097 0.3145953\n",
      "            et\n",
      "PC4 -0.9529194\n",
      "          lna        lns\n",
      "PC5 0.8559517 -0.4092691\n"
     ]
    }
   ],
   "source": [
    "n <- 0\n",
    "varPer <- 0.9\n",
    "for (i in c(1:length(pca$sdev))) {\n",
    "    if(cumVar[i] > var*varPer) {\n",
    "        n <- i\n",
    "        break\n",
    "    }\n",
    "}\n",
    "res <- pca$rotation[,1:n]\n",
    "resAbs <- res\n",
    "resAbs[res<0] <- -res[res<0]\n",
    "for (i in 1:n)\n",
    "  print(t(res[resAbs[,i]>.3,i,drop=FALSE]));"
   ]
  },
  {
   "cell_type": "code",
   "execution_count": 34,
   "id": "20ec0270",
   "metadata": {},
   "outputs": [
    {
     "name": "stdout",
     "output_type": "stream",
     "text": [
      "[1] lnb               ->                0.575453465776857\n",
      "[1] lbr               ->                0.162570001775225\n",
      "[1] lncmt             ->                0.718487932608517\n",
      "[1] lna               ->                0.457152977887151\n",
      "[1] lnfr              ->                0.648255760991895\n",
      "[1] lns               ->                0.597171943795622\n",
      "[1] et                 ->                 0.0348353586339474\n",
      "[1] lnmc              ->                0.594674652982857\n"
     ]
    }
   ],
   "source": [
    "vnam <- names(data_c[,pred])\n",
    "len <- dim(data_c[,pred])[2]\n",
    "res <- vector(mode=\"list\", length=len)\n",
    "for (i in 1:len){\n",
    "  fmla <- as.formula(paste(vnam[i],paste(vnam[-i],collapse=\"+\"),sep=\"~\"));\n",
    "  res[[i]] <- lm(fmla,data=data_c[,pred]);\n",
    "}\n",
    "for (i in 1:len) {\n",
    "    print(c(vnam[i],\"-> \",summary(res[[i]])$adj.r.squared),quote=FALSE)\n",
    "}"
   ]
  },
  {
   "cell_type": "code",
   "execution_count": 35,
   "id": "5a1baae0",
   "metadata": {},
   "outputs": [
    {
     "data": {
      "text/plain": [
       "\n",
       "Call:\n",
       "glm(formula = c ~ lnb + lbr + lncmt + lna + lnfr + lns + et + \n",
       "    lnmc + ll, family = binomial, data = data_c)\n",
       "\n",
       "Deviance Residuals: \n",
       "    Min       1Q   Median       3Q      Max  \n",
       "-3.5969  -0.7898  -0.5129   0.9173   2.3502  \n",
       "\n",
       "Coefficients:\n",
       "               Estimate Std. Error z value Pr(>|z|)    \n",
       "(Intercept)  -2.209e+00  7.156e-02 -30.869  < 2e-16 ***\n",
       "lnb           6.127e-01  3.112e-03 196.846  < 2e-16 ***\n",
       "lbr           7.481e-01  1.962e-02  38.136  < 2e-16 ***\n",
       "lncmt        -1.778e-02  4.561e-03  -3.899 9.65e-05 ***\n",
       "lna           1.042e-01  1.176e-02   8.856  < 2e-16 ***\n",
       "lnfr          3.086e-01  1.110e-02  27.792  < 2e-16 ***\n",
       "lns           5.835e-02  7.882e-03   7.403 1.33e-13 ***\n",
       "et           -4.466e-10  4.658e-11  -9.588  < 2e-16 ***\n",
       "lnmc          8.860e-02  8.275e-03  10.707  < 2e-16 ***\n",
       "llC          -3.272e-01  1.671e-02 -19.582  < 2e-16 ***\n",
       "llCs         -3.101e-01  1.936e-02 -16.019  < 2e-16 ***\n",
       "llGo         -2.926e-01  3.796e-02  -7.708 1.28e-14 ***\n",
       "llJS          2.036e-01  9.178e-03  22.181  < 2e-16 ***\n",
       "llKotlin     -2.400e-01  5.324e-02  -4.507 6.57e-06 ***\n",
       "llObjectiveC -1.276e-01  3.490e-02  -3.657 0.000255 ***\n",
       "llPY         -1.915e-01  1.290e-02 -14.843  < 2e-16 ***\n",
       "llR          -2.734e-01  4.630e-02  -5.905 3.54e-09 ***\n",
       "llRust       -4.831e-01  7.282e-02  -6.634 3.26e-11 ***\n",
       "llScala      -2.720e-01  7.237e-02  -3.758 0.000171 ***\n",
       "llTypeScript  8.720e-01  2.551e-02  34.187  < 2e-16 ***\n",
       "lljava       -2.589e-01  1.222e-02 -21.195  < 2e-16 ***\n",
       "llphp         2.905e-01  1.499e-02  19.372  < 2e-16 ***\n",
       "llpl         -3.119e-01  9.673e-02  -3.224 0.001263 ** \n",
       "llrb          6.324e-01  1.897e-02  33.338  < 2e-16 ***\n",
       "---\n",
       "Signif. codes:  0 '***' 0.001 '**' 0.01 '*' 0.05 '.' 0.1 ' ' 1\n",
       "\n",
       "(Dispersion parameter for binomial family taken to be 1)\n",
       "\n",
       "    Null deviance: 777660  on 608334  degrees of freedom\n",
       "Residual deviance: 637263  on 608311  degrees of freedom\n",
       "AIC: 637311\n",
       "\n",
       "Number of Fisher Scoring iterations: 4\n"
      ]
     },
     "metadata": {},
     "output_type": "display_data"
    }
   ],
   "source": [
    "glm=glm(c~lnb+lbr+lncmt+lna+lnfr+lns+et+lnmc+ll,data=data_c,family=binomial)\n",
    "summary(glm)"
   ]
  },
  {
   "cell_type": "code",
   "execution_count": 36,
   "id": "969f4bd5",
   "metadata": {
    "scrolled": false
   },
   "outputs": [
    {
     "name": "stdout",
     "output_type": "stream",
     "text": [
      "% latex table generated in R 3.6.3 by xtable 1.8-4 package\n",
      "% Tue Aug 30 20:57:42 2022\n",
      "\\begin{table}[ht]\n",
      "\\centering\n",
      "\\begin{tabular}{rrrrr}\n",
      "  \\hline\n",
      " & Estimate & Std. Error & z value & Pr($>$$|$z$|$) \\\\ \n",
      "  \\hline\n",
      "(Intercept) & -2.21 & 0.07 & -30.87 & 0.00 \\\\ \n",
      "  lnb & 0.61 & 0.00 & 196.85 & 0.00 \\\\ \n",
      "  lbr & 0.75 & 0.02 & 38.14 & 0.00 \\\\ \n",
      "  lncmt & -0.02 & 0.00 & -3.90 & 0.00 \\\\ \n",
      "  lna & 0.10 & 0.01 & 8.86 & 0.00 \\\\ \n",
      "  lnfr & 0.31 & 0.01 & 27.79 & 0.00 \\\\ \n",
      "  lns & 0.06 & 0.01 & 7.40 & 0.00 \\\\ \n",
      "  et & -0.00 & 0.00 & -9.59 & 0.00 \\\\ \n",
      "  lnmc & 0.09 & 0.01 & 10.71 & 0.00 \\\\ \n",
      "  llC & -0.33 & 0.02 & -19.58 & 0.00 \\\\ \n",
      "  llCs & -0.31 & 0.02 & -16.02 & 0.00 \\\\ \n",
      "  llGo & -0.29 & 0.04 & -7.71 & 0.00 \\\\ \n",
      "  llJS & 0.20 & 0.01 & 22.18 & 0.00 \\\\ \n",
      "  llKotlin & -0.24 & 0.05 & -4.51 & 0.00 \\\\ \n",
      "  llObjectiveC & -0.13 & 0.03 & -3.66 & 0.00 \\\\ \n",
      "  llPY & -0.19 & 0.01 & -14.84 & 0.00 \\\\ \n",
      "  llR & -0.27 & 0.05 & -5.90 & 0.00 \\\\ \n",
      "  llRust & -0.48 & 0.07 & -6.63 & 0.00 \\\\ \n",
      "  llScala & -0.27 & 0.07 & -3.76 & 0.00 \\\\ \n",
      "  llTypeScript & 0.87 & 0.03 & 34.19 & 0.00 \\\\ \n",
      "  lljava & -0.26 & 0.01 & -21.19 & 0.00 \\\\ \n",
      "  llphp & 0.29 & 0.01 & 19.37 & 0.00 \\\\ \n",
      "  llpl & -0.31 & 0.10 & -3.22 & 0.00 \\\\ \n",
      "  llrb & 0.63 & 0.02 & 33.34 & 0.00 \\\\ \n",
      "   \\hline\n",
      "\\end{tabular}\n",
      "\\end{table}\n"
     ]
    }
   ],
   "source": [
    "print(xtable(summary(glm)$coef))"
   ]
  },
  {
   "cell_type": "code",
   "execution_count": 37,
   "id": "caaa0ee5",
   "metadata": {},
   "outputs": [
    {
     "name": "stdout",
     "output_type": "stream",
     "text": [
      "% latex table generated in R 3.6.3 by xtable 1.8-4 package\n",
      "% Wed Aug 31 08:35:21 2022\n",
      "\\begin{table}[ht]\n",
      "\\centering\n",
      "\\begin{tabular}{lrrrr}\n",
      "  \\hline\n",
      " & Df & Deviance & Resid. Df & Resid. Dev \\\\ \n",
      "  \\hline\n",
      "NULL &  &  & 608334 & 777660.48 \\\\ \n",
      "  lnb & 1 & 131219.53 & 608333 & 646440.95 \\\\ \n",
      "  lbr & 1 & 662.94 & 608332 & 645778.01 \\\\ \n",
      "  lncmt & 1 & 267.93 & 608331 & 645510.08 \\\\ \n",
      "  lna & 1 & 684.14 & 608330 & 644825.94 \\\\ \n",
      "  lnfr & 1 & 2064.32 & 608329 & 642761.62 \\\\ \n",
      "  lns & 1 & 60.93 & 608328 & 642700.68 \\\\ \n",
      "  et & 1 & 113.71 & 608327 & 642586.97 \\\\ \n",
      "  lnmc & 1 & 148.37 & 608326 & 642438.60 \\\\ \n",
      "  ll & 15 & 5175.56 & 608311 & 637263.04 \\\\ \n",
      "   \\hline\n",
      "\\end{tabular}\n",
      "\\end{table}\n"
     ]
    }
   ],
   "source": [
    "print(xtable(anova(glm)))"
   ]
  },
  {
   "cell_type": "code",
   "execution_count": 38,
   "id": "12a2cd3c",
   "metadata": {},
   "outputs": [
    {
     "name": "stdout",
     "output_type": "stream",
     "text": [
      "[1] \"0ther\"             \"0.293584490679154\"\n",
      "[1] \"C\"                 \"0.332509659448288\"\n",
      "[1] \"Cs\"                \"0.370563814115441\"\n",
      "[1] \"Go\"                \"0.313956340446407\"\n",
      "[1] \"JS\"                \"0.412688084587231\"\n",
      "[1] \"Kotlin\"            \"0.400225479143179\"\n",
      "[1] \"ObjectiveC\"        \"0.400234741784038\"\n",
      "[1] \"PY\"                \"0.305286028195442\"\n",
      "[1] \"R\"                 \"0.285029119561494\"\n",
      "[1] \"Rust\"              \"0.315217391304348\"\n",
      "[1] \"Scala\"            \"0.36073500967118\"\n",
      "[1] \"TypeScript\"        \"0.623554821496633\"\n",
      "[1] \"java\"              \"0.362179190215881\"\n",
      "[1] \"php\"               \"0.464414615353421\"\n",
      "[1] \"pl\"               \"0.29922480620155\"\n",
      "[1] \"rb\"                \"0.512173677803327\"\n"
     ]
    }
   ],
   "source": [
    "for(l in ty){ \n",
    "        mean=sum(data_c[data_c$ll==l,\"c\"])/dim(data_c[data_c$ll==l,])[1]\n",
    "        print(c(l,mean))        \n",
    "    }"
   ]
  },
  {
   "cell_type": "code",
   "execution_count": 40,
   "id": "d1b98373",
   "metadata": {},
   "outputs": [
    {
     "name": "stdout",
     "output_type": "stream",
     "text": [
      "[1] \"0ther\"             \"0.062273516221499\"\n",
      "[1] \"C\"                  \"0.0574443159438311\"\n",
      "[1] \"Cs\"                 \"0.0432450279138664\"\n",
      "[1] \"Go\"                 \"0.0407526539301348\"\n",
      "[1] \"JS\"                 \"0.0620137548580711\"\n",
      "[1] \"Kotlin\"             \"0.0336586514689889\"\n",
      "[1] \"ObjectiveC\"         \"0.0565318053931747\"\n",
      "[1] \"PY\"                 \"0.0481316380024039\"\n",
      "[1] \"R\"                  \"0.0585688001189221\"\n",
      "[1] \"Rust\"               \"0.0305404604237794\"\n",
      "[1] \"Scala\"             \"0.031235869492959\"\n",
      "[1] \"TypeScript\"         \"0.0707412376779077\"\n",
      "[1] \"java\"               \"0.0522299698785455\"\n",
      "[1] \"php\"               \"0.076801303787034\"\n",
      "[1] \"pl\"                 \"0.0933754424465341\"\n",
      "[1] \"rb\"                 \"0.0608695961710174\"\n"
     ]
    }
   ],
   "source": [
    "    for(l in ty){ \n",
    "        mean=sum(data[data$ll==l,\"cr\"])/dim(data[data_c$ll==l,])[1]\n",
    "        print(c(l,mean))\n",
    "    }"
   ]
  },
  {
   "cell_type": "code",
   "execution_count": 42,
   "id": "2834e364",
   "metadata": {},
   "outputs": [
    {
     "data": {
      "text/plain": [
       "\n",
       "Call:\n",
       "lm(formula = metric ~ ll)\n",
       "\n",
       "Residuals:\n",
       "   Min     1Q Median     3Q    Max \n",
       "  -7.0   -3.5   -3.0   -1.4 9904.1 \n",
       "\n",
       "Coefficients:\n",
       "             Estimate Std. Error t value Pr(>|t|)    \n",
       "(Intercept)   3.47088    0.15093  22.996  < 2e-16 ***\n",
       "llC          -0.13670    0.57077  -0.239 0.810722    \n",
       "llCs          1.44954    0.64790   2.237 0.025270 *  \n",
       "llGo          2.26866    1.66635   1.361 0.173372    \n",
       "llJS          3.57815    0.33751  10.602  < 2e-16 ***\n",
       "llKotlin      1.95819    1.91570   1.022 0.306698    \n",
       "llObjectiveC -1.30032    1.05481  -1.233 0.217673    \n",
       "llPY         -1.27503    0.45972  -2.773 0.005547 ** \n",
       "llR          -0.81218    1.61379  -0.503 0.614773    \n",
       "llRust        2.58971    3.22538   0.803 0.422024    \n",
       "llScala       1.91247    3.15991   0.605 0.545028    \n",
       "llTypeScript  1.70189    0.91858   1.853 0.063922 .  \n",
       "lljava        1.44407    0.41467   3.482 0.000497 ***\n",
       "llphp         1.01937    0.48435   2.105 0.035326 *  \n",
       "llpl         -0.14945    4.85637  -0.031 0.975449    \n",
       "llrb          0.04176    0.68343   0.061 0.951277    \n",
       "---\n",
       "Signif. codes:  0 '***' 0.001 '**' 0.01 '*' 0.05 '.' 0.1 ' ' 1\n",
       "\n",
       "Residual standard error: 38.53 on 123286 degrees of freedom\n",
       "  (485033 observations deleted due to missingness)\n",
       "Multiple R-squared:  0.001209,\tAdjusted R-squared:  0.001088 \n",
       "F-statistic:  9.95 on 15 and 123286 DF,  p-value: < 2.2e-16\n"
      ]
     },
     "metadata": {},
     "output_type": "display_data"
    }
   ],
   "source": [
    "metric=data$bcr/data$br\n",
    "ll=data$ll\n",
    "lm=lm(metric~ll)\n",
    "summary(lm)"
   ]
  },
  {
   "cell_type": "code",
   "execution_count": 44,
   "id": "82fa4608",
   "metadata": {},
   "outputs": [
    {
     "name": "stdout",
     "output_type": "stream",
     "text": [
      "[1] \"0ther\"            \"3.47088311117382\"\n",
      "[1] \"C\"                \"3.33418671850587\"\n",
      "[1] \"Cs\"               \"4.92042678664937\"\n",
      "[1] \"Go\"               \"5.73954755432749\"\n",
      "[1] \"JS\"               \"7.04903306493861\"\n",
      "[1] \"Kotlin\"          \"5.4290704476513\"\n",
      "[1] \"ObjectiveC\"       \"2.17056523666383\"\n",
      "[1] \"PY\"               \"2.19585272738518\"\n",
      "[1] \"R\"                \"2.65870643007743\"\n",
      "[1] \"Rust\"            \"6.0605920756264\"\n",
      "[1] \"Scala\"            \"5.38335303372322\"\n",
      "[1] \"TypeScript\"       \"5.17277231225754\"\n",
      "[1] \"java\"             \"4.91495548137661\"\n",
      "[1] \"php\"              \"4.49025383224273\"\n",
      "[1] \"pl\"              \"3.3214292719832\"\n",
      "[1] \"rb\"               \"3.51264291818964\"\n"
     ]
    }
   ],
   "source": [
    "for(l in ty){\n",
    "        t1=data[data$ll==l,\"bcr\"]/data[data$ll==l,\"br\"]\n",
    "        mean=sum(t1,na.rm=TRUE)/(dim(data[data$ll==l,])[1]-sum(is.na(t1)))\n",
    "        print(c(l,mean))\n",
    "    }"
   ]
  },
  {
   "cell_type": "code",
   "execution_count": 46,
   "id": "bd3b790d",
   "metadata": {},
   "outputs": [
    {
     "data": {
      "text/html": [
       "4.10470830016669"
      ],
      "text/latex": [
       "4.10470830016669"
      ],
      "text/markdown": [
       "4.10470830016669"
      ],
      "text/plain": [
       "[1] 4.104708"
      ]
     },
     "metadata": {},
     "output_type": "display_data"
    }
   ],
   "source": [
    "sum(metric,na.rm=TRUE)/(dim(data)[1]-sum(is.na(metric)))"
   ]
  }
 ],
 "metadata": {
  "kernelspec": {
   "display_name": "R",
   "language": "R",
   "name": "ir"
  },
  "language_info": {
   "codemirror_mode": "r",
   "file_extension": ".r",
   "mimetype": "text/x-r-source",
   "name": "R",
   "pygments_lexer": "r",
   "version": "3.6.3"
  }
 },
 "nbformat": 4,
 "nbformat_minor": 5
}
