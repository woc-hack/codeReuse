{
 "cells": [
  {
   "cell_type": "markdown",
   "id": "d2a7f541",
   "metadata": {},
   "source": [
    "# Project-level Analysis"
   ]
  },
  {
   "cell_type": "code",
   "execution_count": 1,
   "id": "28008544",
   "metadata": {},
   "outputs": [],
   "source": [
    "x=list()\n",
    "classes=c(\"character\",\"integer\",\"integer\",\"integer\",\"integer\",\"integer\",\"integer\",\"integer\",\"integer\",\n",
    "          \"integer\",\"integer\",\"numeric\",\"numeric\",\"integer\",\"character\",\"integer\",\"integer\",\"integer\",\n",
    "          \"integer\",\"numeric\",\"numeric\",\"numeric\",\"numeric\")\n",
    "for(i in 0:2){\n",
    "    path=paste(\"../data/projects/sample.P2all.\",i,\"y\",sep=\"\")\n",
    "    x[[i+1]]=read.table(path,sep=\";\",colClasses=classes,na.strings=c(\"null\"))\n",
    "}\n",
    "names(x)=c(\"All\",\"1y\",\"2y\")"
   ]
  },
  {
   "cell_type": "code",
   "execution_count": 2,
   "id": "15ee2193",
   "metadata": {},
   "outputs": [],
   "source": [
    "for(i in 1:3) {\n",
    "    names(x[[i]])=c(\"p\",\"ncmt\",\"nblob\",\"na\",\"ncore\",\"nmc\",\"nf\",\"cs\",\"nfr\",\"gm\",\"gf\",\"et\",\"lt\",\"ns\",\n",
    "                    \"l\",\"nb\",\"cc\",\"bc\",\"bcc\",\"ad\",\"as\",\"acs\",\"ebt\")\n",
    "    x[[i]]$c=x[[i]]$cc>0\n",
    "    x[[i]]$cr=x[[i]]$cc/x[[i]]$nb\n",
    "    x[[i]]$br=x[[i]]$bc/x[[i]]$nb\n",
    "    x[[i]]$bcr=x[[i]]$bcc/x[[i]]$cc\n",
    "    x[[i]][is.na(x[[i]]$na),\"na\"]=1\n",
    "    x[[i]][is.na(x[[i]]$ncore),\"ncore\"]=1\n",
    "    x[[i]][is.na(x[[i]]$cs),\"cs\"]=1\n",
    "    x[[i]][is.na(x[[i]]$ns),\"ns\"]=0\n",
    "    x[[i]][is.na(x[[i]]$gm),\"gm\"]=0\n",
    "    x[[i]][is.na(x[[i]]$gf),\"gf\"]=0\n",
    "}"
   ]
  },
  {
   "cell_type": "code",
   "execution_count": null,
   "id": "27f10483",
   "metadata": {},
   "outputs": [],
   "source": []
  },
  {
   "cell_type": "code",
   "execution_count": 3,
   "id": "575f9a31",
   "metadata": {},
   "outputs": [],
   "source": [
    "tmp=list()\n",
    "for(i in 1:3) {\n",
    "    tmp[[i]]=names(table(x[[i]]$l)[table(x[[i]]$l)>1000])\n",
    "}\n",
    "tmp2=intersect(intersect(tmp[[1]],tmp[[2]]),tmp[[3]])\n",
    "for(i in 1:3) {\n",
    "    x[[i]]$ll=as.factor(ifelse(((x[[i]]$l %in% tmp2) & (x[[i]]$l != \"null\") & (x[[i]]$l != \"Unknown\")),\n",
    "                     as.character(x[[i]]$l), \"0ther\"))\n",
    "}\n",
    "ty=names(table(x[[i]]$ll))"
   ]
  },
  {
   "cell_type": "markdown",
   "id": "db1e1ef0",
   "metadata": {},
   "source": [
    "## Variables\n",
    "\n",
    "**From MongoDB:**  \n",
    "\n",
    "- p: Project  \n",
    "- ncmt: NumCommits  \n",
    "- nblob: NumBlobs  \n",
    "- na: NumAuthors  \n",
    "- ncore: NumCore  \n",
    "- nmc: NumActiveMon  \n",
    "- nf: NumFiles  \n",
    "- cs: CommunitySize  \n",
    "- nfr: NumForks  \n",
    "- gm: Gender.male  \n",
    "- gf: Gender.female  \n",
    "- et: EarliestCommitDate  \n",
    "- lt: LatestCommitDate  \n",
    "- ns: Number of stars  \n",
    "\n",
    "**Calculated in copy timeframe(1y/2y):**\n",
    "\n",
    "- l: Most common original blob language  \n",
    "- nb: Original blobs count  \n",
    "- cc: Copied blobs count  \n",
    "- bc: Original binary blobs count  \n",
    "- bcc: Copied binary blobs count  \n",
    "- ad: Average downstream projects count  \n",
    "- as: Average original blob size (excluding binary blobs)  \n",
    "- acs: Average copied blob size (excluding binary blobs)  \n",
    "- ebt: Earliest original blob time  \n",
    "- c: Whether project has copied blobs\n",
    "- cr: Copied to original blobs ratio (cc/nb)\n",
    "- br: Binary to original blobs ratio (bc/nb)\n",
    "- bcr: Binary to copied blobs ratio (bcc/cc)"
   ]
  },
  {
   "cell_type": "code",
   "execution_count": 476,
   "id": "ddb17813",
   "metadata": {
    "scrolled": true
   },
   "outputs": [
    {
     "name": "stdout",
     "output_type": "stream",
     "text": [
      "[1] \"All\"\n",
      "      p                  ncmt             nblob               na          \n",
      " Length:921103      Min.   :      1   Min.   :      1   Min.   :    1.00  \n",
      " Class :character   1st Qu.:      2   1st Qu.:      6   1st Qu.:    1.00  \n",
      " Mode  :character   Median :      4   Median :     24   Median :    1.00  \n",
      "                    Mean   :     46   Mean   :    396   Mean   :    2.14  \n",
      "                    3rd Qu.:     12   3rd Qu.:     85   3rd Qu.:    1.00  \n",
      "                    Max.   :6129261   Max.   :5332329   Max.   :40930.00  \n",
      "                                                                          \n",
      "     ncore                nmc                nf                cs          \n",
      " Min.   :    1.000   Min.   :  0.000   Min.   :      1   Min.   :    1.00  \n",
      " 1st Qu.:    1.000   1st Qu.:  1.000   1st Qu.:      4   1st Qu.:    1.00  \n",
      " Median :    1.000   Median :  1.000   Median :     17   Median :    1.00  \n",
      " Mean   :    1.493   Mean   :  2.209   Mean   :    430   Mean   :    2.04  \n",
      " 3rd Qu.:    1.000   3rd Qu.:  2.000   3rd Qu.:     62   3rd Qu.:    1.00  \n",
      " Max.   :26847.000   Max.   :288.000   Max.   :5397220   Max.   :82386.00  \n",
      "                                                                           \n",
      "      nfr                 gm                  gf                  et           \n",
      " Min.   :    0.00   Min.   :    0.000   Min.   :    0.000   Min.   :3.158e+08  \n",
      " 1st Qu.:    0.00   1st Qu.:    0.000   1st Qu.:    0.000   1st Qu.:1.498e+09  \n",
      " Median :    0.00   Median :    1.000   Median :    0.000   Median :1.556e+09  \n",
      " Mean   :    1.06   Mean   :    1.138   Mean   :    0.254   Mean   :1.540e+09  \n",
      " 3rd Qu.:    0.00   3rd Qu.:    1.000   3rd Qu.:    0.000   3rd Qu.:1.599e+09  \n",
      " Max.   :72162.00   Max.   :24613.000   Max.   :15832.000   Max.   :1.638e+09  \n",
      " NA's   :211                                                NA's   :13         \n",
      "       lt                  ns                 l                   nb         \n",
      " Min.   :8.536e+08   Min.   :     0.00   Length:921103      Min.   :      1  \n",
      " 1st Qu.:1.508e+09   1st Qu.:     0.00   Class :character   1st Qu.:      4  \n",
      " Median :1.565e+09   Median :     0.00   Mode  :character   Median :     13  \n",
      " Mean   :1.549e+09   Mean   :     2.33                      Mean   :    155  \n",
      " 3rd Qu.:1.608e+09   3rd Qu.:     0.00                      3rd Qu.:     46  \n",
      " Max.   :5.701e+09   Max.   :105423.00                      Max.   :4889588  \n",
      " NA's   :13                                                                  \n",
      "       cc                 bc               bcc                 ad         \n",
      " Min.   :     0.0   Min.   :      0   Min.   :    0.00   Min.   :    1.0  \n",
      " 1st Qu.:     0.0   1st Qu.:      0   1st Qu.:    0.00   1st Qu.:    1.0  \n",
      " Median :     0.0   Median :      0   Median :    0.00   Median :    1.4  \n",
      " Mean   :    10.3   Mean   :     39   Mean   :    2.86   Mean   :    8.0  \n",
      " 3rd Qu.:     1.0   3rd Qu.:      3   3rd Qu.:    0.00   3rd Qu.:    3.0  \n",
      " Max.   :474664.0   Max.   :3330978   Max.   :84693.00   Max.   :61037.2  \n",
      "                                                         NA's   :628133   \n",
      "       as                acs                ebt                NA         \n",
      " Min.   :       3   Min.   :       3   Min.   :0.000e+00   Mode :logical  \n",
      " 1st Qu.:     451   1st Qu.:     220   1st Qu.:1.498e+09   FALSE:628133   \n",
      " Median :     994   Median :     582   Median :1.556e+09   TRUE :292970   \n",
      " Mean   :   21359   Mean   :   30454   Mean   :1.540e+09                  \n",
      " 3rd Qu.:    2702   3rd Qu.:    1614   3rd Qu.:1.599e+09                  \n",
      " Max.   :82777011   Max.   :91356577   Max.   :1.638e+09                  \n",
      " NA's   :19513      NA's   :664000                                        \n",
      "       NA                NA               NA                NA        \n",
      " Min.   :0.00000   Min.   :0.0000   Min.   :0.0      0ther   :336745  \n",
      " 1st Qu.:0.00000   1st Qu.:0.0000   1st Qu.:0.0      Markdown:154577  \n",
      " Median :0.00000   Median :0.0000   Median :0.0      JS      :140045  \n",
      " Mean   :0.06088   Mean   :0.1321   Mean   :0.2      java    : 60857  \n",
      " 3rd Qu.:0.01887   3rd Qu.:0.1495   3rd Qu.:0.3      PY      : 54295  \n",
      " Max.   :1.00000   Max.   :1.0000   Max.   :1.0      php     : 32146  \n",
      "                                    NA's   :628133   (Other) :142438  \n",
      "     c                 cr                br              bcr         \n",
      " Mode :logical   Min.   :0.00000   Min.   :0.0000   Min.   :0.00000  \n",
      " FALSE:628133    1st Qu.:0.00000   1st Qu.:0.0000   1st Qu.:0.00000  \n",
      " TRUE :292970    Median :0.00000   Median :0.0000   Median :0.00000  \n",
      "                 Mean   :0.06088   Mean   :0.1321   Mean   :0.06706  \n",
      "                 3rd Qu.:0.01887   3rd Qu.:0.1495   3rd Qu.:0.00000  \n",
      "                 Max.   :1.00000   Max.   :1.0000   Max.   :1.00000  \n",
      "                                                                     \n",
      "[1] \"1y\"\n",
      "      p                  ncmt             nblob               na          \n",
      " Length:823803      Min.   :      1   Min.   :      1   Min.   :    1.00  \n",
      " Class :character   1st Qu.:      2   1st Qu.:      6   1st Qu.:    1.00  \n",
      " Mode  :character   Median :      4   Median :     25   Median :    1.00  \n",
      "                    Mean   :     50   Mean   :    412   Mean   :    2.24  \n",
      "                    3rd Qu.:     13   3rd Qu.:     90   3rd Qu.:    1.00  \n",
      "                    Max.   :6129261   Max.   :5332329   Max.   :40930.00  \n",
      "                                                                          \n",
      "     ncore                nmc               nf                cs          \n",
      " Min.   :    1.000   Min.   :  0.00   Min.   :      1   Min.   :    1.00  \n",
      " 1st Qu.:    1.000   1st Qu.:  1.00   1st Qu.:      4   1st Qu.:    1.00  \n",
      " Median :    1.000   Median :  1.00   Median :     17   Median :    1.00  \n",
      " Mean   :    1.533   Mean   :  2.32   Mean   :    445   Mean   :    2.16  \n",
      " 3rd Qu.:    1.000   3rd Qu.:  2.00   3rd Qu.:     66   3rd Qu.:    1.00  \n",
      " Max.   :26847.000   Max.   :288.00   Max.   :5397220   Max.   :82386.00  \n",
      "                                                                          \n",
      "      nfr                 gm                 gf                 et           \n",
      " Min.   :    0.00   Min.   :    0.00   Min.   :    0.00   Min.   :3.158e+08  \n",
      " 1st Qu.:    0.00   1st Qu.:    0.00   1st Qu.:    0.00   1st Qu.:1.489e+09  \n",
      " Median :    0.00   Median :    1.00   Median :    0.00   Median :1.545e+09  \n",
      " Mean   :    1.19   Mean   :    1.21   Mean   :    0.27   Mean   :1.529e+09  \n",
      " 3rd Qu.:    0.00   3rd Qu.:    1.00   3rd Qu.:    0.00   3rd Qu.:1.587e+09  \n",
      " Max.   :72162.00   Max.   :24613.00   Max.   :15832.00   Max.   :1.631e+09  \n",
      " NA's   :200                                              NA's   :13         \n",
      "       lt                  ns                l                   nb         \n",
      " Min.   :8.536e+08   Min.   :     0.0   Length:823803      Min.   :      1  \n",
      " 1st Qu.:1.499e+09   1st Qu.:     0.0   Class :character   1st Qu.:      4  \n",
      " Median :1.554e+09   Median :     0.0   Mode  :character   Median :     13  \n",
      " Mean   :1.540e+09   Mean   :     2.6                      Mean   :    161  \n",
      " 3rd Qu.:1.596e+09   3rd Qu.:     0.0                      3rd Qu.:     48  \n",
      " Max.   :5.701e+09   Max.   :105423.0                      Max.   :4795549  \n",
      " NA's   :13                                                                 \n",
      "       cc                 bc               bcc                 ad         \n",
      " Min.   :     0.0   Min.   :      0   Min.   :    0.00   Min.   :    1.0  \n",
      " 1st Qu.:     0.0   1st Qu.:      0   1st Qu.:    0.00   1st Qu.:    1.0  \n",
      " Median :     0.0   Median :      0   Median :    0.00   Median :    1.1  \n",
      " Mean   :     9.2   Mean   :     40   Mean   :    2.51   Mean   :    4.8  \n",
      " 3rd Qu.:     1.0   3rd Qu.:      4   3rd Qu.:    0.00   3rd Qu.:    2.0  \n",
      " Max.   :425547.0   Max.   :3330978   Max.   :70652.00   Max.   :61031.2  \n",
      "                                                         NA's   :582852   \n",
      "       as                acs                ebt                NA         \n",
      " Min.   :       3   Min.   :       3   Min.   :0.000e+00   Mode :logical  \n",
      " 1st Qu.:     452   1st Qu.:     250   1st Qu.:1.490e+09   FALSE:582852   \n",
      " Median :     993   Median :     628   Median :1.545e+09   TRUE :240951   \n",
      " Mean   :   20389   Mean   :   29777   Mean   :1.530e+09                  \n",
      " 3rd Qu.:    2630   3rd Qu.:    1693   3rd Qu.:1.587e+09                  \n",
      " Max.   :82777011   Max.   :82690872   Max.   :1.620e+09                  \n",
      " NA's   :18180      NA's   :613887                                        \n",
      "       NA                NA               NA                NA        \n",
      " Min.   :0.00000   Min.   :0.0000   Min.   :0.0      0ther   :305572  \n",
      " 1st Qu.:0.00000   1st Qu.:0.0000   1st Qu.:0.0      Markdown:135720  \n",
      " Median :0.00000   Median :0.0000   Median :0.0      JS      :122758  \n",
      " Mean   :0.05257   Mean   :0.1347   Mean   :0.2      java    : 55382  \n",
      " 3rd Qu.:0.01042   3rd Qu.:0.1556   3rd Qu.:0.3      PY      : 48080  \n",
      " Max.   :1.00000   Max.   :1.0000   Max.   :1.0      php     : 29881  \n",
      "                                    NA's   :582852   (Other) :126410  \n",
      "     c                 cr                br              bcr         \n",
      " Mode :logical   Min.   :0.00000   Min.   :0.0000   Min.   :0.00000  \n",
      " FALSE:582852    1st Qu.:0.00000   1st Qu.:0.0000   1st Qu.:0.00000  \n",
      " TRUE :240951    Median :0.00000   Median :0.0000   Median :0.00000  \n",
      "                 Mean   :0.05257   Mean   :0.1347   Mean   :0.06266  \n",
      "                 3rd Qu.:0.01042   3rd Qu.:0.1556   3rd Qu.:0.00000  \n",
      "                 Max.   :1.00000   Max.   :1.0000   Max.   :1.00000  \n",
      "                                                                     \n",
      "[1] \"2y\"\n",
      "      p                  ncmt             nblob               na          \n",
      " Length:623876      Min.   :      1   Min.   :      1   Min.   :    1.00  \n",
      " Class :character   1st Qu.:      2   1st Qu.:      7   1st Qu.:    1.00  \n",
      " Mode  :character   Median :      5   Median :     27   Median :    1.00  \n",
      "                    Mean   :     61   Mean   :    434   Mean   :    2.52  \n",
      "                    3rd Qu.:     14   3rd Qu.:     98   3rd Qu.:    2.00  \n",
      "                    Max.   :6129261   Max.   :5332329   Max.   :40930.00  \n",
      "                                                                          \n",
      "     ncore                nmc               nf                  cs         \n",
      " Min.   :    1.000   Min.   :  0.00   Min.   :      1.0   Min.   :    1.0  \n",
      " 1st Qu.:    1.000   1st Qu.:  1.00   1st Qu.:      4.0   1st Qu.:    1.0  \n",
      " Median :    1.000   Median :  1.00   Median :     18.0   Median :    1.0  \n",
      " Mean   :    1.642   Mean   :  2.52   Mean   :    447.3   Mean   :    2.5  \n",
      " 3rd Qu.:    1.000   3rd Qu.:  2.00   3rd Qu.:     71.0   3rd Qu.:    1.0  \n",
      " Max.   :26847.000   Max.   :288.00   Max.   :2671945.0   Max.   :82386.0  \n",
      "                                                                           \n",
      "      nfr                 gm                  gf                  et           \n",
      " Min.   :    0.00   Min.   :    0.000   Min.   :    0.000   Min.   :3.158e+08  \n",
      " 1st Qu.:    0.00   1st Qu.:    0.000   1st Qu.:    0.000   1st Qu.:1.469e+09  \n",
      " Median :    0.00   Median :    1.000   Median :    0.000   Median :1.521e+09  \n",
      " Mean   :    1.53   Mean   :    1.392   Mean   :    0.314   Mean   :1.505e+09  \n",
      " 3rd Qu.:    0.00   3rd Qu.:    1.000   3rd Qu.:    0.000   3rd Qu.:1.557e+09  \n",
      " Max.   :72162.00   Max.   :24613.000   Max.   :15832.000   Max.   :1.631e+09  \n",
      " NA's   :172                                                NA's   :13         \n",
      "       lt                  ns                 l                   nb         \n",
      " Min.   :8.536e+08   Min.   :     0.00   Length:623876      Min.   :      1  \n",
      " 1st Qu.:1.480e+09   1st Qu.:     0.00   Class :character   1st Qu.:      4  \n",
      " Median :1.531e+09   Median :     0.00   Mode  :character   Median :     14  \n",
      " Mean   :1.518e+09   Mean   :     3.35                      Mean   :    165  \n",
      " 3rd Qu.:1.567e+09   3rd Qu.:     0.00                      3rd Qu.:     51  \n",
      " Max.   :5.701e+09   Max.   :105423.00                      Max.   :3331383  \n",
      " NA's   :13                                                                  \n",
      "       cc                 bc               bcc                 ad         \n",
      " Min.   :     0.0   Min.   :      0   Min.   :    0.00   Min.   :    1.0  \n",
      " 1st Qu.:     0.0   1st Qu.:      0   1st Qu.:    0.00   1st Qu.:    1.0  \n",
      " Median :     0.0   Median :      0   Median :    0.00   Median :    1.3  \n",
      " Mean   :    11.5   Mean   :     42   Mean   :    3.04   Mean   :    6.5  \n",
      " 3rd Qu.:     1.0   3rd Qu.:      4   3rd Qu.:    0.00   3rd Qu.:    2.7  \n",
      " Max.   :453498.0   Max.   :3330978   Max.   :50412.00   Max.   :61031.8  \n",
      "                                                         NA's   :417217   \n",
      "       as                acs                ebt                NA         \n",
      " Min.   :       3   Min.   :       3   Min.   :0.000e+00   Mode :logical  \n",
      " 1st Qu.:     442   1st Qu.:     220   1st Qu.:1.470e+09   FALSE:417217   \n",
      " Median :     971   Median :     582   Median :1.522e+09   TRUE :206659   \n",
      " Mean   :   18176   Mean   :   29436   Mean   :1.506e+09                  \n",
      " 3rd Qu.:    2407   3rd Qu.:    1568   3rd Qu.:1.557e+09                  \n",
      " Max.   :82777011   Max.   :82690872   Max.   :1.588e+09                  \n",
      " NA's   :15363      NA's   :442533                                        \n",
      "       NA               NA               NA                NA        \n",
      " Min.   :0.0000   Min.   :0.0000   Min.   :0.0      0ther   :237508  \n",
      " 1st Qu.:0.0000   1st Qu.:0.0000   1st Qu.:0.0      Markdown:102393  \n",
      " Median :0.0000   Median :0.0000   Median :0.0      JS      : 86081  \n",
      " Mean   :0.0598   Mean   :0.1407   Mean   :0.2      java    : 43185  \n",
      " 3rd Qu.:0.0211   3rd Qu.:0.1667   3rd Qu.:0.3      PY      : 34272  \n",
      " Max.   :1.0000   Max.   :1.0000   Max.   :1.0      php     : 24672  \n",
      "                                   NA's   :417217   (Other) : 95765  \n",
      "     c                 cr               br              bcr         \n",
      " Mode :logical   Min.   :0.0000   Min.   :0.0000   Min.   :0.00000  \n",
      " FALSE:417217    1st Qu.:0.0000   1st Qu.:0.0000   1st Qu.:0.00000  \n",
      " TRUE :206659    Median :0.0000   Median :0.0000   Median :0.00000  \n",
      "                 Mean   :0.0598   Mean   :0.1407   Mean   :0.07071  \n",
      "                 3rd Qu.:0.0211   3rd Qu.:0.1667   3rd Qu.:0.00000  \n",
      "                 Max.   :1.0000   Max.   :1.0000   Max.   :1.00000  \n",
      "                                                                    \n"
     ]
    }
   ],
   "source": [
    "for(i in 1:3) {\n",
    "    print(names(x)[i])\n",
    "    print(summary(x[[i]]))\n",
    "}"
   ]
  },
  {
   "cell_type": "markdown",
   "id": "47a2192e",
   "metadata": {},
   "source": [
    "### 1. What fraction of projects have copied blobs?"
   ]
  },
  {
   "cell_type": "code",
   "execution_count": 128,
   "id": "7d384f30",
   "metadata": {
    "scrolled": true
   },
   "outputs": [
    {
     "name": "stdout",
     "output_type": "stream",
     "text": [
      "[1] \"All\"               \"0.318064320711147\"\n",
      "[1] \"1y\"               \"0.29248618905248\"\n",
      "[1] \"2y\"                \"0.331250120216197\"\n"
     ]
    }
   ],
   "source": [
    "for(i in 1:3) {\n",
    "    print(c(names(x)[i],sum(x[[i]]$c)/dim(x[[i]])[1]))\n",
    "}"
   ]
  },
  {
   "cell_type": "markdown",
   "id": "044a997d",
   "metadata": {},
   "source": [
    "### 2. Does propensity to copy vary by language?"
   ]
  },
  {
   "cell_type": "code",
   "execution_count": 129,
   "id": "df00c597",
   "metadata": {},
   "outputs": [
    {
     "name": "stdout",
     "output_type": "stream",
     "text": [
      "[1] \"1y\"\n",
      "                Df Sum Sq Mean Sq F value Pr(>F)    \n",
      "ll              20   8613   430.7    2192 <2e-16 ***\n",
      "Residuals   823782 161863     0.2                   \n",
      "---\n",
      "Signif. codes:  0 '***' 0.001 '**' 0.01 '*' 0.05 '.' 0.1 ' ' 1\n",
      "[1] \"2y\"\n",
      "                Df Sum Sq Mean Sq F value Pr(>F)    \n",
      "ll              20   7224   361.2    1720 <2e-16 ***\n",
      "Residuals   623855 130979     0.2                   \n",
      "---\n",
      "Signif. codes:  0 '***' 0.001 '**' 0.01 '*' 0.05 '.' 0.1 ' ' 1\n"
     ]
    }
   ],
   "source": [
    "for(i in 2:3){\n",
    "    print(names(x)[i])\n",
    "    test=aov(c ~ ll, data=x[[i]])\n",
    "    print(summary(test));\n",
    "}"
   ]
  },
  {
   "cell_type": "markdown",
   "id": "1b6f100d",
   "metadata": {},
   "source": [
    "#### 2.1. Which languages are different?"
   ]
  },
  {
   "cell_type": "code",
   "execution_count": 447,
   "id": "4b293099",
   "metadata": {
    "scrolled": false
   },
   "outputs": [
    {
     "name": "stdout",
     "output_type": "stream",
     "text": [
      "[1] \"2y\"\n",
      "[1] \"0ther\"                 \"0.354514374252657\"     \"t: 30.431312 0.000000\"\n",
      "[1] \"C\"                    \"0.332554692062351\"    \"t: 0.420724 0.673960\"\n",
      "[1] \"CSS\"                   \"0.328758577666875\"     \"t: -0.477873 0.632753\"\n",
      "[1] \"Cs\"                    \"0.370690232309031\"     \"t: 10.107634 0.000000\"\n",
      "[1] \"Fml\"                   \"0.320512820512821\"     \"t: -0.787390 0.431213\"\n",
      "[1] \"Go\"                    \"0.313956340446407\"     \"t: -2.386601 0.017050\"\n",
      "[1] \"JS\"                    \"0.412692696413843\"     \"t: 52.657866 0.000000\"\n",
      "[1] \"Kotlin\"               \"0.400225479143179\"    \"t: 5.937019 0.000000\"\n",
      "[1] \"Markdown\"                \"0.116931821511236\"      \n",
      "[3] \"t: -212.408878 0.000000\"\n",
      "[1] \"ObjectiveC\"           \"0.400234741784038\"    \"t: 9.222776 0.000000\"\n",
      "[1] \"PY\"                    \"0.322683239962652\"     \"t: -3.488192 0.000487\"\n",
      "[1] \"R\"                     \"0.28483396097227\"      \"t: -5.569183 0.000000\"\n",
      "[1] \"Rust\"                  \"0.315217391304348\"     \"t: -1.147067 0.251602\"\n",
      "[1] \"Scala\"                \"0.36073500967118\"     \"t: 1.975103 0.048522\"\n",
      "[1] \"Sql\"                    \"0.203301476976542\"      \"t: -10.787513 0.000000\"\n",
      "[1] \"Swift\"                \"0.378937244529935\"    \"t: 6.361074 0.000000\"\n",
      "[1] \"TypeScript\"            \"0.623650450908167\"     \"t: 53.911454 0.000000\"\n",
      "[1] \"ipy\"                    \"0.209455128205128\"      \"t: -23.720484 0.000000\"\n",
      "[1] \"java\"                  \"0.362185944193586\"     \"t: 13.885329 0.000000\"\n",
      "[1] \"php\"                   \"0.464494163424125\"     \"t: 42.917845 0.000000\"\n",
      "[1] \"rb\"                    \"0.512272635066604\"     \"t: 44.634776 0.000000\"\n"
     ]
    }
   ],
   "source": [
    "sv=0.005\n",
    "for(i in 3:3){\n",
    "    print(names(x)[i])\n",
    "    for(l in ty){ \n",
    "        test=t.test(x[[i]][x[[i]]$ll==l,\"c\"],x[[i]][x[[i]]$ll!=l,\"c\"])\n",
    "        mean=sum(x[[i]][x[[i]]$ll==l,\"c\"])/dim(x[[i]][x[[i]]$ll==l,])[1]\n",
    "        print(c(l,mean,sprintf(\"t: %f %f\",test$statistic, test$p.value)))        \n",
    "    }\n",
    "}"
   ]
  },
  {
   "cell_type": "code",
   "execution_count": 448,
   "id": "ee4cd331",
   "metadata": {
    "scrolled": false
   },
   "outputs": [
    {
     "name": "stdout",
     "output_type": "stream",
     "text": [
      "[1] \"2y\"\n",
      "\n",
      "Call:\n",
      "glm(formula = c ~ ll, family = binomial, data = x[[i]])\n",
      "\n",
      "Deviance Residuals: \n",
      "    Min       1Q   Median       3Q      Max  \n",
      "-1.3980  -0.9357  -0.8827   1.3304   2.0718  \n",
      "\n",
      "Coefficients:\n",
      "              Estimate Std. Error  z value Pr(>|z|)    \n",
      "(Intercept)  -0.599254   0.004289 -139.704  < 2e-16 ***\n",
      "llC          -0.097399   0.014859   -6.555 5.56e-11 ***\n",
      "llCSS        -0.114551   0.024162   -4.741 2.13e-06 ***\n",
      "llCs          0.069997   0.017475    4.005 6.19e-05 ***\n",
      "llFml        -0.152162   0.062793   -2.423  0.01538 *  \n",
      "llGo         -0.182433   0.034017   -5.363 8.19e-08 ***\n",
      "llJS          0.246409   0.008144   30.256  < 2e-16 ***\n",
      "llKotlin      0.194728   0.048649    4.003 6.26e-05 ***\n",
      "llMarkdown   -1.422557   0.010629 -133.836  < 2e-16 ***\n",
      "llObjectiveC  0.194767   0.031564    6.171 6.81e-10 ***\n",
      "llPY         -0.142214   0.012325  -11.539  < 2e-16 ***\n",
      "llR          -0.321354   0.041219   -7.796 6.38e-15 ***\n",
      "llRust       -0.176585   0.064921   -2.720  0.00653 ** \n",
      "llScala       0.027079   0.064902    0.417  0.67651    \n",
      "llSql        -0.766532   0.073365  -10.448  < 2e-16 ***\n",
      "llSwift       0.105193   0.032250    3.262  0.00111 ** \n",
      "llTypeScript  1.104326   0.023655   46.685  < 2e-16 ***\n",
      "llipy        -0.728959   0.031404  -23.212  < 2e-16 ***\n",
      "lljava        0.033365   0.010892    3.063  0.00219 ** \n",
      "llphp         0.456991   0.013467   33.935  < 2e-16 ***\n",
      "llrb          0.648354   0.017001   38.136  < 2e-16 ***\n",
      "---\n",
      "Signif. codes:  0 '***' 0.001 '**' 0.01 '*' 0.05 '.' 0.1 ' ' 1\n",
      "\n",
      "(Dispersion parameter for binomial family taken to be 1)\n",
      "\n",
      "    Null deviance: 792398  on 623875  degrees of freedom\n",
      "Residual deviance: 756210  on 623855  degrees of freedom\n",
      "AIC: 756252\n",
      "\n",
      "Number of Fisher Scoring iterations: 4\n",
      "\n"
     ]
    }
   ],
   "source": [
    "for(i in 3:3) {\n",
    "    print(names(x)[i])\n",
    "    glm=glm(c~ll, data=x[[i]], family=binomial)\n",
    "    print(summary(glm))\n",
    "}"
   ]
  },
  {
   "cell_type": "markdown",
   "id": "72742b5f",
   "metadata": {},
   "source": [
    "### 3. Does copied blobs ratio differ by language?"
   ]
  },
  {
   "cell_type": "code",
   "execution_count": 451,
   "id": "1c74707d",
   "metadata": {},
   "outputs": [
    {
     "name": "stdout",
     "output_type": "stream",
     "text": [
      "[1] \"All\"                \"0.0608813527850081\"\n",
      "[1] \"1y\"                 \"0.0525710314357137\"\n",
      "[1] \"2y\"                \"0.059803944369165\"\n"
     ]
    }
   ],
   "source": [
    "for(i in 1:3){\n",
    "    mean=sum(x[[i]]$cr)/dim(x[[i]])[1]\n",
    "    print(c(names(x)[i],mean))\n",
    "}"
   ]
  },
  {
   "cell_type": "code",
   "execution_count": 131,
   "id": "c07a1f10",
   "metadata": {
    "scrolled": true
   },
   "outputs": [
    {
     "name": "stdout",
     "output_type": "stream",
     "text": [
      "[1] \"1y\"\n",
      "                Df Sum Sq Mean Sq F value Pr(>F)    \n",
      "ll              20    118   5.878   230.9 <2e-16 ***\n",
      "Residuals   823782  20976   0.025                   \n",
      "---\n",
      "Signif. codes:  0 '***' 0.001 '**' 0.01 '*' 0.05 '.' 0.1 ' ' 1\n",
      "[1] \"2y\"\n",
      "                Df Sum Sq Mean Sq F value Pr(>F)    \n",
      "ll              20     67   3.337   118.2 <2e-16 ***\n",
      "Residuals   623855  17617   0.028                   \n",
      "---\n",
      "Signif. codes:  0 '***' 0.001 '**' 0.01 '*' 0.05 '.' 0.1 ' ' 1\n"
     ]
    }
   ],
   "source": [
    "for(i in 2:3){\n",
    "    print(names(x)[i])\n",
    "    test=aov(cr ~ ll, data=x[[i]])\n",
    "    print(summary(test));\n",
    "}"
   ]
  },
  {
   "cell_type": "markdown",
   "id": "9fdf37ca",
   "metadata": {},
   "source": [
    "#### 3.1. Which languages are different?"
   ]
  },
  {
   "cell_type": "code",
   "execution_count": 452,
   "id": "af80ddba",
   "metadata": {
    "scrolled": false
   },
   "outputs": [
    {
     "name": "stdout",
     "output_type": "stream",
     "text": [
      "[1] \"2y\"\n",
      "[1] \"0ther\"                 \"0.0668074657317744\"    \"t: 25.324852 0.000000\"\n",
      "[1] \"C\"                     \"0.0574663555703928\"    \"t: -2.162675 0.030576\"\n",
      "[1] \"CSS\"                   \"0.097748145248851\"     \"t: 15.326840 0.000000\"\n",
      "[1] \"Cs\"                     \"0.0432788160719275\"     \"t: -14.945456 0.000000\"\n",
      "[1] \"Fml\"                   \"0.0325978521672272\"    \"t: -8.673058 0.000000\"\n",
      "[1] \"Go\"                     \"0.0407526539301348\"     \"t: -10.082458 0.000000\"\n",
      "[1] \"JS\"                   \"0.0620186215381198\"   \"t: 4.376852 0.000012\"\n",
      "[1] \"Kotlin\"                \"0.0336586514689889\"    \"t: -9.675417 0.000000\"\n",
      "[1] \"Markdown\"               \"0.0473323457508163\"     \"t: -24.707228 0.000000\"\n",
      "[1] \"ObjectiveC\"            \"0.0565318053931747\"    \"t: -1.446284 0.148170\"\n",
      "[1] \"PY\"                     \"0.0474306365439212\"     \"t: -16.315072 0.000000\"\n",
      "[1] \"R\"                     \"0.0585286982359239\"    \"t: -0.416818 0.676842\"\n",
      "[1] \"Rust\"                  \"0.0305404604237794\"    \"t: -9.273970 0.000000\"\n",
      "[1] \"Scala\"                 \"0.031235869492959\"     \"t: -9.185973 0.000000\"\n",
      "[1] \"Sql\"                  \"0.0644643867835498\"   \"t: 0.802956 0.422165\"\n",
      "[1] \"Swift\"                 \"0.0417619793216124\"    \"t: -9.599168 0.000000\"\n",
      "[1] \"TypeScript\"           \"0.0707294454841545\"   \"t: 6.516792 0.000000\"\n",
      "[1] \"ipy\"                   \"0.0519323651246952\"    \"t: -3.883916 0.000104\"\n",
      "[1] \"java\"                   \"0.0522338559246776\"     \"t: -10.508451 0.000000\"\n",
      "[1] \"php\"                   \"0.0768492702599332\"    \"t: 15.130414 0.000000\"\n",
      "[1] \"rb\"                   \"0.0609075124623016\"   \"t: 0.951676 0.341276\"\n"
     ]
    }
   ],
   "source": [
    "sv=0.005\n",
    "for(i in 3:3){\n",
    "    print(names(x)[i])\n",
    "    for(l in ty){ \n",
    "        test=t.test(x[[i]][x[[i]]$ll==l,\"cr\"],x[[i]][x[[i]]$ll!=l,\"cr\"])\n",
    "        mean=sum(x[[i]][x[[i]]$ll==l,\"cr\"])/dim(x[[i]][x[[i]]$ll==l,])[1]\n",
    "        print(c(l,mean,sprintf(\"t: %f %f\",test$statistic, test$p.value)))\n",
    "    }\n",
    "}"
   ]
  },
  {
   "cell_type": "code",
   "execution_count": 436,
   "id": "568759e9",
   "metadata": {
    "scrolled": true
   },
   "outputs": [
    {
     "name": "stdout",
     "output_type": "stream",
     "text": [
      "[1] \"1y\"\n",
      "\n",
      "Call:\n",
      "lm(formula = cr ~ ll, data = x[[i]])\n",
      "\n",
      "Residuals:\n",
      "     Min       1Q   Median       3Q      Max \n",
      "-0.09212 -0.06023 -0.04449 -0.03555  0.97688 \n",
      "\n",
      "Coefficients:\n",
      "               Estimate Std. Error t value Pr(>|t|)    \n",
      "(Intercept)   0.0602310  0.0002887 208.653  < 2e-16 ***\n",
      "llC          -0.0126833  0.0010137 -12.512  < 2e-16 ***\n",
      "llCSS         0.0318918  0.0014159  22.523  < 2e-16 ***\n",
      "llCs         -0.0219777  0.0011857 -18.535  < 2e-16 ***\n",
      "llFml        -0.0322901  0.0043768  -7.378 1.61e-13 ***\n",
      "llGo         -0.0283086  0.0021980 -12.879  < 2e-16 ***\n",
      "llJS         -0.0010494  0.0005392  -1.946 0.051645 .  \n",
      "llKotlin     -0.0276177  0.0029787  -9.272  < 2e-16 ***\n",
      "llMarkdown   -0.0246830  0.0005205 -47.420  < 2e-16 ***\n",
      "llObjectiveC -0.0130377  0.0023493  -5.550 2.87e-08 ***\n",
      "llPY         -0.0206444  0.0007829 -26.369  < 2e-16 ***\n",
      "llR          -0.0121334  0.0026395  -4.597 4.29e-06 ***\n",
      "llRust       -0.0345624  0.0040350  -8.566  < 2e-16 ***\n",
      "llScala      -0.0371121  0.0046680  -7.950 1.86e-15 ***\n",
      "llSql        -0.0020270  0.0040634  -0.499 0.617879    \n",
      "llSwift      -0.0252061  0.0022096 -11.408  < 2e-16 ***\n",
      "llTypeScript  0.0017468  0.0014482   1.206 0.227753    \n",
      "llipy        -0.0177359  0.0015748 -11.262  < 2e-16 ***\n",
      "lljava       -0.0157448  0.0007369 -21.365  < 2e-16 ***\n",
      "llphp         0.0079065  0.0009672   8.175 2.97e-16 ***\n",
      "llrb         -0.0048872  0.0012905  -3.787 0.000153 ***\n",
      "---\n",
      "Signif. codes:  0 '***' 0.001 '**' 0.01 '*' 0.05 '.' 0.1 ' ' 1\n",
      "\n",
      "Residual standard error: 0.1596 on 823782 degrees of freedom\n",
      "Multiple R-squared:  0.005574,\tAdjusted R-squared:  0.005549 \n",
      "F-statistic: 230.9 on 20 and 823782 DF,  p-value: < 2.2e-16\n",
      "\n",
      "[1] \"2y\"\n",
      "\n",
      "Call:\n",
      "lm(formula = cr ~ ll, data = x[[i]])\n",
      "\n",
      "Residuals:\n",
      "     Min       1Q   Median       3Q      Max \n",
      "-0.09775 -0.06681 -0.05181 -0.03729  0.96946 \n",
      "\n",
      "Coefficients:\n",
      "               Estimate Std. Error t value Pr(>|t|)    \n",
      "(Intercept)   0.0668075  0.0003448 193.751  < 2e-16 ***\n",
      "llC          -0.0093411  0.0011779  -7.930 2.19e-15 ***\n",
      "llCSS         0.0309407  0.0019084  16.213  < 2e-16 ***\n",
      "llCs         -0.0235286  0.0014175 -16.598  < 2e-16 ***\n",
      "llFml        -0.0342096  0.0049249  -6.946 3.75e-12 ***\n",
      "llGo         -0.0260548  0.0026543  -9.816  < 2e-16 ***\n",
      "llJS         -0.0047888  0.0006685  -7.163 7.89e-13 ***\n",
      "llKotlin     -0.0331488  0.0040046  -8.278  < 2e-16 ***\n",
      "llMarkdown   -0.0194751  0.0006282 -31.000  < 2e-16 ***\n",
      "llObjectiveC -0.0102757  0.0025976  -3.956 7.63e-05 ***\n",
      "llPY         -0.0193768  0.0009710 -19.956  < 2e-16 ***\n",
      "llR          -0.0082788  0.0031283  -2.646  0.00814 ** \n",
      "llRust       -0.0362670  0.0050692  -7.154 8.42e-13 ***\n",
      "llScala      -0.0355716  0.0052372  -6.792 1.11e-11 ***\n",
      "llSql        -0.0023431  0.0049651  -0.472  0.63699    \n",
      "llSwift      -0.0250455  0.0026284  -9.529  < 2e-16 ***\n",
      "llTypeScript  0.0039220  0.0019250   2.037  0.04161 *  \n",
      "llipy        -0.0148751  0.0021551  -6.902 5.12e-12 ***\n",
      "lljava       -0.0145736  0.0008791 -16.578  < 2e-16 ***\n",
      "llphp         0.0100418  0.0011240   8.934  < 2e-16 ***\n",
      "llrb         -0.0059000  0.0014242  -4.143 3.43e-05 ***\n",
      "---\n",
      "Signif. codes:  0 '***' 0.001 '**' 0.01 '*' 0.05 '.' 0.1 ' ' 1\n",
      "\n",
      "Residual standard error: 0.168 on 623855 degrees of freedom\n",
      "Multiple R-squared:  0.003775,\tAdjusted R-squared:  0.003743 \n",
      "F-statistic: 118.2 on 20 and 623855 DF,  p-value: < 2.2e-16\n",
      "\n"
     ]
    }
   ],
   "source": [
    "for(i in 2:3) {\n",
    "    print(names(x)[i])\n",
    "    lm=lm(cr~ll, data=x[[i]])\n",
    "    print(summary(lm))\n",
    "}"
   ]
  },
  {
   "cell_type": "markdown",
   "id": "5b5129bc",
   "metadata": {},
   "source": [
    "### 4. Are binary blobs being copied more?"
   ]
  },
  {
   "cell_type": "code",
   "execution_count": 89,
   "id": "074f308f",
   "metadata": {
    "scrolled": true
   },
   "outputs": [
    {
     "name": "stdout",
     "output_type": "stream",
     "text": [
      "[1] \"1y\"\n",
      "\n",
      "\tWelch Two Sample t-test\n",
      "\n",
      "data:  x[[i]]$bcr and x[[i]]$br\n",
      "t = 99.91, df = 308790, p-value < 2.2e-16\n",
      "alternative hypothesis: true difference in means is not equal to 0\n",
      "95 percent confidence interval:\n",
      " 0.07799839 0.08111986\n",
      "sample estimates:\n",
      "mean of x mean of y \n",
      "0.2142382 0.1346790 \n",
      "\n",
      "[1] \"2y\"\n",
      "\n",
      "\tWelch Two Sample t-test\n",
      "\n",
      "data:  x[[i]]$bcr and x[[i]]$br\n",
      "t = 84.408, df = 277783, p-value < 2.2e-16\n",
      "alternative hypothesis: true difference in means is not equal to 0\n",
      "95 percent confidence interval:\n",
      " 0.07109495 0.07447513\n",
      "sample estimates:\n",
      "mean of x mean of y \n",
      "0.2134628 0.1406778 \n",
      "\n"
     ]
    }
   ],
   "source": [
    "for(i in 2:3) {\n",
    "    print(names(x)[i])\n",
    "    print(t.test(x[[i]]$bcr,x[[i]]$br))\n",
    "}"
   ]
  },
  {
   "cell_type": "markdown",
   "id": "a06c7002",
   "metadata": {},
   "source": [
    "#### 4.1. Is this the case for all languages?"
   ]
  },
  {
   "cell_type": "code",
   "execution_count": 21,
   "id": "c801f980",
   "metadata": {},
   "outputs": [
    {
     "data": {
      "text/html": [
       "<strong>mean of x:</strong> 0.0758960414856814"
      ],
      "text/latex": [
       "\\textbf{mean of x:} 0.0758960414856814"
      ],
      "text/markdown": [
       "**mean of x:** 0.0758960414856814"
      ],
      "text/plain": [
       " mean of x \n",
       "0.07589604 "
      ]
     },
     "metadata": {},
     "output_type": "display_data"
    }
   ],
   "source": [
    "test$estimate[1]"
   ]
  },
  {
   "cell_type": "code",
   "execution_count": 4,
   "id": "e5d6faad",
   "metadata": {
    "scrolled": false
   },
   "outputs": [
    {
     "name": "stdout",
     "output_type": "stream",
     "text": [
      "[1] \"2y\"\n",
      "[1] \"0ther\"                                 \n",
      "[2] \"br: 0.224816 bcr: 0.276575 p: 0.000000\"\n",
      "[1] \"C\"                                     \n",
      "[2] \"br: 0.110686 bcr: 0.155031 p: 0.000000\"\n",
      "[1] \"CSS\"                                   \n",
      "[2] \"br: 0.234134 bcr: 0.544244 p: 0.000000\"\n",
      "[1] \"Cs\"                                    \n",
      "[2] \"br: 0.109747 bcr: 0.211713 p: 0.000000\"\n",
      "[1] \"Fml\"                                   \n",
      "[2] \"br: 0.045198 bcr: 0.074478 p: 0.017064\"\n",
      "[1] \"Go\"                                    \n",
      "[2] \"br: 0.037749 bcr: 0.061179 p: 0.000152\"\n",
      "[1] \"JS\"                                    \n",
      "[2] \"br: 0.054302 bcr: 0.142895 p: 0.000000\"\n",
      "[1] \"Kotlin\"                                \n",
      "[2] \"br: 0.058776 bcr: 0.124781 p: 0.000000\"\n",
      "[1] \"Markdown\"                              \n",
      "[2] \"br: 0.075642 bcr: 0.206201 p: 0.000000\"\n",
      "[1] \"ObjectiveC\"                            \n",
      "[2] \"br: 0.150880 bcr: 0.228701 p: 0.000000\"\n",
      "[1] \"PY\"                                    \n",
      "[2] \"br: 0.137531 bcr: 0.146907 p: 0.003515\"\n",
      "[1] \"R\"                                     \n",
      "[2] \"br: 0.110085 bcr: 0.175527 p: 0.000000\"\n",
      "[1] \"Rust\"                                  \n",
      "[2] \"br: 0.035502 bcr: 0.108275 p: 0.000003\"\n",
      "[1] \"Scala\"                                 \n",
      "[2] \"br: 0.043240 bcr: 0.087535 p: 0.001091\"\n",
      "[1] \"Sql\"                                   \n",
      "[2] \"br: 0.152535 bcr: 0.254483 p: 0.000125\"\n",
      "[1] \"Swift\"                                 \n",
      "[2] \"br: 0.126007 bcr: 0.209574 p: 0.000000\"\n",
      "[1] \"TypeScript\"                            \n",
      "[2] \"br: 0.028174 bcr: 0.060414 p: 0.000000\"\n",
      "[1] \"ipy\"                                   \n",
      "[2] \"br: 0.123285 bcr: 0.251832 p: 0.000000\"\n",
      "[1] \"java\"                                  \n",
      "[2] \"br: 0.124513 bcr: 0.195639 p: 0.000000\"\n",
      "[1] \"php\"                                   \n",
      "[2] \"br: 0.087544 bcr: 0.213859 p: 0.000000\"\n",
      "[1] \"rb\"                                    \n",
      "[2] \"br: 0.045315 bcr: 0.075896 p: 0.000000\"\n"
     ]
    }
   ],
   "source": [
    "sv=0.005\n",
    "for(i in 3:3){\n",
    "    print(names(x)[i])\n",
    "    for(l in ty){\n",
    "        data=x[[i]][x[[i]]$ll==l,]\n",
    "        n=dim(data)[1]\n",
    "        test=t.test(data$br,data$bcr)\n",
    "        print(c(l,sprintf(\"br: %f bcr: %f p: %f\",\n",
    "                          test$estimate[1],\n",
    "                          test$estimate[2],\n",
    "                          test$p.value)))\n",
    "    }\n",
    "}"
   ]
  },
  {
   "cell_type": "code",
   "execution_count": null,
   "id": "44756804",
   "metadata": {},
   "outputs": [],
   "source": [
    "sum(x[[3]]$)"
   ]
  },
  {
   "cell_type": "markdown",
   "id": "bd21b6c9",
   "metadata": {},
   "source": [
    "### 4. Does binary blob copy ratio differ by language?"
   ]
  },
  {
   "cell_type": "code",
   "execution_count": 418,
   "id": "7b71278a",
   "metadata": {},
   "outputs": [
    {
     "name": "stdout",
     "output_type": "stream",
     "text": [
      "[1] \"1y\"\n",
      "                Df Sum Sq Mean Sq F value Pr(>F)    \n",
      "ll              20   1587   79.33   619.6 <2e-16 ***\n",
      "Residuals   240930  30847    0.13                   \n",
      "---\n",
      "Signif. codes:  0 '***' 0.001 '**' 0.01 '*' 0.05 '.' 0.1 ' ' 1\n",
      "582852 observations deleted due to missingness\n",
      "[1] \"2y\"\n",
      "                Df Sum Sq Mean Sq F value Pr(>F)    \n",
      "ll              20   1195   59.75   473.6 <2e-16 ***\n",
      "Residuals   206638  26073    0.13                   \n",
      "---\n",
      "Signif. codes:  0 '***' 0.001 '**' 0.01 '*' 0.05 '.' 0.1 ' ' 1\n",
      "417217 observations deleted due to missingness\n"
     ]
    }
   ],
   "source": [
    "for(i in 2:3){\n",
    "    print(names(x)[i])\n",
    "    test=aov(bcr ~ ll, data=x[[i]])\n",
    "    print(summary(test));\n",
    "}"
   ]
  },
  {
   "cell_type": "markdown",
   "id": "af3e78b1",
   "metadata": {},
   "source": [
    "#### 4.1. Which languages are different?"
   ]
  },
  {
   "cell_type": "code",
   "execution_count": 422,
   "id": "8f61deff",
   "metadata": {
    "scrolled": true
   },
   "outputs": [
    {
     "name": "stdout",
     "output_type": "stream",
     "text": [
      "[1] \"1y\"\n",
      "[1] \"C\"                \"0.15647883200667\" \"t: -16.313175\"   \n",
      "[1] \"CSS\"              \"0.53439930042172\" \"t: 44.427040\"    \n",
      "[1] \"Cs\"               \"Not significant!\"\n",
      "[1] \"Fml\"                \"0.0772577394365586\" \"t: -11.139169\"     \n",
      "[1] \"Go\"                 \"0.0622853212577221\" \"t: -26.675567\"     \n",
      "[1] \"JS\"                \"0.136183458586808\" \"t: -58.277499\"    \n",
      "[1] \"Kotlin\"            \"0.128782874556374\" \"t: -9.936099\"     \n",
      "[1] \"Markdown\"          \"0.230244243600899\" \"t: 4.763339\"      \n",
      "[1] \"ObjectiveC\"       \"Not significant!\"\n",
      "[1] \"Other\"             \"0.282266697604368\" \"t: 72.411801\"     \n",
      "[1] \"PY\"                \"0.151788983656584\" \"t: -22.695511\"    \n",
      "[1] \"R\"                \"Not significant!\"\n",
      "[1] \"Rust\"              \"0.101166936395622\" \"t: -8.758388\"     \n",
      "[1] \"Scala\"              \"0.0841104720143495\" \"t: -9.856246\"      \n",
      "[1] \"Sql\"              \"Not significant!\"\n",
      "[1] \"Swift\"            \"Not significant!\"\n",
      "[1] \"TypeScript\"         \"0.0624840032112579\" \"t: -61.309956\"     \n",
      "[1] \"ipy\"              \"Not significant!\"\n",
      "[1] \"java\"              \"0.191161806009049\" \"t: -9.088530\"     \n",
      "[1] \"php\"              \"Not significant!\"\n",
      "[1] \"rb\"                 \"0.0745963173847452\" \"t: -55.591805\"     \n",
      "[1] \"2y\"\n",
      "[1] \"C\"                \"0.15503081958403\" \"t: -16.316185\"   \n",
      "[1] \"CSS\"               \"0.544243554825588\" \"t: 38.487584\"     \n",
      "[1] \"Cs\"               \"Not significant!\"\n",
      "[1] \"Fml\"                \"0.0744775569639498\" \"t: -11.909163\"     \n",
      "[1] \"Go\"                 \"0.0611786378280883\" \"t: -25.669725\"     \n",
      "[1] \"JS\"                \"0.142894717915583\" \"t: -45.441924\"    \n",
      "[1] \"Kotlin\"            \"0.124781107544662\" \"t: -8.365349\"     \n",
      "[1] \"Markdown\"         \"Not significant!\"\n",
      "[1] \"ObjectiveC\"       \"Not significant!\"\n",
      "[1] \"Other\"             \"0.276574958047474\" \"t: 64.067288\"     \n",
      "[1] \"PY\"                \"0.146906521892213\" \"t: -23.016201\"    \n",
      "[1] \"R\"                 \"0.175527404152183\" \"t: -3.345639\"     \n",
      "[1] \"Rust\"              \"0.108275049105087\" \"t: -7.092793\"     \n",
      "[1] \"Scala\"              \"0.0875350124005359\" \"t: -9.841263\"      \n",
      "[1] \"Sql\"              \"Not significant!\"\n",
      "[1] \"Swift\"            \"Not significant!\"\n",
      "[1] \"TypeScript\"         \"0.0604136377789758\" \"t: -53.789260\"     \n",
      "[1] \"ipy\"               \"0.251831547498951\" \"t: 3.653948\"      \n",
      "[1] \"java\"              \"0.195639191811874\" \"t: -6.726278\"     \n",
      "[1] \"php\"              \"Not significant!\"\n",
      "[1] \"rb\"                 \"0.0758960414856814\" \"t: -54.308836\"     \n"
     ]
    }
   ],
   "source": [
    "sv=0.005\n",
    "for(i in 2:3){\n",
    "    print(names(x)[i])\n",
    "    for(l in ty){\n",
    "        t1=x[[i]][x[[i]]$ll==l,\"bcr\"]\n",
    "        test=t.test(t1,x[[i]][x[[i]]$ll!=l,\"bcr\"])\n",
    "        if(test$p.value<sv){\n",
    "            mean=sum(t1,na.rm=TRUE)/(dim(x[[i]][x[[i]]$ll==l,])[1]-sum(is.na(t1)))\n",
    "            print(c(l,mean,sprintf(\"t: %f\",test$statistic)))\n",
    "        }else{\n",
    "            print(c(l,\"Not significant!\"))\n",
    "        }\n",
    "        \n",
    "    }\n",
    "}"
   ]
  },
  {
   "cell_type": "code",
   "execution_count": 437,
   "id": "43a7bf2a",
   "metadata": {
    "scrolled": true
   },
   "outputs": [
    {
     "name": "stdout",
     "output_type": "stream",
     "text": [
      "[1] \"1y\"\n",
      "\n",
      "Call:\n",
      "lm(formula = bcr ~ ll, data = x[[i]])\n",
      "\n",
      "Residuals:\n",
      "     Min       1Q   Median       3Q      Max \n",
      "-0.53440 -0.23514 -0.13618  0.09067  0.93771 \n",
      "\n",
      "Coefficients:\n",
      "              Estimate Std. Error t value Pr(>|t|)    \n",
      "(Intercept)   0.282267   0.001153 244.779  < 2e-16 ***\n",
      "llC          -0.125788   0.004224 -29.778  < 2e-16 ***\n",
      "llCSS         0.252133   0.005900  42.734  < 2e-16 ***\n",
      "llCs         -0.079614   0.004642 -17.150  < 2e-16 ***\n",
      "llFml        -0.205009   0.018588 -11.029  < 2e-16 ***\n",
      "llGo         -0.219981   0.009458 -23.260  < 2e-16 ***\n",
      "llJS         -0.146083   0.002022 -72.232  < 2e-16 ***\n",
      "llKotlin     -0.153484   0.010560 -14.535  < 2e-16 ***\n",
      "llMarkdown   -0.052022   0.003352 -15.518  < 2e-16 ***\n",
      "llObjectiveC -0.047129   0.008986  -5.244 1.57e-07 ***\n",
      "llPY         -0.130478   0.003367 -38.753  < 2e-16 ***\n",
      "llR          -0.087899   0.012076  -7.279 3.38e-13 ***\n",
      "llRust       -0.181100   0.017059 -10.616  < 2e-16 ***\n",
      "llScala      -0.198156   0.018816 -10.531  < 2e-16 ***\n",
      "llSql        -0.041675   0.021415  -1.946   0.0516 .  \n",
      "llSwift      -0.073845   0.008633  -8.554  < 2e-16 ***\n",
      "llTypeScript -0.219783   0.004410 -49.833  < 2e-16 ***\n",
      "llipy        -0.047364   0.008392  -5.644 1.66e-08 ***\n",
      "lljava       -0.091105   0.002971 -30.660  < 2e-16 ***\n",
      "llphp        -0.073899   0.003391 -21.792  < 2e-16 ***\n",
      "llrb         -0.207670   0.004222 -49.189  < 2e-16 ***\n",
      "---\n",
      "Signif. codes:  0 '***' 0.001 '**' 0.01 '*' 0.05 '.' 0.1 ' ' 1\n",
      "\n",
      "Residual standard error: 0.3578 on 240930 degrees of freedom\n",
      "  (582852 observations deleted due to missingness)\n",
      "Multiple R-squared:  0.04892,\tAdjusted R-squared:  0.04884 \n",
      "F-statistic: 619.6 on 20 and 240930 DF,  p-value: < 2.2e-16\n",
      "\n",
      "[1] \"2y\"\n",
      "\n",
      "Call:\n",
      "lm(formula = bcr ~ ll, data = x[[i]])\n",
      "\n",
      "Residuals:\n",
      "    Min      1Q  Median      3Q     Max \n",
      "-0.5442 -0.2518 -0.1429  0.0995  0.9396 \n",
      "\n",
      "Coefficients:\n",
      "              Estimate Std. Error t value Pr(>|t|)    \n",
      "(Intercept)   0.276575   0.001224 225.931  < 2e-16 ***\n",
      "llC          -0.121544   0.004306 -28.226  < 2e-16 ***\n",
      "llCSS         0.267669   0.007027  38.089  < 2e-16 ***\n",
      "llCs         -0.064862   0.004928 -13.162  < 2e-16 ***\n",
      "llFml        -0.202097   0.018384 -10.993  < 2e-16 ***\n",
      "llGo         -0.215396   0.010004 -21.531  < 2e-16 ***\n",
      "llJS         -0.133680   0.002247 -59.485  < 2e-16 ***\n",
      "llKotlin     -0.151794   0.013387 -11.339  < 2e-16 ***\n",
      "llMarkdown   -0.070374   0.003469 -20.284  < 2e-16 ***\n",
      "llObjectiveC -0.047873   0.008689  -5.509 3.60e-08 ***\n",
      "llPY         -0.129668   0.003593 -36.091  < 2e-16 ***\n",
      "llR          -0.101048   0.012376  -8.165 3.23e-16 ***\n",
      "llRust       -0.168300   0.019081  -8.820  < 2e-16 ***\n",
      "llScala      -0.189040   0.018433 -10.255  < 2e-16 ***\n",
      "llSql        -0.022092   0.023253  -0.950   0.3421    \n",
      "llSwift      -0.067001   0.009031  -7.419 1.19e-13 ***\n",
      "llTypeScript -0.216161   0.005215 -41.449  < 2e-16 ***\n",
      "llipy        -0.024743   0.009901  -2.499   0.0125 *  \n",
      "lljava       -0.080936   0.003093 -26.169  < 2e-16 ***\n",
      "llphp        -0.062716   0.003537 -17.733  < 2e-16 ***\n",
      "llrb         -0.200679   0.004261 -47.100  < 2e-16 ***\n",
      "---\n",
      "Signif. codes:  0 '***' 0.001 '**' 0.01 '*' 0.05 '.' 0.1 ' ' 1\n",
      "\n",
      "Residual standard error: 0.3552 on 206638 degrees of freedom\n",
      "  (417217 observations deleted due to missingness)\n",
      "Multiple R-squared:  0.04383,\tAdjusted R-squared:  0.04373 \n",
      "F-statistic: 473.6 on 20 and 206638 DF,  p-value: < 2.2e-16\n",
      "\n"
     ]
    }
   ],
   "source": [
    "for(i in 2:3) {\n",
    "    print(names(x)[i])\n",
    "    lm=lm(bcr~ll, data=x[[i]])\n",
    "    print(summary(lm))\n",
    "}"
   ]
  },
  {
   "cell_type": "markdown",
   "id": "48099c00",
   "metadata": {},
   "source": [
    "### 5. Does binary blob copy ratio differ by language? (Normalized with binary blob ratio)\n",
    "\n",
    "binary copy ratio / binary blob ratio"
   ]
  },
  {
   "cell_type": "code",
   "execution_count": 393,
   "id": "15e3073a",
   "metadata": {},
   "outputs": [
    {
     "name": "stdout",
     "output_type": "stream",
     "text": [
      "[1] \"1y\"\n",
      "                Df    Sum Sq Mean Sq F value   Pr(>F)    \n",
      "ll              20    274697   13735   5.464 2.68e-14 ***\n",
      "Residuals   144310 362720422    2513                     \n",
      "---\n",
      "Signif. codes:  0 '***' 0.001 '**' 0.01 '*' 0.05 '.' 0.1 ' ' 1\n",
      "679472 observations deleted due to missingness\n",
      "[1] \"2y\"\n",
      "                Df    Sum Sq Mean Sq F value Pr(>F)    \n",
      "ll              20    234371   11719    7.99 <2e-16 ***\n",
      "Residuals   124779 183004790    1467                   \n",
      "---\n",
      "Signif. codes:  0 '***' 0.001 '**' 0.01 '*' 0.05 '.' 0.1 ' ' 1\n",
      "499076 observations deleted due to missingness\n"
     ]
    }
   ],
   "source": [
    "for(i in 2:3){\n",
    "    print(names(x)[i])\n",
    "    test=aov(bcr/br ~ ll, data=x[[i]])\n",
    "    print(summary(test));\n",
    "}"
   ]
  },
  {
   "cell_type": "markdown",
   "id": "bf5dee2d",
   "metadata": {},
   "source": [
    "#### 5.1. Which languages are different?"
   ]
  },
  {
   "cell_type": "code",
   "execution_count": 417,
   "id": "eb9c79e9",
   "metadata": {},
   "outputs": [
    {
     "name": "stdout",
     "output_type": "stream",
     "text": [
      "[1] \"1y\"               \"4.30255631374552\"\n",
      "[1] \"2y\"               \"4.06794982518847\"\n"
     ]
    }
   ],
   "source": [
    "for(i in 2:3){\n",
    "    tmp=x[[i]]$bcr/x[[i]]$br\n",
    "    s=sum(tmp,na.rm=TRUE)/(dim(x[[i]])[1]-sum(is.na(tmp)))\n",
    "    print(c(names(x)[i],s))\n",
    "}"
   ]
  },
  {
   "cell_type": "code",
   "execution_count": 10,
   "id": "9d2956c5",
   "metadata": {
    "scrolled": true
   },
   "outputs": [
    {
     "name": "stdout",
     "output_type": "stream",
     "text": [
      "[1] \"2y\"\n",
      "[1] \"0ther\"                      \"mean: 3.545104 p: 0.000018\"\n",
      "[1] \"C\"                          \"mean: 3.334187 p: 0.001347\"\n",
      "[1] \"CSS\"                        \"mean: 2.541475 p: 0.000000\"\n",
      "[1] \"Cs\"                         \"mean: 4.920427 p: 0.014968\"\n",
      "[1] \"Fml\"                        \"mean: 3.085897 p: 0.305159\"\n",
      "[1] \"Go\"                         \"mean: 5.739548 p: 0.146827\"\n",
      "[1] \"JS\"                         \"mean: 7.048495 p: 0.000000\"\n",
      "[1] \"Kotlin\"                     \"mean: 5.429070 p: 0.104114\"\n",
      "[1] \"Markdown\"                   \"mean: 2.601752 p: 0.000000\"\n",
      "[1] \"ObjectiveC\"                 \"mean: 2.170565 p: 0.000000\"\n",
      "[1] \"PY\"                         \"mean: 2.215426 p: 0.000000\"\n",
      "[1] \"R\"                          \"mean: 2.658706 p: 0.000007\"\n",
      "[1] \"Rust\"                       \"mean: 6.060592 p: 0.130000\"\n",
      "[1] \"Scala\"                      \"mean: 5.383353 p: 0.282328\"\n",
      "[1] \"Sql\"                        \"mean: 1.719792 p: 0.000000\"\n",
      "[1] \"Swift\"                      \"mean: 2.414920 p: 0.000000\"\n",
      "[1] \"TypeScript\"                 \"mean: 5.176178 p: 0.006234\"\n",
      "[1] \"ipy\"                        \"mean: 2.034368 p: 0.000000\"\n",
      "[1] \"java\"                       \"mean: 4.914037 p: 0.000910\"\n",
      "[1] \"php\"                        \"mean: 4.487412 p: 0.079321\"\n",
      "[1] \"rb\"                         \"mean: 3.511326 p: 0.097980\"\n"
     ]
    }
   ],
   "source": [
    "sv=0.005\n",
    "for(i in 3:3){\n",
    "    print(names(x)[i])\n",
    "    for(l in ty){\n",
    "        t1=x[[i]][x[[i]]$ll==l,\"bcr\"]/x[[i]][x[[i]]$ll==l,\"br\"]\n",
    "        t2=x[[i]][x[[i]]$ll!=l,\"bcr\"]/x[[i]][x[[i]]$ll!=l,\"br\"]\n",
    "        test=t.test(t1,t2)\n",
    "        mean=sum(t1,na.rm=TRUE)/(dim(x[[i]][x[[i]]$ll==l,])[1]-sum(is.na(t1)))\n",
    "        print(c(l,sprintf(\"mean: %f p: %f\",test$estimate[1],test$p.value)))\n",
    "    }\n",
    "}"
   ]
  },
  {
   "cell_type": "code",
   "execution_count": 12,
   "id": "c628f4d2",
   "metadata": {},
   "outputs": [
    {
     "name": "stdout",
     "output_type": "stream",
     "text": [
      "[1] \"2y\"\n",
      "\n",
      "Call:\n",
      "lm(formula = metric ~ ll)\n",
      "\n",
      "Residuals:\n",
      "   Min     1Q Median     3Q    Max \n",
      "  -7.0   -3.5   -2.7   -1.3 9904.1 \n",
      "\n",
      "Coefficients:\n",
      "             Estimate Std. Error t value Pr(>|t|)    \n",
      "(Intercept)   3.54510    0.15898  22.299  < 2e-16 ***\n",
      "llC          -0.21092    0.56978  -0.370 0.711254    \n",
      "llCSS        -1.00363    0.85923  -1.168 0.242784    \n",
      "llCs          1.37532    0.64616   2.128 0.033302 *  \n",
      "llFml        -0.45921    3.06054  -0.150 0.880732    \n",
      "llGo          2.19444    1.65720   1.324 0.185442    \n",
      "llJS          3.50339    0.33955  10.318  < 2e-16 ***\n",
      "llKotlin      1.88397    1.90494   0.989 0.322670    \n",
      "llMarkdown   -0.94335    0.55938  -1.686 0.091717 .  \n",
      "llObjectiveC -1.37454    1.04981  -1.309 0.190427    \n",
      "llPY         -1.32968    0.48391  -2.748 0.006001 ** \n",
      "llR          -0.88640    1.60497  -0.552 0.580756    \n",
      "llRust        2.51549    3.20647   0.785 0.432746    \n",
      "llScala       1.83825    3.14141   0.585 0.558436    \n",
      "llSql        -1.82531    3.11033  -0.587 0.557303    \n",
      "llSwift      -1.13018    1.11237  -1.016 0.309624    \n",
      "llTypeScript  1.63107    0.91434   1.784 0.074445 .  \n",
      "llipy        -1.51074    1.32238  -1.142 0.253276    \n",
      "lljava        1.36893    0.41549   3.295 0.000985 ***\n",
      "llphp         0.94231    0.48409   1.947 0.051592 .  \n",
      "llrb         -0.03378    0.68117  -0.050 0.960451    \n",
      "---\n",
      "Signif. codes:  0 '***' 0.001 '**' 0.01 '*' 0.05 '.' 0.1 ' ' 1\n",
      "\n",
      "Residual standard error: 38.3 on 124779 degrees of freedom\n",
      "  (499076 observations deleted due to missingness)\n",
      "Multiple R-squared:  0.001279,\tAdjusted R-squared:  0.001119 \n",
      "F-statistic:  7.99 on 20 and 124779 DF,  p-value: < 2.2e-16\n",
      "\n"
     ]
    }
   ],
   "source": [
    "for(i in 3:3) {\n",
    "    print(names(x)[i])\n",
    "    metric=x[[i]]$bcr/x[[i]]$br\n",
    "    ll=x[[i]]$ll\n",
    "    lm=lm(metric~ll)\n",
    "    print(summary(lm))\n",
    "}"
   ]
  },
  {
   "cell_type": "code",
   "execution_count": 6,
   "id": "9d8bbfcb",
   "metadata": {
    "scrolled": false
   },
   "outputs": [
    {
     "name": "stdout",
     "output_type": "stream",
     "text": [
      "[1] \"2y\"\n",
      "\n",
      "Call:\n",
      "lm(formula = bcr/br ~ ll, data = x[[i]])\n",
      "\n",
      "Residuals:\n",
      "   Min     1Q Median     3Q    Max \n",
      "  -7.0   -3.5   -2.7   -1.3 9904.1 \n",
      "\n",
      "Coefficients:\n",
      "             Estimate Std. Error t value Pr(>|t|)    \n",
      "(Intercept)   3.54510    0.15898  22.299  < 2e-16 ***\n",
      "llC          -0.21092    0.56978  -0.370 0.711254    \n",
      "llCSS        -1.00363    0.85923  -1.168 0.242784    \n",
      "llCs          1.37532    0.64616   2.128 0.033302 *  \n",
      "llFml        -0.45921    3.06054  -0.150 0.880732    \n",
      "llGo          2.19444    1.65720   1.324 0.185442    \n",
      "llJS          3.50339    0.33955  10.318  < 2e-16 ***\n",
      "llKotlin      1.88397    1.90494   0.989 0.322670    \n",
      "llMarkdown   -0.94335    0.55938  -1.686 0.091717 .  \n",
      "llObjectiveC -1.37454    1.04981  -1.309 0.190427    \n",
      "llPY         -1.32968    0.48391  -2.748 0.006001 ** \n",
      "llR          -0.88640    1.60497  -0.552 0.580756    \n",
      "llRust        2.51549    3.20647   0.785 0.432746    \n",
      "llScala       1.83825    3.14141   0.585 0.558436    \n",
      "llSql        -1.82531    3.11033  -0.587 0.557303    \n",
      "llSwift      -1.13018    1.11237  -1.016 0.309624    \n",
      "llTypeScript  1.63107    0.91434   1.784 0.074445 .  \n",
      "llipy        -1.51074    1.32238  -1.142 0.253276    \n",
      "lljava        1.36893    0.41549   3.295 0.000985 ***\n",
      "llphp         0.94231    0.48409   1.947 0.051592 .  \n",
      "llrb         -0.03378    0.68117  -0.050 0.960451    \n",
      "---\n",
      "Signif. codes:  0 '***' 0.001 '**' 0.01 '*' 0.05 '.' 0.1 ' ' 1\n",
      "\n",
      "Residual standard error: 38.3 on 124779 degrees of freedom\n",
      "  (499076 observations deleted due to missingness)\n",
      "Multiple R-squared:  0.001279,\tAdjusted R-squared:  0.001119 \n",
      "F-statistic:  7.99 on 20 and 124779 DF,  p-value: < 2.2e-16\n",
      "\n"
     ]
    }
   ],
   "source": [
    "for(i in 3:3) {\n",
    "    print(names(x)[i])\n",
    "    lm=lm(bcr/br~ll, data=x[[i]])\n",
    "    print(summary(lm))\n",
    "}"
   ]
  },
  {
   "cell_type": "code",
   "execution_count": 5,
   "id": "48b11ff4",
   "metadata": {},
   "outputs": [
    {
     "name": "stdout",
     "output_type": "stream",
     "text": [
      "[1] \"2y\"\n",
      "\n",
      "Call:\n",
      "lm(formula = br ~ ll, data = x[[i]])\n",
      "\n",
      "Residuals:\n",
      "     Min       1Q   Median       3Q      Max \n",
      "-0.23413 -0.13753 -0.07564  0.02518  0.95712 \n",
      "\n",
      "Coefficients:\n",
      "               Estimate Std. Error  t value Pr(>|t|)    \n",
      "(Intercept)   0.2248155  0.0005039  446.122  < 2e-16 ***\n",
      "llC          -0.1141294  0.0017214  -66.298  < 2e-16 ***\n",
      "llCSS         0.0093185  0.0027891    3.341 0.000835 ***\n",
      "llCs         -0.1150688  0.0020717  -55.543  < 2e-16 ***\n",
      "llFml        -0.1796180  0.0071976  -24.955  < 2e-16 ***\n",
      "llGo         -0.1870667  0.0038792  -48.224  < 2e-16 ***\n",
      "llJS         -0.1705136  0.0009770 -174.519  < 2e-16 ***\n",
      "llKotlin     -0.1660395  0.0058526  -28.370  < 2e-16 ***\n",
      "llMarkdown   -0.1491739  0.0009182 -162.472  < 2e-16 ***\n",
      "llObjectiveC -0.0739359  0.0037964  -19.475  < 2e-16 ***\n",
      "llPY         -0.0872848  0.0014191  -61.507  < 2e-16 ***\n",
      "llR          -0.1147302  0.0045719  -25.094  < 2e-16 ***\n",
      "llRust       -0.1893137  0.0074086  -25.553  < 2e-16 ***\n",
      "llScala      -0.1815751  0.0076541  -23.723  < 2e-16 ***\n",
      "llSql        -0.0722808  0.0072565   -9.961  < 2e-16 ***\n",
      "llSwift      -0.0988090  0.0038414  -25.722  < 2e-16 ***\n",
      "llTypeScript -0.1966415  0.0028133  -69.896  < 2e-16 ***\n",
      "llipy        -0.1015306  0.0031496  -32.236  < 2e-16 ***\n",
      "lljava       -0.1003024  0.0012848  -78.071  < 2e-16 ***\n",
      "llphp        -0.1372712  0.0016427  -83.562  < 2e-16 ***\n",
      "llrb         -0.1795006  0.0020814  -86.240  < 2e-16 ***\n",
      "---\n",
      "Signif. codes:  0 '***' 0.001 '**' 0.01 '*' 0.05 '.' 0.1 ' ' 1\n",
      "\n",
      "Residual standard error: 0.2456 on 623855 degrees of freedom\n",
      "Multiple R-squared:  0.07996,\tAdjusted R-squared:  0.07993 \n",
      "F-statistic:  2711 on 20 and 623855 DF,  p-value: < 2.2e-16\n",
      "\n"
     ]
    }
   ],
   "source": [
    "for(i in 3:3) {\n",
    "    print(names(x)[i])\n",
    "    lm=lm(br~ll, data=x[[i]])\n",
    "    print(summary(lm))\n",
    "}"
   ]
  },
  {
   "cell_type": "markdown",
   "id": "ade54609",
   "metadata": {},
   "source": [
    "### Number of stars"
   ]
  },
  {
   "cell_type": "code",
   "execution_count": 446,
   "id": "eb7dd38d",
   "metadata": {},
   "outputs": [
    {
     "data": {
      "text/html": [
       "0.132035853278536"
      ],
      "text/latex": [
       "0.132035853278536"
      ],
      "text/markdown": [
       "0.132035853278536"
      ],
      "text/plain": [
       "[1] 0.1320359"
      ]
     },
     "metadata": {},
     "output_type": "display_data"
    }
   ],
   "source": [
    "sum(x[[3]]$ns>0)/dim(x[[3]])[1]"
   ]
  },
  {
   "cell_type": "code",
   "execution_count": 440,
   "id": "3d60f9a2",
   "metadata": {},
   "outputs": [
    {
     "data": {
      "text/plain": [
       "\n",
       "\tWelch Two Sample t-test\n",
       "\n",
       "data:  x[[3]][x[[3]]$ns > 0, \"c\"] and x[[3]][x[[3]]$ns == 0, \"c\"]\n",
       "t = 95.462, df = 104875, p-value < 2.2e-16\n",
       "alternative hypothesis: true difference in means is not equal to 0\n",
       "95 percent confidence interval:\n",
       " 0.1730579 0.1803131\n",
       "sample estimates:\n",
       "mean of x mean of y \n",
       "0.4846068 0.3079213 \n"
      ]
     },
     "metadata": {},
     "output_type": "display_data"
    }
   ],
   "source": [
    "test=t.test(x[[3]][x[[3]]$ns>0,\"c\"],x[[3]][x[[3]]$ns==0,\"c\"])\n",
    "test"
   ]
  },
  {
   "cell_type": "code",
   "execution_count": 441,
   "id": "163a9823",
   "metadata": {},
   "outputs": [
    {
     "data": {
      "text/plain": [
       "\n",
       "\tWelch Two Sample t-test\n",
       "\n",
       "data:  x[[3]][x[[3]]$ns > 0, \"cr\"] and x[[3]][x[[3]]$ns == 0, \"cr\"]\n",
       "t = 13.567, df = 112927, p-value < 2.2e-16\n",
       "alternative hypothesis: true difference in means is not equal to 0\n",
       "95 percent confidence interval:\n",
       " 0.006961384 0.009312506\n",
       "sample estimates:\n",
       " mean of x  mean of y \n",
       "0.06686652 0.05872958 \n"
      ]
     },
     "metadata": {},
     "output_type": "display_data"
    }
   ],
   "source": [
    "test=t.test(x[[3]][x[[3]]$ns>0,\"cr\"],x[[3]][x[[3]]$ns==0,\"cr\"])\n",
    "test"
   ]
  },
  {
   "cell_type": "code",
   "execution_count": 468,
   "id": "75f67a32",
   "metadata": {},
   "outputs": [
    {
     "name": "stdout",
     "output_type": "stream",
     "text": [
      "[1] \"Trivial\"            \"0.621666805583161\"  \"0.184867331727692\" \n",
      "[4] \"0.0635048938245737\"\n"
     ]
    }
   ],
   "source": [
    "name=\"Trivial\"\n",
    "data=x[[3]][x[[3]]$ns==0&x[[3]]$ncmt<10,]\n",
    "pr=dim(data)[1]/dim(x[[3]])[1]\n",
    "cbr=sum(data$cc)/sum(x[[3]]$cc)\n",
    "cr=sum(data$cr)/dim(data)[1]\n",
    "print(c(name,pr,cbr,cr))"
   ]
  },
  {
   "cell_type": "code",
   "execution_count": 469,
   "id": "2dcab037",
   "metadata": {},
   "outputs": [
    {
     "name": "stdout",
     "output_type": "stream",
     "text": [
      "[1] \"Common\"             \"0.246297341138303\"  \"0.273766371490749\" \n",
      "[4] \"0.0466764346087887\"\n"
     ]
    }
   ],
   "source": [
    "name=\"Common\"\n",
    "data=x[[3]][x[[3]]$ns==0&x[[3]]$ncmt>=10,]\n",
    "pr=dim(data)[1]/dim(x[[3]])[1]\n",
    "cbr=sum(data$cc)/sum(x[[3]]$cc)\n",
    "cr=sum(data$cr)/dim(data)[1]\n",
    "print(c(name,pr,cbr,cr))"
   ]
  },
  {
   "cell_type": "code",
   "execution_count": 471,
   "id": "0b6918a3",
   "metadata": {},
   "outputs": [
    {
     "name": "stdout",
     "output_type": "stream",
     "text": [
      "[1] \"Important\"          \"0.132035853278536\"  \"0.541366296781559\" \n",
      "[4] \"0.0668665209423021\"\n"
     ]
    }
   ],
   "source": [
    "name=\"Important\"\n",
    "data=x[[3]][x[[3]]$ns>0,]\n",
    "pr=dim(data)[1]/dim(x[[3]])[1]\n",
    "cbr=sum(data$cc)/sum(x[[3]]$cc)\n",
    "cr=sum(data$cr)/dim(data)[1]\n",
    "print(c(name,pr,cbr,cr))"
   ]
  },
  {
   "cell_type": "code",
   "execution_count": null,
   "id": "7ca76fa2",
   "metadata": {},
   "outputs": [],
   "source": []
  },
  {
   "cell_type": "code",
   "execution_count": null,
   "id": "75249af5",
   "metadata": {},
   "outputs": [],
   "source": []
  },
  {
   "cell_type": "code",
   "execution_count": null,
   "id": "a5b26f67",
   "metadata": {},
   "outputs": [],
   "source": []
  },
  {
   "cell_type": "code",
   "execution_count": null,
   "id": "cf0b3a01",
   "metadata": {},
   "outputs": [],
   "source": [
    "dim(x[[3]][x[[3]]$ns>10&x[[3]]$ncmt>100,])[1]/dim(x[[3]])[1]"
   ]
  },
  {
   "cell_type": "code",
   "execution_count": null,
   "id": "5683d2bd",
   "metadata": {},
   "outputs": [],
   "source": [
    "for(i in 2:3){\n",
    "    t.test(x[[2]])\n",
    "}"
   ]
  },
  {
   "cell_type": "code",
   "execution_count": 425,
   "id": "e8423b2e",
   "metadata": {},
   "outputs": [
    {
     "data": {
      "text/plain": [
       "\n",
       "Call:\n",
       "lm(formula = c ~ gf + gm, data = x[[2]])\n",
       "\n",
       "Residuals:\n",
       "    Min      1Q  Median      3Q     Max \n",
       "-3.1923 -0.2925 -0.2923  0.7073  0.7432 \n",
       "\n",
       "Coefficients:\n",
       "              Estimate Std. Error t value Pr(>|t|)    \n",
       "(Intercept)  2.923e-01  5.013e-04 583.124  < 2e-16 ***\n",
       "gf          -1.397e-04  2.650e-05  -5.273 1.34e-07 ***\n",
       "gm           1.739e-04  1.371e-05  12.689  < 2e-16 ***\n",
       "---\n",
       "Signif. codes:  0 '***' 0.001 '**' 0.01 '*' 0.05 '.' 0.1 ' ' 1\n",
       "\n",
       "Residual standard error: 0.4549 on 823800 degrees of freedom\n",
       "Multiple R-squared:  0.0002391,\tAdjusted R-squared:  0.0002367 \n",
       "F-statistic: 98.51 on 2 and 823800 DF,  p-value: < 2.2e-16\n"
      ]
     },
     "metadata": {},
     "output_type": "display_data"
    }
   ],
   "source": [
    "summary(lm(c~gf+gm,data=x[[2]]))"
   ]
  },
  {
   "cell_type": "code",
   "execution_count": null,
   "id": "7d58f752",
   "metadata": {},
   "outputs": [],
   "source": []
  },
  {
   "cell_type": "code",
   "execution_count": null,
   "id": "ecf58305",
   "metadata": {},
   "outputs": [],
   "source": []
  },
  {
   "cell_type": "code",
   "execution_count": null,
   "id": "8757fd57",
   "metadata": {},
   "outputs": [],
   "source": [
    "ts=list()\n",
    "for(i in 2:3){\n",
    "    ts[[i]]=list()\n",
    "    for(j in 1:dim(tx[[i]])[1]){\n",
    "        posix=as.POSIXct(tx[[i]]$t[j], origin=\"1970-01-01\")\n",
    "        period=substr(posix,1,7)\n",
    "        c=tx[[i]]$c[j]\n",
    "        if(is.null(ts[[i]][[period]])){\n",
    "            ts[[i]][[period]][\"total\"]=1\n",
    "            ts[[i]][[period]][\"copied\"]=c\n",
    "        }else{\n",
    "            ts[[i]][[period]][\"total\"]=ts[[i]][[period]][\"total\"]+1\n",
    "            ts[[i]][[period]][\"copied\"]=ts[[i]][[period]][\"copied\"]+c\n",
    "        }\n",
    "    }\n",
    "}"
   ]
  }
 ],
 "metadata": {
  "kernelspec": {
   "display_name": "R",
   "language": "R",
   "name": "ir"
  },
  "language_info": {
   "codemirror_mode": "r",
   "file_extension": ".r",
   "mimetype": "text/x-r-source",
   "name": "R",
   "pygments_lexer": "r",
   "version": "3.6.3"
  }
 },
 "nbformat": 4,
 "nbformat_minor": 5
}
